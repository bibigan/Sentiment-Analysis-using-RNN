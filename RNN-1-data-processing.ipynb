{
 "cells": [
  {
   "cell_type": "code",
   "metadata": {
    "id": "YeuAheYyhdZw",
    "ExecuteTime": {
     "end_time": "2025-03-22T22:29:42.456770Z",
     "start_time": "2025-03-22T22:29:42.448097Z"
    }
   },
   "source": [
    "# import libraries\n",
    "# DataFrame\n",
    "import pandas as pd\n",
    "\n",
    "# plotting\n",
    "import seaborn as sns\n",
    "from wordcloud import WordCloud\n",
    "import matplotlib.pyplot as plt\n",
    "\n",
    "# nltk\n",
    "import nltk\n",
    "from nltk.stem import WordNetLemmatizer\n",
    "from nltk.corpus import stopwords\n",
    "from nltk.tokenize import word_tokenize\n",
    "\n",
    "# sklearny\n",
    "from sklearn.model_selection import train_test_split\n",
    "from sklearn.feature_extraction.text import TfidfVectorizer\n",
    "from sklearn.metrics import confusion_matrix, classification_report\n",
    "\n",
    "from sklearn.linear_model import LogisticRegression\n",
    "from sklearn.svm import LinearSVC\n",
    "from sklearn.ensemble import RandomForestClassifier\n",
    "from sklearn.naive_bayes import BernoulliNB\n",
    "\n",
    "\n",
    "#tensorflow\n",
    "import tensorflow.compat.v2 as tf\n",
    "import tensorflow_datasets as tfds\n",
    "\n",
    "# Utility\n",
    "import pandas as pd\n",
    "import numpy as np\n",
    "import warnings\n",
    "warnings.filterwarnings('ignore')\n",
    "import re\n",
    "import string\n",
    "import pickle"
   ],
   "outputs": [],
   "execution_count": 136
  },
  {
   "cell_type": "markdown",
   "metadata": {},
   "source": "# Loading Dataset"
  },
  {
   "cell_type": "code",
   "metadata": {
    "ExecuteTime": {
     "end_time": "2025-03-22T22:29:45.200138Z",
     "start_time": "2025-03-22T22:29:42.464361Z"
    }
   },
   "source": [
    "# Construct a tf.data.Dataset\n",
    "data = pd.read_csv('training.1600000.processed.noemoticon.csv',encoding='latin', names = ['polarity','id','date','query','user','text'])"
   ],
   "outputs": [],
   "execution_count": 137
  },
  {
   "cell_type": "code",
   "metadata": {
    "ExecuteTime": {
     "end_time": "2025-03-22T22:29:45.422208Z",
     "start_time": "2025-03-22T22:29:45.219481Z"
    }
   },
   "source": [
    "# Random shuffling of data, select the first 200,000\n",
    "data = data.sample(frac=1)\n",
    "data = data[:20000]"
   ],
   "outputs": [],
   "execution_count": 138
  },
  {
   "metadata": {},
   "cell_type": "markdown",
   "source": "# Data Visualization"
  },
  {
   "cell_type": "code",
   "metadata": {
    "scrolled": false,
    "ExecuteTime": {
     "end_time": "2025-03-22T22:29:45.442024Z",
     "start_time": "2025-03-22T22:29:45.438557Z"
    }
   },
   "source": "print(\"Dataset shape:\", data.shape)",
   "outputs": [
    {
     "name": "stdout",
     "output_type": "stream",
     "text": [
      "Dataset shape: (20000, 6)\n"
     ]
    }
   ],
   "execution_count": 139
  },
  {
   "cell_type": "code",
   "metadata": {
    "ExecuteTime": {
     "end_time": "2025-03-22T22:29:45.463325Z",
     "start_time": "2025-03-22T22:29:45.456892Z"
    }
   },
   "source": "data.head(10)",
   "outputs": [
    {
     "data": {
      "text/plain": [
       "         polarity          id                          date     query  \\\n",
       "1040439         4  1956951843  Thu May 28 23:06:46 PDT 2009  NO_QUERY   \n",
       "496050          0  2185433522  Mon Jun 15 17:22:31 PDT 2009  NO_QUERY   \n",
       "703068          0  2255591814  Sat Jun 20 11:29:42 PDT 2009  NO_QUERY   \n",
       "200692          0  1971727378  Sat May 30 07:45:51 PDT 2009  NO_QUERY   \n",
       "577726          0  2212730281  Wed Jun 17 14:27:54 PDT 2009  NO_QUERY   \n",
       "1041799         4  1957123925  Thu May 28 23:35:05 PDT 2009  NO_QUERY   \n",
       "185346          0  1967960064  Fri May 29 20:31:09 PDT 2009  NO_QUERY   \n",
       "92463           0  1760043121  Sun May 10 20:31:58 PDT 2009  NO_QUERY   \n",
       "698664          0  2254202960  Sat Jun 20 09:23:13 PDT 2009  NO_QUERY   \n",
       "726969          0  2262708278  Sat Jun 20 23:03:56 PDT 2009  NO_QUERY   \n",
       "\n",
       "                    user                                               text  \n",
       "1040439       Cynnergies  @SirReigns Thanks for that shout! #ff Hope all...  \n",
       "496050   monica_mayhem87                                    My tummy hurts   \n",
       "703068         Smaila123  Not happy that they went to go see dane cook w...  \n",
       "200692    JessicaJonquil                  My Saturday's are always boring.   \n",
       "577726      carlaraesims  boo. probably won't get in to see small towns ...  \n",
       "1041799    itsMISTERgreg  FOUR more days until my vacation from work! I ...  \n",
       "185346         Jezzikuhh         sunburn still huts  haden needs to be here  \n",
       "92463    YourBoyNextDoor  2 sessions at the gym tomorrow...i cheated on ...  \n",
       "698664         farazalli  Actually, due to technical difficulties, TBOTW...  \n",
       "726969    tiffanybellamy  @_MAXWELL_ im following every step of the tour...  "
      ],
      "text/html": [
       "<div>\n",
       "<style scoped>\n",
       "    .dataframe tbody tr th:only-of-type {\n",
       "        vertical-align: middle;\n",
       "    }\n",
       "\n",
       "    .dataframe tbody tr th {\n",
       "        vertical-align: top;\n",
       "    }\n",
       "\n",
       "    .dataframe thead th {\n",
       "        text-align: right;\n",
       "    }\n",
       "</style>\n",
       "<table border=\"1\" class=\"dataframe\">\n",
       "  <thead>\n",
       "    <tr style=\"text-align: right;\">\n",
       "      <th></th>\n",
       "      <th>polarity</th>\n",
       "      <th>id</th>\n",
       "      <th>date</th>\n",
       "      <th>query</th>\n",
       "      <th>user</th>\n",
       "      <th>text</th>\n",
       "    </tr>\n",
       "  </thead>\n",
       "  <tbody>\n",
       "    <tr>\n",
       "      <th>1040439</th>\n",
       "      <td>4</td>\n",
       "      <td>1956951843</td>\n",
       "      <td>Thu May 28 23:06:46 PDT 2009</td>\n",
       "      <td>NO_QUERY</td>\n",
       "      <td>Cynnergies</td>\n",
       "      <td>@SirReigns Thanks for that shout! #ff Hope all...</td>\n",
       "    </tr>\n",
       "    <tr>\n",
       "      <th>496050</th>\n",
       "      <td>0</td>\n",
       "      <td>2185433522</td>\n",
       "      <td>Mon Jun 15 17:22:31 PDT 2009</td>\n",
       "      <td>NO_QUERY</td>\n",
       "      <td>monica_mayhem87</td>\n",
       "      <td>My tummy hurts</td>\n",
       "    </tr>\n",
       "    <tr>\n",
       "      <th>703068</th>\n",
       "      <td>0</td>\n",
       "      <td>2255591814</td>\n",
       "      <td>Sat Jun 20 11:29:42 PDT 2009</td>\n",
       "      <td>NO_QUERY</td>\n",
       "      <td>Smaila123</td>\n",
       "      <td>Not happy that they went to go see dane cook w...</td>\n",
       "    </tr>\n",
       "    <tr>\n",
       "      <th>200692</th>\n",
       "      <td>0</td>\n",
       "      <td>1971727378</td>\n",
       "      <td>Sat May 30 07:45:51 PDT 2009</td>\n",
       "      <td>NO_QUERY</td>\n",
       "      <td>JessicaJonquil</td>\n",
       "      <td>My Saturday's are always boring.</td>\n",
       "    </tr>\n",
       "    <tr>\n",
       "      <th>577726</th>\n",
       "      <td>0</td>\n",
       "      <td>2212730281</td>\n",
       "      <td>Wed Jun 17 14:27:54 PDT 2009</td>\n",
       "      <td>NO_QUERY</td>\n",
       "      <td>carlaraesims</td>\n",
       "      <td>boo. probably won't get in to see small towns ...</td>\n",
       "    </tr>\n",
       "    <tr>\n",
       "      <th>1041799</th>\n",
       "      <td>4</td>\n",
       "      <td>1957123925</td>\n",
       "      <td>Thu May 28 23:35:05 PDT 2009</td>\n",
       "      <td>NO_QUERY</td>\n",
       "      <td>itsMISTERgreg</td>\n",
       "      <td>FOUR more days until my vacation from work! I ...</td>\n",
       "    </tr>\n",
       "    <tr>\n",
       "      <th>185346</th>\n",
       "      <td>0</td>\n",
       "      <td>1967960064</td>\n",
       "      <td>Fri May 29 20:31:09 PDT 2009</td>\n",
       "      <td>NO_QUERY</td>\n",
       "      <td>Jezzikuhh</td>\n",
       "      <td>sunburn still huts  haden needs to be here</td>\n",
       "    </tr>\n",
       "    <tr>\n",
       "      <th>92463</th>\n",
       "      <td>0</td>\n",
       "      <td>1760043121</td>\n",
       "      <td>Sun May 10 20:31:58 PDT 2009</td>\n",
       "      <td>NO_QUERY</td>\n",
       "      <td>YourBoyNextDoor</td>\n",
       "      <td>2 sessions at the gym tomorrow...i cheated on ...</td>\n",
       "    </tr>\n",
       "    <tr>\n",
       "      <th>698664</th>\n",
       "      <td>0</td>\n",
       "      <td>2254202960</td>\n",
       "      <td>Sat Jun 20 09:23:13 PDT 2009</td>\n",
       "      <td>NO_QUERY</td>\n",
       "      <td>farazalli</td>\n",
       "      <td>Actually, due to technical difficulties, TBOTW...</td>\n",
       "    </tr>\n",
       "    <tr>\n",
       "      <th>726969</th>\n",
       "      <td>0</td>\n",
       "      <td>2262708278</td>\n",
       "      <td>Sat Jun 20 23:03:56 PDT 2009</td>\n",
       "      <td>NO_QUERY</td>\n",
       "      <td>tiffanybellamy</td>\n",
       "      <td>@_MAXWELL_ im following every step of the tour...</td>\n",
       "    </tr>\n",
       "  </tbody>\n",
       "</table>\n",
       "</div>"
      ]
     },
     "execution_count": 140,
     "metadata": {},
     "output_type": "execute_result"
    }
   ],
   "execution_count": 140
  },
  {
   "cell_type": "code",
   "metadata": {
    "ExecuteTime": {
     "end_time": "2025-03-22T22:29:45.513629Z",
     "start_time": "2025-03-22T22:29:45.509840Z"
    }
   },
   "source": "data['polarity'].unique()",
   "outputs": [
    {
     "data": {
      "text/plain": [
       "array([4, 0])"
      ]
     },
     "execution_count": 141,
     "metadata": {},
     "output_type": "execute_result"
    }
   ],
   "execution_count": 141
  },
  {
   "cell_type": "code",
   "metadata": {
    "scrolled": true,
    "ExecuteTime": {
     "end_time": "2025-03-22T22:29:45.585878Z",
     "start_time": "2025-03-22T22:29:45.562677Z"
    }
   },
   "source": [
    "# Replacing the value 4 -->1 for ease of understanding.\n",
    "data['polarity'] = data['polarity'].replace(4,1)\n",
    "data.head()"
   ],
   "outputs": [
    {
     "data": {
      "text/plain": [
       "         polarity          id                          date     query  \\\n",
       "1040439         1  1956951843  Thu May 28 23:06:46 PDT 2009  NO_QUERY   \n",
       "496050          0  2185433522  Mon Jun 15 17:22:31 PDT 2009  NO_QUERY   \n",
       "703068          0  2255591814  Sat Jun 20 11:29:42 PDT 2009  NO_QUERY   \n",
       "200692          0  1971727378  Sat May 30 07:45:51 PDT 2009  NO_QUERY   \n",
       "577726          0  2212730281  Wed Jun 17 14:27:54 PDT 2009  NO_QUERY   \n",
       "\n",
       "                    user                                               text  \n",
       "1040439       Cynnergies  @SirReigns Thanks for that shout! #ff Hope all...  \n",
       "496050   monica_mayhem87                                    My tummy hurts   \n",
       "703068         Smaila123  Not happy that they went to go see dane cook w...  \n",
       "200692    JessicaJonquil                  My Saturday's are always boring.   \n",
       "577726      carlaraesims  boo. probably won't get in to see small towns ...  "
      ],
      "text/html": [
       "<div>\n",
       "<style scoped>\n",
       "    .dataframe tbody tr th:only-of-type {\n",
       "        vertical-align: middle;\n",
       "    }\n",
       "\n",
       "    .dataframe tbody tr th {\n",
       "        vertical-align: top;\n",
       "    }\n",
       "\n",
       "    .dataframe thead th {\n",
       "        text-align: right;\n",
       "    }\n",
       "</style>\n",
       "<table border=\"1\" class=\"dataframe\">\n",
       "  <thead>\n",
       "    <tr style=\"text-align: right;\">\n",
       "      <th></th>\n",
       "      <th>polarity</th>\n",
       "      <th>id</th>\n",
       "      <th>date</th>\n",
       "      <th>query</th>\n",
       "      <th>user</th>\n",
       "      <th>text</th>\n",
       "    </tr>\n",
       "  </thead>\n",
       "  <tbody>\n",
       "    <tr>\n",
       "      <th>1040439</th>\n",
       "      <td>1</td>\n",
       "      <td>1956951843</td>\n",
       "      <td>Thu May 28 23:06:46 PDT 2009</td>\n",
       "      <td>NO_QUERY</td>\n",
       "      <td>Cynnergies</td>\n",
       "      <td>@SirReigns Thanks for that shout! #ff Hope all...</td>\n",
       "    </tr>\n",
       "    <tr>\n",
       "      <th>496050</th>\n",
       "      <td>0</td>\n",
       "      <td>2185433522</td>\n",
       "      <td>Mon Jun 15 17:22:31 PDT 2009</td>\n",
       "      <td>NO_QUERY</td>\n",
       "      <td>monica_mayhem87</td>\n",
       "      <td>My tummy hurts</td>\n",
       "    </tr>\n",
       "    <tr>\n",
       "      <th>703068</th>\n",
       "      <td>0</td>\n",
       "      <td>2255591814</td>\n",
       "      <td>Sat Jun 20 11:29:42 PDT 2009</td>\n",
       "      <td>NO_QUERY</td>\n",
       "      <td>Smaila123</td>\n",
       "      <td>Not happy that they went to go see dane cook w...</td>\n",
       "    </tr>\n",
       "    <tr>\n",
       "      <th>200692</th>\n",
       "      <td>0</td>\n",
       "      <td>1971727378</td>\n",
       "      <td>Sat May 30 07:45:51 PDT 2009</td>\n",
       "      <td>NO_QUERY</td>\n",
       "      <td>JessicaJonquil</td>\n",
       "      <td>My Saturday's are always boring.</td>\n",
       "    </tr>\n",
       "    <tr>\n",
       "      <th>577726</th>\n",
       "      <td>0</td>\n",
       "      <td>2212730281</td>\n",
       "      <td>Wed Jun 17 14:27:54 PDT 2009</td>\n",
       "      <td>NO_QUERY</td>\n",
       "      <td>carlaraesims</td>\n",
       "      <td>boo. probably won't get in to see small towns ...</td>\n",
       "    </tr>\n",
       "  </tbody>\n",
       "</table>\n",
       "</div>"
      ]
     },
     "execution_count": 142,
     "metadata": {},
     "output_type": "execute_result"
    }
   ],
   "execution_count": 142
  },
  {
   "cell_type": "code",
   "metadata": {
    "ExecuteTime": {
     "end_time": "2025-03-22T22:29:45.652471Z",
     "start_time": "2025-03-22T22:29:45.642792Z"
    }
   },
   "source": "data.describe()",
   "outputs": [
    {
     "data": {
      "text/plain": [
       "           polarity            id\n",
       "count  20000.000000  2.000000e+04\n",
       "mean       0.497250  2.000577e+09\n",
       "std        0.500005  1.921439e+08\n",
       "min        0.000000  1.467824e+09\n",
       "25%        0.000000  1.957661e+09\n",
       "50%        0.000000  2.001911e+09\n",
       "75%        1.000000  2.177559e+09\n",
       "max        1.000000  2.329149e+09"
      ],
      "text/html": [
       "<div>\n",
       "<style scoped>\n",
       "    .dataframe tbody tr th:only-of-type {\n",
       "        vertical-align: middle;\n",
       "    }\n",
       "\n",
       "    .dataframe tbody tr th {\n",
       "        vertical-align: top;\n",
       "    }\n",
       "\n",
       "    .dataframe thead th {\n",
       "        text-align: right;\n",
       "    }\n",
       "</style>\n",
       "<table border=\"1\" class=\"dataframe\">\n",
       "  <thead>\n",
       "    <tr style=\"text-align: right;\">\n",
       "      <th></th>\n",
       "      <th>polarity</th>\n",
       "      <th>id</th>\n",
       "    </tr>\n",
       "  </thead>\n",
       "  <tbody>\n",
       "    <tr>\n",
       "      <th>count</th>\n",
       "      <td>20000.000000</td>\n",
       "      <td>2.000000e+04</td>\n",
       "    </tr>\n",
       "    <tr>\n",
       "      <th>mean</th>\n",
       "      <td>0.497250</td>\n",
       "      <td>2.000577e+09</td>\n",
       "    </tr>\n",
       "    <tr>\n",
       "      <th>std</th>\n",
       "      <td>0.500005</td>\n",
       "      <td>1.921439e+08</td>\n",
       "    </tr>\n",
       "    <tr>\n",
       "      <th>min</th>\n",
       "      <td>0.000000</td>\n",
       "      <td>1.467824e+09</td>\n",
       "    </tr>\n",
       "    <tr>\n",
       "      <th>25%</th>\n",
       "      <td>0.000000</td>\n",
       "      <td>1.957661e+09</td>\n",
       "    </tr>\n",
       "    <tr>\n",
       "      <th>50%</th>\n",
       "      <td>0.000000</td>\n",
       "      <td>2.001911e+09</td>\n",
       "    </tr>\n",
       "    <tr>\n",
       "      <th>75%</th>\n",
       "      <td>1.000000</td>\n",
       "      <td>2.177559e+09</td>\n",
       "    </tr>\n",
       "    <tr>\n",
       "      <th>max</th>\n",
       "      <td>1.000000</td>\n",
       "      <td>2.329149e+09</td>\n",
       "    </tr>\n",
       "  </tbody>\n",
       "</table>\n",
       "</div>"
      ]
     },
     "execution_count": 143,
     "metadata": {},
     "output_type": "execute_result"
    }
   ],
   "execution_count": 143
  },
  {
   "metadata": {
    "ExecuteTime": {
     "end_time": "2025-03-22T22:29:45.726990Z",
     "start_time": "2025-03-22T22:29:45.722606Z"
    }
   },
   "cell_type": "code",
   "source": [
    "# check the number of positive vs. negative tagged sentences\n",
    "positives = data['polarity'][data.polarity == 1 ]\n",
    "negatives = data['polarity'][data.polarity == 0 ]\n",
    "\n",
    "print('Total length of the data is:         {}'.format(data.shape[0]))\n",
    "print('No. of positve tagged sentences is:  {}'.format(len(positives)))\n",
    "print('No. of negative tagged sentences is: {}'.format(len(negatives)))"
   ],
   "outputs": [
    {
     "name": "stdout",
     "output_type": "stream",
     "text": [
      "Total length of the data is:         20000\n",
      "No. of positve tagged sentences is:  9945\n",
      "No. of negative tagged sentences is: 10055\n"
     ]
    }
   ],
   "execution_count": 144
  },
  {
   "metadata": {
    "ExecuteTime": {
     "end_time": "2025-03-22T22:29:45.770584Z",
     "start_time": "2025-03-22T22:29:45.768226Z"
    }
   },
   "cell_type": "code",
   "source": [
    "# get a word count per of text\n",
    "def word_count(words):\n",
    "    return len(words.split())"
   ],
   "outputs": [],
   "execution_count": 145
  },
  {
   "metadata": {
    "ExecuteTime": {
     "end_time": "2025-03-22T22:29:45.981338Z",
     "start_time": "2025-03-22T22:29:45.817038Z"
    }
   },
   "cell_type": "code",
   "source": [
    "# plot word count distribution for both positive and negative\n",
    "\n",
    "data['word count'] = data['text'].apply(word_count)\n",
    "p = data['word count'][data.polarity == 1]\n",
    "n = data['word count'][data.polarity == 0]\n",
    "plt.figure(figsize=(12,6))\n",
    "plt.xlim(0,45)\n",
    "plt.xlabel('Word count')\n",
    "plt.ylabel('Frequency')\n",
    "g = plt.hist([p, n], color=['g','r'], alpha=0.5, label=['positive','negative'])\n",
    "plt.legend(loc='upper right')"
   ],
   "outputs": [
    {
     "data": {
      "text/plain": [
       "<matplotlib.legend.Legend at 0x3a414f9d0>"
      ]
     },
     "execution_count": 146,
     "metadata": {},
     "output_type": "execute_result"
    },
    {
     "data": {
      "text/plain": [
       "<Figure size 1200x600 with 1 Axes>"
      ],
      "image/png": "[encoded data removed]"
     },
     "metadata": {},
     "output_type": "display_data"
    }
   ],
   "execution_count": 146
  },
  {
   "metadata": {
    "ExecuteTime": {
     "end_time": "2025-03-22T22:29:46.081787Z",
     "start_time": "2025-03-22T22:29:45.996477Z"
    }
   },
   "cell_type": "code",
   "source": [
    "# get common words in training dataset\n",
    "from collections import Counter\n",
    "all_words = []\n",
    "for line in list(data['text']):\n",
    "    words = line.split()\n",
    "    for word in words:\n",
    "      if(len(word)>2):\n",
    "        all_words.append(word.lower())\n",
    "\n",
    "\n",
    "Counter(all_words).most_common(20)"
   ],
   "outputs": [
    {
     "data": {
      "text/plain": [
       "[('the', 6553),\n",
       " ('and', 3741),\n",
       " ('you', 2887),\n",
       " ('for', 2681),\n",
       " ('have', 1760),\n",
       " ('but', 1661),\n",
       " ('that', 1608),\n",
       " (\"i'm\", 1543),\n",
       " ('just', 1528),\n",
       " ('with', 1424),\n",
       " ('was', 1314),\n",
       " ('not', 1269),\n",
       " ('this', 1087),\n",
       " ('good', 1000),\n",
       " ('get', 998),\n",
       " ('all', 957),\n",
       " ('like', 943),\n",
       " ('are', 925),\n",
       " ('out', 881),\n",
       " ('now', 827)]"
      ]
     },
     "execution_count": 147,
     "metadata": {},
     "output_type": "execute_result"
    }
   ],
   "execution_count": 147
  },
  {
   "metadata": {
    "ExecuteTime": {
     "end_time": "2025-03-22T22:29:46.189292Z",
     "start_time": "2025-03-22T22:29:46.097350Z"
    }
   },
   "cell_type": "code",
   "source": [
    "%matplotlib inline\n",
    "sns.countplot(x=data['polarity'])"
   ],
   "outputs": [
    {
     "data": {
      "text/plain": [
       "<Axes: xlabel='polarity', ylabel='count'>"
      ]
     },
     "execution_count": 148,
     "metadata": {},
     "output_type": "execute_result"
    },
    {
     "data": {
      "text/plain": [
       "<Figure size 640x480 with 1 Axes>"
      ],
      "image/png": "[encoded data removed]"
     },
     "metadata": {},
     "output_type": "display_data"
    }
   ],
   "execution_count": 148
  },
  {
   "metadata": {},
   "cell_type": "markdown",
   "source": [
    "# Data Processing\n",
    "## The Preprocessing steps taken are:\n",
    "1. Lower Casing: Each text is converted to lowercase.\n",
    "2. Removing URLs: Links starting with \"http\" or \"https\" or \"www\" are replaced by \"\".\n",
    "\n",
    "3. Removing Usernames: Replace @Usernames with word \"\". (eg: \"@XYZ\" to \"\")\n",
    "\n",
    "4. Removing Short Words: Words with length less than 2 are removed.\n",
    "5. Removing Stopwords: Stopwords are the English words which does not add much meaning to a sentence. They can safely be ignored without sacrificing the meaning of the sentence. (eg: \"the\", \"he\", \"have\")\n",
    "6. Lemmatizing: Lemmatization is the process of converting a word to its base form. (e.g: “wolves” to “wolf”)"
   ]
  },
  {
   "metadata": {
    "ExecuteTime": {
     "end_time": "2025-03-22T22:29:46.206997Z",
     "start_time": "2025-03-22T22:29:46.203623Z"
    }
   },
   "cell_type": "code",
   "source": [
    "# Removing the unnecessary columns.\n",
    "data.drop(['date','query','user','word count'], axis=1, inplace=True)"
   ],
   "outputs": [],
   "execution_count": 149
  },
  {
   "metadata": {
    "ExecuteTime": {
     "end_time": "2025-03-22T22:29:46.226751Z",
     "start_time": "2025-03-22T22:29:46.220804Z"
    }
   },
   "cell_type": "code",
   "source": [
    "data.drop('id', axis=1, inplace=True)\n",
    "data.head(10)"
   ],
   "outputs": [
    {
     "data": {
      "text/plain": [
       "         polarity                                               text\n",
       "1040439         1  @SirReigns Thanks for that shout! #ff Hope all...\n",
       "496050          0                                    My tummy hurts \n",
       "703068          0  Not happy that they went to go see dane cook w...\n",
       "200692          0                  My Saturday's are always boring. \n",
       "577726          0  boo. probably won't get in to see small towns ...\n",
       "1041799         1  FOUR more days until my vacation from work! I ...\n",
       "185346          0         sunburn still huts  haden needs to be here\n",
       "92463           0  2 sessions at the gym tomorrow...i cheated on ...\n",
       "698664          0  Actually, due to technical difficulties, TBOTW...\n",
       "726969          0  @_MAXWELL_ im following every step of the tour..."
      ],
      "text/html": [
       "<div>\n",
       "<style scoped>\n",
       "    .dataframe tbody tr th:only-of-type {\n",
       "        vertical-align: middle;\n",
       "    }\n",
       "\n",
       "    .dataframe tbody tr th {\n",
       "        vertical-align: top;\n",
       "    }\n",
       "\n",
       "    .dataframe thead th {\n",
       "        text-align: right;\n",
       "    }\n",
       "</style>\n",
       "<table border=\"1\" class=\"dataframe\">\n",
       "  <thead>\n",
       "    <tr style=\"text-align: right;\">\n",
       "      <th></th>\n",
       "      <th>polarity</th>\n",
       "      <th>text</th>\n",
       "    </tr>\n",
       "  </thead>\n",
       "  <tbody>\n",
       "    <tr>\n",
       "      <th>1040439</th>\n",
       "      <td>1</td>\n",
       "      <td>@SirReigns Thanks for that shout! #ff Hope all...</td>\n",
       "    </tr>\n",
       "    <tr>\n",
       "      <th>496050</th>\n",
       "      <td>0</td>\n",
       "      <td>My tummy hurts</td>\n",
       "    </tr>\n",
       "    <tr>\n",
       "      <th>703068</th>\n",
       "      <td>0</td>\n",
       "      <td>Not happy that they went to go see dane cook w...</td>\n",
       "    </tr>\n",
       "    <tr>\n",
       "      <th>200692</th>\n",
       "      <td>0</td>\n",
       "      <td>My Saturday's are always boring.</td>\n",
       "    </tr>\n",
       "    <tr>\n",
       "      <th>577726</th>\n",
       "      <td>0</td>\n",
       "      <td>boo. probably won't get in to see small towns ...</td>\n",
       "    </tr>\n",
       "    <tr>\n",
       "      <th>1041799</th>\n",
       "      <td>1</td>\n",
       "      <td>FOUR more days until my vacation from work! I ...</td>\n",
       "    </tr>\n",
       "    <tr>\n",
       "      <th>185346</th>\n",
       "      <td>0</td>\n",
       "      <td>sunburn still huts  haden needs to be here</td>\n",
       "    </tr>\n",
       "    <tr>\n",
       "      <th>92463</th>\n",
       "      <td>0</td>\n",
       "      <td>2 sessions at the gym tomorrow...i cheated on ...</td>\n",
       "    </tr>\n",
       "    <tr>\n",
       "      <th>698664</th>\n",
       "      <td>0</td>\n",
       "      <td>Actually, due to technical difficulties, TBOTW...</td>\n",
       "    </tr>\n",
       "    <tr>\n",
       "      <th>726969</th>\n",
       "      <td>0</td>\n",
       "      <td>@_MAXWELL_ im following every step of the tour...</td>\n",
       "    </tr>\n",
       "  </tbody>\n",
       "</table>\n",
       "</div>"
      ]
     },
     "execution_count": 150,
     "metadata": {},
     "output_type": "execute_result"
    }
   ],
   "execution_count": 150
  },
  {
   "metadata": {
    "ExecuteTime": {
     "end_time": "2025-03-22T22:29:46.272688Z",
     "start_time": "2025-03-22T22:29:46.266814Z"
    }
   },
   "cell_type": "code",
   "source": [
    "#Checking if any null values present\n",
    "(data.isnull().sum() / len(data))*100"
   ],
   "outputs": [
    {
     "data": {
      "text/plain": [
       "polarity    0.0\n",
       "text        0.0\n",
       "dtype: float64"
      ]
     },
     "execution_count": 151,
     "metadata": {},
     "output_type": "execute_result"
    }
   ],
   "execution_count": 151
  },
  {
   "metadata": {
    "ExecuteTime": {
     "end_time": "2025-03-22T22:29:46.337612Z",
     "start_time": "2025-03-22T22:29:46.334455Z"
    }
   },
   "cell_type": "code",
   "source": [
    "#convrting pandas object to a string type\n",
    "data['text'] = data['text'].astype('str')"
   ],
   "outputs": [],
   "execution_count": 152
  },
  {
   "metadata": {
    "ExecuteTime": {
     "end_time": "2025-03-22T22:29:46.386590Z",
     "start_time": "2025-03-22T22:29:46.381834Z"
    }
   },
   "cell_type": "code",
   "source": [
    "nltk.download('stopwords')\n",
    "stopword = set(stopwords.words('english'))\n",
    "print(stopword)"
   ],
   "outputs": [
    {
     "name": "stdout",
     "output_type": "stream",
     "text": [
      "{'in', \"wouldn't\", \"they'd\", 'out', 'her', 'd', 'them', 'over', 'by', 'down', 'if', 'a', \"didn't\", \"they've\", 'does', \"shouldn't\", 'doesn', \"it's\", \"she'd\", 'ma', \"she'll\", 'only', \"we've\", 'will', \"mustn't\", 'mightn', \"i've\", \"you're\", 'itself', 'needn', 'more', 'most', 'are', 'below', \"you'll\", 'at', 'so', \"he's\", \"won't\", 'then', \"isn't\", 'its', 'while', 'these', \"we're\", \"you'd\", 'before', 'do', 'shouldn', 'theirs', 'being', \"we'd\", 'been', 've', 'it', 'the', 'won', 'yourselves', 'own', 'mustn', 'for', 'hers', 'o', 'such', 'm', 'you', 'both', 'haven', 'which', 'your', \"couldn't\", 'as', 'have', 'an', 'here', 'that', 'who', 'don', 'when', \"doesn't\", 'of', 'should', 'can', 'had', 'because', 'y', 'me', 'those', 'is', 'and', 't', 'under', \"i'm\", 'other', 'how', 'yours', 'll', 'very', \"you've\", 'again', 'having', 'hasn', \"i'd\", 'am', 'weren', 'ours', 'we', \"don't\", 're', 'myself', \"that'll\", 'into', 'what', 'themselves', 'some', 'once', 'all', \"hadn't\", 'through', 'further', 'his', 'against', 'doing', 'they', 'was', \"shan't\", 'ourselves', 'yourself', \"he'll\", 'herself', 'or', 'i', 'with', 'were', 'nor', 'there', 'not', 'he', 'up', \"haven't\", 'between', 'where', 'any', 'wasn', \"weren't\", \"we'll\", 'during', 'him', \"it'll\", 'be', 'my', 'no', 'now', 'she', \"should've\", 'their', \"they'll\", \"they're\", \"mightn't\", \"aren't\", 'isn', 'why', 'did', 'shan', 's', 'too', 'but', 'same', 'didn', \"he'd\", \"wasn't\", 'ain', 'few', 'himself', \"i'll\", 'after', 'than', \"hasn't\", 'off', 'above', \"it'd\", 'wouldn', 'this', 'to', 'aren', 'from', 'couldn', 'our', 'about', \"needn't\", 'whom', 'just', 'hadn', 'has', \"she's\", 'until', 'on', 'each'}\n"
     ]
    },
    {
     "name": "stderr",
     "output_type": "stream",
     "text": [
      "[nltk_data] Downloading package stopwords to\n",
      "[nltk_data]     /Users/zhaijingjing/nltk_data...\n",
      "[nltk_data]   Package stopwords is already up-to-date!\n"
     ]
    }
   ],
   "execution_count": 153
  },
  {
   "metadata": {
    "ExecuteTime": {
     "end_time": "2025-03-22T22:29:46.431111Z",
     "start_time": "2025-03-22T22:29:46.427809Z"
    }
   },
   "cell_type": "code",
   "source": [
    "nltk.download('punkt')\n",
    "nltk.download('wordnet')\n",
    "nltk.download('punkt_tab')"
   ],
   "outputs": [
    {
     "name": "stderr",
     "output_type": "stream",
     "text": [
      "[nltk_data] Downloading package punkt to\n",
      "[nltk_data]     /Users/zhaijingjing/nltk_data...\n",
      "[nltk_data]   Package punkt is already up-to-date!\n",
      "[nltk_data] Downloading package wordnet to\n",
      "[nltk_data]     /Users/zhaijingjing/nltk_data...\n",
      "[nltk_data]   Package wordnet is already up-to-date!\n",
      "[nltk_data] Downloading package punkt_tab to\n",
      "[nltk_data]     /Users/zhaijingjing/nltk_data...\n",
      "[nltk_data]   Package punkt_tab is already up-to-date!\n"
     ]
    },
    {
     "data": {
      "text/plain": [
       "True"
      ]
     },
     "execution_count": 154,
     "metadata": {},
     "output_type": "execute_result"
    }
   ],
   "execution_count": 154
  },
  {
   "metadata": {
    "ExecuteTime": {
     "end_time": "2025-03-22T22:29:46.456435Z",
     "start_time": "2025-03-22T22:29:46.448186Z"
    }
   },
   "cell_type": "code",
   "source": [
    "urlPattern = r\"((http://)[^ ]*|(https://)[^ ]*|( www\\.)[^ ]*)\"\n",
    "userPattern = '@[^\\s]+'\n",
    "def process_tweets_self1(tweet):\n",
    "  # Lower Casing\n",
    "    tweet = tweet.lower()\n",
    "    #tweet=tweet[1:]\n",
    "    # Removing all URls\n",
    "    tweet = re.sub(urlPattern,'',tweet)\n",
    "    # Removing all @username.\n",
    "    tweet = re.sub(userPattern,'', tweet)\n",
    "    #Remove punctuations\n",
    "    tweet = tweet.translate(str.maketrans(\"\",\"\",string.punctuation))\n",
    "    #tokenizing words\n",
    "    tokens = word_tokenize(tweet)\n",
    "    #Removing Stop Words\n",
    "    #final_tokens = [w for w in tokens if w not in stopword]\n",
    "    final_tokens = tokens\n",
    "    #reducing a word to its word stem\n",
    "    wordLemm = WordNetLemmatizer()\n",
    "    finalwords=[]\n",
    "    negation_words = {\"not\", \"no\", \"never\", \"n't\"}\n",
    "    prev_neg = False\n",
    "\n",
    "    for w in final_tokens:\n",
    "      if len(w)>1:\n",
    "        word = wordLemm.lemmatize(w)\n",
    "        #finalwords.append(word)\n",
    "        if word in negation_words:\n",
    "          prev_neg = True\n",
    "        elif prev_neg:\n",
    "          finalwords.append(\"not_\" + word)\n",
    "          prev_neg = False\n",
    "        else:\n",
    "          finalwords.append(word)\n",
    "    return ' '.join(finalwords)\n",
    "\n",
    "def process_tweets_self2(tweet):\n",
    "  # Lower Casing\n",
    "    tweet = tweet.lower()\n",
    "    #tweet=tweet[1:]\n",
    "    # Removing all URls\n",
    "    tweet = re.sub(urlPattern,'',tweet)\n",
    "    # Removing all @username.\n",
    "    tweet = re.sub(userPattern,'', tweet)\n",
    "    #Remove punctuations\n",
    "    tweet = tweet.translate(str.maketrans(\"\",\"\",string.punctuation))\n",
    "    #tokenizing words\n",
    "    tokens = word_tokenize(tweet)\n",
    "    #Removing Stop Words\n",
    "    negation_words = {\"no\", \"nor\", \"not\", \"don\", \"don't\", \"didn\", \"didn't\", \"doesn\", \"doesn't\", \"can't\", \"cannot\", \"won't\", \"wouldn\", \"wouldn't\", \"shouldn\", \"shouldn't\", \"isn't\", \"aren't\", \"wasn't\", \"weren't\"}\n",
    "\n",
    "    # Remove negation words from the stop word list\n",
    "    custom_stop_words = stopword.difference(negation_words)\n",
    "    final_tokens = [w for w in tokens if w not in custom_stop_words]\n",
    "    #final_tokens = tokens\n",
    "    #reducing a word to its word stem\n",
    "    wordLemm = WordNetLemmatizer()\n",
    "    finalwords=[]\n",
    "    for w in final_tokens:\n",
    "      if len(w)>1:\n",
    "        word = wordLemm.lemmatize(w)\n",
    "        finalwords.append(word)\n",
    "    return ' '.join(finalwords)\n",
    "\n",
    "def process_tweets_origin(tweet):\n",
    "  # Lower Casing\n",
    "    tweet = tweet.lower()\n",
    "    # tweet=tweet[1:]\n",
    "    # Removing all URls\n",
    "    tweet = re.sub(urlPattern,'',tweet)\n",
    "    # Removing all @username.\n",
    "    tweet = re.sub(userPattern,'', tweet)\n",
    "    #Remove punctuations\n",
    "    tweet = tweet.translate(str.maketrans(\"\",\"\",string.punctuation))\n",
    "    #tokenizing words\n",
    "    tokens = word_tokenize(tweet)\n",
    "    #Removing Stop Words\n",
    "    final_tokens = [w for w in tokens if w not in stopword]\n",
    "    #reducing a word to its word stem\n",
    "    wordLemm = WordNetLemmatizer()\n",
    "    finalwords=[]\n",
    "    for w in final_tokens:\n",
    "      if len(w)>1:\n",
    "        word = wordLemm.lemmatize(w)\n",
    "        finalwords.append(word)\n",
    "    return ' '.join(finalwords)"
   ],
   "outputs": [],
   "execution_count": 155
  },
  {
   "metadata": {
    "ExecuteTime": {
     "end_time": "2025-03-22T22:29:48.268476Z",
     "start_time": "2025-03-22T22:29:46.487174Z"
    }
   },
   "cell_type": "code",
   "source": [
    "data['processed_tweets'] = data['text'].apply(lambda x: process_tweets(x))\n",
    "print('Text Preprocessing complete.')"
   ],
   "outputs": [
    {
     "name": "stdout",
     "output_type": "stream",
     "text": [
      "Text Preprocessing complete.\n"
     ]
    }
   ],
   "execution_count": 156
  },
  {
   "metadata": {
    "ExecuteTime": {
     "end_time": "2025-03-22T22:29:48.288898Z",
     "start_time": "2025-03-22T22:29:48.283199Z"
    }
   },
   "cell_type": "code",
   "source": "data.head(10)",
   "outputs": [
    {
     "data": {
      "text/plain": [
       "         polarity                                               text  \\\n",
       "1040439         1  @SirReigns Thanks for that shout! #ff Hope all...   \n",
       "496050          0                                    My tummy hurts    \n",
       "703068          0  Not happy that they went to go see dane cook w...   \n",
       "200692          0                  My Saturday's are always boring.    \n",
       "577726          0  boo. probably won't get in to see small towns ...   \n",
       "1041799         1  FOUR more days until my vacation from work! I ...   \n",
       "185346          0         sunburn still huts  haden needs to be here   \n",
       "92463           0  2 sessions at the gym tomorrow...i cheated on ...   \n",
       "698664          0  Actually, due to technical difficulties, TBOTW...   \n",
       "726969          0  @_MAXWELL_ im following every step of the tour...   \n",
       "\n",
       "                                          processed_tweets  \n",
       "1040439                     thanks shout ff hope alls well  \n",
       "496050                                          tummy hurt  \n",
       "703068   happy went go see dane cook stinky outside wok...  \n",
       "200692                              saturday always boring  \n",
       "577726   boo probably wont get see small town tonight d...  \n",
       "1041799  four day vacation work dont care go long im aw...  \n",
       "185346                        sunburn still hut haden need  \n",
       "92463    session gym tomorrowi cheated diet badnot real...  \n",
       "698664   actually due technical difficulty tbotw isnt p...  \n",
       "726969   im following every step tour guess way hoping ...  "
      ],
      "text/html": [
       "<div>\n",
       "<style scoped>\n",
       "    .dataframe tbody tr th:only-of-type {\n",
       "        vertical-align: middle;\n",
       "    }\n",
       "\n",
       "    .dataframe tbody tr th {\n",
       "        vertical-align: top;\n",
       "    }\n",
       "\n",
       "    .dataframe thead th {\n",
       "        text-align: right;\n",
       "    }\n",
       "</style>\n",
       "<table border=\"1\" class=\"dataframe\">\n",
       "  <thead>\n",
       "    <tr style=\"text-align: right;\">\n",
       "      <th></th>\n",
       "      <th>polarity</th>\n",
       "      <th>text</th>\n",
       "      <th>processed_tweets</th>\n",
       "    </tr>\n",
       "  </thead>\n",
       "  <tbody>\n",
       "    <tr>\n",
       "      <th>1040439</th>\n",
       "      <td>1</td>\n",
       "      <td>@SirReigns Thanks for that shout! #ff Hope all...</td>\n",
       "      <td>thanks shout ff hope alls well</td>\n",
       "    </tr>\n",
       "    <tr>\n",
       "      <th>496050</th>\n",
       "      <td>0</td>\n",
       "      <td>My tummy hurts</td>\n",
       "      <td>tummy hurt</td>\n",
       "    </tr>\n",
       "    <tr>\n",
       "      <th>703068</th>\n",
       "      <td>0</td>\n",
       "      <td>Not happy that they went to go see dane cook w...</td>\n",
       "      <td>happy went go see dane cook stinky outside wok...</td>\n",
       "    </tr>\n",
       "    <tr>\n",
       "      <th>200692</th>\n",
       "      <td>0</td>\n",
       "      <td>My Saturday's are always boring.</td>\n",
       "      <td>saturday always boring</td>\n",
       "    </tr>\n",
       "    <tr>\n",
       "      <th>577726</th>\n",
       "      <td>0</td>\n",
       "      <td>boo. probably won't get in to see small towns ...</td>\n",
       "      <td>boo probably wont get see small town tonight d...</td>\n",
       "    </tr>\n",
       "    <tr>\n",
       "      <th>1041799</th>\n",
       "      <td>1</td>\n",
       "      <td>FOUR more days until my vacation from work! I ...</td>\n",
       "      <td>four day vacation work dont care go long im aw...</td>\n",
       "    </tr>\n",
       "    <tr>\n",
       "      <th>185346</th>\n",
       "      <td>0</td>\n",
       "      <td>sunburn still huts  haden needs to be here</td>\n",
       "      <td>sunburn still hut haden need</td>\n",
       "    </tr>\n",
       "    <tr>\n",
       "      <th>92463</th>\n",
       "      <td>0</td>\n",
       "      <td>2 sessions at the gym tomorrow...i cheated on ...</td>\n",
       "      <td>session gym tomorrowi cheated diet badnot real...</td>\n",
       "    </tr>\n",
       "    <tr>\n",
       "      <th>698664</th>\n",
       "      <td>0</td>\n",
       "      <td>Actually, due to technical difficulties, TBOTW...</td>\n",
       "      <td>actually due technical difficulty tbotw isnt p...</td>\n",
       "    </tr>\n",
       "    <tr>\n",
       "      <th>726969</th>\n",
       "      <td>0</td>\n",
       "      <td>@_MAXWELL_ im following every step of the tour...</td>\n",
       "      <td>im following every step tour guess way hoping ...</td>\n",
       "    </tr>\n",
       "  </tbody>\n",
       "</table>\n",
       "</div>"
      ]
     },
     "execution_count": 157,
     "metadata": {},
     "output_type": "execute_result"
    }
   ],
   "execution_count": 157
  },
  {
   "metadata": {},
   "cell_type": "markdown",
   "source": "# RNN - LSTM"
  },
  {
   "metadata": {
    "ExecuteTime": {
     "end_time": "2025-03-22T22:29:48.333637Z",
     "start_time": "2025-03-22T22:29:48.329777Z"
    }
   },
   "cell_type": "code",
   "source": [
    "from keras.models import Sequential\n",
    "from keras.layers import Dense, Embedding, LSTM, Dropout\n",
    "from sklearn.feature_extraction.text import CountVectorizer\n",
    "from tensorflow.keras.preprocessing.text import Tokenizer\n",
    "from tensorflow.keras.preprocessing.sequence import pad_sequences\n",
    "from tensorflow.keras.utils import to_categorical\n",
    "import re\n",
    "import keras\n",
    "from keras import regularizers\n",
    "from keras.models import Sequential\n",
    "from keras import layers\n",
    "from keras import regularizers\n",
    "from keras import backend as K\n",
    "from keras.callbacks import ModelCheckpoint\n",
    "from tensorflow.keras.optimizers import Adam"
   ],
   "outputs": [],
   "execution_count": 158
  },
  {
   "metadata": {},
   "cell_type": "markdown",
   "source": "## Converting text data into sequences"
  },
  {
   "metadata": {
    "ExecuteTime": {
     "end_time": "2025-03-22T22:29:48.716351Z",
     "start_time": "2025-03-22T22:29:48.368644Z"
    }
   },
   "cell_type": "code",
   "source": [
    "max_words = 5000\n",
    "max_len = 200\n",
    "embedding_dim = 64\n",
    "LSTM_units = 32\n",
    "hidden_units = 8\n",
    "num_epochs = 10\n",
    "results = {}\n",
    "preprocess_methods = {\n",
    "    \"Self1 (Negation Handling)\": process_tweets_self1,\n",
    "    \"Self2 (Stopword Filtering)\": process_tweets_self2,\n",
    "    \"Original\": process_tweets_origin\n",
    "}\n",
    "\n",
    "# 1. build word table\n",
    "# Initialize the tokenizer, keeping only the top 'max_words' most frequent words\n",
    "tokenizer = Tokenizer(num_words=max_words)\n",
    "# Fit the tokenizer on the processed tweets to build the word index\n",
    "tokenizer.fit_on_texts(data.processed_tweets)\n",
    "\n",
    "# 2. Convert each tweet (text) into a sequence of integer indices based on the word index\n",
    "sequences = tokenizer.texts_to_sequences(data.processed_tweets)\n",
    "\n",
    "# 3. Pad or truncate all tweet (text) with maximum 'max_len' words\n",
    "# - If a sequence is shorter than 'max_len', it will be padded with zeros at the beginning.\n",
    "# - If a sequence is longer than 'max_len', it will be truncated from the beginning.\n",
    "tweets = pad_sequences(sequences, maxlen=max_len)\n",
    "print(tweets)\n",
    "print(tweets.shape)\n",
    "print(\"Len word_index:\", len(tokenizer.word_index))"
   ],
   "outputs": [
    {
     "name": "stdout",
     "output_type": "stream",
     "text": [
      "[[   0    0    0 ... 1258   43   21]\n",
      " [   0    0    0 ...    0  781  136]\n",
      " [   0    0    0 ...  317  222   42]\n",
      " ...\n",
      " [   0    0    0 ... 4435  440   41]\n",
      " [   0    0    0 ... 1127    6  297]\n",
      " [   0    0    0 ...   10  403 1784]]\n",
      "(20000, 200)\n",
      "Len word_index: 21843\n"
     ]
    }
   ],
   "execution_count": 159
  },
  {
   "metadata": {},
   "cell_type": "markdown",
   "source": "## Split Traning and Test data"
  },
  {
   "metadata": {
    "ExecuteTime": {
     "end_time": "2025-03-22T22:29:48.732933Z",
     "start_time": "2025-03-22T22:29:48.722812Z"
    }
   },
   "cell_type": "code",
   "source": [
    "train_data, test_data, train_label, test_label = train_test_split(tweets, data.polarity.values, test_size=0.2, random_state=101)\n",
    "print(np.unique(train_label))\n",
    "print(np.unique(test_label))"
   ],
   "outputs": [
    {
     "name": "stdout",
     "output_type": "stream",
     "text": [
      "[0 1]\n",
      "[0 1]\n"
     ]
    }
   ],
   "execution_count": 160
  },
  {
   "metadata": {},
   "cell_type": "markdown",
   "source": "## Creating and Traning LSTM Model"
  },
  {
   "metadata": {
    "ExecuteTime": {
     "end_time": "2025-03-23T00:18:06.336513Z",
     "start_time": "2025-03-22T22:29:48.747653Z"
    }
   },
   "cell_type": "code",
   "source": [
    "for method_name, process_func in preprocess_methods.items():\n",
    "    print(f\"🔍 Running model with preprocessing: {method_name}...\")\n",
    "\n",
    "    # 预处理文本\n",
    "    data['processed_tweets'] = data['text'].apply(lambda x: process_func(x))\n",
    "\n",
    "    # Tokenization\n",
    "    tokenizer = Tokenizer(num_words=max_words)\n",
    "    tokenizer.fit_on_texts(data.processed_tweets)\n",
    "    sequences = tokenizer.texts_to_sequences(data.processed_tweets)\n",
    "    tweets = pad_sequences(sequences, maxlen=max_len)\n",
    "\n",
    "    # 数据集划分\n",
    "    train_data, test_data, train_label, test_label = train_test_split(tweets, data.polarity.values, test_size=0.2, random_state=101)\n",
    "\n",
    "    # 构建 LSTM 模型\n",
    "    model = Sequential([\n",
    "        Embedding(max_words, embedding_dim),\n",
    "        LSTM(LSTM_units, dropout=0.5),\n",
    "        Dense(hidden_units, activation='relu'),\n",
    "        Dense(1, activation='sigmoid')\n",
    "    ])\n",
    "    optimizer = Adam(learning_rate=0.001)\n",
    "    model.compile(optimizer=optimizer, loss='binary_crossentropy', metrics=['accuracy'])\n",
    "\n",
    "    # 训练模型\n",
    "    history = model.fit(train_data, train_label, epochs=num_epochs, validation_data=(test_data, test_label), verbose=2)\n",
    "\n",
    "    # 记录结果\n",
    "    results[method_name] = {\n",
    "        'train_acc': history.history['accuracy'],\n",
    "        'test_acc': history.history['val_accuracy']\n",
    "    }"
   ],
   "outputs": [
    {
     "name": "stdout",
     "output_type": "stream",
     "text": [
      "🔍 Running model with preprocessing: Self1 (Negation Handling)...\n",
      "Epoch 1/10\n",
      "500/500 - 20s - 39ms/step - accuracy: 0.6848 - loss: 0.5852 - val_accuracy: 0.7545 - val_loss: 0.5128\n",
      "Epoch 2/10\n",
      "500/500 - 18s - 35ms/step - accuracy: 0.7860 - loss: 0.4574 - val_accuracy: 0.7550 - val_loss: 0.5050\n",
      "Epoch 3/10\n",
      "500/500 - 17s - 35ms/step - accuracy: 0.8211 - loss: 0.4079 - val_accuracy: 0.7492 - val_loss: 0.5306\n",
      "Epoch 4/10\n",
      "500/500 - 18s - 35ms/step - accuracy: 0.8337 - loss: 0.3784 - val_accuracy: 0.7500 - val_loss: 0.5271\n",
      "Epoch 5/10\n",
      "500/500 - 18s - 35ms/step - accuracy: 0.8483 - loss: 0.3472 - val_accuracy: 0.7505 - val_loss: 0.5539\n",
      "Epoch 6/10\n",
      "500/500 - 17s - 35ms/step - accuracy: 0.8619 - loss: 0.3211 - val_accuracy: 0.7427 - val_loss: 0.5713\n",
      "Epoch 7/10\n",
      "500/500 - 18s - 35ms/step - accuracy: 0.8752 - loss: 0.2874 - val_accuracy: 0.7380 - val_loss: 0.6379\n",
      "Epoch 8/10\n",
      "500/500 - 17s - 34ms/step - accuracy: 0.8849 - loss: 0.2683 - val_accuracy: 0.7425 - val_loss: 0.6522\n",
      "Epoch 9/10\n",
      "500/500 - 17s - 34ms/step - accuracy: 0.8940 - loss: 0.2425 - val_accuracy: 0.7340 - val_loss: 0.7132\n",
      "Epoch 10/10\n",
      "500/500 - 17s - 34ms/step - accuracy: 0.9001 - loss: 0.2265 - val_accuracy: 0.7325 - val_loss: 0.7848\n",
      "🔍 Running model with preprocessing: Self2 (Stopword Filtering)...\n",
      "Epoch 1/10\n",
      "500/500 - 19s - 37ms/step - accuracy: 0.6862 - loss: 0.5858 - val_accuracy: 0.7542 - val_loss: 0.5173\n",
      "Epoch 2/10\n",
      "500/500 - 17s - 34ms/step - accuracy: 0.7851 - loss: 0.4627 - val_accuracy: 0.7458 - val_loss: 0.5210\n",
      "Epoch 3/10\n",
      "500/500 - 17s - 34ms/step - accuracy: 0.8132 - loss: 0.4215 - val_accuracy: 0.7345 - val_loss: 0.5363\n",
      "Epoch 4/10\n",
      "500/500 - 17s - 35ms/step - accuracy: 0.8271 - loss: 0.3921 - val_accuracy: 0.7372 - val_loss: 0.5535\n",
      "Epoch 5/10\n",
      "500/500 - 17s - 35ms/step - accuracy: 0.8435 - loss: 0.3587 - val_accuracy: 0.7368 - val_loss: 0.5815\n",
      "Epoch 6/10\n",
      "500/500 - 18s - 36ms/step - accuracy: 0.8589 - loss: 0.3223 - val_accuracy: 0.7247 - val_loss: 0.6051\n",
      "Epoch 7/10\n",
      "500/500 - 17s - 35ms/step - accuracy: 0.8733 - loss: 0.2910 - val_accuracy: 0.7230 - val_loss: 0.7067\n",
      "Epoch 8/10\n",
      "500/500 - 17s - 34ms/step - accuracy: 0.8827 - loss: 0.2682 - val_accuracy: 0.7215 - val_loss: 0.7410\n",
      "Epoch 9/10\n",
      "500/500 - 17s - 35ms/step - accuracy: 0.8864 - loss: 0.2489 - val_accuracy: 0.7222 - val_loss: 0.7923\n",
      "Epoch 10/10\n",
      "500/500 - 17s - 34ms/step - accuracy: 0.8952 - loss: 0.2327 - val_accuracy: 0.7117 - val_loss: 0.8447\n",
      "🔍 Running model with preprocessing: Original...\n",
      "Epoch 1/10\n",
      "500/500 - 19s - 38ms/step - accuracy: 0.6606 - loss: 0.6038 - val_accuracy: 0.7290 - val_loss: 0.5343\n",
      "Epoch 2/10\n",
      "500/500 - 19s - 39ms/step - accuracy: 0.7745 - loss: 0.4739 - val_accuracy: 0.7365 - val_loss: 0.5385\n",
      "Epoch 3/10\n",
      "500/500 - 35s - 69ms/step - accuracy: 0.8042 - loss: 0.4302 - val_accuracy: 0.7258 - val_loss: 0.5522\n",
      "Epoch 4/10\n",
      "500/500 - 400s - 800ms/step - accuracy: 0.8164 - loss: 0.4088 - val_accuracy: 0.7255 - val_loss: 0.5699\n",
      "Epoch 5/10\n",
      "500/500 - 214s - 428ms/step - accuracy: 0.8339 - loss: 0.3780 - val_accuracy: 0.7247 - val_loss: 0.5992\n",
      "Epoch 6/10\n",
      "500/500 - 4589s - 9s/step - accuracy: 0.8497 - loss: 0.3518 - val_accuracy: 0.7210 - val_loss: 0.6236\n",
      "Epoch 7/10\n",
      "500/500 - 812s - 2s/step - accuracy: 0.8594 - loss: 0.3248 - val_accuracy: 0.7157 - val_loss: 0.6814\n",
      "Epoch 8/10\n",
      "500/500 - 18s - 36ms/step - accuracy: 0.8689 - loss: 0.3015 - val_accuracy: 0.7178 - val_loss: 0.6843\n",
      "Epoch 9/10\n",
      "500/500 - 17s - 34ms/step - accuracy: 0.8796 - loss: 0.2765 - val_accuracy: 0.7163 - val_loss: 0.7493\n",
      "Epoch 10/10\n",
      "500/500 - 17s - 34ms/step - accuracy: 0.8889 - loss: 0.2585 - val_accuracy: 0.7067 - val_loss: 0.8770\n"
     ]
    }
   ],
   "execution_count": 161
  },
  {
   "metadata": {
    "ExecuteTime": {
     "end_time": "2025-03-23T00:18:06.540306Z",
     "start_time": "2025-03-23T00:18:06.402726Z"
    }
   },
   "cell_type": "code",
   "source": [
    "colors = ['red', 'blue', 'green']\n",
    "\n",
    "plt.figure(figsize=(12, 5))\n",
    "for i, (method_name, res) in enumerate(results.items()):\n",
    "    plt.plot(range(1, num_epochs + 1), res['train_acc'], linestyle='dashed', color=colors[i], label=f\"{method_name} - Train\")\n",
    "    plt.plot(range(1, num_epochs + 1), res['test_acc'], color=colors[i], label=f\"{method_name} - Test\")\n",
    "\n",
    "plt.xlabel(\"Epochs\")\n",
    "plt.ylabel(\"Accuracy\")\n",
    "plt.title(\"Training & Testing Accuracy for Different Preprocessing Methods\")\n",
    "plt.legend()\n",
    "plt.show()"
   ],
   "outputs": [
    {
     "data": {
      "text/plain": [
       "<Figure size 1200x500 with 1 Axes>"
      ],
      "image/png": "[encoded data removed]"
     },
     "metadata": {},
     "output_type": "display_data"
    }
   ],
   "execution_count": 162
  },
  {
   "metadata": {},
   "cell_type": "markdown",
   "source": "## Test the Model"
  },
  {
   "metadata": {
    "ExecuteTime": {
     "end_time": "2025-03-23T00:18:06.563972Z",
     "start_time": "2025-03-23T00:18:06.561037Z"
    }
   },
   "cell_type": "code",
   "source": [
    "def testModel(model, text):\n",
    "    # model = keras.models.load_model('rnn_model.keras')\n",
    "    sequence = tokenizer.texts_to_sequences([text])\n",
    "    test = pad_sequences(sequence, maxlen=max_len)\n",
    "    pred = model.predict(test)\n",
    "    pred_value = pred[0][0]\n",
    "    print(f'Prediction: {pred_value * 100:.2f}%')\n",
    "\n",
    "    if pred_value > 0.5:\n",
    "        print('Positive:', text)\n",
    "    else:\n",
    "        print('Negative:', text)"
   ],
   "outputs": [],
   "execution_count": 163
  },
  {
   "metadata": {
    "ExecuteTime": {
     "end_time": "2025-03-23T00:18:06.719828Z",
     "start_time": "2025-03-23T00:18:06.576608Z"
    }
   },
   "cell_type": "code",
   "source": [
    "testModel(model2,str('this data science article is the worst ever'))\n",
    "testModel(model2,str('this data science article is the best ever'))\n",
    "testModel(model2,str('I had a bad day at work.'))"
   ],
   "outputs": [
    {
     "name": "stdout",
     "output_type": "stream",
     "text": [
      "\u001B[1m1/1\u001B[0m \u001B[32m━━━━━━━━━━━━━━━━━━━━\u001B[0m\u001B[37m\u001B[0m \u001B[1m0s\u001B[0m 20ms/step\n",
      "Prediction: 1.80%\n",
      "Negative: this data science article is the worst ever\n",
      "\u001B[1m1/1\u001B[0m \u001B[32m━━━━━━━━━━━━━━━━━━━━\u001B[0m\u001B[37m\u001B[0m \u001B[1m0s\u001B[0m 19ms/step\n",
      "Prediction: 1.66%\n",
      "Negative: this data science article is the best ever\n",
      "\u001B[1m1/1\u001B[0m \u001B[32m━━━━━━━━━━━━━━━━━━━━\u001B[0m\u001B[37m\u001B[0m \u001B[1m0s\u001B[0m 20ms/step\n",
      "Prediction: 4.39%\n",
      "Negative: I had a bad day at work.\n"
     ]
    }
   ],
   "execution_count": 164
  },
  {
   "metadata": {
    "ExecuteTime": {
     "end_time": "2025-03-23T00:18:06.748878Z",
     "start_time": "2025-03-23T00:18:06.743440Z"
    }
   },
   "cell_type": "code",
   "source": [
    "urlPattern = r\"((http://)[^ ]*|(https://)[^ ]*|( www\\.)[^ ]*)\"\n",
    "userPattern = '@[^\\s]+'\n",
    "def process_tweets_test(tweet):\n",
    "  # Lower Casing\n",
    "    tweet = tweet.lower()\n",
    "    tweet=tweet[1:]\n",
    "    # Removing all URls\n",
    "    tweet = re.sub(urlPattern,'',tweet)\n",
    "    # Removing all @username.\n",
    "    tweet = re.sub(userPattern,'', tweet)\n",
    "    #Remove punctuations\n",
    "    tweet = tweet.translate(str.maketrans(\"\",\"\",string.punctuation))\n",
    "    #tokenizing words\n",
    "    tokens = word_tokenize(tweet)\n",
    "    #Removing Stop Words\n",
    "    final_tokens = [w for w in tokens if w not in stopword]\n",
    "    #reducing a word to its word stem\n",
    "    wordLemm = WordNetLemmatizer()\n",
    "    finalwords=[]\n",
    "    for w in final_tokens:\n",
    "      if len(w)>1:\n",
    "        word = wordLemm.lemmatize(w)\n",
    "        finalwords.append(word)\n",
    "    return ' '.join(finalwords)\n",
    "\n",
    "def process_tweets_test_Append(tweet):\n",
    "  # Lower Casing\n",
    "    tweet = tweet.lower()\n",
    "    tweet=tweet[1:]\n",
    "    # Removing all URls\n",
    "    tweet = re.sub(urlPattern,'',tweet)\n",
    "    # Removing all @username.\n",
    "    tweet = re.sub(userPattern,'', tweet)\n",
    "    #Remove punctuations\n",
    "    tweet = tweet.translate(str.maketrans(\"\",\"\",string.punctuation))\n",
    "    #tokenizing words\n",
    "    tokens = word_tokenize(tweet)\n",
    "    #Removing Stop Words\n",
    "    #final_tokens = [w for w in tokens if w not in stopword]\n",
    "    final_tokens = tokens\n",
    "    #reducing a word to its word stem\n",
    "    wordLemm = WordNetLemmatizer()\n",
    "    finalwords=[]\n",
    "    negation_words = {\"not\", \"no\", \"never\", \"n't\"}\n",
    "    prev_neg = False\n",
    "\n",
    "    for w in final_tokens:\n",
    "      if len(w)>1:\n",
    "        word = wordLemm.lemmatize(w)\n",
    "        #finalwords.append(word)\n",
    "        if word in negation_words:\n",
    "          prev_neg = True\n",
    "        elif prev_neg:\n",
    "          finalwords.append(\"not_\" + word)\n",
    "          prev_neg = False\n",
    "        else:\n",
    "          finalwords.append(word)\n",
    "    return ' '.join(finalwords)"
   ],
   "outputs": [],
   "execution_count": 165
  },
  {
   "metadata": {
    "ExecuteTime": {
     "end_time": "2025-03-23T00:18:06.781846Z",
     "start_time": "2025-03-23T00:18:06.774946Z"
    }
   },
   "cell_type": "code",
   "source": [
    "def tokenizer(test_text):\n",
    "    # 1. build word table with top 50 words\n",
    "    tokenizer = Tokenizer(num_words=8)\n",
    "    tokenizer.fit_on_texts(test_text)\n",
    "    print(\"word table:\", tokenizer.word_index)\n",
    "\n",
    "    sequences = tokenizer.texts_to_sequences(test_text)\n",
    "    print(\"test_text sequences:\", sequences)\n",
    "\n",
    "    tweets = pad_sequences(sequences, maxlen=5)\n",
    "    print(tweets.shape)\n",
    "    print(\"test_text pad_sequences:\", tweets)"
   ],
   "outputs": [],
   "execution_count": 166
  },
  {
   "metadata": {
    "ExecuteTime": {
     "end_time": "2025-03-23T00:18:06.807865Z",
     "start_time": "2025-03-23T00:18:06.803186Z"
    }
   },
   "cell_type": "code",
   "source": [
    "# Test tokenizer\n",
    "test_text = [\"I do not love machine learning\",\n",
    "             \"Deep learning is a subset of machine learning\",\n",
    "             \"This is an example of padding sequences in NLP\"]\n",
    "test_tweets = [\n",
    "    \"I LOVE this movie!!! It's absolutely amazing!!! #mustwatch\",\n",
    "    \"I LOVE this movie!!! It's absolutely amazing!!! #mustwatch\",\n",
    "    \"@user123 Thanks for the recommendation! I'll check it out.\",\n",
    "    \"Not happy with the service at all. Never coming back!\",\n",
    "    \"Not well with the service at all. Never coming back!\",\n",
    "    \"Visit our website at https://www.example.com for more details!\"\n",
    "]\n",
    "\n",
    "processed_test_text = [process_tweets_test(x) for x in test_tweets]\n",
    "print(\"processed_test_text:\", processed_test_text)\n",
    "tokenizer(processed_test_text)"
   ],
   "outputs": [
    {
     "name": "stdout",
     "output_type": "stream",
     "text": [
      "processed_test_text: ['love movie absolutely amazing mustwatch', 'love movie absolutely amazing mustwatch', 'user123 thanks recommendation ill check', 'ot happy service never coming back', 'ot well service never coming back', 'isit website detail']\n",
      "word table: {'love': 1, 'movie': 2, 'absolutely': 3, 'amazing': 4, 'mustwatch': 5, 'ot': 6, 'service': 7, 'never': 8, 'coming': 9, 'back': 10, 'user123': 11, 'thanks': 12, 'recommendation': 13, 'ill': 14, 'check': 15, 'happy': 16, 'well': 17, 'isit': 18, 'website': 19, 'detail': 20}\n",
      "test_text sequences: [[1, 2, 3, 4, 5], [1, 2, 3, 4, 5], [], [6, 7], [6, 7], []]\n",
      "(6, 5)\n",
      "test_text pad_sequences: [[1 2 3 4 5]\n",
      " [1 2 3 4 5]\n",
      " [0 0 0 0 0]\n",
      " [0 0 0 6 7]\n",
      " [0 0 0 6 7]\n",
      " [0 0 0 0 0]]\n"
     ]
    }
   ],
   "execution_count": 167
  },
  {
   "metadata": {
    "ExecuteTime": {
     "end_time": "2025-03-23T00:18:06.889406Z",
     "start_time": "2025-03-23T00:18:06.822664Z"
    }
   },
   "cell_type": "code",
   "source": [
    "from sklearn.manifold import TSNE\n",
    "# 提取 `Embedding` 层的权重\n",
    "embedding_layer = model2.get_layer(\"embedding_7\")  # 确保你的 `Embedding` 层名字是 \"embedding\"\n",
    "embedding_weights = embedding_layer.get_weights()[0]  # shape: (max_words, embedding_dim)\n",
    "print(\"Embedding shape:\", embedding_weights.shape)  # 应该是 (max_words, 64) 之类的\n",
    "\n",
    "# 获取 tokenizer 中的单词索引\n",
    "word_index = tokenizer.word_index\n",
    "print(\"Len word_index:\", len(word_index))  # 输出词典大小\n",
    "reverse_word_index = {v: k for k, v in word_index.items()}  # 反转索引以便获取单词\n",
    "\n",
    "# 选择词频最高的 200 个单词\n",
    "selected_words = 200\n",
    "top_indices = np.array([idx for word, idx in word_index.items() if idx < selected_words + 1])  # 取前 200 词\n",
    "top_vectors = embedding_weights[top_indices]\n",
    "\n",
    "# 使用 t-SNE 降维到 2D\n",
    "tsne = TSNE(n_components=2, random_state=42, perplexity=30, learning_rate=200)\n",
    "reduced_vectors = tsne.fit_transform(top_vectors)\n",
    "\n",
    "# 绘制散点图\n",
    "plt.figure(figsize=(12, 8))\n",
    "for i, word_idx in enumerate(top_indices):\n",
    "    word = reverse_word_index.get(word_idx, \"?\")  # 获取单词\n",
    "    plt.scatter(reduced_vectors[i, 0], reduced_vectors[i, 1], alpha=0.7)\n",
    "    plt.text(reduced_vectors[i, 0] + 0.02, reduced_vectors[i, 1] + 0.02, word, fontsize=10)\n",
    "\n",
    "plt.title(\"Word Embeddings Visualization (t-SNE)\")\n",
    "plt.show()"
   ],
   "outputs": [
    {
     "ename": "ValueError",
     "evalue": "No such layer: embedding_7. Existing layers are: ['embedding_2', 'lstm_2', 'dense_4', 'batch_normalization_1', 'dense_5'].",
     "output_type": "error",
     "traceback": [
      "\u001B[0;31m---------------------------------------------------------------------------\u001B[0m",
      "\u001B[0;31mValueError\u001B[0m                                Traceback (most recent call last)",
      "Cell \u001B[0;32mIn[168], line 3\u001B[0m\n\u001B[1;32m      1\u001B[0m \u001B[38;5;28;01mfrom\u001B[39;00m\u001B[38;5;250m \u001B[39m\u001B[38;5;21;01msklearn\u001B[39;00m\u001B[38;5;21;01m.\u001B[39;00m\u001B[38;5;21;01mmanifold\u001B[39;00m\u001B[38;5;250m \u001B[39m\u001B[38;5;28;01mimport\u001B[39;00m TSNE\n\u001B[1;32m      2\u001B[0m \u001B[38;5;66;03m# 提取 `Embedding` 层的权重\u001B[39;00m\n\u001B[0;32m----> 3\u001B[0m embedding_layer \u001B[38;5;241m=\u001B[39m \u001B[43mmodel2\u001B[49m\u001B[38;5;241;43m.\u001B[39;49m\u001B[43mget_layer\u001B[49m\u001B[43m(\u001B[49m\u001B[38;5;124;43m\"\u001B[39;49m\u001B[38;5;124;43membedding_7\u001B[39;49m\u001B[38;5;124;43m\"\u001B[39;49m\u001B[43m)\u001B[49m  \u001B[38;5;66;03m# 确保你的 `Embedding` 层名字是 \"embedding\"\u001B[39;00m\n\u001B[1;32m      4\u001B[0m embedding_weights \u001B[38;5;241m=\u001B[39m embedding_layer\u001B[38;5;241m.\u001B[39mget_weights()[\u001B[38;5;241m0\u001B[39m]  \u001B[38;5;66;03m# shape: (max_words, embedding_dim)\u001B[39;00m\n\u001B[1;32m      5\u001B[0m \u001B[38;5;28mprint\u001B[39m(\u001B[38;5;124m\"\u001B[39m\u001B[38;5;124mEmbedding shape:\u001B[39m\u001B[38;5;124m\"\u001B[39m, embedding_weights\u001B[38;5;241m.\u001B[39mshape)  \u001B[38;5;66;03m# 应该是 (max_words, 64) 之类的\u001B[39;00m\n",
      "File \u001B[0;32m/opt/anaconda3/envs/newpipenv/lib/python3.9/site-packages/keras/src/utils/traceback_utils.py:122\u001B[0m, in \u001B[0;36mfilter_traceback.<locals>.error_handler\u001B[0;34m(*args, **kwargs)\u001B[0m\n\u001B[1;32m    119\u001B[0m     filtered_tb \u001B[38;5;241m=\u001B[39m _process_traceback_frames(e\u001B[38;5;241m.\u001B[39m__traceback__)\n\u001B[1;32m    120\u001B[0m     \u001B[38;5;66;03m# To get the full stack trace, call:\u001B[39;00m\n\u001B[1;32m    121\u001B[0m     \u001B[38;5;66;03m# `keras.config.disable_traceback_filtering()`\u001B[39;00m\n\u001B[0;32m--> 122\u001B[0m     \u001B[38;5;28;01mraise\u001B[39;00m e\u001B[38;5;241m.\u001B[39mwith_traceback(filtered_tb) \u001B[38;5;28;01mfrom\u001B[39;00m\u001B[38;5;250m \u001B[39m\u001B[38;5;28;01mNone\u001B[39;00m\n\u001B[1;32m    123\u001B[0m \u001B[38;5;28;01mfinally\u001B[39;00m:\n\u001B[1;32m    124\u001B[0m     \u001B[38;5;28;01mdel\u001B[39;00m filtered_tb\n",
      "File \u001B[0;32m/opt/anaconda3/envs/newpipenv/lib/python3.9/site-packages/keras/src/models/model.py:210\u001B[0m, in \u001B[0;36mModel.get_layer\u001B[0;34m(self, name, index)\u001B[0m\n\u001B[1;32m    208\u001B[0m         \u001B[38;5;28;01mif\u001B[39;00m layer\u001B[38;5;241m.\u001B[39mname \u001B[38;5;241m==\u001B[39m name:\n\u001B[1;32m    209\u001B[0m             \u001B[38;5;28;01mreturn\u001B[39;00m layer\n\u001B[0;32m--> 210\u001B[0m     \u001B[38;5;28;01mraise\u001B[39;00m \u001B[38;5;167;01mValueError\u001B[39;00m(\n\u001B[1;32m    211\u001B[0m         \u001B[38;5;124mf\u001B[39m\u001B[38;5;124m\"\u001B[39m\u001B[38;5;124mNo such layer: \u001B[39m\u001B[38;5;132;01m{\u001B[39;00mname\u001B[38;5;132;01m}\u001B[39;00m\u001B[38;5;124m. Existing layers are: \u001B[39m\u001B[38;5;124m\"\u001B[39m\n\u001B[1;32m    212\u001B[0m         \u001B[38;5;124mf\u001B[39m\u001B[38;5;124m\"\u001B[39m\u001B[38;5;132;01m{\u001B[39;00m\u001B[38;5;28mlist\u001B[39m(layer\u001B[38;5;241m.\u001B[39mname\u001B[38;5;250m \u001B[39m\u001B[38;5;28;01mfor\u001B[39;00m\u001B[38;5;250m \u001B[39mlayer\u001B[38;5;250m \u001B[39m\u001B[38;5;129;01min\u001B[39;00m\u001B[38;5;250m \u001B[39m\u001B[38;5;28mself\u001B[39m\u001B[38;5;241m.\u001B[39mlayers)\u001B[38;5;132;01m}\u001B[39;00m\u001B[38;5;124m.\u001B[39m\u001B[38;5;124m\"\u001B[39m\n\u001B[1;32m    213\u001B[0m     )\n\u001B[1;32m    214\u001B[0m \u001B[38;5;28;01mraise\u001B[39;00m \u001B[38;5;167;01mValueError\u001B[39;00m(\n\u001B[1;32m    215\u001B[0m     \u001B[38;5;124m\"\u001B[39m\u001B[38;5;124mProvide either a layer name or layer index at `get_layer`.\u001B[39m\u001B[38;5;124m\"\u001B[39m\n\u001B[1;32m    216\u001B[0m )\n",
      "\u001B[0;31mValueError\u001B[0m: No such layer: embedding_7. Existing layers are: ['embedding_2', 'lstm_2', 'dense_4', 'batch_normalization_1', 'dense_5']."
     ]
    }
   ],
   "execution_count": 168
  }
 ],
 "metadata": {
  "colab": {
   "authorship_tag": "ABX9TyNNag92UMCy1GtgfJ+zFFU1",
   "collapsed_sections": [],
   "name": "DUDL_FFN_aboutMNIST.ipynb",
   "provenance": [
    {
     "file_id": "15cpyHkJ435B4MqbyGjAH1poN4nCy_DE4",
     "timestamp": 1617737766196
    },
    {
     "file_id": "1OLuWuaFu0hcFgkQ2hh5BqbRuqUZD7XcQ",
     "timestamp": 1617734878578
    },
    {
     "file_id": "1XvzVGJPTJifVh8OpZVB7ykLxyUqYwQ1j",
     "timestamp": 1617196833019
    },
    {
     "file_id": "1bv1_y32e3KEExFKKlPfC3rpw1JxmBr8H",
     "timestamp": 1617124341706
    },
    {
     "file_id": "1GMq8u7KyHB2AE7Teyls9gK1T01OduQSn",
     "timestamp": 1616697516760
    },
    {
     "file_id": "1Ui3kyHim-e0XLgDs2mkBxVlYg7TKYtcg",
     "timestamp": 1616615469755
    },
    {
     "file_id": "1YpHocGI4rApOxIBb1ZghCU5L-hFnv4CK",
     "timestamp": 1616608248670
    }
   ]
  },
  "kernelspec": {
   "display_name": "Python (newpipenv)",
   "language": "python",
   "name": "newpipenv"
  },
  "language_info": {
   "codemirror_mode": {
    "name": "ipython",
    "version": 3
   },
   "file_extension": ".py",
   "mimetype": "text/x-python",
   "name": "python",
   "nbconvert_exporter": "python",
   "pygments_lexer": "ipython3",
   "version": "3.10.9"
  }
 },
 "nbformat": 4,
 "nbformat_minor": 1
}
