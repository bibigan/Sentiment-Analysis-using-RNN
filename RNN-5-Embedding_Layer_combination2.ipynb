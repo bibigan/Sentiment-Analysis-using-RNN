{
 "cells": [
  {
   "cell_type": "code",
   "metadata": {
    "id": "YeuAheYyhdZw",
    "ExecuteTime": {
     "end_time": "2025-03-24T13:20:15.814469Z",
     "start_time": "2025-03-24T13:20:15.809120Z"
    }
   },
   "source": [
    "# import libraries\n",
    "# DataFrame\n",
    "import pandas as pd\n",
    "\n",
    "# plotting\n",
    "import seaborn as sns\n",
    "from wordcloud import WordCloud\n",
    "import matplotlib.pyplot as plt\n",
    "\n",
    "# nltk\n",
    "import nltk\n",
    "from nltk.stem import WordNetLemmatizer\n",
    "from nltk.corpus import stopwords\n",
    "from nltk.tokenize import word_tokenize\n",
    "\n",
    "# sklearny\n",
    "from sklearn.model_selection import train_test_split\n",
    "from sklearn.feature_extraction.text import TfidfVectorizer\n",
    "from sklearn.metrics import confusion_matrix, classification_report\n",
    "\n",
    "from sklearn.linear_model import LogisticRegression\n",
    "from sklearn.svm import LinearSVC\n",
    "from sklearn.ensemble import RandomForestClassifier\n",
    "from sklearn.naive_bayes import BernoulliNB\n",
    "\n",
    "\n",
    "#tensorflow\n",
    "import tensorflow.compat.v2 as tf\n",
    "import tensorflow_datasets as tfds\n",
    "\n",
    "# Utility\n",
    "import pandas as pd\n",
    "import numpy as np\n",
    "import warnings\n",
    "warnings.filterwarnings('ignore')\n",
    "import re\n",
    "import string\n",
    "import pickle"
   ],
   "outputs": [],
   "execution_count": 51
  },
  {
   "cell_type": "markdown",
   "metadata": {},
   "source": "# Loading Dataset"
  },
  {
   "cell_type": "code",
   "metadata": {
    "ExecuteTime": {
     "end_time": "2025-03-24T13:20:18.886660Z",
     "start_time": "2025-03-24T13:20:15.821728Z"
    }
   },
   "source": [
    "# Construct a tf.data.Dataset\n",
    "data = pd.read_csv('training.1600000.processed.noemoticon.csv',encoding='latin', names = ['polarity','id','date','query','user','text'])\n",
    "# Random shuffling of data, select the first 200,000\n",
    "data = data.sample(frac=1,random_state=740)\n",
    "data = data[:20000]\n",
    "data.head(10)"
   ],
   "outputs": [
    {
     "data": {
      "text/plain": [
       "         polarity          id                          date     query  \\\n",
       "1586564         4  2190822209  Tue Jun 16 03:49:24 PDT 2009  NO_QUERY   \n",
       "1593258         4  2191903014  Tue Jun 16 06:10:21 PDT 2009  NO_QUERY   \n",
       "250171          0  1983150308  Sun May 31 12:36:04 PDT 2009  NO_QUERY   \n",
       "774617          0  2321582236  Wed Jun 24 21:15:45 PDT 2009  NO_QUERY   \n",
       "219640          0  1976442803  Sat May 30 17:20:29 PDT 2009  NO_QUERY   \n",
       "364854          0  2048346997  Fri Jun 05 15:03:16 PDT 2009  NO_QUERY   \n",
       "1081037         4  1968400415  Fri May 29 21:21:32 PDT 2009  NO_QUERY   \n",
       "352747          0  2031275962  Thu Jun 04 09:35:12 PDT 2009  NO_QUERY   \n",
       "804759          4  1468569254  Tue Apr 07 02:28:17 PDT 2009  NO_QUERY   \n",
       "903760          4  1694686706  Mon May 04 03:43:12 PDT 2009  NO_QUERY   \n",
       "\n",
       "                    user                                               text  \n",
       "1586564      Alex_Clough  ...went to New Emperor as it was still open  V...  \n",
       "1593258    LeahChantelle  @lickmycupcakes Yay!!! It worked!! And thank y...  \n",
       "250171         YesDiva32    @Mister_82 don't b hatin on my Mira Mira music   \n",
       "774617     _WorldsApart_  Where were u when #BPD broke 1,000 users onlin...  \n",
       "219640      greatbrytton  I really just want to be out of Dothan...more ...  \n",
       "364854   MsCherrylicious  Fml got suckered into working til 930 and I'm ...  \n",
       "1081037        pennamico  @aalmishal ???? ?? ?????  ????? ????? ?????? ?...  \n",
       "352747     darlingroland  Today I could go get my new phone, probably wo...  \n",
       "804759          Scyranth  @SexySubKaylee heh heh dirty is always good gu...  \n",
       "903760     LmaonadeStand  No school today - Not because of &quot;H1N1&qu...  "
      ],
      "text/html": [
       "<div>\n",
       "<style scoped>\n",
       "    .dataframe tbody tr th:only-of-type {\n",
       "        vertical-align: middle;\n",
       "    }\n",
       "\n",
       "    .dataframe tbody tr th {\n",
       "        vertical-align: top;\n",
       "    }\n",
       "\n",
       "    .dataframe thead th {\n",
       "        text-align: right;\n",
       "    }\n",
       "</style>\n",
       "<table border=\"1\" class=\"dataframe\">\n",
       "  <thead>\n",
       "    <tr style=\"text-align: right;\">\n",
       "      <th></th>\n",
       "      <th>polarity</th>\n",
       "      <th>id</th>\n",
       "      <th>date</th>\n",
       "      <th>query</th>\n",
       "      <th>user</th>\n",
       "      <th>text</th>\n",
       "    </tr>\n",
       "  </thead>\n",
       "  <tbody>\n",
       "    <tr>\n",
       "      <th>1586564</th>\n",
       "      <td>4</td>\n",
       "      <td>2190822209</td>\n",
       "      <td>Tue Jun 16 03:49:24 PDT 2009</td>\n",
       "      <td>NO_QUERY</td>\n",
       "      <td>Alex_Clough</td>\n",
       "      <td>...went to New Emperor as it was still open  V...</td>\n",
       "    </tr>\n",
       "    <tr>\n",
       "      <th>1593258</th>\n",
       "      <td>4</td>\n",
       "      <td>2191903014</td>\n",
       "      <td>Tue Jun 16 06:10:21 PDT 2009</td>\n",
       "      <td>NO_QUERY</td>\n",
       "      <td>LeahChantelle</td>\n",
       "      <td>@lickmycupcakes Yay!!! It worked!! And thank y...</td>\n",
       "    </tr>\n",
       "    <tr>\n",
       "      <th>250171</th>\n",
       "      <td>0</td>\n",
       "      <td>1983150308</td>\n",
       "      <td>Sun May 31 12:36:04 PDT 2009</td>\n",
       "      <td>NO_QUERY</td>\n",
       "      <td>YesDiva32</td>\n",
       "      <td>@Mister_82 don't b hatin on my Mira Mira music</td>\n",
       "    </tr>\n",
       "    <tr>\n",
       "      <th>774617</th>\n",
       "      <td>0</td>\n",
       "      <td>2321582236</td>\n",
       "      <td>Wed Jun 24 21:15:45 PDT 2009</td>\n",
       "      <td>NO_QUERY</td>\n",
       "      <td>_WorldsApart_</td>\n",
       "      <td>Where were u when #BPD broke 1,000 users onlin...</td>\n",
       "    </tr>\n",
       "    <tr>\n",
       "      <th>219640</th>\n",
       "      <td>0</td>\n",
       "      <td>1976442803</td>\n",
       "      <td>Sat May 30 17:20:29 PDT 2009</td>\n",
       "      <td>NO_QUERY</td>\n",
       "      <td>greatbrytton</td>\n",
       "      <td>I really just want to be out of Dothan...more ...</td>\n",
       "    </tr>\n",
       "    <tr>\n",
       "      <th>364854</th>\n",
       "      <td>0</td>\n",
       "      <td>2048346997</td>\n",
       "      <td>Fri Jun 05 15:03:16 PDT 2009</td>\n",
       "      <td>NO_QUERY</td>\n",
       "      <td>MsCherrylicious</td>\n",
       "      <td>Fml got suckered into working til 930 and I'm ...</td>\n",
       "    </tr>\n",
       "    <tr>\n",
       "      <th>1081037</th>\n",
       "      <td>4</td>\n",
       "      <td>1968400415</td>\n",
       "      <td>Fri May 29 21:21:32 PDT 2009</td>\n",
       "      <td>NO_QUERY</td>\n",
       "      <td>pennamico</td>\n",
       "      <td>@aalmishal ???? ?? ?????  ????? ????? ?????? ?...</td>\n",
       "    </tr>\n",
       "    <tr>\n",
       "      <th>352747</th>\n",
       "      <td>0</td>\n",
       "      <td>2031275962</td>\n",
       "      <td>Thu Jun 04 09:35:12 PDT 2009</td>\n",
       "      <td>NO_QUERY</td>\n",
       "      <td>darlingroland</td>\n",
       "      <td>Today I could go get my new phone, probably wo...</td>\n",
       "    </tr>\n",
       "    <tr>\n",
       "      <th>804759</th>\n",
       "      <td>4</td>\n",
       "      <td>1468569254</td>\n",
       "      <td>Tue Apr 07 02:28:17 PDT 2009</td>\n",
       "      <td>NO_QUERY</td>\n",
       "      <td>Scyranth</td>\n",
       "      <td>@SexySubKaylee heh heh dirty is always good gu...</td>\n",
       "    </tr>\n",
       "    <tr>\n",
       "      <th>903760</th>\n",
       "      <td>4</td>\n",
       "      <td>1694686706</td>\n",
       "      <td>Mon May 04 03:43:12 PDT 2009</td>\n",
       "      <td>NO_QUERY</td>\n",
       "      <td>LmaonadeStand</td>\n",
       "      <td>No school today - Not because of &amp;quot;H1N1&amp;qu...</td>\n",
       "    </tr>\n",
       "  </tbody>\n",
       "</table>\n",
       "</div>"
      ]
     },
     "execution_count": 52,
     "metadata": {},
     "output_type": "execute_result"
    }
   ],
   "execution_count": 52
  },
  {
   "metadata": {},
   "cell_type": "markdown",
   "source": "# Data Visualization"
  },
  {
   "cell_type": "code",
   "metadata": {
    "scrolled": false,
    "ExecuteTime": {
     "end_time": "2025-03-24T13:20:18.934185Z",
     "start_time": "2025-03-24T13:20:18.930690Z"
    }
   },
   "source": "print(\"Dataset shape:\", data.shape)",
   "outputs": [
    {
     "name": "stdout",
     "output_type": "stream",
     "text": [
      "Dataset shape: (20000, 6)\n"
     ]
    }
   ],
   "execution_count": 53
  },
  {
   "cell_type": "code",
   "metadata": {
    "ExecuteTime": {
     "end_time": "2025-03-24T13:20:18.981021Z",
     "start_time": "2025-03-24T13:20:18.974130Z"
    }
   },
   "source": "data.head(10)",
   "outputs": [
    {
     "data": {
      "text/plain": [
       "         polarity          id                          date     query  \\\n",
       "1586564         4  2190822209  Tue Jun 16 03:49:24 PDT 2009  NO_QUERY   \n",
       "1593258         4  2191903014  Tue Jun 16 06:10:21 PDT 2009  NO_QUERY   \n",
       "250171          0  1983150308  Sun May 31 12:36:04 PDT 2009  NO_QUERY   \n",
       "774617          0  2321582236  Wed Jun 24 21:15:45 PDT 2009  NO_QUERY   \n",
       "219640          0  1976442803  Sat May 30 17:20:29 PDT 2009  NO_QUERY   \n",
       "364854          0  2048346997  Fri Jun 05 15:03:16 PDT 2009  NO_QUERY   \n",
       "1081037         4  1968400415  Fri May 29 21:21:32 PDT 2009  NO_QUERY   \n",
       "352747          0  2031275962  Thu Jun 04 09:35:12 PDT 2009  NO_QUERY   \n",
       "804759          4  1468569254  Tue Apr 07 02:28:17 PDT 2009  NO_QUERY   \n",
       "903760          4  1694686706  Mon May 04 03:43:12 PDT 2009  NO_QUERY   \n",
       "\n",
       "                    user                                               text  \n",
       "1586564      Alex_Clough  ...went to New Emperor as it was still open  V...  \n",
       "1593258    LeahChantelle  @lickmycupcakes Yay!!! It worked!! And thank y...  \n",
       "250171         YesDiva32    @Mister_82 don't b hatin on my Mira Mira music   \n",
       "774617     _WorldsApart_  Where were u when #BPD broke 1,000 users onlin...  \n",
       "219640      greatbrytton  I really just want to be out of Dothan...more ...  \n",
       "364854   MsCherrylicious  Fml got suckered into working til 930 and I'm ...  \n",
       "1081037        pennamico  @aalmishal ???? ?? ?????  ????? ????? ?????? ?...  \n",
       "352747     darlingroland  Today I could go get my new phone, probably wo...  \n",
       "804759          Scyranth  @SexySubKaylee heh heh dirty is always good gu...  \n",
       "903760     LmaonadeStand  No school today - Not because of &quot;H1N1&qu...  "
      ],
      "text/html": [
       "<div>\n",
       "<style scoped>\n",
       "    .dataframe tbody tr th:only-of-type {\n",
       "        vertical-align: middle;\n",
       "    }\n",
       "\n",
       "    .dataframe tbody tr th {\n",
       "        vertical-align: top;\n",
       "    }\n",
       "\n",
       "    .dataframe thead th {\n",
       "        text-align: right;\n",
       "    }\n",
       "</style>\n",
       "<table border=\"1\" class=\"dataframe\">\n",
       "  <thead>\n",
       "    <tr style=\"text-align: right;\">\n",
       "      <th></th>\n",
       "      <th>polarity</th>\n",
       "      <th>id</th>\n",
       "      <th>date</th>\n",
       "      <th>query</th>\n",
       "      <th>user</th>\n",
       "      <th>text</th>\n",
       "    </tr>\n",
       "  </thead>\n",
       "  <tbody>\n",
       "    <tr>\n",
       "      <th>1586564</th>\n",
       "      <td>4</td>\n",
       "      <td>2190822209</td>\n",
       "      <td>Tue Jun 16 03:49:24 PDT 2009</td>\n",
       "      <td>NO_QUERY</td>\n",
       "      <td>Alex_Clough</td>\n",
       "      <td>...went to New Emperor as it was still open  V...</td>\n",
       "    </tr>\n",
       "    <tr>\n",
       "      <th>1593258</th>\n",
       "      <td>4</td>\n",
       "      <td>2191903014</td>\n",
       "      <td>Tue Jun 16 06:10:21 PDT 2009</td>\n",
       "      <td>NO_QUERY</td>\n",
       "      <td>LeahChantelle</td>\n",
       "      <td>@lickmycupcakes Yay!!! It worked!! And thank y...</td>\n",
       "    </tr>\n",
       "    <tr>\n",
       "      <th>250171</th>\n",
       "      <td>0</td>\n",
       "      <td>1983150308</td>\n",
       "      <td>Sun May 31 12:36:04 PDT 2009</td>\n",
       "      <td>NO_QUERY</td>\n",
       "      <td>YesDiva32</td>\n",
       "      <td>@Mister_82 don't b hatin on my Mira Mira music</td>\n",
       "    </tr>\n",
       "    <tr>\n",
       "      <th>774617</th>\n",
       "      <td>0</td>\n",
       "      <td>2321582236</td>\n",
       "      <td>Wed Jun 24 21:15:45 PDT 2009</td>\n",
       "      <td>NO_QUERY</td>\n",
       "      <td>_WorldsApart_</td>\n",
       "      <td>Where were u when #BPD broke 1,000 users onlin...</td>\n",
       "    </tr>\n",
       "    <tr>\n",
       "      <th>219640</th>\n",
       "      <td>0</td>\n",
       "      <td>1976442803</td>\n",
       "      <td>Sat May 30 17:20:29 PDT 2009</td>\n",
       "      <td>NO_QUERY</td>\n",
       "      <td>greatbrytton</td>\n",
       "      <td>I really just want to be out of Dothan...more ...</td>\n",
       "    </tr>\n",
       "    <tr>\n",
       "      <th>364854</th>\n",
       "      <td>0</td>\n",
       "      <td>2048346997</td>\n",
       "      <td>Fri Jun 05 15:03:16 PDT 2009</td>\n",
       "      <td>NO_QUERY</td>\n",
       "      <td>MsCherrylicious</td>\n",
       "      <td>Fml got suckered into working til 930 and I'm ...</td>\n",
       "    </tr>\n",
       "    <tr>\n",
       "      <th>1081037</th>\n",
       "      <td>4</td>\n",
       "      <td>1968400415</td>\n",
       "      <td>Fri May 29 21:21:32 PDT 2009</td>\n",
       "      <td>NO_QUERY</td>\n",
       "      <td>pennamico</td>\n",
       "      <td>@aalmishal ???? ?? ?????  ????? ????? ?????? ?...</td>\n",
       "    </tr>\n",
       "    <tr>\n",
       "      <th>352747</th>\n",
       "      <td>0</td>\n",
       "      <td>2031275962</td>\n",
       "      <td>Thu Jun 04 09:35:12 PDT 2009</td>\n",
       "      <td>NO_QUERY</td>\n",
       "      <td>darlingroland</td>\n",
       "      <td>Today I could go get my new phone, probably wo...</td>\n",
       "    </tr>\n",
       "    <tr>\n",
       "      <th>804759</th>\n",
       "      <td>4</td>\n",
       "      <td>1468569254</td>\n",
       "      <td>Tue Apr 07 02:28:17 PDT 2009</td>\n",
       "      <td>NO_QUERY</td>\n",
       "      <td>Scyranth</td>\n",
       "      <td>@SexySubKaylee heh heh dirty is always good gu...</td>\n",
       "    </tr>\n",
       "    <tr>\n",
       "      <th>903760</th>\n",
       "      <td>4</td>\n",
       "      <td>1694686706</td>\n",
       "      <td>Mon May 04 03:43:12 PDT 2009</td>\n",
       "      <td>NO_QUERY</td>\n",
       "      <td>LmaonadeStand</td>\n",
       "      <td>No school today - Not because of &amp;quot;H1N1&amp;qu...</td>\n",
       "    </tr>\n",
       "  </tbody>\n",
       "</table>\n",
       "</div>"
      ]
     },
     "execution_count": 54,
     "metadata": {},
     "output_type": "execute_result"
    }
   ],
   "execution_count": 54
  },
  {
   "cell_type": "code",
   "metadata": {
    "ExecuteTime": {
     "end_time": "2025-03-24T13:20:19.017780Z",
     "start_time": "2025-03-24T13:20:19.013891Z"
    }
   },
   "source": "data['polarity'].unique()",
   "outputs": [
    {
     "data": {
      "text/plain": [
       "array([4, 0])"
      ]
     },
     "execution_count": 55,
     "metadata": {},
     "output_type": "execute_result"
    }
   ],
   "execution_count": 55
  },
  {
   "cell_type": "code",
   "metadata": {
    "scrolled": true,
    "ExecuteTime": {
     "end_time": "2025-03-24T13:20:19.057862Z",
     "start_time": "2025-03-24T13:20:19.051676Z"
    }
   },
   "source": [
    "# Replacing the value 4 -->1 for ease of understanding.\n",
    "data['polarity'] = data['polarity'].replace(4,1)\n",
    "data.head()"
   ],
   "outputs": [
    {
     "data": {
      "text/plain": [
       "         polarity          id                          date     query  \\\n",
       "1586564         1  2190822209  Tue Jun 16 03:49:24 PDT 2009  NO_QUERY   \n",
       "1593258         1  2191903014  Tue Jun 16 06:10:21 PDT 2009  NO_QUERY   \n",
       "250171          0  1983150308  Sun May 31 12:36:04 PDT 2009  NO_QUERY   \n",
       "774617          0  2321582236  Wed Jun 24 21:15:45 PDT 2009  NO_QUERY   \n",
       "219640          0  1976442803  Sat May 30 17:20:29 PDT 2009  NO_QUERY   \n",
       "\n",
       "                  user                                               text  \n",
       "1586564    Alex_Clough  ...went to New Emperor as it was still open  V...  \n",
       "1593258  LeahChantelle  @lickmycupcakes Yay!!! It worked!! And thank y...  \n",
       "250171       YesDiva32    @Mister_82 don't b hatin on my Mira Mira music   \n",
       "774617   _WorldsApart_  Where were u when #BPD broke 1,000 users onlin...  \n",
       "219640    greatbrytton  I really just want to be out of Dothan...more ...  "
      ],
      "text/html": [
       "<div>\n",
       "<style scoped>\n",
       "    .dataframe tbody tr th:only-of-type {\n",
       "        vertical-align: middle;\n",
       "    }\n",
       "\n",
       "    .dataframe tbody tr th {\n",
       "        vertical-align: top;\n",
       "    }\n",
       "\n",
       "    .dataframe thead th {\n",
       "        text-align: right;\n",
       "    }\n",
       "</style>\n",
       "<table border=\"1\" class=\"dataframe\">\n",
       "  <thead>\n",
       "    <tr style=\"text-align: right;\">\n",
       "      <th></th>\n",
       "      <th>polarity</th>\n",
       "      <th>id</th>\n",
       "      <th>date</th>\n",
       "      <th>query</th>\n",
       "      <th>user</th>\n",
       "      <th>text</th>\n",
       "    </tr>\n",
       "  </thead>\n",
       "  <tbody>\n",
       "    <tr>\n",
       "      <th>1586564</th>\n",
       "      <td>1</td>\n",
       "      <td>2190822209</td>\n",
       "      <td>Tue Jun 16 03:49:24 PDT 2009</td>\n",
       "      <td>NO_QUERY</td>\n",
       "      <td>Alex_Clough</td>\n",
       "      <td>...went to New Emperor as it was still open  V...</td>\n",
       "    </tr>\n",
       "    <tr>\n",
       "      <th>1593258</th>\n",
       "      <td>1</td>\n",
       "      <td>2191903014</td>\n",
       "      <td>Tue Jun 16 06:10:21 PDT 2009</td>\n",
       "      <td>NO_QUERY</td>\n",
       "      <td>LeahChantelle</td>\n",
       "      <td>@lickmycupcakes Yay!!! It worked!! And thank y...</td>\n",
       "    </tr>\n",
       "    <tr>\n",
       "      <th>250171</th>\n",
       "      <td>0</td>\n",
       "      <td>1983150308</td>\n",
       "      <td>Sun May 31 12:36:04 PDT 2009</td>\n",
       "      <td>NO_QUERY</td>\n",
       "      <td>YesDiva32</td>\n",
       "      <td>@Mister_82 don't b hatin on my Mira Mira music</td>\n",
       "    </tr>\n",
       "    <tr>\n",
       "      <th>774617</th>\n",
       "      <td>0</td>\n",
       "      <td>2321582236</td>\n",
       "      <td>Wed Jun 24 21:15:45 PDT 2009</td>\n",
       "      <td>NO_QUERY</td>\n",
       "      <td>_WorldsApart_</td>\n",
       "      <td>Where were u when #BPD broke 1,000 users onlin...</td>\n",
       "    </tr>\n",
       "    <tr>\n",
       "      <th>219640</th>\n",
       "      <td>0</td>\n",
       "      <td>1976442803</td>\n",
       "      <td>Sat May 30 17:20:29 PDT 2009</td>\n",
       "      <td>NO_QUERY</td>\n",
       "      <td>greatbrytton</td>\n",
       "      <td>I really just want to be out of Dothan...more ...</td>\n",
       "    </tr>\n",
       "  </tbody>\n",
       "</table>\n",
       "</div>"
      ]
     },
     "execution_count": 56,
     "metadata": {},
     "output_type": "execute_result"
    }
   ],
   "execution_count": 56
  },
  {
   "cell_type": "code",
   "metadata": {
    "ExecuteTime": {
     "end_time": "2025-03-24T13:20:19.109565Z",
     "start_time": "2025-03-24T13:20:19.100366Z"
    }
   },
   "source": "data.describe()",
   "outputs": [
    {
     "data": {
      "text/plain": [
       "           polarity            id\n",
       "count  20000.000000  2.000000e+04\n",
       "mean       0.494000  1.999987e+09\n",
       "std        0.499976  1.951726e+08\n",
       "min        0.000000  1.467824e+09\n",
       "25%        0.000000  1.956915e+09\n",
       "50%        0.000000  2.002387e+09\n",
       "75%        1.000000  2.178142e+09\n",
       "max        1.000000  2.329143e+09"
      ],
      "text/html": [
       "<div>\n",
       "<style scoped>\n",
       "    .dataframe tbody tr th:only-of-type {\n",
       "        vertical-align: middle;\n",
       "    }\n",
       "\n",
       "    .dataframe tbody tr th {\n",
       "        vertical-align: top;\n",
       "    }\n",
       "\n",
       "    .dataframe thead th {\n",
       "        text-align: right;\n",
       "    }\n",
       "</style>\n",
       "<table border=\"1\" class=\"dataframe\">\n",
       "  <thead>\n",
       "    <tr style=\"text-align: right;\">\n",
       "      <th></th>\n",
       "      <th>polarity</th>\n",
       "      <th>id</th>\n",
       "    </tr>\n",
       "  </thead>\n",
       "  <tbody>\n",
       "    <tr>\n",
       "      <th>count</th>\n",
       "      <td>20000.000000</td>\n",
       "      <td>2.000000e+04</td>\n",
       "    </tr>\n",
       "    <tr>\n",
       "      <th>mean</th>\n",
       "      <td>0.494000</td>\n",
       "      <td>1.999987e+09</td>\n",
       "    </tr>\n",
       "    <tr>\n",
       "      <th>std</th>\n",
       "      <td>0.499976</td>\n",
       "      <td>1.951726e+08</td>\n",
       "    </tr>\n",
       "    <tr>\n",
       "      <th>min</th>\n",
       "      <td>0.000000</td>\n",
       "      <td>1.467824e+09</td>\n",
       "    </tr>\n",
       "    <tr>\n",
       "      <th>25%</th>\n",
       "      <td>0.000000</td>\n",
       "      <td>1.956915e+09</td>\n",
       "    </tr>\n",
       "    <tr>\n",
       "      <th>50%</th>\n",
       "      <td>0.000000</td>\n",
       "      <td>2.002387e+09</td>\n",
       "    </tr>\n",
       "    <tr>\n",
       "      <th>75%</th>\n",
       "      <td>1.000000</td>\n",
       "      <td>2.178142e+09</td>\n",
       "    </tr>\n",
       "    <tr>\n",
       "      <th>max</th>\n",
       "      <td>1.000000</td>\n",
       "      <td>2.329143e+09</td>\n",
       "    </tr>\n",
       "  </tbody>\n",
       "</table>\n",
       "</div>"
      ]
     },
     "execution_count": 57,
     "metadata": {},
     "output_type": "execute_result"
    }
   ],
   "execution_count": 57
  },
  {
   "metadata": {
    "ExecuteTime": {
     "end_time": "2025-03-24T13:20:19.172577Z",
     "start_time": "2025-03-24T13:20:19.167655Z"
    }
   },
   "cell_type": "code",
   "source": [
    "# check the number of positive vs. negative tagged sentences\n",
    "positives = data['polarity'][data.polarity == 1 ]\n",
    "negatives = data['polarity'][data.polarity == 0 ]\n",
    "\n",
    "print('Total length of the data is:         {}'.format(data.shape[0]))\n",
    "print('No. of positve tagged sentences is:  {}'.format(len(positives)))\n",
    "print('No. of negative tagged sentences is: {}'.format(len(negatives)))"
   ],
   "outputs": [
    {
     "name": "stdout",
     "output_type": "stream",
     "text": [
      "Total length of the data is:         20000\n",
      "No. of positve tagged sentences is:  9880\n",
      "No. of negative tagged sentences is: 10120\n"
     ]
    }
   ],
   "execution_count": 58
  },
  {
   "metadata": {
    "ExecuteTime": {
     "end_time": "2025-03-24T13:20:19.214031Z",
     "start_time": "2025-03-24T13:20:19.210529Z"
    }
   },
   "cell_type": "code",
   "source": [
    "# get a word count per of text\n",
    "def word_count(words):\n",
    "    return len(words.split())"
   ],
   "outputs": [],
   "execution_count": 59
  },
  {
   "metadata": {
    "ExecuteTime": {
     "end_time": "2025-03-24T13:20:19.405579Z",
     "start_time": "2025-03-24T13:20:19.237553Z"
    }
   },
   "cell_type": "code",
   "source": [
    "# plot word count distribution for both positive and negative\n",
    "\n",
    "data['word count'] = data['text'].apply(word_count)\n",
    "p = data['word count'][data.polarity == 1]\n",
    "n = data['word count'][data.polarity == 0]\n",
    "plt.figure(figsize=(12,6))\n",
    "plt.xlim(0,45)\n",
    "plt.xlabel('Word count')\n",
    "plt.ylabel('Frequency')\n",
    "g = plt.hist([p, n], color=['g','r'], alpha=0.5, label=['positive','negative'])\n",
    "plt.legend(loc='upper right')"
   ],
   "outputs": [
    {
     "data": {
      "text/plain": [
       "<matplotlib.legend.Legend at 0x35aead820>"
      ]
     },
     "execution_count": 60,
     "metadata": {},
     "output_type": "execute_result"
    },
    {
     "data": {
      "text/plain": [
       "<Figure size 1200x600 with 1 Axes>"
      ],
      "image/png": "[encoded data removed]"
     },
     "metadata": {},
     "output_type": "display_data"
    }
   ],
   "execution_count": 60
  },
  {
   "metadata": {
    "ExecuteTime": {
     "end_time": "2025-03-24T13:20:19.496877Z",
     "start_time": "2025-03-24T13:20:19.409421Z"
    }
   },
   "cell_type": "code",
   "source": [
    "# get common words in training dataset\n",
    "from collections import Counter\n",
    "all_words = []\n",
    "for line in list(data['text']):\n",
    "    words = line.split()\n",
    "    for word in words:\n",
    "      if(len(word)>2):\n",
    "        all_words.append(word.lower())\n",
    "\n",
    "\n",
    "Counter(all_words).most_common(20)"
   ],
   "outputs": [
    {
     "data": {
      "text/plain": [
       "[('the', 6429),\n",
       " ('and', 3668),\n",
       " ('you', 2974),\n",
       " ('for', 2757),\n",
       " ('have', 1804),\n",
       " ('that', 1621),\n",
       " (\"i'm\", 1582),\n",
       " ('just', 1565),\n",
       " ('but', 1538),\n",
       " ('with', 1481),\n",
       " ('not', 1295),\n",
       " ('was', 1253),\n",
       " ('this', 1098),\n",
       " ('get', 993),\n",
       " ('good', 977),\n",
       " ('are', 949),\n",
       " ('like', 897),\n",
       " ('out', 895),\n",
       " ('all', 879),\n",
       " ('going', 822)]"
      ]
     },
     "execution_count": 61,
     "metadata": {},
     "output_type": "execute_result"
    }
   ],
   "execution_count": 61
  },
  {
   "metadata": {
    "ExecuteTime": {
     "end_time": "2025-03-24T13:20:19.594719Z",
     "start_time": "2025-03-24T13:20:19.508137Z"
    }
   },
   "cell_type": "code",
   "source": [
    "%matplotlib inline\n",
    "sns.countplot(x=data['polarity'])"
   ],
   "outputs": [
    {
     "data": {
      "text/plain": [
       "<Axes: xlabel='polarity', ylabel='count'>"
      ]
     },
     "execution_count": 62,
     "metadata": {},
     "output_type": "execute_result"
    },
    {
     "data": {
      "text/plain": [
       "<Figure size 640x480 with 1 Axes>"
      ],
      "image/png": "[encoded data removed]"
     },
     "metadata": {},
     "output_type": "display_data"
    }
   ],
   "execution_count": 62
  },
  {
   "metadata": {},
   "cell_type": "markdown",
   "source": [
    "# Data Processing\n",
    "## The Preprocessing steps taken are:\n",
    "1. Lower Casing: Each text is converted to lowercase.\n",
    "2. Removing URLs: Links starting with \"http\" or \"https\" or \"www\" are replaced by \"\".\n",
    "\n",
    "3. Removing Usernames: Replace @Usernames with word \"\". (eg: \"@XYZ\" to \"\")\n",
    "\n",
    "4. Removing Short Words: Words with length less than 2 are removed.\n",
    "5. Removing Stopwords: Stopwords are the English words which does not add much meaning to a sentence. They can safely be ignored without sacrificing the meaning of the sentence. (eg: \"the\", \"he\", \"have\")\n",
    "6. Lemmatizing: Lemmatization is the process of converting a word to its base form. (e.g: “wolves” to “wolf”)"
   ]
  },
  {
   "metadata": {
    "ExecuteTime": {
     "end_time": "2025-03-24T13:20:19.608571Z",
     "start_time": "2025-03-24T13:20:19.605626Z"
    }
   },
   "cell_type": "code",
   "source": [
    "# Removing the unnecessary columns.\n",
    "data.drop(['date','query','user','word count'], axis=1, inplace=True)"
   ],
   "outputs": [],
   "execution_count": 63
  },
  {
   "metadata": {
    "ExecuteTime": {
     "end_time": "2025-03-24T13:20:19.623789Z",
     "start_time": "2025-03-24T13:20:19.618205Z"
    }
   },
   "cell_type": "code",
   "source": [
    "data.drop('id', axis=1, inplace=True)\n",
    "data.head(10)"
   ],
   "outputs": [
    {
     "data": {
      "text/plain": [
       "         polarity                                               text\n",
       "1586564         1  ...went to New Emperor as it was still open  V...\n",
       "1593258         1  @lickmycupcakes Yay!!! It worked!! And thank y...\n",
       "250171          0    @Mister_82 don't b hatin on my Mira Mira music \n",
       "774617          0  Where were u when #BPD broke 1,000 users onlin...\n",
       "219640          0  I really just want to be out of Dothan...more ...\n",
       "364854          0  Fml got suckered into working til 930 and I'm ...\n",
       "1081037         1  @aalmishal ???? ?? ?????  ????? ????? ?????? ?...\n",
       "352747          0  Today I could go get my new phone, probably wo...\n",
       "804759          1  @SexySubKaylee heh heh dirty is always good gu...\n",
       "903760          1  No school today - Not because of &quot;H1N1&qu..."
      ],
      "text/html": [
       "<div>\n",
       "<style scoped>\n",
       "    .dataframe tbody tr th:only-of-type {\n",
       "        vertical-align: middle;\n",
       "    }\n",
       "\n",
       "    .dataframe tbody tr th {\n",
       "        vertical-align: top;\n",
       "    }\n",
       "\n",
       "    .dataframe thead th {\n",
       "        text-align: right;\n",
       "    }\n",
       "</style>\n",
       "<table border=\"1\" class=\"dataframe\">\n",
       "  <thead>\n",
       "    <tr style=\"text-align: right;\">\n",
       "      <th></th>\n",
       "      <th>polarity</th>\n",
       "      <th>text</th>\n",
       "    </tr>\n",
       "  </thead>\n",
       "  <tbody>\n",
       "    <tr>\n",
       "      <th>1586564</th>\n",
       "      <td>1</td>\n",
       "      <td>...went to New Emperor as it was still open  V...</td>\n",
       "    </tr>\n",
       "    <tr>\n",
       "      <th>1593258</th>\n",
       "      <td>1</td>\n",
       "      <td>@lickmycupcakes Yay!!! It worked!! And thank y...</td>\n",
       "    </tr>\n",
       "    <tr>\n",
       "      <th>250171</th>\n",
       "      <td>0</td>\n",
       "      <td>@Mister_82 don't b hatin on my Mira Mira music</td>\n",
       "    </tr>\n",
       "    <tr>\n",
       "      <th>774617</th>\n",
       "      <td>0</td>\n",
       "      <td>Where were u when #BPD broke 1,000 users onlin...</td>\n",
       "    </tr>\n",
       "    <tr>\n",
       "      <th>219640</th>\n",
       "      <td>0</td>\n",
       "      <td>I really just want to be out of Dothan...more ...</td>\n",
       "    </tr>\n",
       "    <tr>\n",
       "      <th>364854</th>\n",
       "      <td>0</td>\n",
       "      <td>Fml got suckered into working til 930 and I'm ...</td>\n",
       "    </tr>\n",
       "    <tr>\n",
       "      <th>1081037</th>\n",
       "      <td>1</td>\n",
       "      <td>@aalmishal ???? ?? ?????  ????? ????? ?????? ?...</td>\n",
       "    </tr>\n",
       "    <tr>\n",
       "      <th>352747</th>\n",
       "      <td>0</td>\n",
       "      <td>Today I could go get my new phone, probably wo...</td>\n",
       "    </tr>\n",
       "    <tr>\n",
       "      <th>804759</th>\n",
       "      <td>1</td>\n",
       "      <td>@SexySubKaylee heh heh dirty is always good gu...</td>\n",
       "    </tr>\n",
       "    <tr>\n",
       "      <th>903760</th>\n",
       "      <td>1</td>\n",
       "      <td>No school today - Not because of &amp;quot;H1N1&amp;qu...</td>\n",
       "    </tr>\n",
       "  </tbody>\n",
       "</table>\n",
       "</div>"
      ]
     },
     "execution_count": 64,
     "metadata": {},
     "output_type": "execute_result"
    }
   ],
   "execution_count": 64
  },
  {
   "metadata": {
    "ExecuteTime": {
     "end_time": "2025-03-24T13:20:19.669876Z",
     "start_time": "2025-03-24T13:20:19.663060Z"
    }
   },
   "cell_type": "code",
   "source": [
    "#Checking if any null values present\n",
    "(data.isnull().sum() / len(data))*100"
   ],
   "outputs": [
    {
     "data": {
      "text/plain": [
       "polarity    0.0\n",
       "text        0.0\n",
       "dtype: float64"
      ]
     },
     "execution_count": 65,
     "metadata": {},
     "output_type": "execute_result"
    }
   ],
   "execution_count": 65
  },
  {
   "metadata": {
    "ExecuteTime": {
     "end_time": "2025-03-24T13:20:19.732391Z",
     "start_time": "2025-03-24T13:20:19.728067Z"
    }
   },
   "cell_type": "code",
   "source": [
    "#convrting pandas object to a string type\n",
    "data['text'] = data['text'].astype('str')"
   ],
   "outputs": [],
   "execution_count": 66
  },
  {
   "metadata": {
    "ExecuteTime": {
     "end_time": "2025-03-24T13:20:19.769869Z",
     "start_time": "2025-03-24T13:20:19.765689Z"
    }
   },
   "cell_type": "code",
   "source": [
    "nltk.download('stopwords')\n",
    "stopword = set(stopwords.words('english'))\n",
    "print(stopword)"
   ],
   "outputs": [
    {
     "name": "stdout",
     "output_type": "stream",
     "text": [
      "{'a', 'being', \"she'll\", 'doing', 'in', 'she', 'under', \"she's\", 'o', 'then', 'i', 'some', \"he'd\", 'it', 'such', \"we've\", \"i've\", 'these', 'yours', 'hadn', 'he', 'because', 'having', 'those', \"mightn't\", \"that'll\", 'most', \"mustn't\", 've', 'has', 'weren', 'an', 'by', 'didn', \"it'd\", 'yourselves', \"he's\", 'during', 'each', 'doesn', 'at', 'haven', 'be', \"needn't\", 'themselves', 'll', \"i'm\", 'don', 'needn', 'very', 'did', \"shan't\", 'am', 'before', 'ma', 'aren', 'below', \"they'll\", \"he'll\", \"we'd\", 'itself', 'over', 'shan', 're', 'but', 'the', \"should've\", 'above', 'can', 'had', \"hadn't\", 'hasn', 'do', 'theirs', 'nor', \"we're\", \"you've\", 'into', 'her', 'here', 'we', 'just', 'when', \"doesn't\", 'or', 'their', 'were', 'own', 'ain', 'ourselves', 'myself', \"aren't\", \"she'd\", 'where', 'after', 'is', 'so', 'mustn', 'not', \"isn't\", 'from', 'hers', 'few', 'and', \"we'll\", 'wasn', \"couldn't\", 'my', \"i'd\", 'which', 'any', 'through', 'than', \"it'll\", 'does', 'other', 'why', \"you'll\", 'herself', 'what', 'whom', 'again', 'y', 'm', 'who', \"they've\", \"it's\", 'down', 'on', \"you'd\", 'will', 'no', \"they're\", 'if', 'should', 'was', 's', 'once', 'about', 'you', 'all', 'too', 'there', 'them', 'both', 'now', \"wouldn't\", 'for', 'out', 'of', 'shouldn', 'isn', 'they', \"they'd\", 'against', \"weren't\", \"didn't\", 'our', \"hasn't\", 'won', 'are', \"i'll\", 'yourself', 'that', \"you're\", 'same', 'him', 'with', 'himself', 'couldn', 'd', 'further', \"don't\", 'between', \"shouldn't\", 'have', 'mightn', 'off', 'this', 'until', 'to', 't', 'how', 'as', 'wouldn', \"wasn't\", 'me', 'up', 'only', 'more', 'its', 'while', \"won't\", 'his', 'ours', 'your', 'been', \"haven't\"}\n"
     ]
    },
    {
     "name": "stderr",
     "output_type": "stream",
     "text": [
      "[nltk_data] Downloading package stopwords to\n",
      "[nltk_data]     /Users/zhaijingjing/nltk_data...\n",
      "[nltk_data]   Package stopwords is already up-to-date!\n"
     ]
    }
   ],
   "execution_count": 67
  },
  {
   "metadata": {
    "ExecuteTime": {
     "end_time": "2025-03-24T13:20:19.802710Z",
     "start_time": "2025-03-24T13:20:19.797202Z"
    }
   },
   "cell_type": "code",
   "source": [
    "nltk.download('punkt')\n",
    "nltk.download('wordnet')\n",
    "nltk.download('punkt_tab')"
   ],
   "outputs": [
    {
     "name": "stderr",
     "output_type": "stream",
     "text": [
      "[nltk_data] Downloading package punkt to\n",
      "[nltk_data]     /Users/zhaijingjing/nltk_data...\n",
      "[nltk_data]   Package punkt is already up-to-date!\n",
      "[nltk_data] Downloading package wordnet to\n",
      "[nltk_data]     /Users/zhaijingjing/nltk_data...\n",
      "[nltk_data]   Package wordnet is already up-to-date!\n",
      "[nltk_data] Downloading package punkt_tab to\n",
      "[nltk_data]     /Users/zhaijingjing/nltk_data...\n",
      "[nltk_data]   Package punkt_tab is already up-to-date!\n"
     ]
    },
    {
     "data": {
      "text/plain": [
       "True"
      ]
     },
     "execution_count": 68,
     "metadata": {},
     "output_type": "execute_result"
    }
   ],
   "execution_count": 68
  },
  {
   "metadata": {
    "ExecuteTime": {
     "end_time": "2025-03-24T13:20:19.835978Z",
     "start_time": "2025-03-24T13:20:19.826724Z"
    }
   },
   "cell_type": "code",
   "source": [
    "urlPattern = r\"((http://)[^ ]*|(https://)[^ ]*|( www\\.)[^ ]*)\"\n",
    "userPattern = '@[^\\s]+'\n",
    "def process_tweets_negation_handling_fix(tweet):\n",
    "    # Lower Casing\n",
    "    tweet = tweet.lower()\n",
    "    #tweet=tweet[1:]\n",
    "    # Removing all URls\n",
    "    tweet = re.sub(urlPattern,'',tweet)\n",
    "    # Removing all @username.\n",
    "    tweet = re.sub(userPattern,'', tweet)\n",
    "    # 移除非字母数字、空格和'的字符\n",
    "    tweet = re.sub(r\"[^\\w\\s']\", '', tweet)\n",
    "    # --- 特殊否定缩写处理 ---\n",
    "    # 1. 明确处理 can't → cannot\n",
    "    tweet = re.sub(r\"\\bcan't\\b\", \"cannot\", tweet)\n",
    "    # 2. 处理 won't → will not\n",
    "    tweet = re.sub(r\"\\bwon't\\b\", \"will not\", tweet)\n",
    "    # 3. 处理 shan't → shall not\n",
    "    tweet = re.sub(r\"\\bshan't\\b\", \"shall not\", tweet)\n",
    "    # 4. 处理 ain't → is not\n",
    "    tweet = re.sub(r\"\\bain't\\b\", \"is not\", tweet)\n",
    "    # --- 通用n't处理 ---\n",
    "    # 将剩余n't替换为 not（如didn't → did not）\n",
    "    tweet = re.sub(r\"n't\\b\", \" not\", tweet)\n",
    "    # --- 处理其他撇号为空格（如I'll → I ll）---\n",
    "    tweet = re.sub(r\"'\", ' ', tweet)\n",
    "\n",
    "    #tokenizing words\n",
    "    tokens = word_tokenize(tweet)\n",
    "    # Remove punctuations but remain ‘n't’\n",
    "    final_tokens = tokens\n",
    "    #reducing a word to its word stem\n",
    "    wordLemm = WordNetLemmatizer()\n",
    "    finalwords=[]\n",
    "\n",
    "    for w in tokens:\n",
    "        if len(w) > 1:\n",
    "            # 动词词性还原（解决 does→doe 问题）\n",
    "            word = wordLemm.lemmatize(w, pos='v')\n",
    "            # 名词词性还原（根据任务需求）\n",
    "            word = wordLemm.lemmatize(word, pos='n')\n",
    "            finalwords.append(word)\n",
    "    return ' '.join(finalwords)\n",
    "\n",
    "def process_tweets_negation_stopword_handling_fix(tweet):\n",
    "    # Lower Casing\n",
    "    tweet = tweet.lower()\n",
    "    #tweet=tweet[1:]\n",
    "    # Removing all URls\n",
    "    tweet = re.sub(urlPattern,'',tweet)\n",
    "    # Removing all @username.\n",
    "    tweet = re.sub(userPattern,'', tweet)\n",
    "    # 移除非字母数字、空格和'的字符\n",
    "    tweet = re.sub(r\"[^\\w\\s']\", '', tweet)\n",
    "    # --- 特殊否定缩写处理 ---\n",
    "    # 1. 明确处理 can't → cannot\n",
    "    tweet = re.sub(r\"\\bcan't\\b\", \"cannot\", tweet)\n",
    "    # 2. 处理 won't → will not\n",
    "    tweet = re.sub(r\"\\bwon't\\b\", \"will not\", tweet)\n",
    "    # 3. 处理 shan't → shall not\n",
    "    tweet = re.sub(r\"\\bshan't\\b\", \"shall not\", tweet)\n",
    "    # 4. 处理 ain't → is not\n",
    "    tweet = re.sub(r\"\\bain't\\b\", \"is not\", tweet)\n",
    "    # --- 通用n't处理 ---\n",
    "    # 将剩余n't替换为 not（如didn't → did not）\n",
    "    tweet = re.sub(r\"n't\\b\", \" not\", tweet)\n",
    "    # --- 处理其他撇号为空格（如I'll → I ll）---\n",
    "    tweet = re.sub(r\"'\", ' ', tweet)\n",
    "    #tokenizing words\n",
    "    tokens = word_tokenize(tweet)\n",
    "\n",
    "    # 移除非否定停用词\n",
    "    negation_words = {\n",
    "        # 基础否定词\n",
    "        \"not\", \"no\", \"never\", \"nor\", \"none\", \"nobody\", \"nothing\",\n",
    "        \"neither\", \"nowhere\", \"without\", \"cannot\"\n",
    "        # 预处理后可能保留的否定词（如来自特殊缩写替换）\n",
    "        # ,\"isn\", \"aren\", \"wasn\", \"weren\"\n",
    "    }\n",
    "    custom_stop_words = stopword.difference(negation_words)\n",
    "    final_tokens = [w for w in tokens if w not in custom_stop_words]\n",
    "\n",
    "    #reducing a word to its word stem\n",
    "    wordLemm = WordNetLemmatizer()\n",
    "    finalwords=[]\n",
    "\n",
    "    for w in final_tokens:\n",
    "        if len(w) > 1:\n",
    "            # 动词词性还原（解决 does→doe 问题）\n",
    "            word = wordLemm.lemmatize(w, pos='v')\n",
    "            # 名词词性还原（根据任务需求）\n",
    "            word = wordLemm.lemmatize(word, pos='n')\n",
    "            finalwords.append(word)\n",
    "    return ' '.join(finalwords)"
   ],
   "outputs": [],
   "execution_count": 69
  },
  {
   "metadata": {
    "ExecuteTime": {
     "end_time": "2025-03-24T13:20:22.570186Z",
     "start_time": "2025-03-24T13:20:19.858707Z"
    }
   },
   "cell_type": "code",
   "source": [
    "data['processed_tweets'] = data['text'].apply(lambda x: process_tweets_negation_handling_fix(x))\n",
    "print('Text Preprocessing complete.')"
   ],
   "outputs": [
    {
     "name": "stdout",
     "output_type": "stream",
     "text": [
      "Text Preprocessing complete.\n"
     ]
    }
   ],
   "execution_count": 70
  },
  {
   "metadata": {
    "ExecuteTime": {
     "end_time": "2025-03-24T13:20:22.581794Z",
     "start_time": "2025-03-24T13:20:22.576416Z"
    }
   },
   "cell_type": "code",
   "source": "data.head(10)",
   "outputs": [
    {
     "data": {
      "text/plain": [
       "         polarity                                               text  \\\n",
       "1586564         1  ...went to New Emperor as it was still open  V...   \n",
       "1593258         1  @lickmycupcakes Yay!!! It worked!! And thank y...   \n",
       "250171          0    @Mister_82 don't b hatin on my Mira Mira music    \n",
       "774617          0  Where were u when #BPD broke 1,000 users onlin...   \n",
       "219640          0  I really just want to be out of Dothan...more ...   \n",
       "364854          0  Fml got suckered into working til 930 and I'm ...   \n",
       "1081037         1  @aalmishal ???? ?? ?????  ????? ????? ?????? ?...   \n",
       "352747          0  Today I could go get my new phone, probably wo...   \n",
       "804759          1  @SexySubKaylee heh heh dirty is always good gu...   \n",
       "903760          1  No school today - Not because of &quot;H1N1&qu...   \n",
       "\n",
       "                                          processed_tweets  \n",
       "1586564  go to new emperor a it be still open very nice...  \n",
       "1593258                    yay it work and thank you blush  \n",
       "250171                  do not hatin on my mira mira music  \n",
       "774617   where be when bpd break 1000 user online 628pm...  \n",
       "219640   really just want to be out of dothanmore than ...  \n",
       "364854   fml get suckered into work til 930 and back in...  \n",
       "1081037                                                     \n",
       "352747   today could go get my new phone probably will ...  \n",
       "804759   heh heh dirty be always good gurl like how you...  \n",
       "903760   no school today not because of quoth1n1quot bu...  "
      ],
      "text/html": [
       "<div>\n",
       "<style scoped>\n",
       "    .dataframe tbody tr th:only-of-type {\n",
       "        vertical-align: middle;\n",
       "    }\n",
       "\n",
       "    .dataframe tbody tr th {\n",
       "        vertical-align: top;\n",
       "    }\n",
       "\n",
       "    .dataframe thead th {\n",
       "        text-align: right;\n",
       "    }\n",
       "</style>\n",
       "<table border=\"1\" class=\"dataframe\">\n",
       "  <thead>\n",
       "    <tr style=\"text-align: right;\">\n",
       "      <th></th>\n",
       "      <th>polarity</th>\n",
       "      <th>text</th>\n",
       "      <th>processed_tweets</th>\n",
       "    </tr>\n",
       "  </thead>\n",
       "  <tbody>\n",
       "    <tr>\n",
       "      <th>1586564</th>\n",
       "      <td>1</td>\n",
       "      <td>...went to New Emperor as it was still open  V...</td>\n",
       "      <td>go to new emperor a it be still open very nice...</td>\n",
       "    </tr>\n",
       "    <tr>\n",
       "      <th>1593258</th>\n",
       "      <td>1</td>\n",
       "      <td>@lickmycupcakes Yay!!! It worked!! And thank y...</td>\n",
       "      <td>yay it work and thank you blush</td>\n",
       "    </tr>\n",
       "    <tr>\n",
       "      <th>250171</th>\n",
       "      <td>0</td>\n",
       "      <td>@Mister_82 don't b hatin on my Mira Mira music</td>\n",
       "      <td>do not hatin on my mira mira music</td>\n",
       "    </tr>\n",
       "    <tr>\n",
       "      <th>774617</th>\n",
       "      <td>0</td>\n",
       "      <td>Where were u when #BPD broke 1,000 users onlin...</td>\n",
       "      <td>where be when bpd break 1000 user online 628pm...</td>\n",
       "    </tr>\n",
       "    <tr>\n",
       "      <th>219640</th>\n",
       "      <td>0</td>\n",
       "      <td>I really just want to be out of Dothan...more ...</td>\n",
       "      <td>really just want to be out of dothanmore than ...</td>\n",
       "    </tr>\n",
       "    <tr>\n",
       "      <th>364854</th>\n",
       "      <td>0</td>\n",
       "      <td>Fml got suckered into working til 930 and I'm ...</td>\n",
       "      <td>fml get suckered into work til 930 and back in...</td>\n",
       "    </tr>\n",
       "    <tr>\n",
       "      <th>1081037</th>\n",
       "      <td>1</td>\n",
       "      <td>@aalmishal ???? ?? ?????  ????? ????? ?????? ?...</td>\n",
       "      <td></td>\n",
       "    </tr>\n",
       "    <tr>\n",
       "      <th>352747</th>\n",
       "      <td>0</td>\n",
       "      <td>Today I could go get my new phone, probably wo...</td>\n",
       "      <td>today could go get my new phone probably will ...</td>\n",
       "    </tr>\n",
       "    <tr>\n",
       "      <th>804759</th>\n",
       "      <td>1</td>\n",
       "      <td>@SexySubKaylee heh heh dirty is always good gu...</td>\n",
       "      <td>heh heh dirty be always good gurl like how you...</td>\n",
       "    </tr>\n",
       "    <tr>\n",
       "      <th>903760</th>\n",
       "      <td>1</td>\n",
       "      <td>No school today - Not because of &amp;quot;H1N1&amp;qu...</td>\n",
       "      <td>no school today not because of quoth1n1quot bu...</td>\n",
       "    </tr>\n",
       "  </tbody>\n",
       "</table>\n",
       "</div>"
      ]
     },
     "execution_count": 71,
     "metadata": {},
     "output_type": "execute_result"
    }
   ],
   "execution_count": 71
  },
  {
   "metadata": {},
   "cell_type": "markdown",
   "source": "# RNN - LSTM"
  },
  {
   "metadata": {
    "ExecuteTime": {
     "end_time": "2025-03-24T13:20:22.626063Z",
     "start_time": "2025-03-24T13:20:22.622475Z"
    }
   },
   "cell_type": "code",
   "source": [
    "from keras.models import Sequential\n",
    "from keras.layers import Dense, Embedding, LSTM, Dropout\n",
    "from sklearn.feature_extraction.text import CountVectorizer\n",
    "from tensorflow.keras.preprocessing.text import Tokenizer\n",
    "from tensorflow.keras.preprocessing.sequence import pad_sequences\n",
    "from tensorflow.keras.utils import to_categorical\n",
    "import re\n",
    "import keras\n",
    "from keras import regularizers\n",
    "from keras.models import Sequential\n",
    "from keras import layers\n",
    "from keras import regularizers\n",
    "from keras import backend as K\n",
    "from keras.callbacks import ModelCheckpoint\n",
    "from tensorflow.keras.optimizers import Adam\n",
    "from keras.layers import Dense, Embedding, LSTM, Dropout, BatchNormalization, LeakyReLU"
   ],
   "outputs": [],
   "execution_count": 72
  },
  {
   "metadata": {},
   "cell_type": "markdown",
   "source": "## Hyperparameters"
  },
  {
   "metadata": {
    "ExecuteTime": {
     "end_time": "2025-03-24T13:20:22.664775Z",
     "start_time": "2025-03-24T13:20:22.660438Z"
    }
   },
   "cell_type": "code",
   "source": [
    "num_epochs = 10\n",
    "max_len = 200\n",
    "hidden_units = 16\n",
    "LSTM_layers = 1\n",
    "LSTM_units = 32\n",
    "learning_rate = 0.001\n",
    "dropout = 0.0\n",
    "\n",
    "results = {}\n",
    "params_history = {}\n",
    "max_words = [2000, 5000, 8000, 10000]  # 词汇量max_words\n",
    "embedding_dims = [64, 128, 256, 512]  # Embedding 维度embedding_dim"
   ],
   "outputs": [],
   "execution_count": 73
  },
  {
   "metadata": {},
   "cell_type": "markdown",
   "source": "## Creating and Traning LSTM Model"
  },
  {
   "metadata": {
    "ExecuteTime": {
     "end_time": "2025-03-24T13:20:22.693102Z",
     "start_time": "2025-03-24T13:20:22.689354Z"
    }
   },
   "cell_type": "code",
   "source": [
    "def create_lstm_model(max_word, embedding_dim):\n",
    "    model = Sequential()\n",
    "    model.add(layers.Embedding(max_word, embedding_dim))\n",
    "    for i in range(LSTM_layers):\n",
    "        return_sequences = i < LSTM_layers - 1  # 只有在不是最后一层时才返回序列\n",
    "        model.add(layers.LSTM(LSTM_units, dropout=dropout, return_sequences=return_sequences))\n",
    "    model.add(layers.Dense(hidden_units, activation='relu'))\n",
    "    model.add(layers.Dense(hidden_units, activation='relu'))\n",
    "    model.add(layers.Dense(1, activation='sigmoid'))\n",
    "    optimizer = Adam(learning_rate=learning_rate)\n",
    "    model.compile(optimizer=optimizer, loss='binary_crossentropy', metrics=['accuracy'])\n",
    "    return model"
   ],
   "outputs": [],
   "execution_count": 74
  },
  {
   "metadata": {
    "ExecuteTime": {
     "end_time": "2025-03-24T17:54:34.505416Z",
     "start_time": "2025-03-24T13:20:22.721442Z"
    }
   },
   "cell_type": "code",
   "source": [
    "models = {}\n",
    "for max_word in max_words:\n",
    "    for embedding_dim in embedding_dims:\n",
    "        print(f\"Training model with max_word={max_word}, embedding_dim={embedding_dim}...\")\n",
    "\n",
    "        # 重新创建 Tokenizer，确保只保留 max_word 个最常见单词\n",
    "        tokenizer = Tokenizer(num_words=max_word)\n",
    "        tokenizer.fit_on_texts(data.processed_tweets)\n",
    "        sequences = tokenizer.texts_to_sequences(data.processed_tweets)\n",
    "        tweets = pad_sequences(sequences, maxlen=max_len)\n",
    "\n",
    "        # 划分数据集\n",
    "        train_data, test_data, train_label, test_label = train_test_split(tweets, data.polarity.values, test_size=0.2, random_state=101)\n",
    "\n",
    "        model = create_lstm_model(max_word, embedding_dim)\n",
    "\n",
    "        history = model.fit(\n",
    "            train_data, train_label,\n",
    "            epochs=num_epochs,\n",
    "            validation_data=(test_data, test_label),\n",
    "            verbose=2\n",
    "        )\n",
    "\n",
    "        results[(max_word, embedding_dim)] = {\n",
    "            'train_acc': np.mean(history.history['accuracy'][-1:]),\n",
    "            'test_acc': np.mean(history.history['val_accuracy'][-1:])\n",
    "        }\n",
    "\n",
    "        params_history[(max_word, embedding_dim)] = model.count_params()\n",
    "        models[(max_word, embedding_dim)] = model"
   ],
   "outputs": [
    {
     "name": "stdout",
     "output_type": "stream",
     "text": [
      "Training model with max_word=2000, embedding_dim=64...\n",
      "Epoch 1/10\n",
      "500/500 - 19s - 37ms/step - accuracy: 0.6950 - loss: 0.5708 - val_accuracy: 0.7475 - val_loss: 0.5114\n",
      "Epoch 2/10\n",
      "500/500 - 16s - 33ms/step - accuracy: 0.7832 - loss: 0.4641 - val_accuracy: 0.7495 - val_loss: 0.5130\n",
      "Epoch 3/10\n",
      "500/500 - 17s - 33ms/step - accuracy: 0.8028 - loss: 0.4272 - val_accuracy: 0.7495 - val_loss: 0.5242\n",
      "Epoch 4/10\n",
      "500/500 - 16s - 33ms/step - accuracy: 0.8206 - loss: 0.3887 - val_accuracy: 0.7495 - val_loss: 0.5602\n",
      "Epoch 5/10\n",
      "500/500 - 17s - 33ms/step - accuracy: 0.8368 - loss: 0.3506 - val_accuracy: 0.7455 - val_loss: 0.5854\n",
      "Epoch 6/10\n",
      "500/500 - 16s - 33ms/step - accuracy: 0.8517 - loss: 0.3165 - val_accuracy: 0.7290 - val_loss: 0.6422\n",
      "Epoch 7/10\n",
      "500/500 - 16s - 33ms/step - accuracy: 0.8640 - loss: 0.2883 - val_accuracy: 0.7265 - val_loss: 0.7589\n",
      "Epoch 8/10\n",
      "500/500 - 17s - 33ms/step - accuracy: 0.8738 - loss: 0.2624 - val_accuracy: 0.7253 - val_loss: 0.8472\n",
      "Epoch 9/10\n",
      "500/500 - 17s - 34ms/step - accuracy: 0.8828 - loss: 0.2417 - val_accuracy: 0.7275 - val_loss: 1.0136\n",
      "Epoch 10/10\n",
      "500/500 - 17s - 33ms/step - accuracy: 0.8891 - loss: 0.2278 - val_accuracy: 0.7232 - val_loss: 0.9949\n",
      "Training model with max_word=2000, embedding_dim=128...\n",
      "Epoch 1/10\n",
      "500/500 - 70s - 141ms/step - accuracy: 0.7082 - loss: 0.5586 - val_accuracy: 0.7492 - val_loss: 0.5071\n",
      "Epoch 2/10\n",
      "500/500 - 20s - 40ms/step - accuracy: 0.7864 - loss: 0.4563 - val_accuracy: 0.7465 - val_loss: 0.5060\n",
      "Epoch 3/10\n",
      "500/500 - 20s - 40ms/step - accuracy: 0.8133 - loss: 0.4060 - val_accuracy: 0.7527 - val_loss: 0.5263\n",
      "Epoch 4/10\n",
      "500/500 - 21s - 42ms/step - accuracy: 0.8346 - loss: 0.3602 - val_accuracy: 0.7387 - val_loss: 0.5540\n",
      "Epoch 5/10\n",
      "500/500 - 21s - 42ms/step - accuracy: 0.8561 - loss: 0.3182 - val_accuracy: 0.7410 - val_loss: 0.6428\n",
      "Epoch 6/10\n",
      "500/500 - 21s - 43ms/step - accuracy: 0.8753 - loss: 0.2806 - val_accuracy: 0.7253 - val_loss: 0.7023\n",
      "Epoch 7/10\n",
      "500/500 - 21s - 42ms/step - accuracy: 0.8932 - loss: 0.2443 - val_accuracy: 0.7312 - val_loss: 0.8422\n",
      "Epoch 8/10\n",
      "500/500 - 22s - 43ms/step - accuracy: 0.9064 - loss: 0.2137 - val_accuracy: 0.7195 - val_loss: 0.9249\n",
      "Epoch 9/10\n",
      "500/500 - 21s - 42ms/step - accuracy: 0.9193 - loss: 0.1889 - val_accuracy: 0.7120 - val_loss: 1.0100\n",
      "Epoch 10/10\n",
      "500/500 - 21s - 42ms/step - accuracy: 0.9329 - loss: 0.1590 - val_accuracy: 0.7113 - val_loss: 1.0986\n",
      "Training model with max_word=2000, embedding_dim=256...\n",
      "Epoch 1/10\n",
      "500/500 - 31s - 62ms/step - accuracy: 0.7048 - loss: 0.5602 - val_accuracy: 0.7550 - val_loss: 0.5029\n",
      "Epoch 2/10\n",
      "500/500 - 29s - 58ms/step - accuracy: 0.7899 - loss: 0.4482 - val_accuracy: 0.7533 - val_loss: 0.5190\n",
      "Epoch 3/10\n",
      "500/500 - 29s - 58ms/step - accuracy: 0.8204 - loss: 0.3910 - val_accuracy: 0.7492 - val_loss: 0.5204\n",
      "Epoch 4/10\n",
      "500/500 - 29s - 57ms/step - accuracy: 0.8431 - loss: 0.3429 - val_accuracy: 0.7402 - val_loss: 0.5775\n",
      "Epoch 5/10\n",
      "500/500 - 29s - 57ms/step - accuracy: 0.8664 - loss: 0.3003 - val_accuracy: 0.7398 - val_loss: 0.6368\n",
      "Epoch 6/10\n",
      "500/500 - 29s - 58ms/step - accuracy: 0.8868 - loss: 0.2585 - val_accuracy: 0.7260 - val_loss: 0.7706\n",
      "Epoch 7/10\n",
      "500/500 - 28s - 57ms/step - accuracy: 0.9023 - loss: 0.2183 - val_accuracy: 0.7235 - val_loss: 0.8827\n",
      "Epoch 8/10\n",
      "500/500 - 28s - 57ms/step - accuracy: 0.9194 - loss: 0.1856 - val_accuracy: 0.7185 - val_loss: 1.0081\n",
      "Epoch 9/10\n",
      "500/500 - 28s - 56ms/step - accuracy: 0.9342 - loss: 0.1544 - val_accuracy: 0.7228 - val_loss: 1.0270\n",
      "Epoch 10/10\n",
      "500/500 - 28s - 57ms/step - accuracy: 0.9475 - loss: 0.1283 - val_accuracy: 0.7140 - val_loss: 1.1626\n",
      "Training model with max_word=2000, embedding_dim=512...\n",
      "Epoch 1/10\n",
      "500/500 - 52s - 103ms/step - accuracy: 0.7171 - loss: 0.5494 - val_accuracy: 0.7538 - val_loss: 0.4945\n",
      "Epoch 2/10\n",
      "500/500 - 49s - 98ms/step - accuracy: 0.7933 - loss: 0.4437 - val_accuracy: 0.7517 - val_loss: 0.5019\n",
      "Epoch 3/10\n",
      "500/500 - 49s - 99ms/step - accuracy: 0.8199 - loss: 0.3893 - val_accuracy: 0.7527 - val_loss: 0.5252\n",
      "Epoch 4/10\n",
      "500/500 - 51s - 102ms/step - accuracy: 0.8425 - loss: 0.3417 - val_accuracy: 0.7442 - val_loss: 0.5721\n",
      "Epoch 5/10\n",
      "500/500 - 51s - 101ms/step - accuracy: 0.8658 - loss: 0.2951 - val_accuracy: 0.7283 - val_loss: 0.6395\n",
      "Epoch 6/10\n",
      "500/500 - 50s - 100ms/step - accuracy: 0.8894 - loss: 0.2485 - val_accuracy: 0.7265 - val_loss: 0.7324\n",
      "Epoch 7/10\n",
      "500/500 - 50s - 99ms/step - accuracy: 0.9097 - loss: 0.2075 - val_accuracy: 0.7253 - val_loss: 0.8336\n",
      "Epoch 8/10\n",
      "500/500 - 50s - 100ms/step - accuracy: 0.9257 - loss: 0.1716 - val_accuracy: 0.7237 - val_loss: 0.9850\n",
      "Epoch 9/10\n",
      "500/500 - 49s - 97ms/step - accuracy: 0.9449 - loss: 0.1345 - val_accuracy: 0.7275 - val_loss: 1.1316\n",
      "Epoch 10/10\n",
      "500/500 - 84s - 168ms/step - accuracy: 0.9563 - loss: 0.1063 - val_accuracy: 0.7203 - val_loss: 1.3022\n",
      "Training model with max_word=5000, embedding_dim=64...\n",
      "Epoch 1/10\n",
      "500/500 - 978s - 2s/step - accuracy: 0.7088 - loss: 0.5598 - val_accuracy: 0.7525 - val_loss: 0.5045\n",
      "Epoch 2/10\n",
      "500/500 - 17s - 35ms/step - accuracy: 0.7991 - loss: 0.4376 - val_accuracy: 0.7455 - val_loss: 0.5313\n",
      "Epoch 3/10\n",
      "500/500 - 17s - 34ms/step - accuracy: 0.8331 - loss: 0.3777 - val_accuracy: 0.7473 - val_loss: 0.5491\n",
      "Epoch 4/10\n",
      "500/500 - 17s - 33ms/step - accuracy: 0.8631 - loss: 0.3150 - val_accuracy: 0.7327 - val_loss: 0.6294\n",
      "Epoch 5/10\n",
      "500/500 - 16s - 33ms/step - accuracy: 0.8867 - loss: 0.2591 - val_accuracy: 0.7347 - val_loss: 0.7604\n",
      "Epoch 6/10\n",
      "500/500 - 16s - 33ms/step - accuracy: 0.9070 - loss: 0.2124 - val_accuracy: 0.7305 - val_loss: 0.9459\n",
      "Epoch 7/10\n",
      "500/500 - 16s - 33ms/step - accuracy: 0.9211 - loss: 0.1811 - val_accuracy: 0.7255 - val_loss: 0.9785\n",
      "Epoch 8/10\n",
      "500/500 - 16s - 32ms/step - accuracy: 0.9375 - loss: 0.1527 - val_accuracy: 0.7185 - val_loss: 1.0970\n",
      "Epoch 9/10\n",
      "500/500 - 16s - 32ms/step - accuracy: 0.9489 - loss: 0.1244 - val_accuracy: 0.7105 - val_loss: 1.3081\n",
      "Epoch 10/10\n",
      "500/500 - 16s - 33ms/step - accuracy: 0.9554 - loss: 0.1098 - val_accuracy: 0.7182 - val_loss: 1.4817\n",
      "Training model with max_word=5000, embedding_dim=128...\n",
      "Epoch 1/10\n",
      "500/500 - 125s - 251ms/step - accuracy: 0.7105 - loss: 0.5601 - val_accuracy: 0.7492 - val_loss: 0.5047\n",
      "Epoch 2/10\n",
      "500/500 - 22s - 43ms/step - accuracy: 0.8084 - loss: 0.4294 - val_accuracy: 0.7498 - val_loss: 0.5068\n",
      "Epoch 3/10\n",
      "500/500 - 22s - 43ms/step - accuracy: 0.8478 - loss: 0.3525 - val_accuracy: 0.7495 - val_loss: 0.5590\n",
      "Epoch 4/10\n",
      "500/500 - 1021s - 2s/step - accuracy: 0.8764 - loss: 0.2801 - val_accuracy: 0.7325 - val_loss: 0.6599\n",
      "Epoch 5/10\n",
      "500/500 - 21s - 42ms/step - accuracy: 0.8999 - loss: 0.2278 - val_accuracy: 0.7250 - val_loss: 0.8051\n",
      "Epoch 6/10\n",
      "500/500 - 22s - 44ms/step - accuracy: 0.9163 - loss: 0.1921 - val_accuracy: 0.7178 - val_loss: 0.9531\n",
      "Epoch 7/10\n",
      "500/500 - 22s - 43ms/step - accuracy: 0.9316 - loss: 0.1586 - val_accuracy: 0.7232 - val_loss: 1.0185\n",
      "Epoch 8/10\n",
      "500/500 - 22s - 43ms/step - accuracy: 0.9468 - loss: 0.1299 - val_accuracy: 0.7143 - val_loss: 1.1745\n",
      "Epoch 9/10\n",
      "500/500 - 22s - 43ms/step - accuracy: 0.9581 - loss: 0.1066 - val_accuracy: 0.7107 - val_loss: 1.2403\n",
      "Epoch 10/10\n",
      "500/500 - 22s - 43ms/step - accuracy: 0.9623 - loss: 0.0943 - val_accuracy: 0.7105 - val_loss: 1.3692\n",
      "Training model with max_word=5000, embedding_dim=256...\n",
      "Epoch 1/10\n",
      "500/500 - 1075s - 2s/step - accuracy: 0.7116 - loss: 0.5566 - val_accuracy: 0.7538 - val_loss: 0.4991\n",
      "Epoch 2/10\n",
      "500/500 - 28s - 56ms/step - accuracy: 0.8109 - loss: 0.4159 - val_accuracy: 0.7525 - val_loss: 0.5231\n",
      "Epoch 3/10\n",
      "500/500 - 28s - 56ms/step - accuracy: 0.8547 - loss: 0.3313 - val_accuracy: 0.7420 - val_loss: 0.5786\n",
      "Epoch 4/10\n",
      "500/500 - 972s - 2s/step - accuracy: 0.8882 - loss: 0.2579 - val_accuracy: 0.7303 - val_loss: 0.6792\n",
      "Epoch 5/10\n",
      "500/500 - 28s - 56ms/step - accuracy: 0.9104 - loss: 0.2093 - val_accuracy: 0.7355 - val_loss: 0.9027\n",
      "Epoch 6/10\n",
      "500/500 - 28s - 56ms/step - accuracy: 0.9324 - loss: 0.1624 - val_accuracy: 0.7283 - val_loss: 1.0809\n",
      "Epoch 7/10\n",
      "500/500 - 28s - 56ms/step - accuracy: 0.9489 - loss: 0.1271 - val_accuracy: 0.7260 - val_loss: 1.1567\n",
      "Epoch 8/10\n",
      "500/500 - 28s - 57ms/step - accuracy: 0.9614 - loss: 0.0975 - val_accuracy: 0.7150 - val_loss: 1.2471\n",
      "Epoch 9/10\n",
      "500/500 - 956s - 2s/step - accuracy: 0.9686 - loss: 0.0784 - val_accuracy: 0.7097 - val_loss: 1.3578\n",
      "Epoch 10/10\n",
      "500/500 - 29s - 59ms/step - accuracy: 0.9737 - loss: 0.0653 - val_accuracy: 0.7110 - val_loss: 1.6020\n",
      "Training model with max_word=5000, embedding_dim=512...\n",
      "Epoch 1/10\n",
      "500/500 - 51s - 103ms/step - accuracy: 0.7151 - loss: 0.5497 - val_accuracy: 0.7545 - val_loss: 0.4998\n",
      "Epoch 2/10\n",
      "500/500 - 958s - 2s/step - accuracy: 0.8126 - loss: 0.4113 - val_accuracy: 0.7458 - val_loss: 0.5172\n",
      "Epoch 3/10\n",
      "500/500 - 87s - 174ms/step - accuracy: 0.8570 - loss: 0.3216 - val_accuracy: 0.7402 - val_loss: 0.6013\n",
      "Epoch 4/10\n",
      "500/500 - 49s - 99ms/step - accuracy: 0.8876 - loss: 0.2521 - val_accuracy: 0.7297 - val_loss: 0.6770\n",
      "Epoch 5/10\n",
      "500/500 - 50s - 101ms/step - accuracy: 0.9208 - loss: 0.1861 - val_accuracy: 0.7172 - val_loss: 0.8346\n",
      "Epoch 6/10\n",
      "500/500 - 963s - 2s/step - accuracy: 0.9429 - loss: 0.1377 - val_accuracy: 0.7113 - val_loss: 1.1069\n",
      "Epoch 7/10\n",
      "500/500 - 599s - 1s/step - accuracy: 0.9553 - loss: 0.1066 - val_accuracy: 0.7088 - val_loss: 1.2251\n",
      "Epoch 8/10\n",
      "500/500 - 1089s - 2s/step - accuracy: 0.9671 - loss: 0.0828 - val_accuracy: 0.7153 - val_loss: 1.3512\n",
      "Epoch 9/10\n",
      "500/500 - 570s - 1s/step - accuracy: 0.9709 - loss: 0.0687 - val_accuracy: 0.7153 - val_loss: 1.6240\n",
      "Epoch 10/10\n",
      "500/500 - 47s - 94ms/step - accuracy: 0.9766 - loss: 0.0603 - val_accuracy: 0.7075 - val_loss: 1.7276\n",
      "Training model with max_word=8000, embedding_dim=64...\n",
      "Epoch 1/10\n",
      "500/500 - 18s - 36ms/step - accuracy: 0.7078 - loss: 0.5603 - val_accuracy: 0.7505 - val_loss: 0.5028\n",
      "Epoch 2/10\n",
      "500/500 - 17s - 33ms/step - accuracy: 0.8119 - loss: 0.4186 - val_accuracy: 0.7475 - val_loss: 0.5238\n",
      "Epoch 3/10\n",
      "500/500 - 17s - 33ms/step - accuracy: 0.8521 - loss: 0.3357 - val_accuracy: 0.7390 - val_loss: 0.6031\n",
      "Epoch 4/10\n",
      "500/500 - 17s - 33ms/step - accuracy: 0.8874 - loss: 0.2595 - val_accuracy: 0.7370 - val_loss: 0.6955\n",
      "Epoch 5/10\n",
      "500/500 - 17s - 33ms/step - accuracy: 0.9128 - loss: 0.2019 - val_accuracy: 0.7352 - val_loss: 0.8624\n",
      "Epoch 6/10\n",
      "500/500 - 17s - 33ms/step - accuracy: 0.9287 - loss: 0.1622 - val_accuracy: 0.7253 - val_loss: 0.9977\n",
      "Epoch 7/10\n",
      "500/500 - 46s - 92ms/step - accuracy: 0.9408 - loss: 0.1364 - val_accuracy: 0.7232 - val_loss: 1.1164\n",
      "Epoch 8/10\n",
      "500/500 - 18s - 35ms/step - accuracy: 0.9504 - loss: 0.1171 - val_accuracy: 0.7157 - val_loss: 1.1986\n",
      "Epoch 9/10\n",
      "500/500 - 17s - 35ms/step - accuracy: 0.9578 - loss: 0.1025 - val_accuracy: 0.7218 - val_loss: 1.3396\n",
      "Epoch 10/10\n",
      "500/500 - 617s - 1s/step - accuracy: 0.9663 - loss: 0.0848 - val_accuracy: 0.7150 - val_loss: 1.4563\n",
      "Training model with max_word=8000, embedding_dim=128...\n",
      "Epoch 1/10\n",
      "500/500 - 23s - 47ms/step - accuracy: 0.7092 - loss: 0.5579 - val_accuracy: 0.7520 - val_loss: 0.5096\n",
      "Epoch 2/10\n",
      "500/500 - 21s - 42ms/step - accuracy: 0.8113 - loss: 0.4208 - val_accuracy: 0.7485 - val_loss: 0.5147\n",
      "Epoch 3/10\n",
      "500/500 - 21s - 42ms/step - accuracy: 0.8522 - loss: 0.3359 - val_accuracy: 0.7445 - val_loss: 0.5767\n",
      "Epoch 4/10\n",
      "500/500 - 21s - 42ms/step - accuracy: 0.8873 - loss: 0.2596 - val_accuracy: 0.7393 - val_loss: 0.6825\n",
      "Epoch 5/10\n",
      "500/500 - 21s - 42ms/step - accuracy: 0.9113 - loss: 0.2050 - val_accuracy: 0.7218 - val_loss: 0.8451\n",
      "Epoch 6/10\n",
      "500/500 - 21s - 42ms/step - accuracy: 0.9284 - loss: 0.1668 - val_accuracy: 0.7235 - val_loss: 0.9952\n",
      "Epoch 7/10\n",
      "500/500 - 21s - 42ms/step - accuracy: 0.9446 - loss: 0.1327 - val_accuracy: 0.7272 - val_loss: 1.1990\n",
      "Epoch 8/10\n",
      "500/500 - 22s - 43ms/step - accuracy: 0.9550 - loss: 0.1073 - val_accuracy: 0.7260 - val_loss: 1.2673\n",
      "Epoch 9/10\n",
      "500/500 - 21s - 43ms/step - accuracy: 0.9643 - loss: 0.0906 - val_accuracy: 0.7195 - val_loss: 1.4509\n",
      "Epoch 10/10\n",
      "500/500 - 21s - 43ms/step - accuracy: 0.9715 - loss: 0.0744 - val_accuracy: 0.7235 - val_loss: 1.5852\n",
      "Training model with max_word=8000, embedding_dim=256...\n",
      "Epoch 1/10\n",
      "500/500 - 32s - 64ms/step - accuracy: 0.7166 - loss: 0.5521 - val_accuracy: 0.7563 - val_loss: 0.5077\n",
      "Epoch 2/10\n",
      "500/500 - 30s - 59ms/step - accuracy: 0.8174 - loss: 0.4058 - val_accuracy: 0.7515 - val_loss: 0.5265\n",
      "Epoch 3/10\n",
      "500/500 - 30s - 59ms/step - accuracy: 0.8661 - loss: 0.3130 - val_accuracy: 0.7437 - val_loss: 0.6043\n",
      "Epoch 4/10\n",
      "500/500 - 30s - 59ms/step - accuracy: 0.9018 - loss: 0.2347 - val_accuracy: 0.7295 - val_loss: 0.6834\n",
      "Epoch 5/10\n",
      "500/500 - 29s - 59ms/step - accuracy: 0.9250 - loss: 0.1798 - val_accuracy: 0.7280 - val_loss: 0.8873\n",
      "Epoch 6/10\n",
      "500/500 - 30s - 59ms/step - accuracy: 0.9423 - loss: 0.1393 - val_accuracy: 0.7197 - val_loss: 1.0028\n",
      "Epoch 7/10\n",
      "500/500 - 30s - 59ms/step - accuracy: 0.9556 - loss: 0.1114 - val_accuracy: 0.7175 - val_loss: 1.1645\n",
      "Epoch 8/10\n",
      "500/500 - 30s - 60ms/step - accuracy: 0.9643 - loss: 0.0885 - val_accuracy: 0.7193 - val_loss: 1.2579\n",
      "Epoch 9/10\n",
      "500/500 - 29s - 59ms/step - accuracy: 0.9739 - loss: 0.0693 - val_accuracy: 0.7207 - val_loss: 1.5953\n",
      "Epoch 10/10\n",
      "500/500 - 29s - 59ms/step - accuracy: 0.9769 - loss: 0.0588 - val_accuracy: 0.7065 - val_loss: 1.6313\n",
      "Training model with max_word=8000, embedding_dim=512...\n",
      "Epoch 1/10\n",
      "500/500 - 49s - 97ms/step - accuracy: 0.7101 - loss: 0.5542 - val_accuracy: 0.7517 - val_loss: 0.5156\n",
      "Epoch 2/10\n",
      "500/500 - 48s - 95ms/step - accuracy: 0.8194 - loss: 0.3988 - val_accuracy: 0.7510 - val_loss: 0.5257\n",
      "Epoch 3/10\n",
      "500/500 - 47s - 95ms/step - accuracy: 0.8704 - loss: 0.2950 - val_accuracy: 0.7370 - val_loss: 0.6169\n",
      "Epoch 4/10\n",
      "500/500 - 47s - 93ms/step - accuracy: 0.9027 - loss: 0.2203 - val_accuracy: 0.7293 - val_loss: 0.7700\n",
      "Epoch 5/10\n",
      "500/500 - 46s - 92ms/step - accuracy: 0.9299 - loss: 0.1620 - val_accuracy: 0.7280 - val_loss: 0.9719\n",
      "Epoch 6/10\n",
      "500/500 - 49s - 99ms/step - accuracy: 0.9484 - loss: 0.1210 - val_accuracy: 0.7295 - val_loss: 1.2425\n",
      "Epoch 7/10\n",
      "500/500 - 46s - 92ms/step - accuracy: 0.9605 - loss: 0.0965 - val_accuracy: 0.7165 - val_loss: 1.2498\n",
      "Epoch 8/10\n",
      "500/500 - 49s - 98ms/step - accuracy: 0.9695 - loss: 0.0746 - val_accuracy: 0.7078 - val_loss: 1.4092\n",
      "Epoch 9/10\n",
      "500/500 - 47s - 94ms/step - accuracy: 0.9778 - loss: 0.0563 - val_accuracy: 0.7082 - val_loss: 1.6909\n",
      "Epoch 10/10\n",
      "500/500 - 46s - 93ms/step - accuracy: 0.9833 - loss: 0.0441 - val_accuracy: 0.7182 - val_loss: 1.8935\n",
      "Training model with max_word=10000, embedding_dim=64...\n",
      "Epoch 1/10\n",
      "500/500 - 18s - 36ms/step - accuracy: 0.7044 - loss: 0.5632 - val_accuracy: 0.7525 - val_loss: 0.5026\n",
      "Epoch 2/10\n",
      "500/500 - 17s - 34ms/step - accuracy: 0.8146 - loss: 0.4171 - val_accuracy: 0.7473 - val_loss: 0.5406\n",
      "Epoch 3/10\n",
      "500/500 - 26s - 52ms/step - accuracy: 0.8589 - loss: 0.3320 - val_accuracy: 0.7410 - val_loss: 0.5826\n",
      "Epoch 4/10\n",
      "500/500 - 17s - 34ms/step - accuracy: 0.8914 - loss: 0.2565 - val_accuracy: 0.7320 - val_loss: 0.6432\n",
      "Epoch 5/10\n",
      "500/500 - 17s - 33ms/step - accuracy: 0.9178 - loss: 0.2010 - val_accuracy: 0.7268 - val_loss: 0.7589\n",
      "Epoch 6/10\n",
      "500/500 - 17s - 33ms/step - accuracy: 0.9325 - loss: 0.1597 - val_accuracy: 0.7203 - val_loss: 0.9360\n",
      "Epoch 7/10\n",
      "500/500 - 17s - 33ms/step - accuracy: 0.9424 - loss: 0.1356 - val_accuracy: 0.7200 - val_loss: 1.2401\n",
      "Epoch 8/10\n",
      "500/500 - 17s - 33ms/step - accuracy: 0.9524 - loss: 0.1113 - val_accuracy: 0.7092 - val_loss: 1.2367\n",
      "Epoch 9/10\n",
      "500/500 - 17s - 33ms/step - accuracy: 0.9612 - loss: 0.0940 - val_accuracy: 0.7140 - val_loss: 1.3480\n",
      "Epoch 10/10\n",
      "500/500 - 17s - 33ms/step - accuracy: 0.9666 - loss: 0.0814 - val_accuracy: 0.7197 - val_loss: 1.6152\n",
      "Training model with max_word=10000, embedding_dim=128...\n",
      "Epoch 1/10\n",
      "500/500 - 23s - 47ms/step - accuracy: 0.6941 - loss: 0.5676 - val_accuracy: 0.7442 - val_loss: 0.5153\n",
      "Epoch 2/10\n",
      "500/500 - 51s - 103ms/step - accuracy: 0.8134 - loss: 0.4172 - val_accuracy: 0.7475 - val_loss: 0.5135\n",
      "Epoch 3/10\n",
      "500/500 - 23s - 45ms/step - accuracy: 0.8621 - loss: 0.3228 - val_accuracy: 0.7450 - val_loss: 0.5954\n",
      "Epoch 4/10\n",
      "500/500 - 438s - 875ms/step - accuracy: 0.8965 - loss: 0.2408 - val_accuracy: 0.7362 - val_loss: 0.7186\n",
      "Epoch 5/10\n",
      "500/500 - 22s - 44ms/step - accuracy: 0.9224 - loss: 0.1851 - val_accuracy: 0.7230 - val_loss: 0.8584\n",
      "Epoch 6/10\n",
      "500/500 - 21s - 43ms/step - accuracy: 0.9366 - loss: 0.1479 - val_accuracy: 0.7280 - val_loss: 1.0346\n",
      "Epoch 7/10\n",
      "500/500 - 21s - 43ms/step - accuracy: 0.9501 - loss: 0.1229 - val_accuracy: 0.7182 - val_loss: 1.0834\n",
      "Epoch 8/10\n",
      "500/500 - 21s - 43ms/step - accuracy: 0.9598 - loss: 0.0997 - val_accuracy: 0.7228 - val_loss: 1.2491\n",
      "Epoch 9/10\n",
      "500/500 - 21s - 43ms/step - accuracy: 0.9689 - loss: 0.0787 - val_accuracy: 0.7200 - val_loss: 1.3718\n",
      "Epoch 10/10\n",
      "500/500 - 21s - 43ms/step - accuracy: 0.9762 - loss: 0.0631 - val_accuracy: 0.7060 - val_loss: 1.5109\n",
      "Training model with max_word=10000, embedding_dim=256...\n",
      "Epoch 1/10\n",
      "500/500 - 60s - 120ms/step - accuracy: 0.7057 - loss: 0.5578 - val_accuracy: 0.7595 - val_loss: 0.4998\n",
      "Epoch 2/10\n",
      "500/500 - 30s - 61ms/step - accuracy: 0.8212 - loss: 0.4013 - val_accuracy: 0.7477 - val_loss: 0.5377\n",
      "Epoch 3/10\n",
      "500/500 - 329s - 657ms/step - accuracy: 0.8711 - loss: 0.3014 - val_accuracy: 0.7370 - val_loss: 0.6223\n",
      "Epoch 4/10\n",
      "500/500 - 29s - 58ms/step - accuracy: 0.8996 - loss: 0.2280 - val_accuracy: 0.7347 - val_loss: 0.7378\n",
      "Epoch 5/10\n",
      "500/500 - 29s - 58ms/step - accuracy: 0.9230 - loss: 0.1762 - val_accuracy: 0.7325 - val_loss: 0.9462\n",
      "Epoch 6/10\n",
      "500/500 - 29s - 58ms/step - accuracy: 0.9429 - loss: 0.1365 - val_accuracy: 0.7237 - val_loss: 1.0860\n",
      "Epoch 7/10\n",
      "500/500 - 29s - 58ms/step - accuracy: 0.9544 - loss: 0.1100 - val_accuracy: 0.7215 - val_loss: 1.2027\n",
      "Epoch 8/10\n",
      "500/500 - 29s - 58ms/step - accuracy: 0.9628 - loss: 0.0909 - val_accuracy: 0.7210 - val_loss: 1.2985\n",
      "Epoch 9/10\n",
      "500/500 - 29s - 58ms/step - accuracy: 0.9720 - loss: 0.0717 - val_accuracy: 0.7160 - val_loss: 1.4781\n",
      "Epoch 10/10\n",
      "500/500 - 40s - 81ms/step - accuracy: 0.9790 - loss: 0.0564 - val_accuracy: 0.7105 - val_loss: 1.6464\n",
      "Training model with max_word=10000, embedding_dim=512...\n",
      "Epoch 1/10\n",
      "500/500 - 278s - 555ms/step - accuracy: 0.7143 - loss: 0.5496 - val_accuracy: 0.7545 - val_loss: 0.4955\n",
      "Epoch 2/10\n",
      "500/500 - 1094s - 2s/step - accuracy: 0.8253 - loss: 0.3858 - val_accuracy: 0.7492 - val_loss: 0.5301\n",
      "Epoch 3/10\n",
      "500/500 - 57s - 115ms/step - accuracy: 0.8817 - loss: 0.2765 - val_accuracy: 0.7377 - val_loss: 0.6531\n",
      "Epoch 4/10\n",
      "500/500 - 56s - 113ms/step - accuracy: 0.9187 - loss: 0.1910 - val_accuracy: 0.7297 - val_loss: 0.7899\n",
      "Epoch 5/10\n",
      "500/500 - 53s - 105ms/step - accuracy: 0.9449 - loss: 0.1382 - val_accuracy: 0.7255 - val_loss: 1.0150\n",
      "Epoch 6/10\n",
      "500/500 - 53s - 106ms/step - accuracy: 0.9595 - loss: 0.0989 - val_accuracy: 0.7200 - val_loss: 1.1701\n",
      "Epoch 7/10\n",
      "500/500 - 71s - 142ms/step - accuracy: 0.9714 - loss: 0.0710 - val_accuracy: 0.7200 - val_loss: 1.4225\n",
      "Epoch 8/10\n",
      "500/500 - 58s - 116ms/step - accuracy: 0.9764 - loss: 0.0587 - val_accuracy: 0.7260 - val_loss: 1.5267\n",
      "Epoch 9/10\n",
      "500/500 - 53s - 107ms/step - accuracy: 0.9814 - loss: 0.0482 - val_accuracy: 0.7110 - val_loss: 1.6571\n",
      "Epoch 10/10\n",
      "500/500 - 54s - 108ms/step - accuracy: 0.9860 - loss: 0.0354 - val_accuracy: 0.7128 - val_loss: 1.9111\n"
     ]
    }
   ],
   "execution_count": 75
  },
  {
   "metadata": {
    "ExecuteTime": {
     "end_time": "2025-03-24T17:54:35.103089Z",
     "start_time": "2025-03-24T17:54:34.794156Z"
    }
   },
   "cell_type": "code",
   "source": [
    "colors = ['red', 'orange', 'green', 'blue', 'purple', 'brown', 'pink', 'gray', 'cyan', 'magenta']\n",
    "# --- 训练精度折线图 ---\n",
    "plt.figure(figsize=(12, 5))\n",
    "for i, max_word in enumerate(max_words):\n",
    "    train_acc = [results[(max_word, embedding_dim)]['train_acc'] for embedding_dim in embedding_dims]\n",
    "    plt.plot(embedding_dims, train_acc, marker='o', linestyle='-', color=colors[i], label=f\"{max_word} Word Size\")\n",
    "plt.xlabel(\"Number of Embedding Dimensions\")\n",
    "plt.ylabel(\"Accuracy\")\n",
    "plt.title(\"Train Accuracy\")\n",
    "plt.legend()\n",
    "plt.show()\n",
    "\n",
    "# --- 测试精度折线图 ---\n",
    "plt.figure(figsize=(12, 5))\n",
    "for i, max_word in enumerate(max_words):\n",
    "    test_acc = [results[(max_word, embedding_dim)]['test_acc'] for embedding_dim in embedding_dims]\n",
    "    plt.plot(embedding_dims, test_acc, marker='o', linestyle='-', color=colors[i], label=f\"{max_word} Word Size\")\n",
    "plt.xlabel(\"Number of Embedding Dimensions\")\n",
    "plt.ylabel(\"Accuracy\")\n",
    "plt.title(\"Test Accuracy\")\n",
    "plt.legend()\n",
    "plt.show()\n",
    "\n",
    "# --- 参数量变化折线图 ---\n",
    "plt.figure(figsize=(8, 6))\n",
    "for i, max_word in enumerate(max_words):\n",
    "    params = [params_history[(max_word, embedding_dim)] for embedding_dim in embedding_dims]\n",
    "    plt.plot(embedding_dims, params, marker='o', linestyle='-', color=colors[i], label=f\"{max_word} Word Size\")\n",
    "plt.xlabel(\"Number of Embedding Dimensions\")\n",
    "plt.ylabel(\"Trainable Parameters\")\n",
    "plt.title(\"Model Parameters\")\n",
    "plt.legend()\n",
    "plt.show()\n",
    "# max word=8000, embedding dim=128\n",
    "# max word=10000, embedding dim=64\n",
    "# max word=2000, embedding dim=512\n",
    "# max word=5000, embedding dim=64"
   ],
   "outputs": [
    {
     "data": {
      "text/plain": [
       "<Figure size 1200x500 with 1 Axes>"
      ],
      "image/png": "[encoded data removed]"
     },
     "metadata": {},
     "output_type": "display_data"
    },
    {
     "data": {
      "text/plain": [
       "<Figure size 1200x500 with 1 Axes>"
      ],
      "image/png": "[encoded data removed]"
     },
     "metadata": {},
     "output_type": "display_data"
    },
    {
     "data": {
      "text/plain": [
       "<Figure size 800x600 with 1 Axes>"
      ],
      "image/png": "[encoded data removed]"
     },
     "metadata": {},
     "output_type": "display_data"
    }
   ],
   "execution_count": 76
  },
  {
   "metadata": {
    "ExecuteTime": {
     "end_time": "2025-03-24T17:54:35.118605Z",
     "start_time": "2025-03-24T17:54:35.109932Z"
    }
   },
   "cell_type": "code",
   "source": "model.summary()",
   "outputs": [
    {
     "data": {
      "text/plain": [
       "\u001B[1mModel: \"sequential_32\"\u001B[0m\n"
      ],
      "text/html": [
       "<pre style=\"white-space:pre;overflow-x:auto;line-height:normal;font-family:Menlo,'DejaVu Sans Mono',consolas,'Courier New',monospace\"><span style=\"font-weight: bold\">Model: \"sequential_32\"</span>\n",
       "</pre>\n"
      ]
     },
     "metadata": {},
     "output_type": "display_data"
    },
    {
     "data": {
      "text/plain": [
       "┏━━━━━━━━━━━━━━━━━━━━━━━━━━━━━━━━━┳━━━━━━━━━━━━━━━━━━━━━━━━┳━━━━━━━━━━━━━━━┓\n",
       "┃\u001B[1m \u001B[0m\u001B[1mLayer (type)                   \u001B[0m\u001B[1m \u001B[0m┃\u001B[1m \u001B[0m\u001B[1mOutput Shape          \u001B[0m\u001B[1m \u001B[0m┃\u001B[1m \u001B[0m\u001B[1m      Param #\u001B[0m\u001B[1m \u001B[0m┃\n",
       "┡━━━━━━━━━━━━━━━━━━━━━━━━━━━━━━━━━╇━━━━━━━━━━━━━━━━━━━━━━━━╇━━━━━━━━━━━━━━━┩\n",
       "│ embedding_32 (\u001B[38;5;33mEmbedding\u001B[0m)        │ (\u001B[38;5;34m32\u001B[0m, \u001B[38;5;34m200\u001B[0m, \u001B[38;5;34m512\u001B[0m)         │     \u001B[38;5;34m5,120,000\u001B[0m │\n",
       "├─────────────────────────────────┼────────────────────────┼───────────────┤\n",
       "│ lstm_49 (\u001B[38;5;33mLSTM\u001B[0m)                  │ (\u001B[38;5;34m32\u001B[0m, \u001B[38;5;34m32\u001B[0m)               │        \u001B[38;5;34m69,760\u001B[0m │\n",
       "├─────────────────────────────────┼────────────────────────┼───────────────┤\n",
       "│ dense_113 (\u001B[38;5;33mDense\u001B[0m)               │ (\u001B[38;5;34m32\u001B[0m, \u001B[38;5;34m16\u001B[0m)               │           \u001B[38;5;34m528\u001B[0m │\n",
       "├─────────────────────────────────┼────────────────────────┼───────────────┤\n",
       "│ dense_114 (\u001B[38;5;33mDense\u001B[0m)               │ (\u001B[38;5;34m32\u001B[0m, \u001B[38;5;34m16\u001B[0m)               │           \u001B[38;5;34m272\u001B[0m │\n",
       "├─────────────────────────────────┼────────────────────────┼───────────────┤\n",
       "│ dense_115 (\u001B[38;5;33mDense\u001B[0m)               │ (\u001B[38;5;34m32\u001B[0m, \u001B[38;5;34m1\u001B[0m)                │            \u001B[38;5;34m17\u001B[0m │\n",
       "└─────────────────────────────────┴────────────────────────┴───────────────┘\n"
      ],
      "text/html": [
       "<pre style=\"white-space:pre;overflow-x:auto;line-height:normal;font-family:Menlo,'DejaVu Sans Mono',consolas,'Courier New',monospace\">┏━━━━━━━━━━━━━━━━━━━━━━━━━━━━━━━━━┳━━━━━━━━━━━━━━━━━━━━━━━━┳━━━━━━━━━━━━━━━┓\n",
       "┃<span style=\"font-weight: bold\"> Layer (type)                    </span>┃<span style=\"font-weight: bold\"> Output Shape           </span>┃<span style=\"font-weight: bold\">       Param # </span>┃\n",
       "┡━━━━━━━━━━━━━━━━━━━━━━━━━━━━━━━━━╇━━━━━━━━━━━━━━━━━━━━━━━━╇━━━━━━━━━━━━━━━┩\n",
       "│ embedding_32 (<span style=\"color: #0087ff; text-decoration-color: #0087ff\">Embedding</span>)        │ (<span style=\"color: #00af00; text-decoration-color: #00af00\">32</span>, <span style=\"color: #00af00; text-decoration-color: #00af00\">200</span>, <span style=\"color: #00af00; text-decoration-color: #00af00\">512</span>)         │     <span style=\"color: #00af00; text-decoration-color: #00af00\">5,120,000</span> │\n",
       "├─────────────────────────────────┼────────────────────────┼───────────────┤\n",
       "│ lstm_49 (<span style=\"color: #0087ff; text-decoration-color: #0087ff\">LSTM</span>)                  │ (<span style=\"color: #00af00; text-decoration-color: #00af00\">32</span>, <span style=\"color: #00af00; text-decoration-color: #00af00\">32</span>)               │        <span style=\"color: #00af00; text-decoration-color: #00af00\">69,760</span> │\n",
       "├─────────────────────────────────┼────────────────────────┼───────────────┤\n",
       "│ dense_113 (<span style=\"color: #0087ff; text-decoration-color: #0087ff\">Dense</span>)               │ (<span style=\"color: #00af00; text-decoration-color: #00af00\">32</span>, <span style=\"color: #00af00; text-decoration-color: #00af00\">16</span>)               │           <span style=\"color: #00af00; text-decoration-color: #00af00\">528</span> │\n",
       "├─────────────────────────────────┼────────────────────────┼───────────────┤\n",
       "│ dense_114 (<span style=\"color: #0087ff; text-decoration-color: #0087ff\">Dense</span>)               │ (<span style=\"color: #00af00; text-decoration-color: #00af00\">32</span>, <span style=\"color: #00af00; text-decoration-color: #00af00\">16</span>)               │           <span style=\"color: #00af00; text-decoration-color: #00af00\">272</span> │\n",
       "├─────────────────────────────────┼────────────────────────┼───────────────┤\n",
       "│ dense_115 (<span style=\"color: #0087ff; text-decoration-color: #0087ff\">Dense</span>)               │ (<span style=\"color: #00af00; text-decoration-color: #00af00\">32</span>, <span style=\"color: #00af00; text-decoration-color: #00af00\">1</span>)                │            <span style=\"color: #00af00; text-decoration-color: #00af00\">17</span> │\n",
       "└─────────────────────────────────┴────────────────────────┴───────────────┘\n",
       "</pre>\n"
      ]
     },
     "metadata": {},
     "output_type": "display_data"
    },
    {
     "data": {
      "text/plain": [
       "\u001B[1m Total params: \u001B[0m\u001B[38;5;34m15,571,733\u001B[0m (59.40 MB)\n"
      ],
      "text/html": [
       "<pre style=\"white-space:pre;overflow-x:auto;line-height:normal;font-family:Menlo,'DejaVu Sans Mono',consolas,'Courier New',monospace\"><span style=\"font-weight: bold\"> Total params: </span><span style=\"color: #00af00; text-decoration-color: #00af00\">15,571,733</span> (59.40 MB)\n",
       "</pre>\n"
      ]
     },
     "metadata": {},
     "output_type": "display_data"
    },
    {
     "data": {
      "text/plain": [
       "\u001B[1m Trainable params: \u001B[0m\u001B[38;5;34m5,190,577\u001B[0m (19.80 MB)\n"
      ],
      "text/html": [
       "<pre style=\"white-space:pre;overflow-x:auto;line-height:normal;font-family:Menlo,'DejaVu Sans Mono',consolas,'Courier New',monospace\"><span style=\"font-weight: bold\"> Trainable params: </span><span style=\"color: #00af00; text-decoration-color: #00af00\">5,190,577</span> (19.80 MB)\n",
       "</pre>\n"
      ]
     },
     "metadata": {},
     "output_type": "display_data"
    },
    {
     "data": {
      "text/plain": [
       "\u001B[1m Non-trainable params: \u001B[0m\u001B[38;5;34m0\u001B[0m (0.00 B)\n"
      ],
      "text/html": [
       "<pre style=\"white-space:pre;overflow-x:auto;line-height:normal;font-family:Menlo,'DejaVu Sans Mono',consolas,'Courier New',monospace\"><span style=\"font-weight: bold\"> Non-trainable params: </span><span style=\"color: #00af00; text-decoration-color: #00af00\">0</span> (0.00 B)\n",
       "</pre>\n"
      ]
     },
     "metadata": {},
     "output_type": "display_data"
    },
    {
     "data": {
      "text/plain": [
       "\u001B[1m Optimizer params: \u001B[0m\u001B[38;5;34m10,381,156\u001B[0m (39.60 MB)\n"
      ],
      "text/html": [
       "<pre style=\"white-space:pre;overflow-x:auto;line-height:normal;font-family:Menlo,'DejaVu Sans Mono',consolas,'Courier New',monospace\"><span style=\"font-weight: bold\"> Optimizer params: </span><span style=\"color: #00af00; text-decoration-color: #00af00\">10,381,156</span> (39.60 MB)\n",
       "</pre>\n"
      ]
     },
     "metadata": {},
     "output_type": "display_data"
    }
   ],
   "execution_count": 77
  },
  {
   "metadata": {},
   "cell_type": "markdown",
   "source": ""
  }
 ],
 "metadata": {
  "colab": {
   "authorship_tag": "ABX9TyNNag92UMCy1GtgfJ+zFFU1",
   "collapsed_sections": [],
   "name": "DUDL_FFN_aboutMNIST.ipynb",
   "provenance": [
    {
     "file_id": "15cpyHkJ435B4MqbyGjAH1poN4nCy_DE4",
     "timestamp": 1617737766196
    },
    {
     "file_id": "1OLuWuaFu0hcFgkQ2hh5BqbRuqUZD7XcQ",
     "timestamp": 1617734878578
    },
    {
     "file_id": "1XvzVGJPTJifVh8OpZVB7ykLxyUqYwQ1j",
     "timestamp": 1617196833019
    },
    {
     "file_id": "1bv1_y32e3KEExFKKlPfC3rpw1JxmBr8H",
     "timestamp": 1617124341706
    },
    {
     "file_id": "1GMq8u7KyHB2AE7Teyls9gK1T01OduQSn",
     "timestamp": 1616697516760
    },
    {
     "file_id": "1Ui3kyHim-e0XLgDs2mkBxVlYg7TKYtcg",
     "timestamp": 1616615469755
    },
    {
     "file_id": "1YpHocGI4rApOxIBb1ZghCU5L-hFnv4CK",
     "timestamp": 1616608248670
    }
   ]
  },
  "kernelspec": {
   "display_name": "Python (newpipenv)",
   "language": "python",
   "name": "newpipenv"
  },
  "language_info": {
   "codemirror_mode": {
    "name": "ipython",
    "version": 3
   },
   "file_extension": ".py",
   "mimetype": "text/x-python",
   "name": "python",
   "nbconvert_exporter": "python",
   "pygments_lexer": "ipython3",
   "version": "3.10.9"
  }
 },
 "nbformat": 4,
 "nbformat_minor": 1
}
