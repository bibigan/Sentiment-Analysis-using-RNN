{
 "cells": [
  {
   "cell_type": "code",
   "metadata": {
    "id": "YeuAheYyhdZw",
    "ExecuteTime": {
     "end_time": "2025-03-22T19:59:02.802455Z",
     "start_time": "2025-03-22T19:59:02.796600Z"
    }
   },
   "source": [
    "# import libraries\n",
    "# DataFrame\n",
    "import pandas as pd\n",
    "\n",
    "# plotting\n",
    "import seaborn as sns\n",
    "from wordcloud import WordCloud\n",
    "import matplotlib.pyplot as plt\n",
    "\n",
    "# nltk\n",
    "import nltk\n",
    "from nltk.stem import WordNetLemmatizer\n",
    "from nltk.corpus import stopwords\n",
    "from nltk.tokenize import word_tokenize\n",
    "\n",
    "# sklearny\n",
    "from sklearn.model_selection import train_test_split\n",
    "from sklearn.feature_extraction.text import TfidfVectorizer\n",
    "from sklearn.metrics import confusion_matrix, classification_report\n",
    "\n",
    "from sklearn.linear_model import LogisticRegression\n",
    "from sklearn.svm import LinearSVC\n",
    "from sklearn.ensemble import RandomForestClassifier\n",
    "from sklearn.naive_bayes import BernoulliNB\n",
    "\n",
    "\n",
    "#tensorflow\n",
    "import tensorflow.compat.v2 as tf\n",
    "import tensorflow_datasets as tfds\n",
    "\n",
    "# Utility\n",
    "import pandas as pd\n",
    "import numpy as np\n",
    "import warnings\n",
    "warnings.filterwarnings('ignore')\n",
    "import re\n",
    "import string\n",
    "import pickle"
   ],
   "outputs": [],
   "execution_count": 118
  },
  {
   "cell_type": "markdown",
   "metadata": {},
   "source": "# Loading Dataset"
  },
  {
   "cell_type": "code",
   "metadata": {
    "ExecuteTime": {
     "end_time": "2025-03-22T19:59:05.650978Z",
     "start_time": "2025-03-22T19:59:02.810099Z"
    }
   },
   "source": [
    "# Construct a tf.data.Dataset\n",
    "data = pd.read_csv('training.1600000.processed.noemoticon.csv',encoding='latin', names = ['polarity','id','date','query','user','text'])\n",
    "# Random shuffling of data, select the first 200,000\n",
    "data = data.sample(frac=1,random_state=740)\n",
    "data = data[:20000]\n",
    "data.head(10)"
   ],
   "outputs": [],
   "execution_count": 119
  },
  {
   "metadata": {},
   "cell_type": "markdown",
   "source": "# Data Visualization"
  },
  {
   "cell_type": "code",
   "metadata": {
    "scrolled": false,
    "ExecuteTime": {
     "end_time": "2025-03-22T19:59:05.896841Z",
     "start_time": "2025-03-22T19:59:05.894146Z"
    }
   },
   "source": "print(\"Dataset shape:\", data.shape)",
   "outputs": [
    {
     "name": "stdout",
     "output_type": "stream",
     "text": [
      "Dataset shape: (20000, 6)\n"
     ]
    }
   ],
   "execution_count": 121
  },
  {
   "cell_type": "code",
   "metadata": {
    "ExecuteTime": {
     "end_time": "2025-03-22T19:59:05.920854Z",
     "start_time": "2025-03-22T19:59:05.913876Z"
    }
   },
   "source": "data.head(10)",
   "outputs": [
    {
     "data": {
      "text/plain": [
       "         polarity          id                          date     query  \\\n",
       "1348345         4  2044847198  Fri Jun 05 09:54:00 PDT 2009  NO_QUERY   \n",
       "1127353         4  1975170938  Sat May 30 14:35:44 PDT 2009  NO_QUERY   \n",
       "480304          0  2179196765  Mon Jun 15 08:46:40 PDT 2009  NO_QUERY   \n",
       "415854          0  2061166868  Sat Jun 06 20:18:47 PDT 2009  NO_QUERY   \n",
       "807142          4  1468937319  Tue Apr 07 04:29:28 PDT 2009  NO_QUERY   \n",
       "1013364         4  1881307107  Fri May 22 04:16:15 PDT 2009  NO_QUERY   \n",
       "1280264         4  2001617130  Tue Jun 02 01:29:06 PDT 2009  NO_QUERY   \n",
       "1434845         4  2060700951  Sat Jun 06 19:24:37 PDT 2009  NO_QUERY   \n",
       "1450820         4  2062980677  Sun Jun 07 00:57:20 PDT 2009  NO_QUERY   \n",
       "1327524         4  2015400141  Wed Jun 03 04:33:45 PDT 2009  NO_QUERY   \n",
       "\n",
       "                   user                                               text  \n",
       "1348345        Sun_Shin                    I'm getting know about twitter   \n",
       "1127353   officialemily  @paigeoneill why? ahahaa. not that im not, i j...  \n",
       "480304   nyyankee2jeter                My body won't me sleep after 8:30.   \n",
       "415854   naughtyhaughty  @loveisaliexx u and me both &lt;3 how are you ...  \n",
       "807142      BillyBrahhh  I want a george bush. Someone should come pick...  \n",
       "1013364        Brera4wl  Well all I can say is the English had better w...  \n",
       "1280264       hcouvreur                @on_point one of many it turns out   \n",
       "1434845     SandwichINK  Did you know u can sub to any blog EVEN if doe...  \n",
       "1450820  holidaycarclub  Brisbane - Toyota - Hiace - 1984 - $3,900  - n...  \n",
       "1327524    gracielou105  @teacherericka Ricka! PreBeachaby sleepover ur...  "
      ],
      "text/html": [
       "<div>\n",
       "<style scoped>\n",
       "    .dataframe tbody tr th:only-of-type {\n",
       "        vertical-align: middle;\n",
       "    }\n",
       "\n",
       "    .dataframe tbody tr th {\n",
       "        vertical-align: top;\n",
       "    }\n",
       "\n",
       "    .dataframe thead th {\n",
       "        text-align: right;\n",
       "    }\n",
       "</style>\n",
       "<table border=\"1\" class=\"dataframe\">\n",
       "  <thead>\n",
       "    <tr style=\"text-align: right;\">\n",
       "      <th></th>\n",
       "      <th>polarity</th>\n",
       "      <th>id</th>\n",
       "      <th>date</th>\n",
       "      <th>query</th>\n",
       "      <th>user</th>\n",
       "      <th>text</th>\n",
       "    </tr>\n",
       "  </thead>\n",
       "  <tbody>\n",
       "    <tr>\n",
       "      <th>1348345</th>\n",
       "      <td>4</td>\n",
       "      <td>2044847198</td>\n",
       "      <td>Fri Jun 05 09:54:00 PDT 2009</td>\n",
       "      <td>NO_QUERY</td>\n",
       "      <td>Sun_Shin</td>\n",
       "      <td>I'm getting know about twitter</td>\n",
       "    </tr>\n",
       "    <tr>\n",
       "      <th>1127353</th>\n",
       "      <td>4</td>\n",
       "      <td>1975170938</td>\n",
       "      <td>Sat May 30 14:35:44 PDT 2009</td>\n",
       "      <td>NO_QUERY</td>\n",
       "      <td>officialemily</td>\n",
       "      <td>@paigeoneill why? ahahaa. not that im not, i j...</td>\n",
       "    </tr>\n",
       "    <tr>\n",
       "      <th>480304</th>\n",
       "      <td>0</td>\n",
       "      <td>2179196765</td>\n",
       "      <td>Mon Jun 15 08:46:40 PDT 2009</td>\n",
       "      <td>NO_QUERY</td>\n",
       "      <td>nyyankee2jeter</td>\n",
       "      <td>My body won't me sleep after 8:30.</td>\n",
       "    </tr>\n",
       "    <tr>\n",
       "      <th>415854</th>\n",
       "      <td>0</td>\n",
       "      <td>2061166868</td>\n",
       "      <td>Sat Jun 06 20:18:47 PDT 2009</td>\n",
       "      <td>NO_QUERY</td>\n",
       "      <td>naughtyhaughty</td>\n",
       "      <td>@loveisaliexx u and me both &amp;lt;3 how are you ...</td>\n",
       "    </tr>\n",
       "    <tr>\n",
       "      <th>807142</th>\n",
       "      <td>4</td>\n",
       "      <td>1468937319</td>\n",
       "      <td>Tue Apr 07 04:29:28 PDT 2009</td>\n",
       "      <td>NO_QUERY</td>\n",
       "      <td>BillyBrahhh</td>\n",
       "      <td>I want a george bush. Someone should come pick...</td>\n",
       "    </tr>\n",
       "    <tr>\n",
       "      <th>1013364</th>\n",
       "      <td>4</td>\n",
       "      <td>1881307107</td>\n",
       "      <td>Fri May 22 04:16:15 PDT 2009</td>\n",
       "      <td>NO_QUERY</td>\n",
       "      <td>Brera4wl</td>\n",
       "      <td>Well all I can say is the English had better w...</td>\n",
       "    </tr>\n",
       "    <tr>\n",
       "      <th>1280264</th>\n",
       "      <td>4</td>\n",
       "      <td>2001617130</td>\n",
       "      <td>Tue Jun 02 01:29:06 PDT 2009</td>\n",
       "      <td>NO_QUERY</td>\n",
       "      <td>hcouvreur</td>\n",
       "      <td>@on_point one of many it turns out</td>\n",
       "    </tr>\n",
       "    <tr>\n",
       "      <th>1434845</th>\n",
       "      <td>4</td>\n",
       "      <td>2060700951</td>\n",
       "      <td>Sat Jun 06 19:24:37 PDT 2009</td>\n",
       "      <td>NO_QUERY</td>\n",
       "      <td>SandwichINK</td>\n",
       "      <td>Did you know u can sub to any blog EVEN if doe...</td>\n",
       "    </tr>\n",
       "    <tr>\n",
       "      <th>1450820</th>\n",
       "      <td>4</td>\n",
       "      <td>2062980677</td>\n",
       "      <td>Sun Jun 07 00:57:20 PDT 2009</td>\n",
       "      <td>NO_QUERY</td>\n",
       "      <td>holidaycarclub</td>\n",
       "      <td>Brisbane - Toyota - Hiace - 1984 - $3,900  - n...</td>\n",
       "    </tr>\n",
       "    <tr>\n",
       "      <th>1327524</th>\n",
       "      <td>4</td>\n",
       "      <td>2015400141</td>\n",
       "      <td>Wed Jun 03 04:33:45 PDT 2009</td>\n",
       "      <td>NO_QUERY</td>\n",
       "      <td>gracielou105</td>\n",
       "      <td>@teacherericka Ricka! PreBeachaby sleepover ur...</td>\n",
       "    </tr>\n",
       "  </tbody>\n",
       "</table>\n",
       "</div>"
      ]
     },
     "execution_count": 122,
     "metadata": {},
     "output_type": "execute_result"
    }
   ],
   "execution_count": 122
  },
  {
   "cell_type": "code",
   "metadata": {
    "ExecuteTime": {
     "end_time": "2025-03-22T19:59:05.975864Z",
     "start_time": "2025-03-22T19:59:05.971737Z"
    }
   },
   "source": "data['polarity'].unique()",
   "outputs": [
    {
     "data": {
      "text/plain": [
       "array([4, 0])"
      ]
     },
     "execution_count": 123,
     "metadata": {},
     "output_type": "execute_result"
    }
   ],
   "execution_count": 123
  },
  {
   "cell_type": "code",
   "metadata": {
    "scrolled": true,
    "ExecuteTime": {
     "end_time": "2025-03-22T19:59:06.023825Z",
     "start_time": "2025-03-22T19:59:06.017307Z"
    }
   },
   "source": [
    "# Replacing the value 4 -->1 for ease of understanding.\n",
    "data['polarity'] = data['polarity'].replace(4,1)\n",
    "data.head()"
   ],
   "outputs": [
    {
     "data": {
      "text/plain": [
       "         polarity          id                          date     query  \\\n",
       "1348345         1  2044847198  Fri Jun 05 09:54:00 PDT 2009  NO_QUERY   \n",
       "1127353         1  1975170938  Sat May 30 14:35:44 PDT 2009  NO_QUERY   \n",
       "480304          0  2179196765  Mon Jun 15 08:46:40 PDT 2009  NO_QUERY   \n",
       "415854          0  2061166868  Sat Jun 06 20:18:47 PDT 2009  NO_QUERY   \n",
       "807142          1  1468937319  Tue Apr 07 04:29:28 PDT 2009  NO_QUERY   \n",
       "\n",
       "                   user                                               text  \n",
       "1348345        Sun_Shin                    I'm getting know about twitter   \n",
       "1127353   officialemily  @paigeoneill why? ahahaa. not that im not, i j...  \n",
       "480304   nyyankee2jeter                My body won't me sleep after 8:30.   \n",
       "415854   naughtyhaughty  @loveisaliexx u and me both &lt;3 how are you ...  \n",
       "807142      BillyBrahhh  I want a george bush. Someone should come pick...  "
      ],
      "text/html": [
       "<div>\n",
       "<style scoped>\n",
       "    .dataframe tbody tr th:only-of-type {\n",
       "        vertical-align: middle;\n",
       "    }\n",
       "\n",
       "    .dataframe tbody tr th {\n",
       "        vertical-align: top;\n",
       "    }\n",
       "\n",
       "    .dataframe thead th {\n",
       "        text-align: right;\n",
       "    }\n",
       "</style>\n",
       "<table border=\"1\" class=\"dataframe\">\n",
       "  <thead>\n",
       "    <tr style=\"text-align: right;\">\n",
       "      <th></th>\n",
       "      <th>polarity</th>\n",
       "      <th>id</th>\n",
       "      <th>date</th>\n",
       "      <th>query</th>\n",
       "      <th>user</th>\n",
       "      <th>text</th>\n",
       "    </tr>\n",
       "  </thead>\n",
       "  <tbody>\n",
       "    <tr>\n",
       "      <th>1348345</th>\n",
       "      <td>1</td>\n",
       "      <td>2044847198</td>\n",
       "      <td>Fri Jun 05 09:54:00 PDT 2009</td>\n",
       "      <td>NO_QUERY</td>\n",
       "      <td>Sun_Shin</td>\n",
       "      <td>I'm getting know about twitter</td>\n",
       "    </tr>\n",
       "    <tr>\n",
       "      <th>1127353</th>\n",
       "      <td>1</td>\n",
       "      <td>1975170938</td>\n",
       "      <td>Sat May 30 14:35:44 PDT 2009</td>\n",
       "      <td>NO_QUERY</td>\n",
       "      <td>officialemily</td>\n",
       "      <td>@paigeoneill why? ahahaa. not that im not, i j...</td>\n",
       "    </tr>\n",
       "    <tr>\n",
       "      <th>480304</th>\n",
       "      <td>0</td>\n",
       "      <td>2179196765</td>\n",
       "      <td>Mon Jun 15 08:46:40 PDT 2009</td>\n",
       "      <td>NO_QUERY</td>\n",
       "      <td>nyyankee2jeter</td>\n",
       "      <td>My body won't me sleep after 8:30.</td>\n",
       "    </tr>\n",
       "    <tr>\n",
       "      <th>415854</th>\n",
       "      <td>0</td>\n",
       "      <td>2061166868</td>\n",
       "      <td>Sat Jun 06 20:18:47 PDT 2009</td>\n",
       "      <td>NO_QUERY</td>\n",
       "      <td>naughtyhaughty</td>\n",
       "      <td>@loveisaliexx u and me both &amp;lt;3 how are you ...</td>\n",
       "    </tr>\n",
       "    <tr>\n",
       "      <th>807142</th>\n",
       "      <td>1</td>\n",
       "      <td>1468937319</td>\n",
       "      <td>Tue Apr 07 04:29:28 PDT 2009</td>\n",
       "      <td>NO_QUERY</td>\n",
       "      <td>BillyBrahhh</td>\n",
       "      <td>I want a george bush. Someone should come pick...</td>\n",
       "    </tr>\n",
       "  </tbody>\n",
       "</table>\n",
       "</div>"
      ]
     },
     "execution_count": 124,
     "metadata": {},
     "output_type": "execute_result"
    }
   ],
   "execution_count": 124
  },
  {
   "cell_type": "code",
   "metadata": {
    "ExecuteTime": {
     "end_time": "2025-03-22T19:59:06.084853Z",
     "start_time": "2025-03-22T19:59:06.074898Z"
    }
   },
   "source": "data.describe()",
   "outputs": [
    {
     "data": {
      "text/plain": [
       "           polarity            id\n",
       "count  20000.000000  2.000000e+04\n",
       "mean       0.502550  1.998612e+09\n",
       "std        0.500006  1.942365e+08\n",
       "min        0.000000  1.467816e+09\n",
       "25%        0.000000  1.956546e+09\n",
       "50%        1.000000  2.001947e+09\n",
       "75%        1.000000  2.177227e+09\n",
       "max        1.000000  2.329168e+09"
      ],
      "text/html": [
       "<div>\n",
       "<style scoped>\n",
       "    .dataframe tbody tr th:only-of-type {\n",
       "        vertical-align: middle;\n",
       "    }\n",
       "\n",
       "    .dataframe tbody tr th {\n",
       "        vertical-align: top;\n",
       "    }\n",
       "\n",
       "    .dataframe thead th {\n",
       "        text-align: right;\n",
       "    }\n",
       "</style>\n",
       "<table border=\"1\" class=\"dataframe\">\n",
       "  <thead>\n",
       "    <tr style=\"text-align: right;\">\n",
       "      <th></th>\n",
       "      <th>polarity</th>\n",
       "      <th>id</th>\n",
       "    </tr>\n",
       "  </thead>\n",
       "  <tbody>\n",
       "    <tr>\n",
       "      <th>count</th>\n",
       "      <td>20000.000000</td>\n",
       "      <td>2.000000e+04</td>\n",
       "    </tr>\n",
       "    <tr>\n",
       "      <th>mean</th>\n",
       "      <td>0.502550</td>\n",
       "      <td>1.998612e+09</td>\n",
       "    </tr>\n",
       "    <tr>\n",
       "      <th>std</th>\n",
       "      <td>0.500006</td>\n",
       "      <td>1.942365e+08</td>\n",
       "    </tr>\n",
       "    <tr>\n",
       "      <th>min</th>\n",
       "      <td>0.000000</td>\n",
       "      <td>1.467816e+09</td>\n",
       "    </tr>\n",
       "    <tr>\n",
       "      <th>25%</th>\n",
       "      <td>0.000000</td>\n",
       "      <td>1.956546e+09</td>\n",
       "    </tr>\n",
       "    <tr>\n",
       "      <th>50%</th>\n",
       "      <td>1.000000</td>\n",
       "      <td>2.001947e+09</td>\n",
       "    </tr>\n",
       "    <tr>\n",
       "      <th>75%</th>\n",
       "      <td>1.000000</td>\n",
       "      <td>2.177227e+09</td>\n",
       "    </tr>\n",
       "    <tr>\n",
       "      <th>max</th>\n",
       "      <td>1.000000</td>\n",
       "      <td>2.329168e+09</td>\n",
       "    </tr>\n",
       "  </tbody>\n",
       "</table>\n",
       "</div>"
      ]
     },
     "execution_count": 125,
     "metadata": {},
     "output_type": "execute_result"
    }
   ],
   "execution_count": 125
  },
  {
   "metadata": {
    "ExecuteTime": {
     "end_time": "2025-03-22T19:59:06.151799Z",
     "start_time": "2025-03-22T19:59:06.147738Z"
    }
   },
   "cell_type": "code",
   "source": [
    "# check the number of positive vs. negative tagged sentences\n",
    "positives = data['polarity'][data.polarity == 1 ]\n",
    "negatives = data['polarity'][data.polarity == 0 ]\n",
    "\n",
    "print('Total length of the data is:         {}'.format(data.shape[0]))\n",
    "print('No. of positve tagged sentences is:  {}'.format(len(positives)))\n",
    "print('No. of negative tagged sentences is: {}'.format(len(negatives)))"
   ],
   "outputs": [
    {
     "name": "stdout",
     "output_type": "stream",
     "text": [
      "Total length of the data is:         20000\n",
      "No. of positve tagged sentences is:  10051\n",
      "No. of negative tagged sentences is: 9949\n"
     ]
    }
   ],
   "execution_count": 126
  },
  {
   "metadata": {
    "ExecuteTime": {
     "end_time": "2025-03-22T19:59:06.192241Z",
     "start_time": "2025-03-22T19:59:06.189917Z"
    }
   },
   "cell_type": "code",
   "source": [
    "# get a word count per of text\n",
    "def word_count(words):\n",
    "    return len(words.split())"
   ],
   "outputs": [],
   "execution_count": 127
  },
  {
   "metadata": {
    "ExecuteTime": {
     "end_time": "2025-03-22T19:59:06.393531Z",
     "start_time": "2025-03-22T19:59:06.223627Z"
    }
   },
   "cell_type": "code",
   "source": [
    "# plot word count distribution for both positive and negative\n",
    "\n",
    "data['word count'] = data['text'].apply(word_count)\n",
    "p = data['word count'][data.polarity == 1]\n",
    "n = data['word count'][data.polarity == 0]\n",
    "plt.figure(figsize=(12,6))\n",
    "plt.xlim(0,45)\n",
    "plt.xlabel('Word count')\n",
    "plt.ylabel('Frequency')\n",
    "g = plt.hist([p, n], color=['g','r'], alpha=0.5, label=['positive','negative'])\n",
    "plt.legend(loc='upper right')"
   ],
   "outputs": [
    {
     "data": {
      "text/plain": [
       "<matplotlib.legend.Legend at 0x3ddfa7040>"
      ]
     },
     "execution_count": 128,
     "metadata": {},
     "output_type": "execute_result"
    },
    {
     "data": {
      "text/plain": [
       "<Figure size 1200x600 with 1 Axes>"
      ],
      "image/png": "[encoded data removed]"
     },
     "metadata": {},
     "output_type": "display_data"
    }
   ],
   "execution_count": 128
  },
  {
   "metadata": {
    "ExecuteTime": {
     "end_time": "2025-03-22T19:59:06.491852Z",
     "start_time": "2025-03-22T19:59:06.402473Z"
    }
   },
   "cell_type": "code",
   "source": [
    "# get common words in training dataset\n",
    "from collections import Counter\n",
    "all_words = []\n",
    "for line in list(data['text']):\n",
    "    words = line.split()\n",
    "    for word in words:\n",
    "      if(len(word)>2):\n",
    "        all_words.append(word.lower())\n",
    "\n",
    "\n",
    "Counter(all_words).most_common(20)"
   ],
   "outputs": [
    {
     "data": {
      "text/plain": [
       "[('the', 6453),\n",
       " ('and', 3786),\n",
       " ('you', 3075),\n",
       " ('for', 2529),\n",
       " ('have', 1805),\n",
       " ('that', 1662),\n",
       " (\"i'm\", 1624),\n",
       " ('just', 1620),\n",
       " ('but', 1544),\n",
       " ('with', 1421),\n",
       " ('was', 1289),\n",
       " ('not', 1275),\n",
       " ('this', 1133),\n",
       " ('get', 1025),\n",
       " ('all', 989),\n",
       " ('are', 962),\n",
       " ('good', 945),\n",
       " ('like', 944),\n",
       " ('out', 836),\n",
       " ('your', 803)]"
      ]
     },
     "execution_count": 129,
     "metadata": {},
     "output_type": "execute_result"
    }
   ],
   "execution_count": 129
  },
  {
   "metadata": {
    "ExecuteTime": {
     "end_time": "2025-03-22T19:59:06.597412Z",
     "start_time": "2025-03-22T19:59:06.505372Z"
    }
   },
   "cell_type": "code",
   "source": [
    "%matplotlib inline\n",
    "sns.countplot(x=data['polarity'])"
   ],
   "outputs": [
    {
     "data": {
      "text/plain": [
       "<Axes: xlabel='polarity', ylabel='count'>"
      ]
     },
     "execution_count": 130,
     "metadata": {},
     "output_type": "execute_result"
    },
    {
     "data": {
      "text/plain": [
       "<Figure size 640x480 with 1 Axes>"
      ],
      "image/png": "[encoded data removed]"
     },
     "metadata": {},
     "output_type": "display_data"
    }
   ],
   "execution_count": 130
  },
  {
   "metadata": {},
   "cell_type": "markdown",
   "source": [
    "# Data Processing\n",
    "## The Preprocessing steps taken are:\n",
    "1. Lower Casing: Each text is converted to lowercase.\n",
    "2. Removing URLs: Links starting with \"http\" or \"https\" or \"www\" are replaced by \"\".\n",
    "\n",
    "3. Removing Usernames: Replace @Usernames with word \"\". (eg: \"@XYZ\" to \"\")\n",
    "\n",
    "4. Removing Short Words: Words with length less than 2 are removed.\n",
    "5. Removing Stopwords: Stopwords are the English words which does not add much meaning to a sentence. They can safely be ignored without sacrificing the meaning of the sentence. (eg: \"the\", \"he\", \"have\")\n",
    "6. Lemmatizing: Lemmatization is the process of converting a word to its base form. (e.g: “wolves” to “wolf”)"
   ]
  },
  {
   "metadata": {
    "ExecuteTime": {
     "end_time": "2025-03-22T19:59:06.624048Z",
     "start_time": "2025-03-22T19:59:06.620916Z"
    }
   },
   "cell_type": "code",
   "source": [
    "# Removing the unnecessary columns.\n",
    "data.drop(['date','query','user','word count'], axis=1, inplace=True)"
   ],
   "outputs": [],
   "execution_count": 131
  },
  {
   "metadata": {
    "ExecuteTime": {
     "end_time": "2025-03-22T19:59:06.638446Z",
     "start_time": "2025-03-22T19:59:06.632266Z"
    }
   },
   "cell_type": "code",
   "source": [
    "data.drop('id', axis=1, inplace=True)\n",
    "data.head(10)"
   ],
   "outputs": [
    {
     "data": {
      "text/plain": [
       "         polarity                                               text\n",
       "1348345         1                    I'm getting know about twitter \n",
       "1127353         1  @paigeoneill why? ahahaa. not that im not, i j...\n",
       "480304          0                My body won't me sleep after 8:30. \n",
       "415854          0  @loveisaliexx u and me both &lt;3 how are you ...\n",
       "807142          1  I want a george bush. Someone should come pick...\n",
       "1013364         1  Well all I can say is the English had better w...\n",
       "1280264         1                @on_point one of many it turns out \n",
       "1434845         1  Did you know u can sub to any blog EVEN if doe...\n",
       "1450820         1  Brisbane - Toyota - Hiace - 1984 - $3,900  - n...\n",
       "1327524         1  @teacherericka Ricka! PreBeachaby sleepover ur..."
      ],
      "text/html": [
       "<div>\n",
       "<style scoped>\n",
       "    .dataframe tbody tr th:only-of-type {\n",
       "        vertical-align: middle;\n",
       "    }\n",
       "\n",
       "    .dataframe tbody tr th {\n",
       "        vertical-align: top;\n",
       "    }\n",
       "\n",
       "    .dataframe thead th {\n",
       "        text-align: right;\n",
       "    }\n",
       "</style>\n",
       "<table border=\"1\" class=\"dataframe\">\n",
       "  <thead>\n",
       "    <tr style=\"text-align: right;\">\n",
       "      <th></th>\n",
       "      <th>polarity</th>\n",
       "      <th>text</th>\n",
       "    </tr>\n",
       "  </thead>\n",
       "  <tbody>\n",
       "    <tr>\n",
       "      <th>1348345</th>\n",
       "      <td>1</td>\n",
       "      <td>I'm getting know about twitter</td>\n",
       "    </tr>\n",
       "    <tr>\n",
       "      <th>1127353</th>\n",
       "      <td>1</td>\n",
       "      <td>@paigeoneill why? ahahaa. not that im not, i j...</td>\n",
       "    </tr>\n",
       "    <tr>\n",
       "      <th>480304</th>\n",
       "      <td>0</td>\n",
       "      <td>My body won't me sleep after 8:30.</td>\n",
       "    </tr>\n",
       "    <tr>\n",
       "      <th>415854</th>\n",
       "      <td>0</td>\n",
       "      <td>@loveisaliexx u and me both &amp;lt;3 how are you ...</td>\n",
       "    </tr>\n",
       "    <tr>\n",
       "      <th>807142</th>\n",
       "      <td>1</td>\n",
       "      <td>I want a george bush. Someone should come pick...</td>\n",
       "    </tr>\n",
       "    <tr>\n",
       "      <th>1013364</th>\n",
       "      <td>1</td>\n",
       "      <td>Well all I can say is the English had better w...</td>\n",
       "    </tr>\n",
       "    <tr>\n",
       "      <th>1280264</th>\n",
       "      <td>1</td>\n",
       "      <td>@on_point one of many it turns out</td>\n",
       "    </tr>\n",
       "    <tr>\n",
       "      <th>1434845</th>\n",
       "      <td>1</td>\n",
       "      <td>Did you know u can sub to any blog EVEN if doe...</td>\n",
       "    </tr>\n",
       "    <tr>\n",
       "      <th>1450820</th>\n",
       "      <td>1</td>\n",
       "      <td>Brisbane - Toyota - Hiace - 1984 - $3,900  - n...</td>\n",
       "    </tr>\n",
       "    <tr>\n",
       "      <th>1327524</th>\n",
       "      <td>1</td>\n",
       "      <td>@teacherericka Ricka! PreBeachaby sleepover ur...</td>\n",
       "    </tr>\n",
       "  </tbody>\n",
       "</table>\n",
       "</div>"
      ]
     },
     "execution_count": 132,
     "metadata": {},
     "output_type": "execute_result"
    }
   ],
   "execution_count": 132
  },
  {
   "metadata": {
    "ExecuteTime": {
     "end_time": "2025-03-22T19:59:06.689289Z",
     "start_time": "2025-03-22T19:59:06.682991Z"
    }
   },
   "cell_type": "code",
   "source": [
    "#Checking if any null values present\n",
    "(data.isnull().sum() / len(data))*100"
   ],
   "outputs": [
    {
     "data": {
      "text/plain": [
       "polarity    0.0\n",
       "text        0.0\n",
       "dtype: float64"
      ]
     },
     "execution_count": 133,
     "metadata": {},
     "output_type": "execute_result"
    }
   ],
   "execution_count": 133
  },
  {
   "metadata": {
    "ExecuteTime": {
     "end_time": "2025-03-22T19:59:06.758920Z",
     "start_time": "2025-03-22T19:59:06.754614Z"
    }
   },
   "cell_type": "code",
   "source": [
    "#convrting pandas object to a string type\n",
    "data['text'] = data['text'].astype('str')"
   ],
   "outputs": [],
   "execution_count": 134
  },
  {
   "metadata": {
    "ExecuteTime": {
     "end_time": "2025-03-22T19:59:06.807975Z",
     "start_time": "2025-03-22T19:59:06.804111Z"
    }
   },
   "cell_type": "code",
   "source": [
    "nltk.download('stopwords')\n",
    "stopword = set(stopwords.words('english'))\n",
    "print(stopword)"
   ],
   "outputs": [
    {
     "name": "stdout",
     "output_type": "stream",
     "text": [
      "{'hadn', 're', 'more', 'until', 'no', 'very', 'ma', 'ours', 'what', 'she', 'how', 'above', 'an', 'our', \"he'd\", 'each', 'both', \"she'll\", 'mustn', 'should', 'll', 'with', 'below', 'down', \"haven't\", 'have', 'as', 't', 'its', 'been', \"they've\", 'all', 'but', \"i'd\", 'me', 'won', 'needn', 'just', 'was', \"shouldn't\", 'will', 'doing', \"you've\", 'their', 'because', \"wouldn't\", 'theirs', 'so', \"isn't\", \"won't\", 'don', 'hers', 'herself', 'o', 'from', 'few', \"i've\", 'too', \"they're\", \"mightn't\", 'under', 'weren', \"needn't\", \"hasn't\", 'against', 'hasn', 'and', 'yourselves', \"aren't\", 'than', 've', 'most', 'i', \"shan't\", 'be', 'd', 'shan', \"we're\", \"he's\", 'again', \"they'll\", 'off', 'up', \"we'll\", 'they', 'this', 'those', 'your', 'to', 'has', 'or', 'ourselves', 'them', 'is', 'had', 'being', \"they'd\", 'a', 'couldn', \"mustn't\", 's', 'same', 'y', 'other', 'such', 'there', 'why', 'nor', \"you're\", \"don't\", 'my', 'themselves', 'while', 'having', 'myself', \"he'll\", 'did', 'once', \"it'll\", 'we', 'after', 'haven', \"didn't\", 'if', 'his', \"should've\", 'these', 'here', \"i'm\", 'on', \"you'll\", 'that', 'further', 'through', 'into', 'own', 'it', 'only', 'he', 'itself', 'out', 'does', 'himself', 'where', 'yourself', \"couldn't\", 'who', 'about', 'aren', 'before', 'wouldn', 'yours', \"hadn't\", 'over', \"wasn't\", 'him', 'am', 'for', 'now', 'didn', \"she'd\", 'by', \"weren't\", 'in', 'isn', \"you'd\", \"we've\", 'do', \"she's\", 'you', 'of', \"it's\", \"doesn't\", 'not', 'then', 'any', 'wasn', 'ain', 'some', 'her', 'mightn', 'at', 'the', 'were', 'when', 'between', 'during', 'are', 'm', 'shouldn', 'doesn', \"that'll\", 'which', 'whom', \"we'd\", \"it'd\", \"i'll\", 'can'}\n"
     ]
    },
    {
     "name": "stderr",
     "output_type": "stream",
     "text": [
      "[nltk_data] Downloading package stopwords to\n",
      "[nltk_data]     /Users/zhaijingjing/nltk_data...\n",
      "[nltk_data]   Package stopwords is already up-to-date!\n"
     ]
    }
   ],
   "execution_count": 135
  },
  {
   "metadata": {
    "ExecuteTime": {
     "end_time": "2025-03-22T19:59:06.837893Z",
     "start_time": "2025-03-22T19:59:06.834258Z"
    }
   },
   "cell_type": "code",
   "source": [
    "nltk.download('punkt')\n",
    "nltk.download('wordnet')\n",
    "nltk.download('punkt_tab')"
   ],
   "outputs": [
    {
     "name": "stderr",
     "output_type": "stream",
     "text": [
      "[nltk_data] Downloading package punkt to\n",
      "[nltk_data]     /Users/zhaijingjing/nltk_data...\n",
      "[nltk_data]   Package punkt is already up-to-date!\n",
      "[nltk_data] Downloading package wordnet to\n",
      "[nltk_data]     /Users/zhaijingjing/nltk_data...\n",
      "[nltk_data]   Package wordnet is already up-to-date!\n",
      "[nltk_data] Downloading package punkt_tab to\n",
      "[nltk_data]     /Users/zhaijingjing/nltk_data...\n",
      "[nltk_data]   Package punkt_tab is already up-to-date!\n"
     ]
    },
    {
     "data": {
      "text/plain": [
       "True"
      ]
     },
     "execution_count": 136,
     "metadata": {},
     "output_type": "execute_result"
    }
   ],
   "execution_count": 136
  },
  {
   "metadata": {
    "ExecuteTime": {
     "end_time": "2025-03-22T19:59:06.873140Z",
     "start_time": "2025-03-22T19:59:06.868653Z"
    }
   },
   "cell_type": "code",
   "source": [
    "urlPattern = r\"((http://)[^ ]*|(https://)[^ ]*|( www\\.)[^ ]*)\"\n",
    "userPattern = '@[^\\s]+'\n",
    "def process_tweets_negation_handling_fix(tweet):\n",
    "    # Lower Casing\n",
    "    tweet = tweet.lower()\n",
    "    #tweet=tweet[1:]\n",
    "    # Removing all URls\n",
    "    tweet = re.sub(urlPattern,'',tweet)\n",
    "    # Removing all @username.\n",
    "    tweet = re.sub(userPattern,'', tweet)\n",
    "    # 移除非字母数字、空格和'的字符\n",
    "    tweet = re.sub(r\"[^\\w\\s']\", '', tweet)\n",
    "    # --- 特殊否定缩写处理 ---\n",
    "    # 1. 明确处理 can't → cannot\n",
    "    tweet = re.sub(r\"\\bcan't\\b\", \"cannot\", tweet)\n",
    "    # 2. 处理 won't → will not\n",
    "    tweet = re.sub(r\"\\bwon't\\b\", \"will not\", tweet)\n",
    "    # 3. 处理 shan't → shall not\n",
    "    tweet = re.sub(r\"\\bshan't\\b\", \"shall not\", tweet)\n",
    "    # 4. 处理 ain't → is not\n",
    "    tweet = re.sub(r\"\\bain't\\b\", \"is not\", tweet)\n",
    "    # --- 通用n't处理 ---\n",
    "    # 将剩余n't替换为 not（如didn't → did not）\n",
    "    tweet = re.sub(r\"n't\\b\", \" not\", tweet)\n",
    "    # --- 处理其他撇号为空格（如I'll → I ll）---\n",
    "    tweet = re.sub(r\"'\", ' ', tweet)\n",
    "\n",
    "    #tokenizing words\n",
    "    tokens = word_tokenize(tweet)\n",
    "    # Remove punctuations but remain ‘n't’\n",
    "    final_tokens = tokens\n",
    "    #reducing a word to its word stem\n",
    "    wordLemm = WordNetLemmatizer()\n",
    "    finalwords=[]\n",
    "\n",
    "    for w in tokens:\n",
    "        if len(w) > 1:\n",
    "            # 动词词性还原（解决 does→doe 问题）\n",
    "            word = wordLemm.lemmatize(w, pos='v')\n",
    "            # 名词词性还原（根据任务需求）\n",
    "            word = wordLemm.lemmatize(word, pos='n')\n",
    "            finalwords.append(word)\n",
    "    return ' '.join(finalwords)"
   ],
   "outputs": [],
   "execution_count": 137
  },
  {
   "metadata": {
    "ExecuteTime": {
     "end_time": "2025-03-22T19:59:08.910432Z",
     "start_time": "2025-03-22T19:59:06.904299Z"
    }
   },
   "cell_type": "code",
   "source": [
    "data['processed_tweets'] = data['text'].apply(lambda x: process_tweets_negation_handling_fix(x))\n",
    "print('Text Preprocessing complete.')"
   ],
   "outputs": [
    {
     "name": "stdout",
     "output_type": "stream",
     "text": [
      "Text Preprocessing complete.\n"
     ]
    }
   ],
   "execution_count": 138
  },
  {
   "metadata": {
    "ExecuteTime": {
     "end_time": "2025-03-22T19:59:08.928082Z",
     "start_time": "2025-03-22T19:59:08.922422Z"
    }
   },
   "cell_type": "code",
   "source": "data.head(10)",
   "outputs": [
    {
     "data": {
      "text/plain": [
       "         polarity                                               text  \\\n",
       "1348345         1                    I'm getting know about twitter    \n",
       "1127353         1  @paigeoneill why? ahahaa. not that im not, i j...   \n",
       "480304          0                My body won't me sleep after 8:30.    \n",
       "415854          0  @loveisaliexx u and me both &lt;3 how are you ...   \n",
       "807142          1  I want a george bush. Someone should come pick...   \n",
       "1013364         1  Well all I can say is the English had better w...   \n",
       "1280264         1                @on_point one of many it turns out    \n",
       "1434845         1  Did you know u can sub to any blog EVEN if doe...   \n",
       "1450820         1  Brisbane - Toyota - Hiace - 1984 - $3,900  - n...   \n",
       "1327524         1  @teacherericka Ricka! PreBeachaby sleepover ur...   \n",
       "\n",
       "                                          processed_tweets  \n",
       "1348345                      im getting know about twitter  \n",
       "1127353       why ahahaa not_that im not_just want to know  \n",
       "480304                     my body wont me sleep after 830  \n",
       "415854        and me both lt3 how are you babygirl miss ya  \n",
       "807142     want george bush someone should come pick me up  \n",
       "1013364  well all can say is the english had better wat...  \n",
       "1280264                            one of many it turn out  \n",
       "1434845  did you know can sub to any blog even if doesn...  \n",
       "1450820  brisbane toyota hiace 1984 3900 new ad receive...  \n",
       "1327524  ricka prebeachaby sleepover ur place what do s...  "
      ],
      "text/html": [
       "<div>\n",
       "<style scoped>\n",
       "    .dataframe tbody tr th:only-of-type {\n",
       "        vertical-align: middle;\n",
       "    }\n",
       "\n",
       "    .dataframe tbody tr th {\n",
       "        vertical-align: top;\n",
       "    }\n",
       "\n",
       "    .dataframe thead th {\n",
       "        text-align: right;\n",
       "    }\n",
       "</style>\n",
       "<table border=\"1\" class=\"dataframe\">\n",
       "  <thead>\n",
       "    <tr style=\"text-align: right;\">\n",
       "      <th></th>\n",
       "      <th>polarity</th>\n",
       "      <th>text</th>\n",
       "      <th>processed_tweets</th>\n",
       "    </tr>\n",
       "  </thead>\n",
       "  <tbody>\n",
       "    <tr>\n",
       "      <th>1348345</th>\n",
       "      <td>1</td>\n",
       "      <td>I'm getting know about twitter</td>\n",
       "      <td>im getting know about twitter</td>\n",
       "    </tr>\n",
       "    <tr>\n",
       "      <th>1127353</th>\n",
       "      <td>1</td>\n",
       "      <td>@paigeoneill why? ahahaa. not that im not, i j...</td>\n",
       "      <td>why ahahaa not_that im not_just want to know</td>\n",
       "    </tr>\n",
       "    <tr>\n",
       "      <th>480304</th>\n",
       "      <td>0</td>\n",
       "      <td>My body won't me sleep after 8:30.</td>\n",
       "      <td>my body wont me sleep after 830</td>\n",
       "    </tr>\n",
       "    <tr>\n",
       "      <th>415854</th>\n",
       "      <td>0</td>\n",
       "      <td>@loveisaliexx u and me both &amp;lt;3 how are you ...</td>\n",
       "      <td>and me both lt3 how are you babygirl miss ya</td>\n",
       "    </tr>\n",
       "    <tr>\n",
       "      <th>807142</th>\n",
       "      <td>1</td>\n",
       "      <td>I want a george bush. Someone should come pick...</td>\n",
       "      <td>want george bush someone should come pick me up</td>\n",
       "    </tr>\n",
       "    <tr>\n",
       "      <th>1013364</th>\n",
       "      <td>1</td>\n",
       "      <td>Well all I can say is the English had better w...</td>\n",
       "      <td>well all can say is the english had better wat...</td>\n",
       "    </tr>\n",
       "    <tr>\n",
       "      <th>1280264</th>\n",
       "      <td>1</td>\n",
       "      <td>@on_point one of many it turns out</td>\n",
       "      <td>one of many it turn out</td>\n",
       "    </tr>\n",
       "    <tr>\n",
       "      <th>1434845</th>\n",
       "      <td>1</td>\n",
       "      <td>Did you know u can sub to any blog EVEN if doe...</td>\n",
       "      <td>did you know can sub to any blog even if doesn...</td>\n",
       "    </tr>\n",
       "    <tr>\n",
       "      <th>1450820</th>\n",
       "      <td>1</td>\n",
       "      <td>Brisbane - Toyota - Hiace - 1984 - $3,900  - n...</td>\n",
       "      <td>brisbane toyota hiace 1984 3900 new ad receive...</td>\n",
       "    </tr>\n",
       "    <tr>\n",
       "      <th>1327524</th>\n",
       "      <td>1</td>\n",
       "      <td>@teacherericka Ricka! PreBeachaby sleepover ur...</td>\n",
       "      <td>ricka prebeachaby sleepover ur place what do s...</td>\n",
       "    </tr>\n",
       "  </tbody>\n",
       "</table>\n",
       "</div>"
      ]
     },
     "execution_count": 139,
     "metadata": {},
     "output_type": "execute_result"
    }
   ],
   "execution_count": 139
  },
  {
   "metadata": {},
   "cell_type": "markdown",
   "source": "# RNN - LSTM"
  },
  {
   "metadata": {
    "ExecuteTime": {
     "end_time": "2025-03-22T19:59:08.972248Z",
     "start_time": "2025-03-22T19:59:08.968785Z"
    }
   },
   "cell_type": "code",
   "source": [
    "from keras.models import Sequential\n",
    "from keras.layers import Dense, Embedding, LSTM, Dropout\n",
    "from sklearn.feature_extraction.text import CountVectorizer\n",
    "from tensorflow.keras.preprocessing.text import Tokenizer\n",
    "from tensorflow.keras.preprocessing.sequence import pad_sequences\n",
    "from tensorflow.keras.utils import to_categorical\n",
    "import re\n",
    "import keras\n",
    "from keras import regularizers\n",
    "from keras.models import Sequential\n",
    "from keras import layers\n",
    "from keras import regularizers\n",
    "from keras import backend as K\n",
    "from keras.callbacks import ModelCheckpoint\n",
    "from tensorflow.keras.optimizers import Adam\n",
    "from keras.layers import Dense, Embedding, LSTM, Dropout, BatchNormalization, LeakyReLU"
   ],
   "outputs": [],
   "execution_count": 140
  },
  {
   "metadata": {},
   "cell_type": "markdown",
   "source": "## Hyperparameters"
  },
  {
   "metadata": {
    "ExecuteTime": {
     "end_time": "2025-03-22T19:59:09.011715Z",
     "start_time": "2025-03-22T19:59:09.006344Z"
    }
   },
   "cell_type": "code",
   "source": [
    "num_epochs = 10\n",
    "max_len = 200\n",
    "hidden_units = 4\n",
    "LSTM_units = 32\n",
    "max_words = 5000\n",
    "embedding_dim = 64\n",
    "learning_rate = 0.001\n",
    "dropout = 0.0\n",
    "\n",
    "results = {}\n",
    "params_history = {}\n",
    "\n",
    "# 激活函数组合\n",
    "# 自定义 Sign Function\n",
    "from tensorflow.keras import backend as K\n",
    "def sign_activation(x):\n",
    "    return K.sign(x)\n",
    "\n",
    "hidden_activations = {'ReLU': 'relu', 'LeakyReLU': layers.LeakyReLU(), 'ELU': 'elu'}\n",
    "output_activations = {'Sign Function': sign_activation, 'Sigmoid': 'sigmoid', 'Tanh': 'tanh'}\n"
   ],
   "outputs": [],
   "execution_count": 141
  },
  {
   "metadata": {},
   "cell_type": "markdown",
   "source": "## Converting text data into sequences"
  },
  {
   "metadata": {
    "ExecuteTime": {
     "end_time": "2025-03-22T19:59:09.484333Z",
     "start_time": "2025-03-22T19:59:09.060962Z"
    }
   },
   "cell_type": "code",
   "source": [
    "# Initialize the tokenizer, keeping only the top 'max_words' most frequent words\n",
    "tokenizer = Tokenizer(num_words=max_words)\n",
    "# Fit the tokenizer on the processed tweets to build the word index\n",
    "tokenizer.fit_on_texts(data.processed_tweets)\n",
    "# Convert each tweet (text) into a sequence of integer indices based on the word index\n",
    "sequences = tokenizer.texts_to_sequences(data.processed_tweets)\n",
    "\n",
    "# Pad or truncate all sequences to the same length ('max_len')\n",
    "# - If a sequence is shorter than 'max_len', it will be padded with zeros at the beginning.\n",
    "# - If a sequence is longer than 'max_len', it will be truncated from the beginning.\n",
    "tweets = pad_sequences(sequences, maxlen=max_len)\n",
    "print(tweets)"
   ],
   "outputs": [
    {
     "name": "stdout",
     "output_type": "stream",
     "text": [
      "[[   0    0    0 ...   56   52   99]\n",
      " [   0    0    0 ...   59    1   56]\n",
      " [   0    0    0 ...  110  146 2970]\n",
      " ...\n",
      " [   0    0    0 ...  908   24  307]\n",
      " [   0    0    0 ...   48    8  190]\n",
      " [   0    0    0 ... 1194   16   67]]\n"
     ]
    }
   ],
   "execution_count": 142
  },
  {
   "metadata": {},
   "cell_type": "markdown",
   "source": "## Split Traning and Test data"
  },
  {
   "metadata": {
    "ExecuteTime": {
     "end_time": "2025-03-22T19:59:09.505512Z",
     "start_time": "2025-03-22T19:59:09.497087Z"
    }
   },
   "cell_type": "code",
   "source": [
    "train_data, test_data, train_label, test_label = train_test_split(tweets, data.polarity.values, test_size=0.2, random_state=101)\n",
    "print(np.unique(train_label))\n",
    "print(np.unique(test_label))"
   ],
   "outputs": [
    {
     "name": "stdout",
     "output_type": "stream",
     "text": [
      "[0 1]\n",
      "[0 1]\n"
     ]
    }
   ],
   "execution_count": 143
  },
  {
   "metadata": {},
   "cell_type": "markdown",
   "source": "## Creating and Traning LSTM Model"
  },
  {
   "metadata": {
    "ExecuteTime": {
     "end_time": "2025-03-22T19:59:09.522052Z",
     "start_time": "2025-03-22T19:59:09.518233Z"
    }
   },
   "cell_type": "code",
   "source": [
    "def create_lstm_model(hidden_act_name, hidden_act, output_act):\n",
    "    model = Sequential()\n",
    "    model.add(layers.Embedding(max_words, embedding_dim))\n",
    "    model.add(layers.LSTM(LSTM_units, dropout=dropout))\n",
    "    model.add(layers.Dense(hidden_units, activation=hidden_act))\n",
    "    model.add(layers.Dense(hidden_units, activation=hidden_act))\n",
    "    model.add(layers.Dense(hidden_units, activation=hidden_act))\n",
    "    model.add(layers.Dense(1, activation=output_act))\n",
    "    optimizer = Adam(learning_rate=learning_rate)\n",
    "    model.compile(optimizer=optimizer, loss='binary_crossentropy', metrics=['accuracy'])\n",
    "    return model"
   ],
   "outputs": [],
   "execution_count": 144
  },
  {
   "metadata": {
    "ExecuteTime": {
     "end_time": "2025-03-22T20:34:47.822523Z",
     "start_time": "2025-03-22T19:59:09.538738Z"
    }
   },
   "cell_type": "code",
   "source": [
    "models = {}\n",
    "for hidden_act_name, hidden_act in hidden_activations.items():\n",
    "    for output_act_name, output_act in output_activations.items():\n",
    "        print(f\"Training with Hidden Activation: {hidden_act_name}, Output Layer Activation: {output_act_name}...\")\n",
    "\n",
    "        model = create_lstm_model(hidden_act_name, hidden_act, output_act)\n",
    "\n",
    "        history = model.fit(\n",
    "            train_data, train_label,\n",
    "            epochs=num_epochs,\n",
    "            validation_data=(test_data, test_label),\n",
    "            verbose=2\n",
    "        )\n",
    "\n",
    "        results[(hidden_act_name, output_act_name)] = {\n",
    "            'train_acc': history.history['accuracy'][-1],\n",
    "            'test_acc': history.history['val_accuracy'][-1]\n",
    "        }\n",
    "\n",
    "        params_history[(hidden_act_name, output_act_name)] = model.count_params()\n",
    "        models[(hidden_act_name, output_act_name)] = model"
   ],
   "outputs": [
    {
     "name": "stdout",
     "output_type": "stream",
     "text": [
      "Training with Hidden Activation: ReLU, Output Layer Activation: Sign Function...\n",
      "Epoch 1/10\n",
      "500/500 - 19s - 37ms/step - accuracy: 0.5072 - loss: 7.8716 - val_accuracy: 0.5255 - val_loss: 7.5765\n",
      "Epoch 2/10\n",
      "500/500 - 17s - 35ms/step - accuracy: 0.5085 - loss: 7.8504 - val_accuracy: 0.5255 - val_loss: 7.5765\n",
      "Epoch 3/10\n",
      "500/500 - 18s - 35ms/step - accuracy: 0.5041 - loss: 7.9218 - val_accuracy: 0.5255 - val_loss: 7.5765\n",
      "Epoch 4/10\n",
      "500/500 - 17s - 35ms/step - accuracy: 0.5049 - loss: 7.9088 - val_accuracy: 0.5255 - val_loss: 7.5765\n",
      "Epoch 5/10\n",
      "500/500 - 18s - 36ms/step - accuracy: 0.5069 - loss: 7.8756 - val_accuracy: 0.5255 - val_loss: 7.5765\n",
      "Epoch 6/10\n",
      "500/500 - 17s - 34ms/step - accuracy: 0.5111 - loss: 7.8091 - val_accuracy: 0.5255 - val_loss: 7.5765\n",
      "Epoch 7/10\n",
      "500/500 - 17s - 35ms/step - accuracy: 0.5102 - loss: 7.8224 - val_accuracy: 0.5255 - val_loss: 7.5765\n",
      "Epoch 8/10\n",
      "500/500 - 17s - 34ms/step - accuracy: 0.5077 - loss: 7.8638 - val_accuracy: 0.5255 - val_loss: 7.5765\n",
      "Epoch 9/10\n",
      "500/500 - 17s - 34ms/step - accuracy: 0.5117 - loss: 7.7988 - val_accuracy: 0.5255 - val_loss: 7.5765\n",
      "Epoch 10/10\n",
      "500/500 - 17s - 34ms/step - accuracy: 0.5099 - loss: 7.8272 - val_accuracy: 0.5255 - val_loss: 7.5765\n",
      "Training with Hidden Activation: ReLU, Output Layer Activation: Sigmoid...\n",
      "Epoch 1/10\n",
      "500/500 - 19s - 38ms/step - accuracy: 0.6911 - loss: 0.5801 - val_accuracy: 0.7498 - val_loss: 0.4985\n",
      "Epoch 2/10\n",
      "500/500 - 18s - 36ms/step - accuracy: 0.7900 - loss: 0.4569 - val_accuracy: 0.7535 - val_loss: 0.4970\n",
      "Epoch 3/10\n",
      "500/500 - 18s - 35ms/step - accuracy: 0.8169 - loss: 0.4105 - val_accuracy: 0.7577 - val_loss: 0.5008\n",
      "Epoch 4/10\n",
      "500/500 - 18s - 35ms/step - accuracy: 0.8357 - loss: 0.3756 - val_accuracy: 0.7538 - val_loss: 0.5268\n",
      "Epoch 5/10\n",
      "500/500 - 17s - 35ms/step - accuracy: 0.8485 - loss: 0.3454 - val_accuracy: 0.7575 - val_loss: 0.5570\n",
      "Epoch 6/10\n",
      "500/500 - 17s - 35ms/step - accuracy: 0.8633 - loss: 0.3136 - val_accuracy: 0.7540 - val_loss: 0.5925\n",
      "Epoch 7/10\n",
      "500/500 - 18s - 36ms/step - accuracy: 0.8736 - loss: 0.2888 - val_accuracy: 0.7567 - val_loss: 0.6574\n",
      "Epoch 8/10\n",
      "500/500 - 18s - 36ms/step - accuracy: 0.8814 - loss: 0.2665 - val_accuracy: 0.7500 - val_loss: 0.6887\n",
      "Epoch 9/10\n",
      "500/500 - 17s - 35ms/step - accuracy: 0.8892 - loss: 0.2472 - val_accuracy: 0.7467 - val_loss: 0.7210\n",
      "Epoch 10/10\n",
      "500/500 - 18s - 35ms/step - accuracy: 0.8957 - loss: 0.2314 - val_accuracy: 0.7430 - val_loss: 0.7645\n",
      "Training with Hidden Activation: ReLU, Output Layer Activation: Tanh...\n",
      "Epoch 1/10\n",
      "500/500 - 19s - 39ms/step - accuracy: 0.6371 - loss: 0.6559 - val_accuracy: 0.7312 - val_loss: 0.5612\n",
      "Epoch 2/10\n",
      "500/500 - 19s - 37ms/step - accuracy: 0.7713 - loss: 0.4914 - val_accuracy: 0.7582 - val_loss: 0.5145\n",
      "Epoch 3/10\n",
      "500/500 - 18s - 36ms/step - accuracy: 0.8106 - loss: 0.4223 - val_accuracy: 0.7533 - val_loss: 0.5120\n",
      "Epoch 4/10\n",
      "500/500 - 18s - 35ms/step - accuracy: 0.8336 - loss: 0.3803 - val_accuracy: 0.7565 - val_loss: 0.5176\n",
      "Epoch 5/10\n",
      "500/500 - 18s - 35ms/step - accuracy: 0.8497 - loss: 0.3458 - val_accuracy: 0.7540 - val_loss: 0.5690\n",
      "Epoch 6/10\n",
      "500/500 - 17s - 35ms/step - accuracy: 0.8634 - loss: 0.3212 - val_accuracy: 0.7502 - val_loss: 0.5965\n",
      "Epoch 7/10\n",
      "500/500 - 17s - 34ms/step - accuracy: 0.8754 - loss: 0.2956 - val_accuracy: 0.7485 - val_loss: 0.6570\n",
      "Epoch 8/10\n",
      "500/500 - 17s - 35ms/step - accuracy: 0.8900 - loss: 0.2719 - val_accuracy: 0.7455 - val_loss: 0.7700\n",
      "Epoch 9/10\n",
      "500/500 - 18s - 35ms/step - accuracy: 0.8989 - loss: 0.2538 - val_accuracy: 0.7365 - val_loss: 0.6575\n",
      "Epoch 10/10\n",
      "500/500 - 17s - 35ms/step - accuracy: 0.9040 - loss: 0.2353 - val_accuracy: 0.7383 - val_loss: 0.7937\n",
      "Training with Hidden Activation: LeakyReLU, Output Layer Activation: Sign Function...\n",
      "Epoch 1/10\n",
      "500/500 - 20s - 41ms/step - accuracy: 0.4997 - loss: 8.0252 - val_accuracy: 0.4983 - val_loss: 8.0502\n",
      "Epoch 2/10\n",
      "500/500 - 18s - 35ms/step - accuracy: 0.5061 - loss: 7.9236 - val_accuracy: 0.4983 - val_loss: 8.0502\n",
      "Epoch 3/10\n",
      "500/500 - 18s - 36ms/step - accuracy: 0.5048 - loss: 7.9451 - val_accuracy: 0.4983 - val_loss: 8.0502\n",
      "Epoch 4/10\n",
      "500/500 - 18s - 36ms/step - accuracy: 0.4984 - loss: 8.0471 - val_accuracy: 0.4983 - val_loss: 8.0502\n",
      "Epoch 5/10\n",
      "500/500 - 18s - 36ms/step - accuracy: 0.5019 - loss: 7.9899 - val_accuracy: 0.4983 - val_loss: 8.0502\n",
      "Epoch 6/10\n",
      "500/500 - 18s - 36ms/step - accuracy: 0.4988 - loss: 8.0395 - val_accuracy: 0.4983 - val_loss: 8.0502\n",
      "Epoch 7/10\n",
      "500/500 - 18s - 37ms/step - accuracy: 0.4996 - loss: 8.0279 - val_accuracy: 0.4983 - val_loss: 8.0502\n",
      "Epoch 8/10\n",
      "500/500 - 18s - 35ms/step - accuracy: 0.5062 - loss: 7.9219 - val_accuracy: 0.4983 - val_loss: 8.0502\n",
      "Epoch 9/10\n",
      "500/500 - 18s - 36ms/step - accuracy: 0.4987 - loss: 8.0419 - val_accuracy: 0.4983 - val_loss: 8.0502\n",
      "Epoch 10/10\n",
      "500/500 - 18s - 36ms/step - accuracy: 0.5044 - loss: 7.9501 - val_accuracy: 0.4983 - val_loss: 8.0502\n",
      "Training with Hidden Activation: LeakyReLU, Output Layer Activation: Sigmoid...\n",
      "Epoch 1/10\n",
      "500/500 - 19s - 39ms/step - accuracy: 0.6883 - loss: 0.5737 - val_accuracy: 0.7540 - val_loss: 0.5049\n",
      "Epoch 2/10\n",
      "500/500 - 17s - 35ms/step - accuracy: 0.7904 - loss: 0.4537 - val_accuracy: 0.7483 - val_loss: 0.5032\n",
      "Epoch 3/10\n",
      "500/500 - 18s - 36ms/step - accuracy: 0.8177 - loss: 0.4049 - val_accuracy: 0.7460 - val_loss: 0.5358\n",
      "Epoch 4/10\n",
      "500/500 - 18s - 35ms/step - accuracy: 0.8388 - loss: 0.3682 - val_accuracy: 0.7555 - val_loss: 0.5337\n",
      "Epoch 5/10\n",
      "500/500 - 17s - 34ms/step - accuracy: 0.8561 - loss: 0.3357 - val_accuracy: 0.7500 - val_loss: 0.5687\n",
      "Epoch 6/10\n",
      "500/500 - 17s - 34ms/step - accuracy: 0.8724 - loss: 0.3045 - val_accuracy: 0.7527 - val_loss: 0.5862\n",
      "Epoch 7/10\n",
      "500/500 - 17s - 34ms/step - accuracy: 0.8842 - loss: 0.2772 - val_accuracy: 0.7552 - val_loss: 0.6143\n",
      "Epoch 8/10\n",
      "500/500 - 18s - 35ms/step - accuracy: 0.8926 - loss: 0.2555 - val_accuracy: 0.7467 - val_loss: 0.6260\n",
      "Epoch 9/10\n",
      "500/500 - 17s - 34ms/step - accuracy: 0.8968 - loss: 0.2413 - val_accuracy: 0.7420 - val_loss: 0.7539\n",
      "Epoch 10/10\n",
      "500/500 - 18s - 35ms/step - accuracy: 0.9077 - loss: 0.2169 - val_accuracy: 0.7352 - val_loss: 0.8311\n",
      "Training with Hidden Activation: LeakyReLU, Output Layer Activation: Tanh...\n",
      "Epoch 1/10\n",
      "500/500 - 19s - 38ms/step - accuracy: 0.6417 - loss: 0.6472 - val_accuracy: 0.7147 - val_loss: 0.5642\n",
      "Epoch 2/10\n",
      "500/500 - 17s - 35ms/step - accuracy: 0.7602 - loss: 0.5036 - val_accuracy: 0.7527 - val_loss: 0.4988\n",
      "Epoch 3/10\n",
      "500/500 - 17s - 35ms/step - accuracy: 0.8041 - loss: 0.4350 - val_accuracy: 0.7492 - val_loss: 0.5017\n",
      "Epoch 4/10\n",
      "500/500 - 18s - 37ms/step - accuracy: 0.8264 - loss: 0.4009 - val_accuracy: 0.7527 - val_loss: 0.5184\n",
      "Epoch 5/10\n",
      "500/500 - 17s - 35ms/step - accuracy: 0.8446 - loss: 0.3658 - val_accuracy: 0.7548 - val_loss: 0.5758\n",
      "Epoch 6/10\n",
      "500/500 - 17s - 35ms/step - accuracy: 0.8388 - loss: 0.3685 - val_accuracy: 0.7498 - val_loss: 0.6664\n",
      "Epoch 7/10\n",
      "500/500 - 17s - 35ms/step - accuracy: 0.8543 - loss: 0.3472 - val_accuracy: 0.7508 - val_loss: 0.7016\n",
      "Epoch 8/10\n",
      "500/500 - 17s - 35ms/step - accuracy: 0.8652 - loss: 0.3215 - val_accuracy: 0.7445 - val_loss: 0.7838\n",
      "Epoch 9/10\n",
      "500/500 - 17s - 35ms/step - accuracy: 0.8726 - loss: 0.3023 - val_accuracy: 0.7445 - val_loss: 0.8159\n",
      "Epoch 10/10\n",
      "500/500 - 18s - 36ms/step - accuracy: 0.8856 - loss: 0.2813 - val_accuracy: 0.7435 - val_loss: 0.9787\n",
      "Training with Hidden Activation: ELU, Output Layer Activation: Sign Function...\n",
      "Epoch 1/10\n",
      "500/500 - 19s - 37ms/step - accuracy: 0.4893 - loss: 8.1962 - val_accuracy: 0.4715 - val_loss: 8.4846\n",
      "Epoch 2/10\n",
      "500/500 - 18s - 36ms/step - accuracy: 0.4893 - loss: 8.1967 - val_accuracy: 0.4715 - val_loss: 8.4846\n",
      "Epoch 3/10\n",
      "500/500 - 18s - 36ms/step - accuracy: 0.4899 - loss: 8.1857 - val_accuracy: 0.4715 - val_loss: 8.4846\n",
      "Epoch 4/10\n",
      "500/500 - 17s - 35ms/step - accuracy: 0.4873 - loss: 8.2276 - val_accuracy: 0.4715 - val_loss: 8.4846\n",
      "Epoch 5/10\n",
      "500/500 - 18s - 36ms/step - accuracy: 0.4901 - loss: 8.1824 - val_accuracy: 0.4715 - val_loss: 8.4846\n",
      "Epoch 6/10\n",
      "500/500 - 18s - 35ms/step - accuracy: 0.4924 - loss: 8.1463 - val_accuracy: 0.4715 - val_loss: 8.4846\n",
      "Epoch 7/10\n",
      "500/500 - 17s - 35ms/step - accuracy: 0.4881 - loss: 8.2154 - val_accuracy: 0.4715 - val_loss: 8.4846\n",
      "Epoch 8/10\n",
      "500/500 - 17s - 35ms/step - accuracy: 0.4856 - loss: 8.2557 - val_accuracy: 0.4715 - val_loss: 8.4846\n",
      "Epoch 9/10\n",
      "500/500 - 17s - 35ms/step - accuracy: 0.4991 - loss: 8.0386 - val_accuracy: 0.4715 - val_loss: 8.4846\n",
      "Epoch 10/10\n",
      "500/500 - 17s - 35ms/step - accuracy: 0.4930 - loss: 8.1361 - val_accuracy: 0.4715 - val_loss: 8.4846\n",
      "Training with Hidden Activation: ELU, Output Layer Activation: Sigmoid...\n",
      "Epoch 1/10\n",
      "500/500 - 19s - 38ms/step - accuracy: 0.6888 - loss: 0.5795 - val_accuracy: 0.7517 - val_loss: 0.5081\n",
      "Epoch 2/10\n",
      "500/500 - 17s - 35ms/step - accuracy: 0.7909 - loss: 0.4558 - val_accuracy: 0.7592 - val_loss: 0.4921\n",
      "Epoch 3/10\n",
      "500/500 - 18s - 35ms/step - accuracy: 0.8187 - loss: 0.4079 - val_accuracy: 0.7588 - val_loss: 0.5059\n",
      "Epoch 4/10\n",
      "500/500 - 18s - 36ms/step - accuracy: 0.8351 - loss: 0.3773 - val_accuracy: 0.7582 - val_loss: 0.5182\n",
      "Epoch 5/10\n",
      "500/500 - 18s - 36ms/step - accuracy: 0.8508 - loss: 0.3475 - val_accuracy: 0.7555 - val_loss: 0.5370\n",
      "Epoch 6/10\n",
      "500/500 - 18s - 35ms/step - accuracy: 0.8658 - loss: 0.3176 - val_accuracy: 0.7520 - val_loss: 0.5638\n",
      "Epoch 7/10\n",
      "500/500 - 18s - 35ms/step - accuracy: 0.8754 - loss: 0.2894 - val_accuracy: 0.7467 - val_loss: 0.6340\n",
      "Epoch 8/10\n",
      "500/500 - 18s - 35ms/step - accuracy: 0.8878 - loss: 0.2625 - val_accuracy: 0.7435 - val_loss: 0.7560\n",
      "Epoch 9/10\n",
      "500/500 - 18s - 35ms/step - accuracy: 0.8994 - loss: 0.2431 - val_accuracy: 0.7473 - val_loss: 0.7716\n",
      "Epoch 10/10\n",
      "500/500 - 18s - 35ms/step - accuracy: 0.9042 - loss: 0.2266 - val_accuracy: 0.7408 - val_loss: 0.7848\n",
      "Training with Hidden Activation: ELU, Output Layer Activation: Tanh...\n",
      "Epoch 1/10\n",
      "500/500 - 19s - 39ms/step - accuracy: 0.6557 - loss: 0.6525 - val_accuracy: 0.7473 - val_loss: 0.5737\n",
      "Epoch 2/10\n",
      "500/500 - 17s - 35ms/step - accuracy: 0.7552 - loss: 0.5561 - val_accuracy: 0.7483 - val_loss: 0.5997\n",
      "Epoch 3/10\n",
      "500/500 - 17s - 35ms/step - accuracy: 0.7970 - loss: 0.4923 - val_accuracy: 0.7525 - val_loss: 0.5975\n",
      "Epoch 4/10\n",
      "500/500 - 17s - 35ms/step - accuracy: 0.8095 - loss: 0.4604 - val_accuracy: 0.7492 - val_loss: 0.5529\n",
      "Epoch 5/10\n",
      "500/500 - 18s - 36ms/step - accuracy: 0.8299 - loss: 0.4322 - val_accuracy: 0.7533 - val_loss: 0.5473\n",
      "Epoch 6/10\n",
      "500/500 - 18s - 35ms/step - accuracy: 0.8449 - loss: 0.3797 - val_accuracy: 0.7473 - val_loss: 0.7445\n",
      "Epoch 7/10\n",
      "500/500 - 18s - 35ms/step - accuracy: 0.8573 - loss: 0.3671 - val_accuracy: 0.7477 - val_loss: 0.6288\n",
      "Epoch 8/10\n",
      "500/500 - 17s - 34ms/step - accuracy: 0.8662 - loss: 0.3526 - val_accuracy: 0.7435 - val_loss: 0.7004\n",
      "Epoch 9/10\n",
      "500/500 - 18s - 35ms/step - accuracy: 0.8253 - loss: 0.4516 - val_accuracy: 0.7540 - val_loss: 0.7472\n",
      "Epoch 10/10\n",
      "500/500 - 18s - 35ms/step - accuracy: 0.8506 - loss: 0.3937 - val_accuracy: 0.7445 - val_loss: 0.6954\n",
      "Training with Hidden Activation: ReLU+BatchNorm, Output Layer Activation: Sign Function...\n",
      "Epoch 1/10\n",
      "500/500 - 20s - 39ms/step - accuracy: 0.4877 - loss: 8.2095 - val_accuracy: 0.4663 - val_loss: 8.5557\n",
      "Epoch 2/10\n",
      "500/500 - 19s - 37ms/step - accuracy: 0.4845 - loss: 8.2620 - val_accuracy: 0.4710 - val_loss: 8.4804\n",
      "Epoch 3/10\n",
      "500/500 - 18s - 36ms/step - accuracy: 0.4939 - loss: 8.1106 - val_accuracy: 0.4712 - val_loss: 8.4763\n",
      "Epoch 4/10\n",
      "500/500 - 19s - 37ms/step - accuracy: 0.4879 - loss: 8.2072 - val_accuracy: 0.4697 - val_loss: 8.5017\n",
      "Epoch 5/10\n",
      "500/500 - 19s - 38ms/step - accuracy: 0.4952 - loss: 8.0894 - val_accuracy: 0.4683 - val_loss: 8.5255\n",
      "Epoch 6/10\n",
      "500/500 - 18s - 36ms/step - accuracy: 0.4916 - loss: 8.1487 - val_accuracy: 0.4710 - val_loss: 8.4806\n",
      "Epoch 7/10\n",
      "500/500 - 18s - 36ms/step - accuracy: 0.4868 - loss: 8.2250 - val_accuracy: 0.4712 - val_loss: 8.4767\n",
      "Epoch 8/10\n",
      "500/500 - 18s - 35ms/step - accuracy: 0.4856 - loss: 8.2435 - val_accuracy: 0.4712 - val_loss: 8.4768\n",
      "Epoch 9/10\n",
      "500/500 - 18s - 36ms/step - accuracy: 0.4914 - loss: 8.1508 - val_accuracy: 0.4708 - val_loss: 8.4845\n",
      "Epoch 10/10\n",
      "500/500 - 18s - 36ms/step - accuracy: 0.4878 - loss: 8.2090 - val_accuracy: 0.4717 - val_loss: 8.4686\n",
      "Training with Hidden Activation: ReLU+BatchNorm, Output Layer Activation: Sigmoid...\n",
      "Epoch 1/10\n",
      "500/500 - 19s - 39ms/step - accuracy: 0.6818 - loss: 0.5894 - val_accuracy: 0.7220 - val_loss: 0.5455\n",
      "Epoch 2/10\n",
      "500/500 - 17s - 35ms/step - accuracy: 0.7804 - loss: 0.4691 - val_accuracy: 0.7567 - val_loss: 0.4977\n",
      "Epoch 3/10\n",
      "500/500 - 17s - 35ms/step - accuracy: 0.8136 - loss: 0.4181 - val_accuracy: 0.7498 - val_loss: 0.5206\n",
      "Epoch 4/10\n",
      "500/500 - 17s - 35ms/step - accuracy: 0.8358 - loss: 0.3784 - val_accuracy: 0.7595 - val_loss: 0.5378\n",
      "Epoch 5/10\n",
      "500/500 - 17s - 35ms/step - accuracy: 0.8558 - loss: 0.3363 - val_accuracy: 0.7448 - val_loss: 0.5704\n",
      "Epoch 6/10\n",
      "500/500 - 17s - 35ms/step - accuracy: 0.8723 - loss: 0.3058 - val_accuracy: 0.7460 - val_loss: 0.6076\n",
      "Epoch 7/10\n",
      "500/500 - 17s - 35ms/step - accuracy: 0.8836 - loss: 0.2815 - val_accuracy: 0.7462 - val_loss: 0.6461\n",
      "Epoch 8/10\n",
      "500/500 - 17s - 35ms/step - accuracy: 0.8940 - loss: 0.2581 - val_accuracy: 0.7430 - val_loss: 0.7107\n",
      "Epoch 9/10\n",
      "500/500 - 17s - 35ms/step - accuracy: 0.9040 - loss: 0.2374 - val_accuracy: 0.7312 - val_loss: 0.7270\n",
      "Epoch 10/10\n",
      "500/500 - 18s - 35ms/step - accuracy: 0.9113 - loss: 0.2224 - val_accuracy: 0.7380 - val_loss: 0.7610\n",
      "Training with Hidden Activation: ReLU+BatchNorm, Output Layer Activation: Tanh...\n",
      "Epoch 1/10\n",
      "500/500 - 20s - 40ms/step - accuracy: 0.5508 - loss: 1.5966 - val_accuracy: 0.6640 - val_loss: 0.6412\n",
      "Epoch 2/10\n",
      "500/500 - 18s - 35ms/step - accuracy: 0.7123 - loss: 0.6030 - val_accuracy: 0.7138 - val_loss: 0.6486\n",
      "Epoch 3/10\n",
      "500/500 - 18s - 35ms/step - accuracy: 0.7297 - loss: 0.5672 - val_accuracy: 0.5470 - val_loss: 0.8246\n",
      "Epoch 4/10\n",
      "500/500 - 18s - 35ms/step - accuracy: 0.7539 - loss: 0.5284 - val_accuracy: 0.7303 - val_loss: 0.5732\n",
      "Epoch 5/10\n",
      "500/500 - 18s - 35ms/step - accuracy: 0.7999 - loss: 0.4727 - val_accuracy: 0.7340 - val_loss: 0.5938\n",
      "Epoch 6/10\n",
      "500/500 - 18s - 35ms/step - accuracy: 0.8131 - loss: 0.4573 - val_accuracy: 0.7415 - val_loss: 0.6572\n",
      "Epoch 7/10\n",
      "500/500 - 18s - 36ms/step - accuracy: 0.7966 - loss: 0.4655 - val_accuracy: 0.7293 - val_loss: 0.6012\n",
      "Epoch 8/10\n",
      "500/500 - 18s - 36ms/step - accuracy: 0.8345 - loss: 0.4203 - val_accuracy: 0.7272 - val_loss: 0.6289\n",
      "Epoch 9/10\n",
      "500/500 - 18s - 36ms/step - accuracy: 0.8349 - loss: 0.4222 - val_accuracy: 0.7312 - val_loss: 1.0192\n",
      "Epoch 10/10\n",
      "500/500 - 18s - 36ms/step - accuracy: 0.8593 - loss: 0.3961 - val_accuracy: 0.7347 - val_loss: 0.8039\n"
     ]
    }
   ],
   "execution_count": 145
  },
  {
   "metadata": {
    "ExecuteTime": {
     "end_time": "2025-03-22T20:34:48.146660Z",
     "start_time": "2025-03-22T20:34:47.851844Z"
    }
   },
   "cell_type": "code",
   "source": [
    "# 颜色列表\n",
    "colors = ['red', 'orange', 'green', 'blue', 'purple', 'brown', 'pink', 'gray', 'cyan', 'magenta']\n",
    "\n",
    "# 获取所有隐藏层和输出层组合\n",
    "hidden_act_names = list(hidden_activations.keys())\n",
    "output_act_names = list(output_activations.keys())\n",
    "\n",
    "# --- 训练精度折线图 ---\n",
    "plt.figure(figsize=(12, 5))\n",
    "for i, hidden_act in enumerate(hidden_act_names):\n",
    "    train_acc = [results[(hidden_act, output_act)]['train_acc'] for output_act in output_act_names]\n",
    "    plt.plot(output_act_names, train_acc, marker='o', linestyle='-', color=colors[i], label=f\"{hidden_act}\")\n",
    "plt.xlabel(\"Output Layer Activation Function\")\n",
    "plt.ylabel(\"Training Accuracy\")\n",
    "plt.title(\"Training Accuracy for Different Activation Function Combinations\")\n",
    "plt.legend(title=\"Hidden Layer Activation\")\n",
    "plt.xticks(rotation=20)\n",
    "plt.show()\n",
    "\n",
    "# --- 测试精度折线图 ---\n",
    "plt.figure(figsize=(12, 5))\n",
    "for i, hidden_act in enumerate(hidden_act_names):\n",
    "    test_acc = [results[(hidden_act, output_act)]['test_acc'] for output_act in output_act_names]\n",
    "    plt.plot(output_act_names, test_acc, marker='o', linestyle='-', color=colors[i], label=f\"{hidden_act}\")\n",
    "plt.xlabel(\"Output Layer Activation Function\")\n",
    "plt.ylabel(\"Test Accuracy\")\n",
    "plt.title(\"Test Accuracy for Different Activation Function Combinations\")\n",
    "plt.legend(title=\"Hidden Layer Activation\")\n",
    "plt.xticks(rotation=20)\n",
    "plt.show()\n",
    "\n",
    "# --- 参数量变化折线图 ---\n",
    "plt.figure(figsize=(8, 6))\n",
    "for i, hidden_act in enumerate(hidden_act_names):\n",
    "    params = [params_history[(hidden_act, output_act)] for output_act in output_act_names]\n",
    "    plt.plot(output_act_names, params, marker='o', linestyle='-', color=colors[i], label=f\"{hidden_act}\")\n",
    "plt.xlabel(\"Output Layer Activation Function\")\n",
    "plt.ylabel(\"Trainable Parameters\")\n",
    "plt.title(\"Model Parameters for Different Activation Function Combinations\")\n",
    "plt.legend(title=\"Hidden Layer Activation\")\n",
    "plt.xticks(rotation=20)\n",
    "plt.show()"
   ],
   "outputs": [
    {
     "data": {
      "text/plain": [
       "<Figure size 1200x500 with 1 Axes>"
      ],
      "image/png": "[encoded data removed]"
     },
     "metadata": {},
     "output_type": "display_data"
    },
    {
     "data": {
      "text/plain": [
       "<Figure size 1200x500 with 1 Axes>"
      ],
      "image/png": "[encoded data removed]"
     },
     "metadata": {},
     "output_type": "display_data"
    },
    {
     "data": {
      "text/plain": [
       "<Figure size 800x600 with 1 Axes>"
      ],
      "image/png": "[encoded data removed]"
     },
     "metadata": {},
     "output_type": "display_data"
    }
   ],
   "execution_count": 146
  },
  {
   "metadata": {
    "ExecuteTime": {
     "end_time": "2025-03-22T20:34:48.152475Z",
     "start_time": "2025-03-22T20:34:48.150878Z"
    }
   },
   "cell_type": "code",
   "source": "",
   "outputs": [],
   "execution_count": null
  },
  {
   "metadata": {},
   "cell_type": "markdown",
   "source": ""
  }
 ],
 "metadata": {
  "colab": {
   "authorship_tag": "ABX9TyNNag92UMCy1GtgfJ+zFFU1",
   "collapsed_sections": [],
   "name": "DUDL_FFN_aboutMNIST.ipynb",
   "provenance": [
    {
     "file_id": "15cpyHkJ435B4MqbyGjAH1poN4nCy_DE4",
     "timestamp": 1617737766196
    },
    {
     "file_id": "1OLuWuaFu0hcFgkQ2hh5BqbRuqUZD7XcQ",
     "timestamp": 1617734878578
    },
    {
     "file_id": "1XvzVGJPTJifVh8OpZVB7ykLxyUqYwQ1j",
     "timestamp": 1617196833019
    },
    {
     "file_id": "1bv1_y32e3KEExFKKlPfC3rpw1JxmBr8H",
     "timestamp": 1617124341706
    },
    {
     "file_id": "1GMq8u7KyHB2AE7Teyls9gK1T01OduQSn",
     "timestamp": 1616697516760
    },
    {
     "file_id": "1Ui3kyHim-e0XLgDs2mkBxVlYg7TKYtcg",
     "timestamp": 1616615469755
    },
    {
     "file_id": "1YpHocGI4rApOxIBb1ZghCU5L-hFnv4CK",
     "timestamp": 1616608248670
    }
   ]
  },
  "kernelspec": {
   "display_name": "Python (newpipenv)",
   "language": "python",
   "name": "newpipenv"
  },
  "language_info": {
   "codemirror_mode": {
    "name": "ipython",
    "version": 3
   },
   "file_extension": ".py",
   "mimetype": "text/x-python",
   "name": "python",
   "nbconvert_exporter": "python",
   "pygments_lexer": "ipython3",
   "version": "3.10.9"
  }
 },
 "nbformat": 4,
 "nbformat_minor": 1
}
