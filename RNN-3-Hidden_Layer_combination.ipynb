{
 "cells": [
  {
   "cell_type": "code",
   "metadata": {
    "id": "YeuAheYyhdZw",
    "ExecuteTime": {
     "end_time": "2025-03-22T07:33:52.279386Z",
     "start_time": "2025-03-22T07:33:47.409062Z"
    }
   },
   "source": [
    "# import libraries\n",
    "# DataFrame\n",
    "import pandas as pd\n",
    "\n",
    "# plotting\n",
    "import seaborn as sns\n",
    "from wordcloud import WordCloud\n",
    "import matplotlib.pyplot as plt\n",
    "\n",
    "# nltk\n",
    "import nltk\n",
    "from nltk.stem import WordNetLemmatizer\n",
    "from nltk.corpus import stopwords\n",
    "from nltk.tokenize import word_tokenize\n",
    "\n",
    "# sklearny\n",
    "from sklearn.model_selection import train_test_split\n",
    "from sklearn.feature_extraction.text import TfidfVectorizer\n",
    "from sklearn.metrics import confusion_matrix, classification_report\n",
    "\n",
    "from sklearn.linear_model import LogisticRegression\n",
    "from sklearn.svm import LinearSVC\n",
    "from sklearn.ensemble import RandomForestClassifier\n",
    "from sklearn.naive_bayes import BernoulliNB\n",
    "\n",
    "\n",
    "#tensorflow\n",
    "import tensorflow.compat.v2 as tf\n",
    "import tensorflow_datasets as tfds\n",
    "\n",
    "# Utility\n",
    "import pandas as pd\n",
    "import numpy as np\n",
    "import warnings\n",
    "warnings.filterwarnings('ignore')\n",
    "import re\n",
    "import string\n",
    "import pickle"
   ],
   "outputs": [],
   "execution_count": 1
  },
  {
   "cell_type": "markdown",
   "metadata": {},
   "source": "# Loading Dataset"
  },
  {
   "cell_type": "code",
   "metadata": {
    "ExecuteTime": {
     "end_time": "2025-03-22T07:33:54.989964Z",
     "start_time": "2025-03-22T07:33:52.283463Z"
    }
   },
   "source": [
    "# Construct a tf.data.Dataset\n",
    "data = pd.read_csv('training.1600000.processed.noemoticon.csv',encoding='latin', names = ['polarity','id','date','query','user','text'])"
   ],
   "outputs": [],
   "execution_count": 2
  },
  {
   "cell_type": "code",
   "metadata": {
    "ExecuteTime": {
     "end_time": "2025-03-22T07:33:55.312484Z",
     "start_time": "2025-03-22T07:33:55.116136Z"
    }
   },
   "source": [
    "# Random shuffling of data, select the first 200,000\n",
    "data = data.sample(frac=1)\n",
    "data = data[:20000]"
   ],
   "outputs": [],
   "execution_count": 3
  },
  {
   "metadata": {},
   "cell_type": "markdown",
   "source": "# Data Visualization"
  },
  {
   "cell_type": "code",
   "metadata": {
    "scrolled": false,
    "ExecuteTime": {
     "end_time": "2025-03-22T07:33:55.321879Z",
     "start_time": "2025-03-22T07:33:55.319299Z"
    }
   },
   "source": "print(\"Dataset shape:\", data.shape)",
   "outputs": [
    {
     "name": "stdout",
     "output_type": "stream",
     "text": [
      "Dataset shape: (20000, 6)\n"
     ]
    }
   ],
   "execution_count": 4
  },
  {
   "cell_type": "code",
   "metadata": {
    "ExecuteTime": {
     "end_time": "2025-03-22T07:33:55.340489Z",
     "start_time": "2025-03-22T07:33:55.332229Z"
    }
   },
   "source": "data.head(10)",
   "outputs": [
    {
     "data": {
      "text/plain": [
       "         polarity          id                          date     query  \\\n",
       "359143          0  2045615858  Fri Jun 05 10:59:16 PDT 2009  NO_QUERY   \n",
       "310676          0  2001144373  Mon Jun 01 23:58:34 PDT 2009  NO_QUERY   \n",
       "505007          0  2188283055  Mon Jun 15 21:37:03 PDT 2009  NO_QUERY   \n",
       "1295165         4  2003644025  Tue Jun 02 06:54:12 PDT 2009  NO_QUERY   \n",
       "1503444         4  2071969008  Sun Jun 07 20:10:56 PDT 2009  NO_QUERY   \n",
       "1408058         4  2055634006  Sat Jun 06 09:40:31 PDT 2009  NO_QUERY   \n",
       "1344344         4  2039869246  Thu Jun 04 23:01:03 PDT 2009  NO_QUERY   \n",
       "211099          0  1974404823  Sat May 30 13:04:12 PDT 2009  NO_QUERY   \n",
       "566244          0  2206777178  Wed Jun 17 07:02:24 PDT 2009  NO_QUERY   \n",
       "1354245         4  2046981610  Fri Jun 05 12:58:43 PDT 2009  NO_QUERY   \n",
       "\n",
       "                    user                                               text  \n",
       "359143      ChantalKrahn  Shin splints.. From ballet flats?? Ouch.. Who ...  \n",
       "310676       amandaDIZON  @ amirrrrr i am too busy trying to teach mysel...  \n",
       "505007           emzey94             chilling at school, science is boring   \n",
       "1295165       kristenhul  @TaniaO I am wondering how your trip is going ...  \n",
       "1503444    BarbieGirl689                     @enfdancer but you loveeee me   \n",
       "1408058  Alexx_Nightmare  @vic_redpanda Sorry, I don't spend all my time...  \n",
       "1344344         Mundilia  What? Did tonight really happen? We'll see in ...  \n",
       "211099            LSto09  I thought i saw juneyboomdata's backup dancer ...  \n",
       "566244     dramaqueenx0x  I hate my 7.30AM class  It's incredibly UNGODL...  \n",
       "1354245      glamourmoms  @thecolinium  Most def!! One of my very first ...  "
      ],
      "text/html": [
       "<div>\n",
       "<style scoped>\n",
       "    .dataframe tbody tr th:only-of-type {\n",
       "        vertical-align: middle;\n",
       "    }\n",
       "\n",
       "    .dataframe tbody tr th {\n",
       "        vertical-align: top;\n",
       "    }\n",
       "\n",
       "    .dataframe thead th {\n",
       "        text-align: right;\n",
       "    }\n",
       "</style>\n",
       "<table border=\"1\" class=\"dataframe\">\n",
       "  <thead>\n",
       "    <tr style=\"text-align: right;\">\n",
       "      <th></th>\n",
       "      <th>polarity</th>\n",
       "      <th>id</th>\n",
       "      <th>date</th>\n",
       "      <th>query</th>\n",
       "      <th>user</th>\n",
       "      <th>text</th>\n",
       "    </tr>\n",
       "  </thead>\n",
       "  <tbody>\n",
       "    <tr>\n",
       "      <th>359143</th>\n",
       "      <td>0</td>\n",
       "      <td>2045615858</td>\n",
       "      <td>Fri Jun 05 10:59:16 PDT 2009</td>\n",
       "      <td>NO_QUERY</td>\n",
       "      <td>ChantalKrahn</td>\n",
       "      <td>Shin splints.. From ballet flats?? Ouch.. Who ...</td>\n",
       "    </tr>\n",
       "    <tr>\n",
       "      <th>310676</th>\n",
       "      <td>0</td>\n",
       "      <td>2001144373</td>\n",
       "      <td>Mon Jun 01 23:58:34 PDT 2009</td>\n",
       "      <td>NO_QUERY</td>\n",
       "      <td>amandaDIZON</td>\n",
       "      <td>@ amirrrrr i am too busy trying to teach mysel...</td>\n",
       "    </tr>\n",
       "    <tr>\n",
       "      <th>505007</th>\n",
       "      <td>0</td>\n",
       "      <td>2188283055</td>\n",
       "      <td>Mon Jun 15 21:37:03 PDT 2009</td>\n",
       "      <td>NO_QUERY</td>\n",
       "      <td>emzey94</td>\n",
       "      <td>chilling at school, science is boring</td>\n",
       "    </tr>\n",
       "    <tr>\n",
       "      <th>1295165</th>\n",
       "      <td>4</td>\n",
       "      <td>2003644025</td>\n",
       "      <td>Tue Jun 02 06:54:12 PDT 2009</td>\n",
       "      <td>NO_QUERY</td>\n",
       "      <td>kristenhul</td>\n",
       "      <td>@TaniaO I am wondering how your trip is going ...</td>\n",
       "    </tr>\n",
       "    <tr>\n",
       "      <th>1503444</th>\n",
       "      <td>4</td>\n",
       "      <td>2071969008</td>\n",
       "      <td>Sun Jun 07 20:10:56 PDT 2009</td>\n",
       "      <td>NO_QUERY</td>\n",
       "      <td>BarbieGirl689</td>\n",
       "      <td>@enfdancer but you loveeee me</td>\n",
       "    </tr>\n",
       "    <tr>\n",
       "      <th>1408058</th>\n",
       "      <td>4</td>\n",
       "      <td>2055634006</td>\n",
       "      <td>Sat Jun 06 09:40:31 PDT 2009</td>\n",
       "      <td>NO_QUERY</td>\n",
       "      <td>Alexx_Nightmare</td>\n",
       "      <td>@vic_redpanda Sorry, I don't spend all my time...</td>\n",
       "    </tr>\n",
       "    <tr>\n",
       "      <th>1344344</th>\n",
       "      <td>4</td>\n",
       "      <td>2039869246</td>\n",
       "      <td>Thu Jun 04 23:01:03 PDT 2009</td>\n",
       "      <td>NO_QUERY</td>\n",
       "      <td>Mundilia</td>\n",
       "      <td>What? Did tonight really happen? We'll see in ...</td>\n",
       "    </tr>\n",
       "    <tr>\n",
       "      <th>211099</th>\n",
       "      <td>0</td>\n",
       "      <td>1974404823</td>\n",
       "      <td>Sat May 30 13:04:12 PDT 2009</td>\n",
       "      <td>NO_QUERY</td>\n",
       "      <td>LSto09</td>\n",
       "      <td>I thought i saw juneyboomdata's backup dancer ...</td>\n",
       "    </tr>\n",
       "    <tr>\n",
       "      <th>566244</th>\n",
       "      <td>0</td>\n",
       "      <td>2206777178</td>\n",
       "      <td>Wed Jun 17 07:02:24 PDT 2009</td>\n",
       "      <td>NO_QUERY</td>\n",
       "      <td>dramaqueenx0x</td>\n",
       "      <td>I hate my 7.30AM class  It's incredibly UNGODL...</td>\n",
       "    </tr>\n",
       "    <tr>\n",
       "      <th>1354245</th>\n",
       "      <td>4</td>\n",
       "      <td>2046981610</td>\n",
       "      <td>Fri Jun 05 12:58:43 PDT 2009</td>\n",
       "      <td>NO_QUERY</td>\n",
       "      <td>glamourmoms</td>\n",
       "      <td>@thecolinium  Most def!! One of my very first ...</td>\n",
       "    </tr>\n",
       "  </tbody>\n",
       "</table>\n",
       "</div>"
      ]
     },
     "execution_count": 5,
     "metadata": {},
     "output_type": "execute_result"
    }
   ],
   "execution_count": 5
  },
  {
   "cell_type": "code",
   "metadata": {
    "ExecuteTime": {
     "end_time": "2025-03-22T07:33:55.375330Z",
     "start_time": "2025-03-22T07:33:55.372221Z"
    }
   },
   "source": "data['polarity'].unique()",
   "outputs": [
    {
     "data": {
      "text/plain": [
       "array([0, 4])"
      ]
     },
     "execution_count": 6,
     "metadata": {},
     "output_type": "execute_result"
    }
   ],
   "execution_count": 6
  },
  {
   "cell_type": "code",
   "metadata": {
    "scrolled": true,
    "ExecuteTime": {
     "end_time": "2025-03-22T07:33:55.416066Z",
     "start_time": "2025-03-22T07:33:55.409822Z"
    }
   },
   "source": [
    "# Replacing the value 4 -->1 for ease of understanding.\n",
    "data['polarity'] = data['polarity'].replace(4,1)\n",
    "data.head()"
   ],
   "outputs": [
    {
     "data": {
      "text/plain": [
       "         polarity          id                          date     query  \\\n",
       "359143          0  2045615858  Fri Jun 05 10:59:16 PDT 2009  NO_QUERY   \n",
       "310676          0  2001144373  Mon Jun 01 23:58:34 PDT 2009  NO_QUERY   \n",
       "505007          0  2188283055  Mon Jun 15 21:37:03 PDT 2009  NO_QUERY   \n",
       "1295165         1  2003644025  Tue Jun 02 06:54:12 PDT 2009  NO_QUERY   \n",
       "1503444         1  2071969008  Sun Jun 07 20:10:56 PDT 2009  NO_QUERY   \n",
       "\n",
       "                  user                                               text  \n",
       "359143    ChantalKrahn  Shin splints.. From ballet flats?? Ouch.. Who ...  \n",
       "310676     amandaDIZON  @ amirrrrr i am too busy trying to teach mysel...  \n",
       "505007         emzey94             chilling at school, science is boring   \n",
       "1295165     kristenhul  @TaniaO I am wondering how your trip is going ...  \n",
       "1503444  BarbieGirl689                     @enfdancer but you loveeee me   "
      ],
      "text/html": [
       "<div>\n",
       "<style scoped>\n",
       "    .dataframe tbody tr th:only-of-type {\n",
       "        vertical-align: middle;\n",
       "    }\n",
       "\n",
       "    .dataframe tbody tr th {\n",
       "        vertical-align: top;\n",
       "    }\n",
       "\n",
       "    .dataframe thead th {\n",
       "        text-align: right;\n",
       "    }\n",
       "</style>\n",
       "<table border=\"1\" class=\"dataframe\">\n",
       "  <thead>\n",
       "    <tr style=\"text-align: right;\">\n",
       "      <th></th>\n",
       "      <th>polarity</th>\n",
       "      <th>id</th>\n",
       "      <th>date</th>\n",
       "      <th>query</th>\n",
       "      <th>user</th>\n",
       "      <th>text</th>\n",
       "    </tr>\n",
       "  </thead>\n",
       "  <tbody>\n",
       "    <tr>\n",
       "      <th>359143</th>\n",
       "      <td>0</td>\n",
       "      <td>2045615858</td>\n",
       "      <td>Fri Jun 05 10:59:16 PDT 2009</td>\n",
       "      <td>NO_QUERY</td>\n",
       "      <td>ChantalKrahn</td>\n",
       "      <td>Shin splints.. From ballet flats?? Ouch.. Who ...</td>\n",
       "    </tr>\n",
       "    <tr>\n",
       "      <th>310676</th>\n",
       "      <td>0</td>\n",
       "      <td>2001144373</td>\n",
       "      <td>Mon Jun 01 23:58:34 PDT 2009</td>\n",
       "      <td>NO_QUERY</td>\n",
       "      <td>amandaDIZON</td>\n",
       "      <td>@ amirrrrr i am too busy trying to teach mysel...</td>\n",
       "    </tr>\n",
       "    <tr>\n",
       "      <th>505007</th>\n",
       "      <td>0</td>\n",
       "      <td>2188283055</td>\n",
       "      <td>Mon Jun 15 21:37:03 PDT 2009</td>\n",
       "      <td>NO_QUERY</td>\n",
       "      <td>emzey94</td>\n",
       "      <td>chilling at school, science is boring</td>\n",
       "    </tr>\n",
       "    <tr>\n",
       "      <th>1295165</th>\n",
       "      <td>1</td>\n",
       "      <td>2003644025</td>\n",
       "      <td>Tue Jun 02 06:54:12 PDT 2009</td>\n",
       "      <td>NO_QUERY</td>\n",
       "      <td>kristenhul</td>\n",
       "      <td>@TaniaO I am wondering how your trip is going ...</td>\n",
       "    </tr>\n",
       "    <tr>\n",
       "      <th>1503444</th>\n",
       "      <td>1</td>\n",
       "      <td>2071969008</td>\n",
       "      <td>Sun Jun 07 20:10:56 PDT 2009</td>\n",
       "      <td>NO_QUERY</td>\n",
       "      <td>BarbieGirl689</td>\n",
       "      <td>@enfdancer but you loveeee me</td>\n",
       "    </tr>\n",
       "  </tbody>\n",
       "</table>\n",
       "</div>"
      ]
     },
     "execution_count": 7,
     "metadata": {},
     "output_type": "execute_result"
    }
   ],
   "execution_count": 7
  },
  {
   "cell_type": "code",
   "metadata": {
    "ExecuteTime": {
     "end_time": "2025-03-22T07:33:55.455903Z",
     "start_time": "2025-03-22T07:33:55.447053Z"
    }
   },
   "source": "data.describe()",
   "outputs": [
    {
     "data": {
      "text/plain": [
       "           polarity            id\n",
       "count  20000.000000  2.000000e+04\n",
       "mean       0.500300  2.002040e+09\n",
       "std        0.500012  1.920561e+08\n",
       "min        0.000000  1.467822e+09\n",
       "25%        0.000000  1.957629e+09\n",
       "50%        1.000000  2.002956e+09\n",
       "75%        1.000000  2.178173e+09\n",
       "max        1.000000  2.329166e+09"
      ],
      "text/html": [
       "<div>\n",
       "<style scoped>\n",
       "    .dataframe tbody tr th:only-of-type {\n",
       "        vertical-align: middle;\n",
       "    }\n",
       "\n",
       "    .dataframe tbody tr th {\n",
       "        vertical-align: top;\n",
       "    }\n",
       "\n",
       "    .dataframe thead th {\n",
       "        text-align: right;\n",
       "    }\n",
       "</style>\n",
       "<table border=\"1\" class=\"dataframe\">\n",
       "  <thead>\n",
       "    <tr style=\"text-align: right;\">\n",
       "      <th></th>\n",
       "      <th>polarity</th>\n",
       "      <th>id</th>\n",
       "    </tr>\n",
       "  </thead>\n",
       "  <tbody>\n",
       "    <tr>\n",
       "      <th>count</th>\n",
       "      <td>20000.000000</td>\n",
       "      <td>2.000000e+04</td>\n",
       "    </tr>\n",
       "    <tr>\n",
       "      <th>mean</th>\n",
       "      <td>0.500300</td>\n",
       "      <td>2.002040e+09</td>\n",
       "    </tr>\n",
       "    <tr>\n",
       "      <th>std</th>\n",
       "      <td>0.500012</td>\n",
       "      <td>1.920561e+08</td>\n",
       "    </tr>\n",
       "    <tr>\n",
       "      <th>min</th>\n",
       "      <td>0.000000</td>\n",
       "      <td>1.467822e+09</td>\n",
       "    </tr>\n",
       "    <tr>\n",
       "      <th>25%</th>\n",
       "      <td>0.000000</td>\n",
       "      <td>1.957629e+09</td>\n",
       "    </tr>\n",
       "    <tr>\n",
       "      <th>50%</th>\n",
       "      <td>1.000000</td>\n",
       "      <td>2.002956e+09</td>\n",
       "    </tr>\n",
       "    <tr>\n",
       "      <th>75%</th>\n",
       "      <td>1.000000</td>\n",
       "      <td>2.178173e+09</td>\n",
       "    </tr>\n",
       "    <tr>\n",
       "      <th>max</th>\n",
       "      <td>1.000000</td>\n",
       "      <td>2.329166e+09</td>\n",
       "    </tr>\n",
       "  </tbody>\n",
       "</table>\n",
       "</div>"
      ]
     },
     "execution_count": 8,
     "metadata": {},
     "output_type": "execute_result"
    }
   ],
   "execution_count": 8
  },
  {
   "metadata": {
    "ExecuteTime": {
     "end_time": "2025-03-22T07:33:55.489254Z",
     "start_time": "2025-03-22T07:33:55.485318Z"
    }
   },
   "cell_type": "code",
   "source": [
    "# check the number of positive vs. negative tagged sentences\n",
    "positives = data['polarity'][data.polarity == 1 ]\n",
    "negatives = data['polarity'][data.polarity == 0 ]\n",
    "\n",
    "print('Total length of the data is:         {}'.format(data.shape[0]))\n",
    "print('No. of positve tagged sentences is:  {}'.format(len(positives)))\n",
    "print('No. of negative tagged sentences is: {}'.format(len(negatives)))"
   ],
   "outputs": [
    {
     "name": "stdout",
     "output_type": "stream",
     "text": [
      "Total length of the data is:         20000\n",
      "No. of positve tagged sentences is:  10006\n",
      "No. of negative tagged sentences is: 9994\n"
     ]
    }
   ],
   "execution_count": 9
  },
  {
   "metadata": {
    "ExecuteTime": {
     "end_time": "2025-03-22T07:33:55.538206Z",
     "start_time": "2025-03-22T07:33:55.536084Z"
    }
   },
   "cell_type": "code",
   "source": [
    "# get a word count per of text\n",
    "def word_count(words):\n",
    "    return len(words.split())"
   ],
   "outputs": [],
   "execution_count": 10
  },
  {
   "metadata": {
    "ExecuteTime": {
     "end_time": "2025-03-22T07:33:55.743337Z",
     "start_time": "2025-03-22T07:33:55.571256Z"
    }
   },
   "cell_type": "code",
   "source": [
    "# plot word count distribution for both positive and negative\n",
    "\n",
    "data['word count'] = data['text'].apply(word_count)\n",
    "p = data['word count'][data.polarity == 1]\n",
    "n = data['word count'][data.polarity == 0]\n",
    "plt.figure(figsize=(12,6))\n",
    "plt.xlim(0,45)\n",
    "plt.xlabel('Word count')\n",
    "plt.ylabel('Frequency')\n",
    "g = plt.hist([p, n], color=['g','r'], alpha=0.5, label=['positive','negative'])\n",
    "plt.legend(loc='upper right')"
   ],
   "outputs": [
    {
     "data": {
      "text/plain": [
       "<matplotlib.legend.Legend at 0x318539490>"
      ]
     },
     "execution_count": 11,
     "metadata": {},
     "output_type": "execute_result"
    },
    {
     "data": {
      "text/plain": [
       "<Figure size 1200x600 with 1 Axes>"
      ],
      "image/png": "[encoded data removed]"
     },
     "metadata": {},
     "output_type": "display_data"
    }
   ],
   "execution_count": 11
  },
  {
   "metadata": {
    "ExecuteTime": {
     "end_time": "2025-03-22T07:33:55.829425Z",
     "start_time": "2025-03-22T07:33:55.748302Z"
    }
   },
   "cell_type": "code",
   "source": [
    "# get common words in training dataset\n",
    "from collections import Counter\n",
    "all_words = []\n",
    "for line in list(data['text']):\n",
    "    words = line.split()\n",
    "    for word in words:\n",
    "      if(len(word)>2):\n",
    "        all_words.append(word.lower())\n",
    "\n",
    "\n",
    "Counter(all_words).most_common(20)"
   ],
   "outputs": [
    {
     "data": {
      "text/plain": [
       "[('the', 6401),\n",
       " ('and', 3657),\n",
       " ('you', 2890),\n",
       " ('for', 2758),\n",
       " ('have', 1788),\n",
       " ('that', 1659),\n",
       " (\"i'm\", 1622),\n",
       " ('but', 1559),\n",
       " ('just', 1557),\n",
       " ('with', 1353),\n",
       " ('was', 1286),\n",
       " ('not', 1255),\n",
       " ('this', 1114),\n",
       " ('get', 1002),\n",
       " ('good', 967),\n",
       " ('are', 958),\n",
       " ('like', 921),\n",
       " ('out', 894),\n",
       " ('all', 866),\n",
       " ('your', 795)]"
      ]
     },
     "execution_count": 12,
     "metadata": {},
     "output_type": "execute_result"
    }
   ],
   "execution_count": 12
  },
  {
   "metadata": {
    "ExecuteTime": {
     "end_time": "2025-03-22T07:33:55.921667Z",
     "start_time": "2025-03-22T07:33:55.837903Z"
    }
   },
   "cell_type": "code",
   "source": [
    "%matplotlib inline\n",
    "sns.countplot(x=data['polarity'])"
   ],
   "outputs": [
    {
     "data": {
      "text/plain": [
       "<Axes: xlabel='polarity', ylabel='count'>"
      ]
     },
     "execution_count": 13,
     "metadata": {},
     "output_type": "execute_result"
    },
    {
     "data": {
      "text/plain": [
       "<Figure size 640x480 with 1 Axes>"
      ],
      "image/png": "[encoded data removed]"
     },
     "metadata": {},
     "output_type": "display_data"
    }
   ],
   "execution_count": 13
  },
  {
   "metadata": {},
   "cell_type": "markdown",
   "source": [
    "# Data Processing\n",
    "## The Preprocessing steps taken are:\n",
    "1. Lower Casing: Each text is converted to lowercase.\n",
    "2. Removing URLs: Links starting with \"http\" or \"https\" or \"www\" are replaced by \"\".\n",
    "\n",
    "3. Removing Usernames: Replace @Usernames with word \"\". (eg: \"@XYZ\" to \"\")\n",
    "\n",
    "4. Removing Short Words: Words with length less than 2 are removed.\n",
    "5. Removing Stopwords: Stopwords are the English words which does not add much meaning to a sentence. They can safely be ignored without sacrificing the meaning of the sentence. (eg: \"the\", \"he\", \"have\")\n",
    "6. Lemmatizing: Lemmatization is the process of converting a word to its base form. (e.g: “wolves” to “wolf”)"
   ]
  },
  {
   "metadata": {
    "ExecuteTime": {
     "end_time": "2025-03-22T07:33:55.932741Z",
     "start_time": "2025-03-22T07:33:55.929726Z"
    }
   },
   "cell_type": "code",
   "source": [
    "# Removing the unnecessary columns.\n",
    "data.drop(['date','query','user','word count'], axis=1, inplace=True)"
   ],
   "outputs": [],
   "execution_count": 14
  },
  {
   "metadata": {
    "ExecuteTime": {
     "end_time": "2025-03-22T07:33:55.945862Z",
     "start_time": "2025-03-22T07:33:55.940434Z"
    }
   },
   "cell_type": "code",
   "source": [
    "data.drop('id', axis=1, inplace=True)\n",
    "data.head(10)"
   ],
   "outputs": [
    {
     "data": {
      "text/plain": [
       "         polarity                                               text\n",
       "359143          0  Shin splints.. From ballet flats?? Ouch.. Who ...\n",
       "310676          0  @ amirrrrr i am too busy trying to teach mysel...\n",
       "505007          0             chilling at school, science is boring \n",
       "1295165         1  @TaniaO I am wondering how your trip is going ...\n",
       "1503444         1                     @enfdancer but you loveeee me \n",
       "1408058         1  @vic_redpanda Sorry, I don't spend all my time...\n",
       "1344344         1  What? Did tonight really happen? We'll see in ...\n",
       "211099          0  I thought i saw juneyboomdata's backup dancer ...\n",
       "566244          0  I hate my 7.30AM class  It's incredibly UNGODL...\n",
       "1354245         1  @thecolinium  Most def!! One of my very first ..."
      ],
      "text/html": [
       "<div>\n",
       "<style scoped>\n",
       "    .dataframe tbody tr th:only-of-type {\n",
       "        vertical-align: middle;\n",
       "    }\n",
       "\n",
       "    .dataframe tbody tr th {\n",
       "        vertical-align: top;\n",
       "    }\n",
       "\n",
       "    .dataframe thead th {\n",
       "        text-align: right;\n",
       "    }\n",
       "</style>\n",
       "<table border=\"1\" class=\"dataframe\">\n",
       "  <thead>\n",
       "    <tr style=\"text-align: right;\">\n",
       "      <th></th>\n",
       "      <th>polarity</th>\n",
       "      <th>text</th>\n",
       "    </tr>\n",
       "  </thead>\n",
       "  <tbody>\n",
       "    <tr>\n",
       "      <th>359143</th>\n",
       "      <td>0</td>\n",
       "      <td>Shin splints.. From ballet flats?? Ouch.. Who ...</td>\n",
       "    </tr>\n",
       "    <tr>\n",
       "      <th>310676</th>\n",
       "      <td>0</td>\n",
       "      <td>@ amirrrrr i am too busy trying to teach mysel...</td>\n",
       "    </tr>\n",
       "    <tr>\n",
       "      <th>505007</th>\n",
       "      <td>0</td>\n",
       "      <td>chilling at school, science is boring</td>\n",
       "    </tr>\n",
       "    <tr>\n",
       "      <th>1295165</th>\n",
       "      <td>1</td>\n",
       "      <td>@TaniaO I am wondering how your trip is going ...</td>\n",
       "    </tr>\n",
       "    <tr>\n",
       "      <th>1503444</th>\n",
       "      <td>1</td>\n",
       "      <td>@enfdancer but you loveeee me</td>\n",
       "    </tr>\n",
       "    <tr>\n",
       "      <th>1408058</th>\n",
       "      <td>1</td>\n",
       "      <td>@vic_redpanda Sorry, I don't spend all my time...</td>\n",
       "    </tr>\n",
       "    <tr>\n",
       "      <th>1344344</th>\n",
       "      <td>1</td>\n",
       "      <td>What? Did tonight really happen? We'll see in ...</td>\n",
       "    </tr>\n",
       "    <tr>\n",
       "      <th>211099</th>\n",
       "      <td>0</td>\n",
       "      <td>I thought i saw juneyboomdata's backup dancer ...</td>\n",
       "    </tr>\n",
       "    <tr>\n",
       "      <th>566244</th>\n",
       "      <td>0</td>\n",
       "      <td>I hate my 7.30AM class  It's incredibly UNGODL...</td>\n",
       "    </tr>\n",
       "    <tr>\n",
       "      <th>1354245</th>\n",
       "      <td>1</td>\n",
       "      <td>@thecolinium  Most def!! One of my very first ...</td>\n",
       "    </tr>\n",
       "  </tbody>\n",
       "</table>\n",
       "</div>"
      ]
     },
     "execution_count": 15,
     "metadata": {},
     "output_type": "execute_result"
    }
   ],
   "execution_count": 15
  },
  {
   "metadata": {
    "ExecuteTime": {
     "end_time": "2025-03-22T07:33:55.986944Z",
     "start_time": "2025-03-22T07:33:55.980836Z"
    }
   },
   "cell_type": "code",
   "source": [
    "#Checking if any null values present\n",
    "(data.isnull().sum() / len(data))*100"
   ],
   "outputs": [
    {
     "data": {
      "text/plain": [
       "polarity    0.0\n",
       "text        0.0\n",
       "dtype: float64"
      ]
     },
     "execution_count": 16,
     "metadata": {},
     "output_type": "execute_result"
    }
   ],
   "execution_count": 16
  },
  {
   "metadata": {
    "ExecuteTime": {
     "end_time": "2025-03-22T07:33:56.019901Z",
     "start_time": "2025-03-22T07:33:56.016319Z"
    }
   },
   "cell_type": "code",
   "source": [
    "#convrting pandas object to a string type\n",
    "data['text'] = data['text'].astype('str')"
   ],
   "outputs": [],
   "execution_count": 17
  },
  {
   "metadata": {
    "ExecuteTime": {
     "end_time": "2025-03-22T07:33:56.192933Z",
     "start_time": "2025-03-22T07:33:56.055438Z"
    }
   },
   "cell_type": "code",
   "source": [
    "nltk.download('stopwords')\n",
    "stopword = set(stopwords.words('english'))\n",
    "print(stopword)"
   ],
   "outputs": [
    {
     "name": "stdout",
     "output_type": "stream",
     "text": [
      "{\"needn't\", 'yours', 'too', 'if', \"we've\", 'just', 'as', 'couldn', 'be', 'hasn', 'being', 'such', 'have', 'during', 'again', \"shan't\", \"isn't\", 'very', 'when', 'my', 'his', \"he'd\", 'weren', \"weren't\", 'now', \"i'm\", \"hadn't\", 'i', 'himself', 'this', 'who', 'before', 'it', 'yourself', \"they've\", 'why', 'not', 'ours', 'won', \"you'll\", 'into', 'because', 'other', 'will', 'o', 'shouldn', \"won't\", 'that', 'below', 'needn', 'them', 'both', 'with', 'on', \"should've\", 'once', 'to', 'been', \"they'd\", 'than', 'didn', \"that'll\", 'its', 'y', 'so', 'by', 'am', 'are', 'which', \"we'll\", 're', 'each', \"she'd\", 'few', \"haven't\", 'any', 'itself', \"you'd\", 'for', \"they'll\", 'theirs', 'between', 'll', 'here', 'their', 'but', \"don't\", 'ain', 'ma', 'ourselves', 'all', 'down', 'what', 'wouldn', 'out', 'from', \"wouldn't\", \"i'd\", 'own', 'of', \"it'll\", 'hers', \"she'll\", 'while', 'an', 'against', 'some', \"mustn't\", 'themselves', 'aren', 'in', 'our', 'm', \"you've\", \"mightn't\", \"doesn't\", 've', \"aren't\", 't', 'up', \"he'll\", 'mightn', 'her', \"couldn't\", 'wasn', 'did', 'how', \"didn't\", 'don', 'further', 'off', 'about', 'or', 'should', 'under', 'you', 'no', 'he', \"wasn't\", 'has', 'after', 'd', 'me', 'is', 'had', 'over', \"you're\", 'until', 'does', 'herself', 'they', 'having', \"we'd\", \"we're\", 'haven', \"she's\", 'can', 'hadn', 'most', 'then', 'shan', 'a', 'him', 'doesn', 'doing', 'isn', 's', 'mustn', \"shouldn't\", 'do', \"it's\", 'the', 'yourselves', \"hasn't\", 'your', 'only', 'at', 'above', 'where', 'and', \"i'll\", 'whom', 'more', 'these', 'there', 'were', 'same', 'we', \"it'd\", \"he's\", \"i've\", 'myself', 'through', 'was', 'nor', 'she', \"they're\", 'those'}\n"
     ]
    },
    {
     "name": "stderr",
     "output_type": "stream",
     "text": [
      "[nltk_data] Downloading package stopwords to\n",
      "[nltk_data]     /Users/zhaijingjing/nltk_data...\n",
      "[nltk_data]   Package stopwords is already up-to-date!\n"
     ]
    }
   ],
   "execution_count": 18
  },
  {
   "metadata": {
    "ExecuteTime": {
     "end_time": "2025-03-22T07:33:56.294448Z",
     "start_time": "2025-03-22T07:33:56.220050Z"
    }
   },
   "cell_type": "code",
   "source": [
    "nltk.download('punkt')\n",
    "nltk.download('wordnet')\n",
    "nltk.download('punkt_tab')"
   ],
   "outputs": [
    {
     "name": "stderr",
     "output_type": "stream",
     "text": [
      "[nltk_data] Downloading package punkt to\n",
      "[nltk_data]     /Users/zhaijingjing/nltk_data...\n",
      "[nltk_data]   Package punkt is already up-to-date!\n",
      "[nltk_data] Downloading package wordnet to\n",
      "[nltk_data]     /Users/zhaijingjing/nltk_data...\n",
      "[nltk_data]   Package wordnet is already up-to-date!\n",
      "[nltk_data] Downloading package punkt_tab to\n",
      "[nltk_data]     /Users/zhaijingjing/nltk_data...\n",
      "[nltk_data]   Package punkt_tab is already up-to-date!\n"
     ]
    },
    {
     "data": {
      "text/plain": [
       "True"
      ]
     },
     "execution_count": 19,
     "metadata": {},
     "output_type": "execute_result"
    }
   ],
   "execution_count": 19
  },
  {
   "metadata": {
    "ExecuteTime": {
     "end_time": "2025-03-22T07:33:56.302195Z",
     "start_time": "2025-03-22T07:33:56.298104Z"
    }
   },
   "cell_type": "code",
   "source": [
    "urlPattern = r\"((http://)[^ ]*|(https://)[^ ]*|( www\\.)[^ ]*)\"\n",
    "userPattern = '@[^\\s]+'\n",
    "def process_tweets(tweet):\n",
    "  # Lower Casing\n",
    "    tweet = tweet.lower()\n",
    "    #tweet=tweet[1:]\n",
    "    # Removing all URls\n",
    "    tweet = re.sub(urlPattern,'',tweet)\n",
    "    # Removing all @username.\n",
    "    tweet = re.sub(userPattern,'', tweet)\n",
    "    #Remove punctuations\n",
    "    tweet = tweet.translate(str.maketrans(\"\",\"\",string.punctuation))\n",
    "    #tokenizing words\n",
    "    tokens = word_tokenize(tweet)\n",
    "    #Removing Stop Words\n",
    "    #final_tokens = [w for w in tokens if w not in stopword]\n",
    "    final_tokens = tokens\n",
    "    #reducing a word to its word stem\n",
    "    wordLemm = WordNetLemmatizer()\n",
    "    finalwords=[]\n",
    "    negation_words = {\"not\", \"no\", \"never\", \"n't\"}\n",
    "    prev_neg = False\n",
    "\n",
    "    for w in final_tokens:\n",
    "      if len(w)>1:\n",
    "        word = wordLemm.lemmatize(w)\n",
    "        #finalwords.append(word)\n",
    "        if word in negation_words:\n",
    "          prev_neg = True\n",
    "        elif prev_neg:\n",
    "          finalwords.append(\"not_\" + word)\n",
    "          prev_neg = False\n",
    "        else:\n",
    "          finalwords.append(word)\n",
    "    return ' '.join(finalwords)"
   ],
   "outputs": [],
   "execution_count": 20
  },
  {
   "metadata": {
    "ExecuteTime": {
     "end_time": "2025-03-22T07:34:00.545328Z",
     "start_time": "2025-03-22T07:33:56.310507Z"
    }
   },
   "cell_type": "code",
   "source": [
    "data['processed_tweets'] = data['text'].apply(lambda x: process_tweets(x))\n",
    "print('Text Preprocessing complete.')"
   ],
   "outputs": [
    {
     "name": "stdout",
     "output_type": "stream",
     "text": [
      "Text Preprocessing complete.\n"
     ]
    }
   ],
   "execution_count": 21
  },
  {
   "metadata": {
    "ExecuteTime": {
     "end_time": "2025-03-22T07:34:00.558178Z",
     "start_time": "2025-03-22T07:34:00.553617Z"
    }
   },
   "cell_type": "code",
   "source": "data.head(10)",
   "outputs": [
    {
     "data": {
      "text/plain": [
       "         polarity                                               text  \\\n",
       "359143          0  Shin splints.. From ballet flats?? Ouch.. Who ...   \n",
       "310676          0  @ amirrrrr i am too busy trying to teach mysel...   \n",
       "505007          0             chilling at school, science is boring    \n",
       "1295165         1  @TaniaO I am wondering how your trip is going ...   \n",
       "1503444         1                     @enfdancer but you loveeee me    \n",
       "1408058         1  @vic_redpanda Sorry, I don't spend all my time...   \n",
       "1344344         1  What? Did tonight really happen? We'll see in ...   \n",
       "211099          0  I thought i saw juneyboomdata's backup dancer ...   \n",
       "566244          0  I hate my 7.30AM class  It's incredibly UNGODL...   \n",
       "1354245         1  @thecolinium  Most def!! One of my very first ...   \n",
       "\n",
       "                                          processed_tweets  \n",
       "359143          shin splint from ballet flat ouch who knew  \n",
       "310676   amirrrrr am too busy trying to teach myself ab...  \n",
       "505007                chilling at school science is boring  \n",
       "1295165  am wondering how your trip is going missy hope...  \n",
       "1503444                                 but you loveeee me  \n",
       "1408058  sorry dont spend all my time searching for bac...  \n",
       "1344344  what did tonight really happen well see in the...  \n",
       "211099   thought saw juneyboomdatas backup dancer come ...  \n",
       "566244   hate my 730am class it incredibly ungodly to h...  \n",
       "1354245  most def one of my very first word wa yzermanb...  "
      ],
      "text/html": [
       "<div>\n",
       "<style scoped>\n",
       "    .dataframe tbody tr th:only-of-type {\n",
       "        vertical-align: middle;\n",
       "    }\n",
       "\n",
       "    .dataframe tbody tr th {\n",
       "        vertical-align: top;\n",
       "    }\n",
       "\n",
       "    .dataframe thead th {\n",
       "        text-align: right;\n",
       "    }\n",
       "</style>\n",
       "<table border=\"1\" class=\"dataframe\">\n",
       "  <thead>\n",
       "    <tr style=\"text-align: right;\">\n",
       "      <th></th>\n",
       "      <th>polarity</th>\n",
       "      <th>text</th>\n",
       "      <th>processed_tweets</th>\n",
       "    </tr>\n",
       "  </thead>\n",
       "  <tbody>\n",
       "    <tr>\n",
       "      <th>359143</th>\n",
       "      <td>0</td>\n",
       "      <td>Shin splints.. From ballet flats?? Ouch.. Who ...</td>\n",
       "      <td>shin splint from ballet flat ouch who knew</td>\n",
       "    </tr>\n",
       "    <tr>\n",
       "      <th>310676</th>\n",
       "      <td>0</td>\n",
       "      <td>@ amirrrrr i am too busy trying to teach mysel...</td>\n",
       "      <td>amirrrrr am too busy trying to teach myself ab...</td>\n",
       "    </tr>\n",
       "    <tr>\n",
       "      <th>505007</th>\n",
       "      <td>0</td>\n",
       "      <td>chilling at school, science is boring</td>\n",
       "      <td>chilling at school science is boring</td>\n",
       "    </tr>\n",
       "    <tr>\n",
       "      <th>1295165</th>\n",
       "      <td>1</td>\n",
       "      <td>@TaniaO I am wondering how your trip is going ...</td>\n",
       "      <td>am wondering how your trip is going missy hope...</td>\n",
       "    </tr>\n",
       "    <tr>\n",
       "      <th>1503444</th>\n",
       "      <td>1</td>\n",
       "      <td>@enfdancer but you loveeee me</td>\n",
       "      <td>but you loveeee me</td>\n",
       "    </tr>\n",
       "    <tr>\n",
       "      <th>1408058</th>\n",
       "      <td>1</td>\n",
       "      <td>@vic_redpanda Sorry, I don't spend all my time...</td>\n",
       "      <td>sorry dont spend all my time searching for bac...</td>\n",
       "    </tr>\n",
       "    <tr>\n",
       "      <th>1344344</th>\n",
       "      <td>1</td>\n",
       "      <td>What? Did tonight really happen? We'll see in ...</td>\n",
       "      <td>what did tonight really happen well see in the...</td>\n",
       "    </tr>\n",
       "    <tr>\n",
       "      <th>211099</th>\n",
       "      <td>0</td>\n",
       "      <td>I thought i saw juneyboomdata's backup dancer ...</td>\n",
       "      <td>thought saw juneyboomdatas backup dancer come ...</td>\n",
       "    </tr>\n",
       "    <tr>\n",
       "      <th>566244</th>\n",
       "      <td>0</td>\n",
       "      <td>I hate my 7.30AM class  It's incredibly UNGODL...</td>\n",
       "      <td>hate my 730am class it incredibly ungodly to h...</td>\n",
       "    </tr>\n",
       "    <tr>\n",
       "      <th>1354245</th>\n",
       "      <td>1</td>\n",
       "      <td>@thecolinium  Most def!! One of my very first ...</td>\n",
       "      <td>most def one of my very first word wa yzermanb...</td>\n",
       "    </tr>\n",
       "  </tbody>\n",
       "</table>\n",
       "</div>"
      ]
     },
     "execution_count": 22,
     "metadata": {},
     "output_type": "execute_result"
    }
   ],
   "execution_count": 22
  },
  {
   "metadata": {},
   "cell_type": "markdown",
   "source": "# RNN - LSTM"
  },
  {
   "metadata": {
    "ExecuteTime": {
     "end_time": "2025-03-22T07:34:00.632088Z",
     "start_time": "2025-03-22T07:34:00.606258Z"
    }
   },
   "cell_type": "code",
   "source": [
    "from keras.models import Sequential\n",
    "from keras.layers import Dense, Embedding, LSTM, Dropout\n",
    "from sklearn.feature_extraction.text import CountVectorizer\n",
    "from tensorflow.keras.preprocessing.text import Tokenizer\n",
    "from tensorflow.keras.preprocessing.sequence import pad_sequences\n",
    "from tensorflow.keras.utils import to_categorical\n",
    "import re\n",
    "import keras\n",
    "from keras import regularizers\n",
    "from keras.models import Sequential\n",
    "from keras import layers\n",
    "from keras import regularizers\n",
    "from keras import backend as K\n",
    "from keras.callbacks import ModelCheckpoint\n"
   ],
   "outputs": [],
   "execution_count": 23
  },
  {
   "metadata": {},
   "cell_type": "markdown",
   "source": "## Hyperparameters"
  },
  {
   "metadata": {
    "ExecuteTime": {
     "end_time": "2025-03-22T07:34:00.678673Z",
     "start_time": "2025-03-22T07:34:00.675532Z"
    }
   },
   "cell_type": "code",
   "source": [
    "num_epochs = 10\n",
    "results = {}\n",
    "params_history = {}\n",
    "# Define the maximum length of each sequence (number of words per tweet)\n",
    "max_len = 200\n",
    "\n",
    "# hidden layer\n",
    "hidden_layers_list = [1, 2, 3, 4]\n",
    "hidden_units_list = [4, 8, 16, 32]\n",
    "\n",
    "# LSTM layer\n",
    "LSTM_units = 32\n",
    "\n",
    "\n",
    "# Embedding layer\n",
    "# Define the 5000 most common words\n",
    "max_words = 5000\n",
    "embedding_dim = 64"
   ],
   "outputs": [],
   "execution_count": 24
  },
  {
   "metadata": {},
   "cell_type": "markdown",
   "source": "## Converting text data into sequences"
  },
  {
   "metadata": {
    "ExecuteTime": {
     "end_time": "2025-03-22T07:34:01.140236Z",
     "start_time": "2025-03-22T07:34:00.684803Z"
    }
   },
   "cell_type": "code",
   "source": [
    "# Initialize the tokenizer, keeping only the top 'max_words' most frequent words\n",
    "tokenizer = Tokenizer(num_words=max_words)\n",
    "# Fit the tokenizer on the processed tweets to build the word index\n",
    "tokenizer.fit_on_texts(data.processed_tweets)\n",
    "# Convert each tweet (text) into a sequence of integer indices based on the word index\n",
    "sequences = tokenizer.texts_to_sequences(data.processed_tweets)\n",
    "\n",
    "# Pad or truncate all sequences to the same length ('max_len')\n",
    "# - If a sequence is shorter than 'max_len', it will be padded with zeros at the beginning.\n",
    "# - If a sequence is longer than 'max_len', it will be truncated from the beginning.\n",
    "tweets = pad_sequences(sequences, maxlen=max_len)\n",
    "print(tweets)"
   ],
   "outputs": [
    {
     "name": "stdout",
     "output_type": "stream",
     "text": [
      "[[   0    0    0 ...  817  159  723]\n",
      " [   0    0    0 ...   53 2996  112]\n",
      " [   0    0    0 ... 1420    7  500]\n",
      " ...\n",
      " [   0    0    0 ... 1391 1581   41]\n",
      " [   0    0    0 ...    1  894    1]\n",
      " [   0    0    0 ...   90   27   46]]\n"
     ]
    }
   ],
   "execution_count": 25
  },
  {
   "metadata": {},
   "cell_type": "markdown",
   "source": "## Split Traning and Test data"
  },
  {
   "metadata": {
    "ExecuteTime": {
     "end_time": "2025-03-22T07:34:01.157636Z",
     "start_time": "2025-03-22T07:34:01.149561Z"
    }
   },
   "cell_type": "code",
   "source": [
    "train_data, test_data, train_label, test_label = train_test_split(tweets, data.polarity.values, test_size=0.2, random_state=101)\n",
    "print(np.unique(train_label))\n",
    "print(np.unique(test_label))"
   ],
   "outputs": [
    {
     "name": "stdout",
     "output_type": "stream",
     "text": [
      "[0 1]\n",
      "[0 1]\n"
     ]
    }
   ],
   "execution_count": 26
  },
  {
   "metadata": {},
   "cell_type": "markdown",
   "source": "## Creating and Traning LSTM Model"
  },
  {
   "metadata": {
    "ExecuteTime": {
     "end_time": "2025-03-22T07:34:01.172053Z",
     "start_time": "2025-03-22T07:34:01.168854Z"
    }
   },
   "cell_type": "code",
   "source": [
    "def create_lstm_model(hidden_layers, hidden_units):\n",
    "    model = Sequential()\n",
    "    model.add(layers.Embedding(max_words, embedding_dim))\n",
    "    model.add(layers.LSTM(LSTM_units, dropout=0.5))\n",
    "    for _ in range(hidden_layers):\n",
    "        model.add(layers.Dense(hidden_units, activation='relu'))\n",
    "    model.add(layers.Dense(1, activation='sigmoid'))\n",
    "    model.compile(optimizer='adam', loss='binary_crossentropy', metrics=['accuracy'])\n",
    "    return model"
   ],
   "outputs": [],
   "execution_count": 27
  },
  {
   "metadata": {
    "ExecuteTime": {
     "end_time": "2025-03-22T12:41:06.561541Z",
     "start_time": "2025-03-22T07:34:01.196204Z"
    }
   },
   "cell_type": "code",
   "source": [
    "models = {}\n",
    "for hidden_layers in hidden_layers_list:\n",
    "    for hidden_units in hidden_units_list:\n",
    "        print(f\"Training model with {hidden_layers} hidden layers and {hidden_units} hidden units per layer...\")\n",
    "\n",
    "        model = create_lstm_model(hidden_layers, hidden_units)\n",
    "\n",
    "        history = model.fit(\n",
    "            train_data, train_label,\n",
    "            epochs=num_epochs,\n",
    "            validation_data=(test_data, test_label),\n",
    "            verbose=2\n",
    "        )\n",
    "\n",
    "        results[(hidden_layers, hidden_units)] = {\n",
    "            'train_acc': history.history['accuracy'][-1],\n",
    "            'test_acc': history.history['val_accuracy'][-1]\n",
    "        }\n",
    "\n",
    "        params_history[(hidden_layers, hidden_units)] = model.count_params()\n",
    "        models[(hidden_layers, hidden_units)] = model"
   ],
   "outputs": [
    {
     "name": "stdout",
     "output_type": "stream",
     "text": [
      "Training model with 1 hidden layers and 4 hidden units per layer...\n",
      "Epoch 1/10\n",
      "500/500 - 20s - 40ms/step - accuracy: 0.6649 - loss: 0.6114 - val_accuracy: 0.7575 - val_loss: 0.5045\n",
      "Epoch 2/10\n",
      "500/500 - 18s - 35ms/step - accuracy: 0.7896 - loss: 0.4615 - val_accuracy: 0.7690 - val_loss: 0.4885\n",
      "Epoch 3/10\n",
      "500/500 - 18s - 35ms/step - accuracy: 0.8199 - loss: 0.4096 - val_accuracy: 0.7648 - val_loss: 0.5060\n",
      "Epoch 4/10\n",
      "500/500 - 18s - 35ms/step - accuracy: 0.8379 - loss: 0.3759 - val_accuracy: 0.7623 - val_loss: 0.5127\n",
      "Epoch 5/10\n",
      "500/500 - 18s - 35ms/step - accuracy: 0.8520 - loss: 0.3476 - val_accuracy: 0.7573 - val_loss: 0.5488\n",
      "Epoch 6/10\n",
      "500/500 - 18s - 35ms/step - accuracy: 0.8587 - loss: 0.3274 - val_accuracy: 0.7517 - val_loss: 0.5693\n",
      "Epoch 7/10\n",
      "500/500 - 18s - 35ms/step - accuracy: 0.8754 - loss: 0.2999 - val_accuracy: 0.7513 - val_loss: 0.5977\n",
      "Epoch 8/10\n",
      "500/500 - 17s - 35ms/step - accuracy: 0.8824 - loss: 0.2797 - val_accuracy: 0.7508 - val_loss: 0.6203\n",
      "Epoch 9/10\n",
      "500/500 - 18s - 35ms/step - accuracy: 0.8878 - loss: 0.2623 - val_accuracy: 0.7473 - val_loss: 0.6920\n",
      "Epoch 10/10\n",
      "500/500 - 18s - 36ms/step - accuracy: 0.8966 - loss: 0.2417 - val_accuracy: 0.7405 - val_loss: 0.6912\n",
      "Training model with 1 hidden layers and 8 hidden units per layer...\n",
      "Epoch 1/10\n",
      "500/500 - 20s - 39ms/step - accuracy: 0.6873 - loss: 0.5785 - val_accuracy: 0.7602 - val_loss: 0.4934\n",
      "Epoch 2/10\n",
      "500/500 - 18s - 35ms/step - accuracy: 0.7912 - loss: 0.4521 - val_accuracy: 0.7538 - val_loss: 0.5003\n",
      "Epoch 3/10\n",
      "500/500 - 19s - 37ms/step - accuracy: 0.8205 - loss: 0.4073 - val_accuracy: 0.7613 - val_loss: 0.5066\n",
      "Epoch 4/10\n",
      "500/500 - 18s - 35ms/step - accuracy: 0.8366 - loss: 0.3770 - val_accuracy: 0.7613 - val_loss: 0.5188\n",
      "Epoch 5/10\n",
      "500/500 - 18s - 35ms/step - accuracy: 0.8501 - loss: 0.3459 - val_accuracy: 0.7540 - val_loss: 0.5254\n",
      "Epoch 6/10\n",
      "500/500 - 18s - 36ms/step - accuracy: 0.8642 - loss: 0.3168 - val_accuracy: 0.7480 - val_loss: 0.5520\n",
      "Epoch 7/10\n",
      "500/500 - 18s - 36ms/step - accuracy: 0.8719 - loss: 0.2961 - val_accuracy: 0.7552 - val_loss: 0.6449\n",
      "Epoch 8/10\n",
      "500/500 - 18s - 36ms/step - accuracy: 0.8828 - loss: 0.2689 - val_accuracy: 0.7455 - val_loss: 0.6762\n",
      "Epoch 9/10\n",
      "500/500 - 18s - 36ms/step - accuracy: 0.8911 - loss: 0.2538 - val_accuracy: 0.7502 - val_loss: 0.6752\n",
      "Epoch 10/10\n",
      "500/500 - 18s - 36ms/step - accuracy: 0.8993 - loss: 0.2326 - val_accuracy: 0.7492 - val_loss: 0.7695\n",
      "Training model with 1 hidden layers and 16 hidden units per layer...\n",
      "Epoch 1/10\n",
      "500/500 - 20s - 40ms/step - accuracy: 0.6919 - loss: 0.5782 - val_accuracy: 0.7573 - val_loss: 0.5008\n",
      "Epoch 2/10\n",
      "500/500 - 18s - 37ms/step - accuracy: 0.7954 - loss: 0.4507 - val_accuracy: 0.7632 - val_loss: 0.4951\n",
      "Epoch 3/10\n",
      "500/500 - 18s - 36ms/step - accuracy: 0.8218 - loss: 0.4045 - val_accuracy: 0.7648 - val_loss: 0.5026\n",
      "Epoch 4/10\n",
      "500/500 - 18s - 37ms/step - accuracy: 0.8379 - loss: 0.3702 - val_accuracy: 0.7613 - val_loss: 0.5204\n",
      "Epoch 5/10\n",
      "500/500 - 18s - 36ms/step - accuracy: 0.8586 - loss: 0.3352 - val_accuracy: 0.7563 - val_loss: 0.5475\n",
      "Epoch 6/10\n",
      "500/500 - 18s - 36ms/step - accuracy: 0.8731 - loss: 0.3057 - val_accuracy: 0.7540 - val_loss: 0.5678\n",
      "Epoch 7/10\n",
      "500/500 - 18s - 36ms/step - accuracy: 0.8799 - loss: 0.2866 - val_accuracy: 0.7473 - val_loss: 0.6150\n",
      "Epoch 8/10\n",
      "500/500 - 18s - 36ms/step - accuracy: 0.8891 - loss: 0.2602 - val_accuracy: 0.7477 - val_loss: 0.6494\n",
      "Epoch 9/10\n",
      "500/500 - 18s - 36ms/step - accuracy: 0.8959 - loss: 0.2413 - val_accuracy: 0.7480 - val_loss: 0.7227\n",
      "Epoch 10/10\n",
      "500/500 - 18s - 37ms/step - accuracy: 0.9044 - loss: 0.2233 - val_accuracy: 0.7460 - val_loss: 0.7349\n",
      "Training model with 1 hidden layers and 32 hidden units per layer...\n",
      "Epoch 1/10\n",
      "500/500 - 20s - 39ms/step - accuracy: 0.6882 - loss: 0.5797 - val_accuracy: 0.7620 - val_loss: 0.4992\n",
      "Epoch 2/10\n",
      "500/500 - 18s - 36ms/step - accuracy: 0.7922 - loss: 0.4519 - val_accuracy: 0.7638 - val_loss: 0.4987\n",
      "Epoch 3/10\n",
      "500/500 - 18s - 36ms/step - accuracy: 0.8244 - loss: 0.4083 - val_accuracy: 0.7653 - val_loss: 0.5244\n",
      "Epoch 4/10\n",
      "500/500 - 18s - 35ms/step - accuracy: 0.8397 - loss: 0.3747 - val_accuracy: 0.7550 - val_loss: 0.5155\n",
      "Epoch 5/10\n",
      "500/500 - 18s - 35ms/step - accuracy: 0.8549 - loss: 0.3445 - val_accuracy: 0.7570 - val_loss: 0.5367\n",
      "Epoch 6/10\n",
      "500/500 - 18s - 36ms/step - accuracy: 0.8692 - loss: 0.3111 - val_accuracy: 0.7558 - val_loss: 0.5846\n",
      "Epoch 7/10\n",
      "500/500 - 18s - 35ms/step - accuracy: 0.8792 - loss: 0.2849 - val_accuracy: 0.7508 - val_loss: 0.6292\n",
      "Epoch 8/10\n",
      "500/500 - 18s - 36ms/step - accuracy: 0.8892 - loss: 0.2569 - val_accuracy: 0.7500 - val_loss: 0.6614\n",
      "Epoch 9/10\n",
      "500/500 - 18s - 35ms/step - accuracy: 0.8999 - loss: 0.2371 - val_accuracy: 0.7485 - val_loss: 0.7041\n",
      "Epoch 10/10\n",
      "500/500 - 18s - 36ms/step - accuracy: 0.9073 - loss: 0.2204 - val_accuracy: 0.7440 - val_loss: 0.7366\n",
      "Training model with 2 hidden layers and 4 hidden units per layer...\n",
      "Epoch 1/10\n",
      "500/500 - 19s - 39ms/step - accuracy: 0.6808 - loss: 0.5921 - val_accuracy: 0.7527 - val_loss: 0.5050\n",
      "Epoch 2/10\n",
      "500/500 - 18s - 35ms/step - accuracy: 0.7903 - loss: 0.4610 - val_accuracy: 0.7508 - val_loss: 0.5105\n",
      "Epoch 3/10\n",
      "500/500 - 18s - 35ms/step - accuracy: 0.8200 - loss: 0.4140 - val_accuracy: 0.7563 - val_loss: 0.5137\n",
      "Epoch 4/10\n",
      "500/500 - 18s - 36ms/step - accuracy: 0.8395 - loss: 0.3791 - val_accuracy: 0.7628 - val_loss: 0.5324\n",
      "Epoch 5/10\n",
      "500/500 - 18s - 35ms/step - accuracy: 0.8513 - loss: 0.3541 - val_accuracy: 0.7538 - val_loss: 0.5519\n",
      "Epoch 6/10\n",
      "500/500 - 17s - 35ms/step - accuracy: 0.8694 - loss: 0.3230 - val_accuracy: 0.7538 - val_loss: 0.5723\n",
      "Epoch 7/10\n",
      "500/500 - 17s - 35ms/step - accuracy: 0.8772 - loss: 0.3023 - val_accuracy: 0.7525 - val_loss: 0.5992\n",
      "Epoch 8/10\n",
      "500/500 - 18s - 35ms/step - accuracy: 0.8884 - loss: 0.2741 - val_accuracy: 0.7450 - val_loss: 0.6452\n",
      "Epoch 9/10\n",
      "500/500 - 17s - 35ms/step - accuracy: 0.8942 - loss: 0.2561 - val_accuracy: 0.7420 - val_loss: 0.6694\n",
      "Epoch 10/10\n",
      "500/500 - 18s - 35ms/step - accuracy: 0.8984 - loss: 0.2418 - val_accuracy: 0.7500 - val_loss: 0.7073\n",
      "Training model with 2 hidden layers and 8 hidden units per layer...\n",
      "Epoch 1/10\n",
      "500/500 - 20s - 40ms/step - accuracy: 0.6743 - loss: 0.6018 - val_accuracy: 0.7567 - val_loss: 0.5099\n",
      "Epoch 2/10\n",
      "500/500 - 18s - 36ms/step - accuracy: 0.7877 - loss: 0.4685 - val_accuracy: 0.7667 - val_loss: 0.4979\n",
      "Epoch 3/10\n",
      "500/500 - 18s - 35ms/step - accuracy: 0.8185 - loss: 0.4149 - val_accuracy: 0.7610 - val_loss: 0.5007\n",
      "Epoch 4/10\n",
      "500/500 - 18s - 35ms/step - accuracy: 0.8378 - loss: 0.3797 - val_accuracy: 0.7582 - val_loss: 0.5090\n",
      "Epoch 5/10\n",
      "500/500 - 18s - 36ms/step - accuracy: 0.8511 - loss: 0.3517 - val_accuracy: 0.7555 - val_loss: 0.5423\n",
      "Epoch 6/10\n",
      "500/500 - 18s - 36ms/step - accuracy: 0.8644 - loss: 0.3232 - val_accuracy: 0.7560 - val_loss: 0.5676\n",
      "Epoch 7/10\n",
      "500/500 - 18s - 36ms/step - accuracy: 0.8742 - loss: 0.2963 - val_accuracy: 0.7580 - val_loss: 0.6051\n",
      "Epoch 8/10\n",
      "500/500 - 18s - 36ms/step - accuracy: 0.8849 - loss: 0.2733 - val_accuracy: 0.7563 - val_loss: 0.6668\n",
      "Epoch 9/10\n",
      "500/500 - 18s - 36ms/step - accuracy: 0.8925 - loss: 0.2470 - val_accuracy: 0.7502 - val_loss: 0.6843\n",
      "Epoch 10/10\n",
      "500/500 - 18s - 36ms/step - accuracy: 0.8989 - loss: 0.2329 - val_accuracy: 0.7475 - val_loss: 0.7104\n",
      "Training model with 2 hidden layers and 16 hidden units per layer...\n",
      "Epoch 1/10\n",
      "500/500 - 20s - 39ms/step - accuracy: 0.6837 - loss: 0.5820 - val_accuracy: 0.7565 - val_loss: 0.5039\n",
      "Epoch 2/10\n",
      "500/500 - 18s - 36ms/step - accuracy: 0.7925 - loss: 0.4546 - val_accuracy: 0.7635 - val_loss: 0.4964\n",
      "Epoch 3/10\n",
      "500/500 - 18s - 35ms/step - accuracy: 0.8233 - loss: 0.4074 - val_accuracy: 0.7625 - val_loss: 0.5017\n",
      "Epoch 4/10\n",
      "500/500 - 17s - 35ms/step - accuracy: 0.8386 - loss: 0.3755 - val_accuracy: 0.7555 - val_loss: 0.5160\n",
      "Epoch 5/10\n",
      "500/500 - 18s - 35ms/step - accuracy: 0.8544 - loss: 0.3421 - val_accuracy: 0.7525 - val_loss: 0.5640\n",
      "Epoch 6/10\n",
      "500/500 - 17s - 35ms/step - accuracy: 0.8678 - loss: 0.3123 - val_accuracy: 0.7508 - val_loss: 0.6085\n",
      "Epoch 7/10\n",
      "500/500 - 17s - 35ms/step - accuracy: 0.8831 - loss: 0.2813 - val_accuracy: 0.7533 - val_loss: 0.6298\n",
      "Epoch 8/10\n",
      "500/500 - 17s - 34ms/step - accuracy: 0.8887 - loss: 0.2598 - val_accuracy: 0.7487 - val_loss: 0.6616\n",
      "Epoch 9/10\n",
      "500/500 - 17s - 34ms/step - accuracy: 0.8987 - loss: 0.2386 - val_accuracy: 0.7495 - val_loss: 0.6939\n",
      "Epoch 10/10\n",
      "500/500 - 17s - 34ms/step - accuracy: 0.9088 - loss: 0.2155 - val_accuracy: 0.7425 - val_loss: 0.7567\n",
      "Training model with 2 hidden layers and 32 hidden units per layer...\n",
      "Epoch 1/10\n",
      "500/500 - 19s - 38ms/step - accuracy: 0.6804 - loss: 0.5827 - val_accuracy: 0.7607 - val_loss: 0.5002\n",
      "Epoch 2/10\n",
      "500/500 - 18s - 35ms/step - accuracy: 0.7934 - loss: 0.4530 - val_accuracy: 0.7648 - val_loss: 0.4975\n",
      "Epoch 3/10\n",
      "500/500 - 18s - 36ms/step - accuracy: 0.8202 - loss: 0.4043 - val_accuracy: 0.7635 - val_loss: 0.5005\n",
      "Epoch 4/10\n",
      "500/500 - 18s - 36ms/step - accuracy: 0.8427 - loss: 0.3650 - val_accuracy: 0.7625 - val_loss: 0.5134\n",
      "Epoch 5/10\n",
      "500/500 - 18s - 36ms/step - accuracy: 0.8579 - loss: 0.3326 - val_accuracy: 0.7560 - val_loss: 0.5670\n",
      "Epoch 6/10\n",
      "500/500 - 18s - 36ms/step - accuracy: 0.8724 - loss: 0.2969 - val_accuracy: 0.7533 - val_loss: 0.6116\n",
      "Epoch 7/10\n",
      "500/500 - 18s - 36ms/step - accuracy: 0.8817 - loss: 0.2735 - val_accuracy: 0.7500 - val_loss: 0.6538\n",
      "Epoch 8/10\n",
      "500/500 - 18s - 37ms/step - accuracy: 0.8957 - loss: 0.2491 - val_accuracy: 0.7470 - val_loss: 0.6881\n",
      "Epoch 9/10\n",
      "500/500 - 18s - 35ms/step - accuracy: 0.9010 - loss: 0.2266 - val_accuracy: 0.7480 - val_loss: 0.7706\n",
      "Epoch 10/10\n",
      "500/500 - 18s - 35ms/step - accuracy: 0.9084 - loss: 0.2113 - val_accuracy: 0.7362 - val_loss: 0.7506\n",
      "Training model with 3 hidden layers and 4 hidden units per layer...\n",
      "Epoch 1/10\n",
      "500/500 - 20s - 40ms/step - accuracy: 0.6831 - loss: 0.5870 - val_accuracy: 0.7565 - val_loss: 0.5012\n",
      "Epoch 2/10\n",
      "500/500 - 18s - 35ms/step - accuracy: 0.7937 - loss: 0.4552 - val_accuracy: 0.7610 - val_loss: 0.4955\n",
      "Epoch 3/10\n",
      "500/500 - 18s - 36ms/step - accuracy: 0.8247 - loss: 0.4061 - val_accuracy: 0.7625 - val_loss: 0.5084\n",
      "Epoch 4/10\n",
      "500/500 - 18s - 35ms/step - accuracy: 0.8415 - loss: 0.3695 - val_accuracy: 0.7540 - val_loss: 0.5220\n",
      "Epoch 5/10\n",
      "500/500 - 18s - 35ms/step - accuracy: 0.8583 - loss: 0.3383 - val_accuracy: 0.7558 - val_loss: 0.5484\n",
      "Epoch 6/10\n",
      "500/500 - 18s - 35ms/step - accuracy: 0.8736 - loss: 0.3091 - val_accuracy: 0.7520 - val_loss: 0.5891\n",
      "Epoch 7/10\n",
      "500/500 - 18s - 35ms/step - accuracy: 0.8829 - loss: 0.2817 - val_accuracy: 0.7513 - val_loss: 0.6188\n",
      "Epoch 8/10\n",
      "500/500 - 18s - 35ms/step - accuracy: 0.8898 - loss: 0.2627 - val_accuracy: 0.7538 - val_loss: 0.6904\n",
      "Epoch 9/10\n",
      "500/500 - 18s - 35ms/step - accuracy: 0.8978 - loss: 0.2436 - val_accuracy: 0.7490 - val_loss: 0.6975\n",
      "Epoch 10/10\n",
      "500/500 - 18s - 35ms/step - accuracy: 0.9036 - loss: 0.2253 - val_accuracy: 0.7517 - val_loss: 0.7159\n",
      "Training model with 3 hidden layers and 8 hidden units per layer...\n",
      "Epoch 1/10\n",
      "500/500 - 20s - 39ms/step - accuracy: 0.6819 - loss: 0.5874 - val_accuracy: 0.7590 - val_loss: 0.5001\n",
      "Epoch 2/10\n",
      "500/500 - 18s - 35ms/step - accuracy: 0.7911 - loss: 0.4578 - val_accuracy: 0.7577 - val_loss: 0.4991\n",
      "Epoch 3/10\n",
      "500/500 - 18s - 35ms/step - accuracy: 0.8202 - loss: 0.4088 - val_accuracy: 0.7645 - val_loss: 0.4994\n",
      "Epoch 4/10\n",
      "500/500 - 18s - 35ms/step - accuracy: 0.8402 - loss: 0.3757 - val_accuracy: 0.7577 - val_loss: 0.5324\n",
      "Epoch 5/10\n",
      "500/500 - 18s - 35ms/step - accuracy: 0.8526 - loss: 0.3495 - val_accuracy: 0.7558 - val_loss: 0.5312\n",
      "Epoch 6/10\n",
      "500/500 - 18s - 35ms/step - accuracy: 0.8658 - loss: 0.3179 - val_accuracy: 0.7505 - val_loss: 0.5730\n",
      "Epoch 7/10\n",
      "500/500 - 18s - 35ms/step - accuracy: 0.8796 - loss: 0.2879 - val_accuracy: 0.7473 - val_loss: 0.5765\n",
      "Epoch 8/10\n",
      "500/500 - 18s - 35ms/step - accuracy: 0.8869 - loss: 0.2650 - val_accuracy: 0.7467 - val_loss: 0.6632\n",
      "Epoch 9/10\n",
      "500/500 - 18s - 35ms/step - accuracy: 0.8979 - loss: 0.2404 - val_accuracy: 0.7492 - val_loss: 0.7614\n",
      "Epoch 10/10\n",
      "500/500 - 18s - 35ms/step - accuracy: 0.9012 - loss: 0.2255 - val_accuracy: 0.7477 - val_loss: 0.7984\n",
      "Training model with 3 hidden layers and 16 hidden units per layer...\n",
      "Epoch 1/10\n",
      "500/500 - 19s - 39ms/step - accuracy: 0.6799 - loss: 0.5863 - val_accuracy: 0.7492 - val_loss: 0.5105\n",
      "Epoch 2/10\n",
      "500/500 - 18s - 35ms/step - accuracy: 0.7930 - loss: 0.4570 - val_accuracy: 0.7657 - val_loss: 0.4897\n",
      "Epoch 3/10\n",
      "500/500 - 18s - 35ms/step - accuracy: 0.8213 - loss: 0.4074 - val_accuracy: 0.7640 - val_loss: 0.5159\n",
      "Epoch 4/10\n",
      "500/500 - 18s - 35ms/step - accuracy: 0.8391 - loss: 0.3708 - val_accuracy: 0.7660 - val_loss: 0.5244\n",
      "Epoch 5/10\n",
      "500/500 - 18s - 35ms/step - accuracy: 0.8553 - loss: 0.3369 - val_accuracy: 0.7630 - val_loss: 0.5642\n",
      "Epoch 6/10\n",
      "500/500 - 18s - 35ms/step - accuracy: 0.8684 - loss: 0.3073 - val_accuracy: 0.7517 - val_loss: 0.5944\n",
      "Epoch 7/10\n",
      "500/500 - 18s - 35ms/step - accuracy: 0.8823 - loss: 0.2791 - val_accuracy: 0.7567 - val_loss: 0.6653\n",
      "Epoch 8/10\n",
      "500/500 - 18s - 35ms/step - accuracy: 0.8932 - loss: 0.2531 - val_accuracy: 0.7467 - val_loss: 0.6576\n",
      "Epoch 9/10\n",
      "500/500 - 18s - 35ms/step - accuracy: 0.9007 - loss: 0.2363 - val_accuracy: 0.7487 - val_loss: 0.7123\n",
      "Epoch 10/10\n",
      "500/500 - 18s - 35ms/step - accuracy: 0.9094 - loss: 0.2143 - val_accuracy: 0.7425 - val_loss: 0.7831\n",
      "Training model with 3 hidden layers and 32 hidden units per layer...\n",
      "Epoch 1/10\n",
      "500/500 - 20s - 40ms/step - accuracy: 0.6729 - loss: 0.5905 - val_accuracy: 0.7613 - val_loss: 0.5009\n",
      "Epoch 2/10\n",
      "500/500 - 18s - 35ms/step - accuracy: 0.7926 - loss: 0.4565 - val_accuracy: 0.7632 - val_loss: 0.5021\n",
      "Epoch 3/10\n",
      "500/500 - 18s - 35ms/step - accuracy: 0.8228 - loss: 0.4054 - val_accuracy: 0.7580 - val_loss: 0.5430\n",
      "Epoch 4/10\n",
      "500/500 - 18s - 35ms/step - accuracy: 0.8411 - loss: 0.3668 - val_accuracy: 0.7577 - val_loss: 0.5246\n",
      "Epoch 5/10\n",
      "500/500 - 18s - 35ms/step - accuracy: 0.8560 - loss: 0.3316 - val_accuracy: 0.7552 - val_loss: 0.5749\n",
      "Epoch 6/10\n",
      "500/500 - 18s - 35ms/step - accuracy: 0.8716 - loss: 0.2977 - val_accuracy: 0.7525 - val_loss: 0.6350\n",
      "Epoch 7/10\n",
      "500/500 - 18s - 35ms/step - accuracy: 0.8816 - loss: 0.2768 - val_accuracy: 0.7533 - val_loss: 0.6654\n",
      "Epoch 8/10\n",
      "500/500 - 18s - 36ms/step - accuracy: 0.8924 - loss: 0.2479 - val_accuracy: 0.7502 - val_loss: 0.6720\n",
      "Epoch 9/10\n",
      "500/500 - 18s - 36ms/step - accuracy: 0.9004 - loss: 0.2319 - val_accuracy: 0.7502 - val_loss: 0.7774\n",
      "Epoch 10/10\n",
      "500/500 - 18s - 36ms/step - accuracy: 0.9078 - loss: 0.2126 - val_accuracy: 0.7510 - val_loss: 0.7970\n",
      "Training model with 4 hidden layers and 4 hidden units per layer...\n",
      "Epoch 1/10\n",
      "500/500 - 20s - 40ms/step - accuracy: 0.6728 - loss: 0.6231 - val_accuracy: 0.7347 - val_loss: 0.5763\n",
      "Epoch 2/10\n",
      "500/500 - 18s - 35ms/step - accuracy: 0.7763 - loss: 0.5101 - val_accuracy: 0.7552 - val_loss: 0.5236\n",
      "Epoch 3/10\n",
      "500/500 - 18s - 36ms/step - accuracy: 0.8043 - loss: 0.4515 - val_accuracy: 0.7570 - val_loss: 0.5217\n",
      "Epoch 4/10\n",
      "500/500 - 18s - 36ms/step - accuracy: 0.8254 - loss: 0.4118 - val_accuracy: 0.7558 - val_loss: 0.5408\n",
      "Epoch 5/10\n",
      "500/500 - 18s - 35ms/step - accuracy: 0.8421 - loss: 0.3818 - val_accuracy: 0.7513 - val_loss: 0.5610\n",
      "Epoch 6/10\n",
      "500/500 - 18s - 36ms/step - accuracy: 0.8556 - loss: 0.3551 - val_accuracy: 0.7480 - val_loss: 0.5692\n",
      "Epoch 7/10\n",
      "500/500 - 18s - 36ms/step - accuracy: 0.8660 - loss: 0.3371 - val_accuracy: 0.7458 - val_loss: 0.5740\n",
      "Epoch 8/10\n",
      "500/500 - 18s - 36ms/step - accuracy: 0.8772 - loss: 0.3166 - val_accuracy: 0.7445 - val_loss: 0.6350\n",
      "Epoch 9/10\n",
      "500/500 - 18s - 35ms/step - accuracy: 0.8853 - loss: 0.2996 - val_accuracy: 0.7462 - val_loss: 0.6477\n",
      "Epoch 10/10\n",
      "500/500 - 18s - 36ms/step - accuracy: 0.8921 - loss: 0.2838 - val_accuracy: 0.7410 - val_loss: 0.6874\n",
      "Training model with 4 hidden layers and 8 hidden units per layer...\n",
      "Epoch 1/10\n",
      "500/500 - 20s - 39ms/step - accuracy: 0.6737 - loss: 0.5924 - val_accuracy: 0.7620 - val_loss: 0.5007\n",
      "Epoch 2/10\n",
      "500/500 - 18s - 35ms/step - accuracy: 0.7917 - loss: 0.4589 - val_accuracy: 0.7638 - val_loss: 0.5018\n",
      "Epoch 3/10\n",
      "500/500 - 18s - 35ms/step - accuracy: 0.8213 - loss: 0.4082 - val_accuracy: 0.7635 - val_loss: 0.5167\n",
      "Epoch 4/10\n",
      "500/500 - 18s - 35ms/step - accuracy: 0.8424 - loss: 0.3716 - val_accuracy: 0.7563 - val_loss: 0.5310\n",
      "Epoch 5/10\n",
      "500/500 - 17s - 35ms/step - accuracy: 0.8597 - loss: 0.3358 - val_accuracy: 0.7535 - val_loss: 0.5760\n",
      "Epoch 6/10\n",
      "500/500 - 17s - 35ms/step - accuracy: 0.8719 - loss: 0.3070 - val_accuracy: 0.7513 - val_loss: 0.6310\n",
      "Epoch 7/10\n",
      "500/500 - 18s - 35ms/step - accuracy: 0.8822 - loss: 0.2792 - val_accuracy: 0.7483 - val_loss: 0.6459\n",
      "Epoch 8/10\n",
      "500/500 - 17s - 35ms/step - accuracy: 0.8921 - loss: 0.2579 - val_accuracy: 0.7470 - val_loss: 0.6605\n",
      "Epoch 9/10\n",
      "500/500 - 17s - 35ms/step - accuracy: 0.8962 - loss: 0.2413 - val_accuracy: 0.7480 - val_loss: 0.7012\n",
      "Epoch 10/10\n",
      "500/500 - 18s - 35ms/step - accuracy: 0.9057 - loss: 0.2234 - val_accuracy: 0.7412 - val_loss: 0.7427\n",
      "Training model with 4 hidden layers and 16 hidden units per layer...\n",
      "Epoch 1/10\n",
      "500/500 - 6186s - 12s/step - accuracy: 0.6746 - loss: 0.5879 - val_accuracy: 0.7592 - val_loss: 0.4997\n",
      "Epoch 2/10\n",
      "500/500 - 3697s - 7s/step - accuracy: 0.7917 - loss: 0.4530 - val_accuracy: 0.7660 - val_loss: 0.4922\n",
      "Epoch 3/10\n",
      "500/500 - 3568s - 7s/step - accuracy: 0.8215 - loss: 0.4014 - val_accuracy: 0.7615 - val_loss: 0.5111\n",
      "Epoch 4/10\n",
      "500/500 - 2178s - 4s/step - accuracy: 0.8398 - loss: 0.3622 - val_accuracy: 0.7585 - val_loss: 0.5443\n",
      "Epoch 5/10\n",
      "500/500 - 17s - 34ms/step - accuracy: 0.8564 - loss: 0.3241 - val_accuracy: 0.7575 - val_loss: 0.5893\n",
      "Epoch 6/10\n",
      "500/500 - 17s - 35ms/step - accuracy: 0.8644 - loss: 0.2989 - val_accuracy: 0.7602 - val_loss: 0.6967\n",
      "Epoch 7/10\n",
      "500/500 - 17s - 34ms/step - accuracy: 0.8800 - loss: 0.2745 - val_accuracy: 0.7533 - val_loss: 0.6468\n",
      "Epoch 8/10\n",
      "500/500 - 18s - 35ms/step - accuracy: 0.8903 - loss: 0.2490 - val_accuracy: 0.7470 - val_loss: 0.6785\n",
      "Epoch 9/10\n",
      "500/500 - 18s - 36ms/step - accuracy: 0.8982 - loss: 0.2321 - val_accuracy: 0.7525 - val_loss: 0.7090\n",
      "Epoch 10/10\n",
      "500/500 - 18s - 36ms/step - accuracy: 0.9026 - loss: 0.2169 - val_accuracy: 0.7415 - val_loss: 0.7680\n",
      "Training model with 4 hidden layers and 32 hidden units per layer...\n",
      "Epoch 1/10\n",
      "500/500 - 20s - 41ms/step - accuracy: 0.6871 - loss: 0.5770 - val_accuracy: 0.7588 - val_loss: 0.5016\n",
      "Epoch 2/10\n",
      "500/500 - 18s - 36ms/step - accuracy: 0.7944 - loss: 0.4554 - val_accuracy: 0.7548 - val_loss: 0.5081\n",
      "Epoch 3/10\n",
      "500/500 - 18s - 36ms/step - accuracy: 0.8216 - loss: 0.4074 - val_accuracy: 0.7650 - val_loss: 0.4991\n",
      "Epoch 4/10\n",
      "500/500 - 18s - 36ms/step - accuracy: 0.8386 - loss: 0.3724 - val_accuracy: 0.7465 - val_loss: 0.5341\n",
      "Epoch 5/10\n",
      "500/500 - 18s - 36ms/step - accuracy: 0.8551 - loss: 0.3379 - val_accuracy: 0.7510 - val_loss: 0.5320\n",
      "Epoch 6/10\n",
      "500/500 - 18s - 35ms/step - accuracy: 0.8711 - loss: 0.3050 - val_accuracy: 0.7513 - val_loss: 0.5822\n",
      "Epoch 7/10\n",
      "500/500 - 18s - 36ms/step - accuracy: 0.8815 - loss: 0.2797 - val_accuracy: 0.7467 - val_loss: 0.5943\n",
      "Epoch 8/10\n",
      "500/500 - 18s - 35ms/step - accuracy: 0.8911 - loss: 0.2551 - val_accuracy: 0.7458 - val_loss: 0.6732\n",
      "Epoch 9/10\n",
      "500/500 - 18s - 36ms/step - accuracy: 0.8982 - loss: 0.2348 - val_accuracy: 0.7427 - val_loss: 0.6811\n",
      "Epoch 10/10\n",
      "500/500 - 18s - 36ms/step - accuracy: 0.9071 - loss: 0.2180 - val_accuracy: 0.7408 - val_loss: 0.8210\n"
     ]
    }
   ],
   "execution_count": 28
  },
  {
   "metadata": {
    "ExecuteTime": {
     "end_time": "2025-03-22T12:59:01.994257Z",
     "start_time": "2025-03-22T12:59:01.659016Z"
    }
   },
   "cell_type": "code",
   "source": [
    "colors = ['red', 'orange', 'green', 'blue']\n",
    "\n",
    "plt.figure(figsize=(12, 5))\n",
    "# --- 训练精度折线图 ---\n",
    "for i, hl in enumerate(hidden_layers_list):\n",
    "    train_acc = [results[(hl, hu)]['train_acc'] for hu in hidden_units_list]\n",
    "    plt.plot(hidden_units_list, train_acc, marker='o', linestyle='-', color=colors[i], label=f\"{hl}\")\n",
    "plt.xlabel(\"Number of hidden units\")\n",
    "plt.ylabel(\"Accuracy\")\n",
    "plt.title(\"Train Accuracy\")\n",
    "plt.legend(title=\"Hidden Layers\")\n",
    "plt.show()\n",
    "\n",
    "# --- 测试精度折线图 ---\n",
    "plt.figure(figsize=(12, 5))\n",
    "for i, hl in enumerate(hidden_layers_list):\n",
    "    test_acc = [results[(hl, hu)]['test_acc'] for hu in hidden_units_list]\n",
    "    plt.plot(hidden_units_list, test_acc, marker='o', linestyle='-', color=colors[i], label=f\"{hl}\")\n",
    "plt.xlabel(\"Number of hidden units\")\n",
    "plt.ylabel(\"Accuracy\")\n",
    "plt.title(\"Test Accuracy\")\n",
    "plt.legend(title=\"Hidden Layers\")\n",
    "plt.show()\n",
    "\n",
    "# --- 参数量变化折线图 ---\n",
    "plt.figure(figsize=(8, 6))\n",
    "for i, hl in enumerate(hidden_layers_list):\n",
    "    params = [params_history[(hl, hu)] for hu in hidden_units_list]\n",
    "    plt.plot(hidden_units_list, params, marker='o', linestyle='-', color=colors[i], label=f\"{hl}\")\n",
    "plt.xlabel(\"Number of hidden units\")\n",
    "plt.ylabel(\"Trainable Parameters\")\n",
    "plt.title(\"Model Parameters\")\n",
    "plt.legend(title=\"Hidden Layers\")\n",
    "plt.show()\n"
   ],
   "outputs": [
    {
     "data": {
      "text/plain": [
       "<Figure size 1200x500 with 1 Axes>"
      ],
      "image/png": "[encoded data removed]"
     },
     "metadata": {},
     "output_type": "display_data"
    },
    {
     "data": {
      "text/plain": [
       "<Figure size 1200x500 with 1 Axes>"
      ],
      "image/png": "[encoded data removed]"
     },
     "metadata": {},
     "output_type": "display_data"
    },
    {
     "data": {
      "text/plain": [
       "<Figure size 800x600 with 1 Axes>"
      ],
      "image/png": "[encoded data removed]"
     },
     "metadata": {},
     "output_type": "display_data"
    }
   ],
   "execution_count": 33
  },
  {
   "metadata": {
    "ExecuteTime": {
     "end_time": "2025-03-22T12:41:07.216261Z",
     "start_time": "2025-03-22T12:41:07.214694Z"
    }
   },
   "cell_type": "code",
   "source": "",
   "outputs": [],
   "execution_count": null
  },
  {
   "metadata": {},
   "cell_type": "markdown",
   "source": ""
  }
 ],
 "metadata": {
  "colab": {
   "authorship_tag": "ABX9TyNNag92UMCy1GtgfJ+zFFU1",
   "collapsed_sections": [],
   "name": "DUDL_FFN_aboutMNIST.ipynb",
   "provenance": [
    {
     "file_id": "15cpyHkJ435B4MqbyGjAH1poN4nCy_DE4",
     "timestamp": 1617737766196
    },
    {
     "file_id": "1OLuWuaFu0hcFgkQ2hh5BqbRuqUZD7XcQ",
     "timestamp": 1617734878578
    },
    {
     "file_id": "1XvzVGJPTJifVh8OpZVB7ykLxyUqYwQ1j",
     "timestamp": 1617196833019
    },
    {
     "file_id": "1bv1_y32e3KEExFKKlPfC3rpw1JxmBr8H",
     "timestamp": 1617124341706
    },
    {
     "file_id": "1GMq8u7KyHB2AE7Teyls9gK1T01OduQSn",
     "timestamp": 1616697516760
    },
    {
     "file_id": "1Ui3kyHim-e0XLgDs2mkBxVlYg7TKYtcg",
     "timestamp": 1616615469755
    },
    {
     "file_id": "1YpHocGI4rApOxIBb1ZghCU5L-hFnv4CK",
     "timestamp": 1616608248670
    }
   ]
  },
  "kernelspec": {
   "display_name": "Python (newpipenv)",
   "language": "python",
   "name": "newpipenv"
  },
  "language_info": {
   "codemirror_mode": {
    "name": "ipython",
    "version": 3
   },
   "file_extension": ".py",
   "mimetype": "text/x-python",
   "name": "python",
   "nbconvert_exporter": "python",
   "pygments_lexer": "ipython3",
   "version": "3.10.9"
  }
 },
 "nbformat": 4,
 "nbformat_minor": 1
}
