{
 "cells": [
  {
   "cell_type": "code",
   "metadata": {
    "id": "YeuAheYyhdZw",
    "ExecuteTime": {
     "end_time": "2025-03-22T21:23:56.500059Z",
     "start_time": "2025-03-22T21:23:56.491892Z"
    }
   },
   "source": [
    "# import libraries\n",
    "# DataFrame\n",
    "import pandas as pd\n",
    "\n",
    "# plotting\n",
    "import seaborn as sns\n",
    "from wordcloud import WordCloud\n",
    "import matplotlib.pyplot as plt\n",
    "\n",
    "# nltk\n",
    "import nltk\n",
    "from nltk.stem import WordNetLemmatizer\n",
    "from nltk.corpus import stopwords\n",
    "from nltk.tokenize import word_tokenize\n",
    "\n",
    "# sklearny\n",
    "from sklearn.model_selection import train_test_split\n",
    "from sklearn.feature_extraction.text import TfidfVectorizer\n",
    "from sklearn.metrics import confusion_matrix, classification_report\n",
    "\n",
    "from sklearn.linear_model import LogisticRegression\n",
    "from sklearn.svm import LinearSVC\n",
    "from sklearn.ensemble import RandomForestClassifier\n",
    "from sklearn.naive_bayes import BernoulliNB\n",
    "\n",
    "\n",
    "#tensorflow\n",
    "import tensorflow.compat.v2 as tf\n",
    "import tensorflow_datasets as tfds\n",
    "\n",
    "# Utility\n",
    "import pandas as pd\n",
    "import numpy as np\n",
    "import warnings\n",
    "warnings.filterwarnings('ignore')\n",
    "import re\n",
    "import string\n",
    "import pickle\n",
    "# RNN - LSTM\n",
    "from keras.models import Sequential\n",
    "from keras.layers import Dense, Embedding, LSTM, Dropout\n",
    "from sklearn.feature_extraction.text import CountVectorizer\n",
    "from tensorflow.keras.preprocessing.text import Tokenizer\n",
    "from tensorflow.keras.preprocessing.sequence import pad_sequences\n",
    "from tensorflow.keras.utils import to_categorical\n",
    "import re\n",
    "import keras\n",
    "from keras import regularizers\n",
    "from keras.models import Sequential\n",
    "from keras import layers\n",
    "from keras import regularizers\n",
    "from keras import backend as K\n",
    "from keras.callbacks import ModelCheckpoint\n",
    "from tensorflow.keras.optimizers import Adam"
   ],
   "outputs": [],
   "execution_count": 163
  },
  {
   "metadata": {},
   "cell_type": "markdown",
   "source": "# Test Input dataset before model training"
  },
  {
   "metadata": {
    "ExecuteTime": {
     "end_time": "2025-03-22T21:23:56.509748Z",
     "start_time": "2025-03-22T21:23:56.506375Z"
    }
   },
   "cell_type": "code",
   "source": [
    "nltk.download('stopwords')\n",
    "stopword = set(stopwords.words('english'))\n",
    "print(stopword)"
   ],
   "outputs": [
    {
     "name": "stdout",
     "output_type": "stream",
     "text": [
      "{'more', 'ain', 'such', 'was', 'above', 'at', 'before', 'where', \"aren't\", 'have', \"we're\", \"she'd\", 've', 'between', 'wasn', 'there', 't', 'that', 'both', 'so', 'a', 'no', \"they'd\", 'how', 'those', \"don't\", 'what', 'our', \"it'd\", \"should've\", 'having', 'ma', 'or', \"we'll\", 'during', 'will', 'm', 'won', 'down', \"weren't\", 'll', \"it's\", 'most', 'same', \"isn't\", 'o', \"we've\", 'about', 'couldn', 'while', 'under', 'after', \"that'll\", 'themselves', 'up', 'am', \"mightn't\", 'nor', \"wasn't\", 'why', 'ourselves', 'mightn', 'd', 'until', 'these', \"hadn't\", 'is', 'did', 'now', 'are', 'than', 'be', \"doesn't\", 'been', 'his', 'me', 'she', 'don', 'their', \"i'm\", 'further', 'other', 'then', \"didn't\", 'not', 'can', \"you'd\", 'only', 'of', 'for', 'all', 'he', 'off', 'needn', 'doesn', 'does', 'into', 'each', 'i', \"they're\", 'whom', 'herself', \"she'll\", 'we', \"shouldn't\", 'him', 'once', \"hasn't\", 'out', 'on', 'had', 'weren', 'ours', 'below', 'myself', \"couldn't\", \"shan't\", \"needn't\", 'my', 'against', 'wouldn', \"he's\", \"they've\", 'hers', 'by', 'this', 'yourself', \"he'd\", 'own', 'shouldn', 'which', 'any', \"i'll\", 's', 'itself', 'over', 'were', 'the', \"you'll\", 'it', 'being', \"you're\", 'but', 'some', 'haven', 'to', \"haven't\", 'hasn', 'himself', 'too', 'who', 'and', 'when', 'very', \"i'd\", \"wouldn't\", \"it'll\", \"i've\", 'you', 'here', 'hadn', \"won't\", 'just', \"mustn't\", 'do', \"she's\", 'theirs', 'in', 'y', \"you've\", 'didn', 'from', 'her', 'shan', 'through', 'again', 'should', \"we'd\", 'because', \"he'll\", 'doing', 'if', 'they', 'them', 'isn', 'with', 'its', 'few', 'an', 're', 'aren', 'as', 'mustn', 'has', 'yours', \"they'll\", 'your', 'yourselves'}\n"
     ]
    },
    {
     "name": "stderr",
     "output_type": "stream",
     "text": [
      "[nltk_data] Downloading package stopwords to\n",
      "[nltk_data]     /Users/zhaijingjing/nltk_data...\n",
      "[nltk_data]   Package stopwords is already up-to-date!\n"
     ]
    }
   ],
   "execution_count": 164
  },
  {
   "metadata": {
    "ExecuteTime": {
     "end_time": "2025-03-22T21:23:56.529Z",
     "start_time": "2025-03-22T21:23:56.523358Z"
    }
   },
   "cell_type": "code",
   "source": [
    "urlPattern = r\"((http://)[^ ]*|(https://)[^ ]*|( www\\.)[^ ]*)\"\n",
    "userPattern = '@[^\\s]+'\n",
    "def process_tweets(tweet):\n",
    "  # Lower Casing\n",
    "    tweet = tweet.lower()\n",
    "    #tweet=tweet[1:]\n",
    "    # Removing all URls\n",
    "    tweet = re.sub(urlPattern,'',tweet)\n",
    "    # Removing all @username.\n",
    "    tweet = re.sub(userPattern,'', tweet)\n",
    "    #Remove punctuations\n",
    "    tweet = tweet.translate(str.maketrans(\"\",\"\",string.punctuation))\n",
    "    #tokenizing words\n",
    "    tokens = word_tokenize(tweet)\n",
    "    #Removing Stop Words\n",
    "    #final_tokens = [w for w in tokens if w not in stopword]\n",
    "    final_tokens = tokens\n",
    "    #reducing a word to its word stem\n",
    "    wordLemm = WordNetLemmatizer()\n",
    "    finalwords=[]\n",
    "    for w in final_tokens:\n",
    "      if len(w)>1:\n",
    "        word = wordLemm.lemmatize(w)\n",
    "        finalwords.append(word)\n",
    "    return ' '.join(finalwords)\n",
    "\n",
    "def process_tweets_append(tweet):\n",
    "  # Lower Casing\n",
    "    tweet = tweet.lower()\n",
    "    #tweet=tweet[1:]\n",
    "    # Removing all URls\n",
    "    tweet = re.sub(urlPattern,'',tweet)\n",
    "    # Removing all @username.\n",
    "    tweet = re.sub(userPattern,'', tweet)\n",
    "    #Remove punctuations\n",
    "    tweet = tweet.translate(str.maketrans(\"\",\"\",string.punctuation))\n",
    "    #tokenizing words\n",
    "    tokens = word_tokenize(tweet)\n",
    "    #Removing Stop Words\n",
    "    #final_tokens = [w for w in tokens if w not in stopword]\n",
    "    final_tokens = tokens\n",
    "    #reducing a word to its word stem\n",
    "    wordLemm = WordNetLemmatizer()\n",
    "    finalwords=[]\n",
    "    negation_words = {\"not\", \"no\", \"never\", \"n't\"}\n",
    "    prev_neg = False\n",
    "\n",
    "    for w in final_tokens:\n",
    "      if len(w)>1:\n",
    "        word = wordLemm.lemmatize(w)\n",
    "        #finalwords.append(word)\n",
    "        if word in negation_words:\n",
    "          prev_neg = True\n",
    "        elif prev_neg:\n",
    "          finalwords.append(\"not_\" + word)\n",
    "          prev_neg = False\n",
    "        else:\n",
    "          finalwords.append(word)\n",
    "    return ' '.join(finalwords)"
   ],
   "outputs": [],
   "execution_count": 165
  },
  {
   "metadata": {
    "ExecuteTime": {
     "end_time": "2025-03-22T21:23:56.552501Z",
     "start_time": "2025-03-22T21:23:56.549456Z"
    }
   },
   "cell_type": "code",
   "source": [
    "def tokenizer(max_words, test_text):\n",
    "    # 1. build word table with top 50 words\n",
    "    tokenizer = Tokenizer(num_words=max_words)\n",
    "    tokenizer.fit_on_texts(test_text)\n",
    "    print(\"单词表:\", tokenizer.word_index)\n",
    "\n",
    "    sequences = tokenizer.texts_to_sequences(test_text)\n",
    "    print(\"文本的单词索引序列:\", sequences)\n",
    "\n",
    "    tweets = pad_sequences(sequences, maxlen=10)\n",
    "    print(tweets.shape)\n",
    "    print(\"填充后文本的单词索引序列:\", tweets)"
   ],
   "outputs": [],
   "execution_count": 166
  },
  {
   "metadata": {
    "ExecuteTime": {
     "end_time": "2025-03-22T21:23:56.608082Z",
     "start_time": "2025-03-22T21:23:56.604641Z"
    }
   },
   "cell_type": "code",
   "source": [
    "# Test\n",
    "max_words = 20\n",
    "test_tweets = [\n",
    "    \"I LOVE the movie!!!@user123\",\n",
    "    \"Not happy with the service at all\",\n",
    "    \"Never coming back! website at https://www.example.com\",\n",
    "    \"Not happy with the service at all.\"\n",
    "]\n",
    "\n",
    "processed_test_text = [process_tweets_append(x) for x in test_tweets]\n",
    "print(\"预处理后的数据:\", processed_test_text)\n",
    "tokenizer(max_words, processed_test_text)"
   ],
   "outputs": [
    {
     "name": "stdout",
     "output_type": "stream",
     "text": [
      "预处理后的数据: ['love the movie', 'not_happy with the service at all', 'not_coming back website at', 'not_happy with the service at all']\n",
      "单词表: {'the': 1, 'not': 2, 'at': 3, 'happy': 4, 'with': 5, 'service': 6, 'all': 7, 'love': 8, 'movie': 9, 'coming': 10, 'back': 11, 'website': 12}\n",
      "文本的单词索引序列: [[8, 1, 9], [2, 4, 5, 1, 6, 3, 7], [2, 10, 11, 12, 3], [2, 4, 5, 1, 6, 3, 7]]\n",
      "(4, 10)\n",
      "填充后文本的单词索引序列: [[ 0  0  0  0  0  0  0  8  1  9]\n",
      " [ 0  0  0  2  4  5  1  6  3  7]\n",
      " [ 0  0  0  0  0  2 10 11 12  3]\n",
      " [ 0  0  0  2  4  5  1  6  3  7]]\n"
     ]
    }
   ],
   "execution_count": 167
  }
 ],
 "metadata": {
  "colab": {
   "authorship_tag": "ABX9TyNNag92UMCy1GtgfJ+zFFU1",
   "collapsed_sections": [],
   "name": "DUDL_FFN_aboutMNIST.ipynb",
   "provenance": [
    {
     "file_id": "15cpyHkJ435B4MqbyGjAH1poN4nCy_DE4",
     "timestamp": 1617737766196
    },
    {
     "file_id": "1OLuWuaFu0hcFgkQ2hh5BqbRuqUZD7XcQ",
     "timestamp": 1617734878578
    },
    {
     "file_id": "1XvzVGJPTJifVh8OpZVB7ykLxyUqYwQ1j",
     "timestamp": 1617196833019
    },
    {
     "file_id": "1bv1_y32e3KEExFKKlPfC3rpw1JxmBr8H",
     "timestamp": 1617124341706
    },
    {
     "file_id": "1GMq8u7KyHB2AE7Teyls9gK1T01OduQSn",
     "timestamp": 1616697516760
    },
    {
     "file_id": "1Ui3kyHim-e0XLgDs2mkBxVlYg7TKYtcg",
     "timestamp": 1616615469755
    },
    {
     "file_id": "1YpHocGI4rApOxIBb1ZghCU5L-hFnv4CK",
     "timestamp": 1616608248670
    }
   ]
  },
  "kernelspec": {
   "display_name": "Python (newpipenv)",
   "language": "python",
   "name": "newpipenv"
  },
  "language_info": {
   "codemirror_mode": {
    "name": "ipython",
    "version": 3
   },
   "file_extension": ".py",
   "mimetype": "text/x-python",
   "name": "python",
   "nbconvert_exporter": "python",
   "pygments_lexer": "ipython3",
   "version": "3.10.9"
  }
 },
 "nbformat": 4,
 "nbformat_minor": 1
}
