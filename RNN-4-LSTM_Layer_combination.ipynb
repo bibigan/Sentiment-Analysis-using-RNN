{
 "cells": [
  {
   "cell_type": "code",
   "metadata": {
    "id": "YeuAheYyhdZw",
    "ExecuteTime": {
     "end_time": "2025-03-22T15:25:06.588115Z",
     "start_time": "2025-03-22T15:25:06.567489Z"
    }
   },
   "source": [
    "# import libraries\n",
    "# DataFrame\n",
    "import pandas as pd\n",
    "\n",
    "# plotting\n",
    "import seaborn as sns\n",
    "from wordcloud import WordCloud\n",
    "import matplotlib.pyplot as plt\n",
    "\n",
    "# nltk\n",
    "import nltk\n",
    "from nltk.stem import WordNetLemmatizer\n",
    "from nltk.corpus import stopwords\n",
    "from nltk.tokenize import word_tokenize\n",
    "\n",
    "# sklearny\n",
    "from sklearn.model_selection import train_test_split\n",
    "from sklearn.feature_extraction.text import TfidfVectorizer\n",
    "from sklearn.metrics import confusion_matrix, classification_report\n",
    "\n",
    "from sklearn.linear_model import LogisticRegression\n",
    "from sklearn.svm import LinearSVC\n",
    "from sklearn.ensemble import RandomForestClassifier\n",
    "from sklearn.naive_bayes import BernoulliNB\n",
    "\n",
    "\n",
    "#tensorflow\n",
    "import tensorflow.compat.v2 as tf\n",
    "import tensorflow_datasets as tfds\n",
    "\n",
    "# Utility\n",
    "import pandas as pd\n",
    "import numpy as np\n",
    "import warnings\n",
    "warnings.filterwarnings('ignore')\n",
    "import re\n",
    "import string\n",
    "import pickle"
   ],
   "outputs": [],
   "execution_count": 29
  },
  {
   "cell_type": "markdown",
   "metadata": {},
   "source": "# Loading Dataset"
  },
  {
   "cell_type": "code",
   "metadata": {
    "ExecuteTime": {
     "end_time": "2025-03-22T15:25:09.491904Z",
     "start_time": "2025-03-22T15:25:06.592219Z"
    }
   },
   "source": [
    "# Construct a tf.data.Dataset\n",
    "data = pd.read_csv('training.1600000.processed.noemoticon.csv',encoding='latin', names = ['polarity','id','date','query','user','text'])"
   ],
   "outputs": [],
   "execution_count": 30
  },
  {
   "cell_type": "code",
   "metadata": {
    "ExecuteTime": {
     "end_time": "2025-03-22T15:25:09.706516Z",
     "start_time": "2025-03-22T15:25:09.506969Z"
    }
   },
   "source": [
    "# Random shuffling of data, select the first 200,000\n",
    "data = data.sample(frac=1)\n",
    "data = data[:20000]"
   ],
   "outputs": [],
   "execution_count": 31
  },
  {
   "metadata": {},
   "cell_type": "markdown",
   "source": "# Data Visualization"
  },
  {
   "cell_type": "code",
   "metadata": {
    "scrolled": false,
    "ExecuteTime": {
     "end_time": "2025-03-22T15:25:09.720926Z",
     "start_time": "2025-03-22T15:25:09.718149Z"
    }
   },
   "source": "print(\"Dataset shape:\", data.shape)",
   "outputs": [
    {
     "name": "stdout",
     "output_type": "stream",
     "text": [
      "Dataset shape: (20000, 6)\n"
     ]
    }
   ],
   "execution_count": 32
  },
  {
   "cell_type": "code",
   "metadata": {
    "ExecuteTime": {
     "end_time": "2025-03-22T15:25:09.738431Z",
     "start_time": "2025-03-22T15:25:09.732212Z"
    }
   },
   "source": "data.head(10)",
   "outputs": [
    {
     "data": {
      "text/plain": [
       "         polarity          id                          date     query  \\\n",
       "594724          0  2218584976  Wed Jun 17 22:45:11 PDT 2009  NO_QUERY   \n",
       "829613          4  1557192637  Sun Apr 19 02:33:43 PDT 2009  NO_QUERY   \n",
       "221799          0  1976898341  Sat May 30 19:29:00 PDT 2009  NO_QUERY   \n",
       "1549172         4  2183252258  Mon Jun 15 14:15:08 PDT 2009  NO_QUERY   \n",
       "200366          0  1971649431  Sat May 30 07:35:10 PDT 2009  NO_QUERY   \n",
       "57506           0  1685678097  Sun May 03 01:31:17 PDT 2009  NO_QUERY   \n",
       "594311          0  2218470580  Wed Jun 17 22:32:32 PDT 2009  NO_QUERY   \n",
       "1107650         4  1971618831  Sat May 30 07:30:58 PDT 2009  NO_QUERY   \n",
       "1213078         4  1989316508  Mon Jun 01 01:05:50 PDT 2009  NO_QUERY   \n",
       "401745          0  2057755243  Sat Jun 06 13:36:03 PDT 2009  NO_QUERY   \n",
       "\n",
       "                 user                                               text  \n",
       "594724   nursepatrick                              got nothing to do...   \n",
       "829613   KeytaHawkins                                          painting   \n",
       "221799     SuperGreek  @musicgeekchic thank you for the recipe. Sadly...  \n",
       "1549172   tiffernynee  @kclachar yes. Lyrical genius. She takes my br...  \n",
       "200366      DreaSoFly  June 2nd is come, and I really wanna see that ...  \n",
       "57506     logo_design  up to phase #2 with BizCha.mp ... looks like I...  \n",
       "594311      jaymoon77  it's weird. I've been feeling tired and dizzy ...  \n",
       "1107650  nuthatchgirl  @MGMarts --Me too.  It is raining on and off h...  \n",
       "1213078   claudiahhxx                       twitter is highly addictive   \n",
       "401745      laaadysav                          my mom forgot about me.    "
      ],
      "text/html": [
       "<div>\n",
       "<style scoped>\n",
       "    .dataframe tbody tr th:only-of-type {\n",
       "        vertical-align: middle;\n",
       "    }\n",
       "\n",
       "    .dataframe tbody tr th {\n",
       "        vertical-align: top;\n",
       "    }\n",
       "\n",
       "    .dataframe thead th {\n",
       "        text-align: right;\n",
       "    }\n",
       "</style>\n",
       "<table border=\"1\" class=\"dataframe\">\n",
       "  <thead>\n",
       "    <tr style=\"text-align: right;\">\n",
       "      <th></th>\n",
       "      <th>polarity</th>\n",
       "      <th>id</th>\n",
       "      <th>date</th>\n",
       "      <th>query</th>\n",
       "      <th>user</th>\n",
       "      <th>text</th>\n",
       "    </tr>\n",
       "  </thead>\n",
       "  <tbody>\n",
       "    <tr>\n",
       "      <th>594724</th>\n",
       "      <td>0</td>\n",
       "      <td>2218584976</td>\n",
       "      <td>Wed Jun 17 22:45:11 PDT 2009</td>\n",
       "      <td>NO_QUERY</td>\n",
       "      <td>nursepatrick</td>\n",
       "      <td>got nothing to do...</td>\n",
       "    </tr>\n",
       "    <tr>\n",
       "      <th>829613</th>\n",
       "      <td>4</td>\n",
       "      <td>1557192637</td>\n",
       "      <td>Sun Apr 19 02:33:43 PDT 2009</td>\n",
       "      <td>NO_QUERY</td>\n",
       "      <td>KeytaHawkins</td>\n",
       "      <td>painting</td>\n",
       "    </tr>\n",
       "    <tr>\n",
       "      <th>221799</th>\n",
       "      <td>0</td>\n",
       "      <td>1976898341</td>\n",
       "      <td>Sat May 30 19:29:00 PDT 2009</td>\n",
       "      <td>NO_QUERY</td>\n",
       "      <td>SuperGreek</td>\n",
       "      <td>@musicgeekchic thank you for the recipe. Sadly...</td>\n",
       "    </tr>\n",
       "    <tr>\n",
       "      <th>1549172</th>\n",
       "      <td>4</td>\n",
       "      <td>2183252258</td>\n",
       "      <td>Mon Jun 15 14:15:08 PDT 2009</td>\n",
       "      <td>NO_QUERY</td>\n",
       "      <td>tiffernynee</td>\n",
       "      <td>@kclachar yes. Lyrical genius. She takes my br...</td>\n",
       "    </tr>\n",
       "    <tr>\n",
       "      <th>200366</th>\n",
       "      <td>0</td>\n",
       "      <td>1971649431</td>\n",
       "      <td>Sat May 30 07:35:10 PDT 2009</td>\n",
       "      <td>NO_QUERY</td>\n",
       "      <td>DreaSoFly</td>\n",
       "      <td>June 2nd is come, and I really wanna see that ...</td>\n",
       "    </tr>\n",
       "    <tr>\n",
       "      <th>57506</th>\n",
       "      <td>0</td>\n",
       "      <td>1685678097</td>\n",
       "      <td>Sun May 03 01:31:17 PDT 2009</td>\n",
       "      <td>NO_QUERY</td>\n",
       "      <td>logo_design</td>\n",
       "      <td>up to phase #2 with BizCha.mp ... looks like I...</td>\n",
       "    </tr>\n",
       "    <tr>\n",
       "      <th>594311</th>\n",
       "      <td>0</td>\n",
       "      <td>2218470580</td>\n",
       "      <td>Wed Jun 17 22:32:32 PDT 2009</td>\n",
       "      <td>NO_QUERY</td>\n",
       "      <td>jaymoon77</td>\n",
       "      <td>it's weird. I've been feeling tired and dizzy ...</td>\n",
       "    </tr>\n",
       "    <tr>\n",
       "      <th>1107650</th>\n",
       "      <td>4</td>\n",
       "      <td>1971618831</td>\n",
       "      <td>Sat May 30 07:30:58 PDT 2009</td>\n",
       "      <td>NO_QUERY</td>\n",
       "      <td>nuthatchgirl</td>\n",
       "      <td>@MGMarts --Me too.  It is raining on and off h...</td>\n",
       "    </tr>\n",
       "    <tr>\n",
       "      <th>1213078</th>\n",
       "      <td>4</td>\n",
       "      <td>1989316508</td>\n",
       "      <td>Mon Jun 01 01:05:50 PDT 2009</td>\n",
       "      <td>NO_QUERY</td>\n",
       "      <td>claudiahhxx</td>\n",
       "      <td>twitter is highly addictive</td>\n",
       "    </tr>\n",
       "    <tr>\n",
       "      <th>401745</th>\n",
       "      <td>0</td>\n",
       "      <td>2057755243</td>\n",
       "      <td>Sat Jun 06 13:36:03 PDT 2009</td>\n",
       "      <td>NO_QUERY</td>\n",
       "      <td>laaadysav</td>\n",
       "      <td>my mom forgot about me.</td>\n",
       "    </tr>\n",
       "  </tbody>\n",
       "</table>\n",
       "</div>"
      ]
     },
     "execution_count": 33,
     "metadata": {},
     "output_type": "execute_result"
    }
   ],
   "execution_count": 33
  },
  {
   "cell_type": "code",
   "metadata": {
    "ExecuteTime": {
     "end_time": "2025-03-22T15:25:09.785670Z",
     "start_time": "2025-03-22T15:25:09.781347Z"
    }
   },
   "source": "data['polarity'].unique()",
   "outputs": [
    {
     "data": {
      "text/plain": [
       "array([0, 4])"
      ]
     },
     "execution_count": 34,
     "metadata": {},
     "output_type": "execute_result"
    }
   ],
   "execution_count": 34
  },
  {
   "cell_type": "code",
   "metadata": {
    "scrolled": true,
    "ExecuteTime": {
     "end_time": "2025-03-22T15:25:09.834773Z",
     "start_time": "2025-03-22T15:25:09.828116Z"
    }
   },
   "source": [
    "# Replacing the value 4 -->1 for ease of understanding.\n",
    "data['polarity'] = data['polarity'].replace(4,1)\n",
    "data.head()"
   ],
   "outputs": [
    {
     "data": {
      "text/plain": [
       "         polarity          id                          date     query  \\\n",
       "594724          0  2218584976  Wed Jun 17 22:45:11 PDT 2009  NO_QUERY   \n",
       "829613          1  1557192637  Sun Apr 19 02:33:43 PDT 2009  NO_QUERY   \n",
       "221799          0  1976898341  Sat May 30 19:29:00 PDT 2009  NO_QUERY   \n",
       "1549172         1  2183252258  Mon Jun 15 14:15:08 PDT 2009  NO_QUERY   \n",
       "200366          0  1971649431  Sat May 30 07:35:10 PDT 2009  NO_QUERY   \n",
       "\n",
       "                 user                                               text  \n",
       "594724   nursepatrick                              got nothing to do...   \n",
       "829613   KeytaHawkins                                          painting   \n",
       "221799     SuperGreek  @musicgeekchic thank you for the recipe. Sadly...  \n",
       "1549172   tiffernynee  @kclachar yes. Lyrical genius. She takes my br...  \n",
       "200366      DreaSoFly  June 2nd is come, and I really wanna see that ...  "
      ],
      "text/html": [
       "<div>\n",
       "<style scoped>\n",
       "    .dataframe tbody tr th:only-of-type {\n",
       "        vertical-align: middle;\n",
       "    }\n",
       "\n",
       "    .dataframe tbody tr th {\n",
       "        vertical-align: top;\n",
       "    }\n",
       "\n",
       "    .dataframe thead th {\n",
       "        text-align: right;\n",
       "    }\n",
       "</style>\n",
       "<table border=\"1\" class=\"dataframe\">\n",
       "  <thead>\n",
       "    <tr style=\"text-align: right;\">\n",
       "      <th></th>\n",
       "      <th>polarity</th>\n",
       "      <th>id</th>\n",
       "      <th>date</th>\n",
       "      <th>query</th>\n",
       "      <th>user</th>\n",
       "      <th>text</th>\n",
       "    </tr>\n",
       "  </thead>\n",
       "  <tbody>\n",
       "    <tr>\n",
       "      <th>594724</th>\n",
       "      <td>0</td>\n",
       "      <td>2218584976</td>\n",
       "      <td>Wed Jun 17 22:45:11 PDT 2009</td>\n",
       "      <td>NO_QUERY</td>\n",
       "      <td>nursepatrick</td>\n",
       "      <td>got nothing to do...</td>\n",
       "    </tr>\n",
       "    <tr>\n",
       "      <th>829613</th>\n",
       "      <td>1</td>\n",
       "      <td>1557192637</td>\n",
       "      <td>Sun Apr 19 02:33:43 PDT 2009</td>\n",
       "      <td>NO_QUERY</td>\n",
       "      <td>KeytaHawkins</td>\n",
       "      <td>painting</td>\n",
       "    </tr>\n",
       "    <tr>\n",
       "      <th>221799</th>\n",
       "      <td>0</td>\n",
       "      <td>1976898341</td>\n",
       "      <td>Sat May 30 19:29:00 PDT 2009</td>\n",
       "      <td>NO_QUERY</td>\n",
       "      <td>SuperGreek</td>\n",
       "      <td>@musicgeekchic thank you for the recipe. Sadly...</td>\n",
       "    </tr>\n",
       "    <tr>\n",
       "      <th>1549172</th>\n",
       "      <td>1</td>\n",
       "      <td>2183252258</td>\n",
       "      <td>Mon Jun 15 14:15:08 PDT 2009</td>\n",
       "      <td>NO_QUERY</td>\n",
       "      <td>tiffernynee</td>\n",
       "      <td>@kclachar yes. Lyrical genius. She takes my br...</td>\n",
       "    </tr>\n",
       "    <tr>\n",
       "      <th>200366</th>\n",
       "      <td>0</td>\n",
       "      <td>1971649431</td>\n",
       "      <td>Sat May 30 07:35:10 PDT 2009</td>\n",
       "      <td>NO_QUERY</td>\n",
       "      <td>DreaSoFly</td>\n",
       "      <td>June 2nd is come, and I really wanna see that ...</td>\n",
       "    </tr>\n",
       "  </tbody>\n",
       "</table>\n",
       "</div>"
      ]
     },
     "execution_count": 35,
     "metadata": {},
     "output_type": "execute_result"
    }
   ],
   "execution_count": 35
  },
  {
   "cell_type": "code",
   "metadata": {
    "ExecuteTime": {
     "end_time": "2025-03-22T15:25:09.875021Z",
     "start_time": "2025-03-22T15:25:09.865346Z"
    }
   },
   "source": "data.describe()",
   "outputs": [
    {
     "data": {
      "text/plain": [
       "           polarity            id\n",
       "count  20000.000000  2.000000e+04\n",
       "mean       0.501400  2.000989e+09\n",
       "std        0.500011  1.924840e+08\n",
       "min        0.000000  1.467838e+09\n",
       "25%        0.000000  1.957703e+09\n",
       "50%        1.000000  2.002369e+09\n",
       "75%        1.000000  2.177458e+09\n",
       "max        1.000000  2.329204e+09"
      ],
      "text/html": [
       "<div>\n",
       "<style scoped>\n",
       "    .dataframe tbody tr th:only-of-type {\n",
       "        vertical-align: middle;\n",
       "    }\n",
       "\n",
       "    .dataframe tbody tr th {\n",
       "        vertical-align: top;\n",
       "    }\n",
       "\n",
       "    .dataframe thead th {\n",
       "        text-align: right;\n",
       "    }\n",
       "</style>\n",
       "<table border=\"1\" class=\"dataframe\">\n",
       "  <thead>\n",
       "    <tr style=\"text-align: right;\">\n",
       "      <th></th>\n",
       "      <th>polarity</th>\n",
       "      <th>id</th>\n",
       "    </tr>\n",
       "  </thead>\n",
       "  <tbody>\n",
       "    <tr>\n",
       "      <th>count</th>\n",
       "      <td>20000.000000</td>\n",
       "      <td>2.000000e+04</td>\n",
       "    </tr>\n",
       "    <tr>\n",
       "      <th>mean</th>\n",
       "      <td>0.501400</td>\n",
       "      <td>2.000989e+09</td>\n",
       "    </tr>\n",
       "    <tr>\n",
       "      <th>std</th>\n",
       "      <td>0.500011</td>\n",
       "      <td>1.924840e+08</td>\n",
       "    </tr>\n",
       "    <tr>\n",
       "      <th>min</th>\n",
       "      <td>0.000000</td>\n",
       "      <td>1.467838e+09</td>\n",
       "    </tr>\n",
       "    <tr>\n",
       "      <th>25%</th>\n",
       "      <td>0.000000</td>\n",
       "      <td>1.957703e+09</td>\n",
       "    </tr>\n",
       "    <tr>\n",
       "      <th>50%</th>\n",
       "      <td>1.000000</td>\n",
       "      <td>2.002369e+09</td>\n",
       "    </tr>\n",
       "    <tr>\n",
       "      <th>75%</th>\n",
       "      <td>1.000000</td>\n",
       "      <td>2.177458e+09</td>\n",
       "    </tr>\n",
       "    <tr>\n",
       "      <th>max</th>\n",
       "      <td>1.000000</td>\n",
       "      <td>2.329204e+09</td>\n",
       "    </tr>\n",
       "  </tbody>\n",
       "</table>\n",
       "</div>"
      ]
     },
     "execution_count": 36,
     "metadata": {},
     "output_type": "execute_result"
    }
   ],
   "execution_count": 36
  },
  {
   "metadata": {
    "ExecuteTime": {
     "end_time": "2025-03-22T15:25:09.936223Z",
     "start_time": "2025-03-22T15:25:09.931489Z"
    }
   },
   "cell_type": "code",
   "source": [
    "# check the number of positive vs. negative tagged sentences\n",
    "positives = data['polarity'][data.polarity == 1 ]\n",
    "negatives = data['polarity'][data.polarity == 0 ]\n",
    "\n",
    "print('Total length of the data is:         {}'.format(data.shape[0]))\n",
    "print('No. of positve tagged sentences is:  {}'.format(len(positives)))\n",
    "print('No. of negative tagged sentences is: {}'.format(len(negatives)))"
   ],
   "outputs": [
    {
     "name": "stdout",
     "output_type": "stream",
     "text": [
      "Total length of the data is:         20000\n",
      "No. of positve tagged sentences is:  10028\n",
      "No. of negative tagged sentences is: 9972\n"
     ]
    }
   ],
   "execution_count": 37
  },
  {
   "metadata": {
    "ExecuteTime": {
     "end_time": "2025-03-22T15:25:09.970422Z",
     "start_time": "2025-03-22T15:25:09.967802Z"
    }
   },
   "cell_type": "code",
   "source": [
    "# get a word count per of text\n",
    "def word_count(words):\n",
    "    return len(words.split())"
   ],
   "outputs": [],
   "execution_count": 38
  },
  {
   "metadata": {
    "ExecuteTime": {
     "end_time": "2025-03-22T15:25:10.149632Z",
     "start_time": "2025-03-22T15:25:09.978068Z"
    }
   },
   "cell_type": "code",
   "source": [
    "# plot word count distribution for both positive and negative\n",
    "\n",
    "data['word count'] = data['text'].apply(word_count)\n",
    "p = data['word count'][data.polarity == 1]\n",
    "n = data['word count'][data.polarity == 0]\n",
    "plt.figure(figsize=(12,6))\n",
    "plt.xlim(0,45)\n",
    "plt.xlabel('Word count')\n",
    "plt.ylabel('Frequency')\n",
    "g = plt.hist([p, n], color=['g','r'], alpha=0.5, label=['positive','negative'])\n",
    "plt.legend(loc='upper right')"
   ],
   "outputs": [
    {
     "data": {
      "text/plain": [
       "<matplotlib.legend.Legend at 0x38ed381c0>"
      ]
     },
     "execution_count": 39,
     "metadata": {},
     "output_type": "execute_result"
    },
    {
     "data": {
      "text/plain": [
       "<Figure size 1200x600 with 1 Axes>"
      ],
      "image/png": "[encoded data removed]"
     },
     "metadata": {},
     "output_type": "display_data"
    }
   ],
   "execution_count": 39
  },
  {
   "metadata": {
    "ExecuteTime": {
     "end_time": "2025-03-22T15:25:10.251410Z",
     "start_time": "2025-03-22T15:25:10.161537Z"
    }
   },
   "cell_type": "code",
   "source": [
    "# get common words in training dataset\n",
    "from collections import Counter\n",
    "all_words = []\n",
    "for line in list(data['text']):\n",
    "    words = line.split()\n",
    "    for word in words:\n",
    "      if(len(word)>2):\n",
    "        all_words.append(word.lower())\n",
    "\n",
    "\n",
    "Counter(all_words).most_common(20)"
   ],
   "outputs": [
    {
     "data": {
      "text/plain": [
       "[('the', 6582),\n",
       " ('and', 3706),\n",
       " ('you', 2915),\n",
       " ('for', 2691),\n",
       " ('have', 1778),\n",
       " (\"i'm\", 1654),\n",
       " ('that', 1593),\n",
       " ('just', 1589),\n",
       " ('but', 1531),\n",
       " ('with', 1444),\n",
       " ('was', 1240),\n",
       " ('not', 1227),\n",
       " ('this', 1109),\n",
       " ('get', 1048),\n",
       " ('like', 942),\n",
       " ('good', 914),\n",
       " ('are', 910),\n",
       " ('all', 880),\n",
       " ('out', 874),\n",
       " ('now', 832)]"
      ]
     },
     "execution_count": 40,
     "metadata": {},
     "output_type": "execute_result"
    }
   ],
   "execution_count": 40
  },
  {
   "metadata": {
    "ExecuteTime": {
     "end_time": "2025-03-22T15:25:10.354170Z",
     "start_time": "2025-03-22T15:25:10.262496Z"
    }
   },
   "cell_type": "code",
   "source": [
    "%matplotlib inline\n",
    "sns.countplot(x=data['polarity'])"
   ],
   "outputs": [
    {
     "data": {
      "text/plain": [
       "<Axes: xlabel='polarity', ylabel='count'>"
      ]
     },
     "execution_count": 41,
     "metadata": {},
     "output_type": "execute_result"
    },
    {
     "data": {
      "text/plain": [
       "<Figure size 640x480 with 1 Axes>"
      ],
      "image/png": "[encoded data removed]"
     },
     "metadata": {},
     "output_type": "display_data"
    }
   ],
   "execution_count": 41
  },
  {
   "metadata": {},
   "cell_type": "markdown",
   "source": [
    "# Data Processing\n",
    "## The Preprocessing steps taken are:\n",
    "1. Lower Casing: Each text is converted to lowercase.\n",
    "2. Removing URLs: Links starting with \"http\" or \"https\" or \"www\" are replaced by \"\".\n",
    "\n",
    "3. Removing Usernames: Replace @Usernames with word \"\". (eg: \"@XYZ\" to \"\")\n",
    "\n",
    "4. Removing Short Words: Words with length less than 2 are removed.\n",
    "5. Removing Stopwords: Stopwords are the English words which does not add much meaning to a sentence. They can safely be ignored without sacrificing the meaning of the sentence. (eg: \"the\", \"he\", \"have\")\n",
    "6. Lemmatizing: Lemmatization is the process of converting a word to its base form. (e.g: “wolves” to “wolf”)"
   ]
  },
  {
   "metadata": {
    "ExecuteTime": {
     "end_time": "2025-03-22T15:25:10.368362Z",
     "start_time": "2025-03-22T15:25:10.365223Z"
    }
   },
   "cell_type": "code",
   "source": [
    "# Removing the unnecessary columns.\n",
    "data.drop(['date','query','user','word count'], axis=1, inplace=True)"
   ],
   "outputs": [],
   "execution_count": 42
  },
  {
   "metadata": {
    "ExecuteTime": {
     "end_time": "2025-03-22T15:25:10.384035Z",
     "start_time": "2025-03-22T15:25:10.378849Z"
    }
   },
   "cell_type": "code",
   "source": [
    "data.drop('id', axis=1, inplace=True)\n",
    "data.head(10)"
   ],
   "outputs": [
    {
     "data": {
      "text/plain": [
       "         polarity                                               text\n",
       "594724          0                              got nothing to do... \n",
       "829613          1                                          painting \n",
       "221799          0  @musicgeekchic thank you for the recipe. Sadly...\n",
       "1549172         1  @kclachar yes. Lyrical genius. She takes my br...\n",
       "200366          0  June 2nd is come, and I really wanna see that ...\n",
       "57506           0  up to phase #2 with BizCha.mp ... looks like I...\n",
       "594311          0  it's weird. I've been feeling tired and dizzy ...\n",
       "1107650         1  @MGMarts --Me too.  It is raining on and off h...\n",
       "1213078         1                       twitter is highly addictive \n",
       "401745          0                          my mom forgot about me.  "
      ],
      "text/html": [
       "<div>\n",
       "<style scoped>\n",
       "    .dataframe tbody tr th:only-of-type {\n",
       "        vertical-align: middle;\n",
       "    }\n",
       "\n",
       "    .dataframe tbody tr th {\n",
       "        vertical-align: top;\n",
       "    }\n",
       "\n",
       "    .dataframe thead th {\n",
       "        text-align: right;\n",
       "    }\n",
       "</style>\n",
       "<table border=\"1\" class=\"dataframe\">\n",
       "  <thead>\n",
       "    <tr style=\"text-align: right;\">\n",
       "      <th></th>\n",
       "      <th>polarity</th>\n",
       "      <th>text</th>\n",
       "    </tr>\n",
       "  </thead>\n",
       "  <tbody>\n",
       "    <tr>\n",
       "      <th>594724</th>\n",
       "      <td>0</td>\n",
       "      <td>got nothing to do...</td>\n",
       "    </tr>\n",
       "    <tr>\n",
       "      <th>829613</th>\n",
       "      <td>1</td>\n",
       "      <td>painting</td>\n",
       "    </tr>\n",
       "    <tr>\n",
       "      <th>221799</th>\n",
       "      <td>0</td>\n",
       "      <td>@musicgeekchic thank you for the recipe. Sadly...</td>\n",
       "    </tr>\n",
       "    <tr>\n",
       "      <th>1549172</th>\n",
       "      <td>1</td>\n",
       "      <td>@kclachar yes. Lyrical genius. She takes my br...</td>\n",
       "    </tr>\n",
       "    <tr>\n",
       "      <th>200366</th>\n",
       "      <td>0</td>\n",
       "      <td>June 2nd is come, and I really wanna see that ...</td>\n",
       "    </tr>\n",
       "    <tr>\n",
       "      <th>57506</th>\n",
       "      <td>0</td>\n",
       "      <td>up to phase #2 with BizCha.mp ... looks like I...</td>\n",
       "    </tr>\n",
       "    <tr>\n",
       "      <th>594311</th>\n",
       "      <td>0</td>\n",
       "      <td>it's weird. I've been feeling tired and dizzy ...</td>\n",
       "    </tr>\n",
       "    <tr>\n",
       "      <th>1107650</th>\n",
       "      <td>1</td>\n",
       "      <td>@MGMarts --Me too.  It is raining on and off h...</td>\n",
       "    </tr>\n",
       "    <tr>\n",
       "      <th>1213078</th>\n",
       "      <td>1</td>\n",
       "      <td>twitter is highly addictive</td>\n",
       "    </tr>\n",
       "    <tr>\n",
       "      <th>401745</th>\n",
       "      <td>0</td>\n",
       "      <td>my mom forgot about me.</td>\n",
       "    </tr>\n",
       "  </tbody>\n",
       "</table>\n",
       "</div>"
      ]
     },
     "execution_count": 43,
     "metadata": {},
     "output_type": "execute_result"
    }
   ],
   "execution_count": 43
  },
  {
   "metadata": {
    "ExecuteTime": {
     "end_time": "2025-03-22T15:25:10.426795Z",
     "start_time": "2025-03-22T15:25:10.420586Z"
    }
   },
   "cell_type": "code",
   "source": [
    "#Checking if any null values present\n",
    "(data.isnull().sum() / len(data))*100"
   ],
   "outputs": [
    {
     "data": {
      "text/plain": [
       "polarity    0.0\n",
       "text        0.0\n",
       "dtype: float64"
      ]
     },
     "execution_count": 44,
     "metadata": {},
     "output_type": "execute_result"
    }
   ],
   "execution_count": 44
  },
  {
   "metadata": {
    "ExecuteTime": {
     "end_time": "2025-03-22T15:25:10.458964Z",
     "start_time": "2025-03-22T15:25:10.455727Z"
    }
   },
   "cell_type": "code",
   "source": [
    "#convrting pandas object to a string type\n",
    "data['text'] = data['text'].astype('str')"
   ],
   "outputs": [],
   "execution_count": 45
  },
  {
   "metadata": {
    "ExecuteTime": {
     "end_time": "2025-03-22T15:25:10.545713Z",
     "start_time": "2025-03-22T15:25:10.487222Z"
    }
   },
   "cell_type": "code",
   "source": [
    "nltk.download('stopwords')\n",
    "stopword = set(stopwords.words('english'))\n",
    "print(stopword)"
   ],
   "outputs": [
    {
     "name": "stdout",
     "output_type": "stream",
     "text": [
      "{'a', 'should', 'mightn', 'why', 'under', 'they', 'their', 'yourselves', \"you've\", 'o', 'into', 've', \"we'd\", \"she'll\", 're', 'y', 'all', \"won't\", 'both', 'this', 'any', 'during', \"i'm\", 'just', 't', 'then', 'hers', \"i'd\", 'not', 'off', \"hasn't\", 'hadn', 'myself', 'where', 'we', 'until', \"that'll\", 'wasn', 'no', \"we'll\", 'about', 'needn', \"it's\", 'were', \"we've\", 'them', 'and', 'mustn', 'd', 'those', 'very', 'in', 'are', 'can', 'down', 'having', 'yourself', 'didn', 'wouldn', 'than', 'how', 'aren', 'but', 'that', 'theirs', 'who', 'doing', 'ours', 'is', \"it'll\", 'won', 'over', 'isn', 'here', \"he's\", 'same', 'me', 'to', \"doesn't\", 'doesn', 'before', 'whom', 'haven', 'our', 'few', \"isn't\", \"didn't\", 'did', 'itself', 'when', 'hasn', 'so', 'its', 'his', 'couldn', 'an', 'my', 'himself', 'some', 'which', 'was', 'themselves', 'ain', 'because', 'after', 'while', \"needn't\", 'had', 'or', \"weren't\", 'm', 'now', 'of', \"should've\", \"you'll\", 'it', \"you're\", 'the', 'more', 'again', 'at', 'her', 'most', \"shan't\", 'he', \"he'll\", \"they've\", \"haven't\", \"they'd\", \"he'd\", 'out', 'below', 'from', 'll', 'other', 'there', \"wasn't\", \"wouldn't\", 'herself', 'has', 'further', 'too', \"i've\", 'up', 'against', \"couldn't\", 'as', \"i'll\", \"mightn't\", 'be', \"she's\", 'him', 'i', 'own', 'am', \"it'd\", 'ourselves', \"we're\", 'with', 'you', 'only', 'shan', 'above', 'don', 'for', 'once', 'ma', \"she'd\", 's', 'through', \"you'd\", \"don't\", 'if', 'such', \"hadn't\", 'these', 'weren', 'nor', 'she', \"they'll\", \"mustn't\", \"shouldn't\", 'yours', 'your', 'being', 'between', 'on', 'do', 'been', \"they're\", 'does', 'have', 'will', 'what', \"aren't\", 'each', 'shouldn', 'by'}\n"
     ]
    },
    {
     "name": "stderr",
     "output_type": "stream",
     "text": [
      "[nltk_data] Downloading package stopwords to\n",
      "[nltk_data]     /Users/zhaijingjing/nltk_data...\n",
      "[nltk_data]   Package stopwords is already up-to-date!\n"
     ]
    }
   ],
   "execution_count": 46
  },
  {
   "metadata": {
    "ExecuteTime": {
     "end_time": "2025-03-22T15:25:10.659047Z",
     "start_time": "2025-03-22T15:25:10.573300Z"
    }
   },
   "cell_type": "code",
   "source": [
    "nltk.download('punkt')\n",
    "nltk.download('wordnet')\n",
    "nltk.download('punkt_tab')"
   ],
   "outputs": [
    {
     "name": "stderr",
     "output_type": "stream",
     "text": [
      "[nltk_data] Downloading package punkt to\n",
      "[nltk_data]     /Users/zhaijingjing/nltk_data...\n",
      "[nltk_data]   Package punkt is already up-to-date!\n",
      "[nltk_data] Downloading package wordnet to\n",
      "[nltk_data]     /Users/zhaijingjing/nltk_data...\n",
      "[nltk_data]   Package wordnet is already up-to-date!\n",
      "[nltk_data] Downloading package punkt_tab to\n",
      "[nltk_data]     /Users/zhaijingjing/nltk_data...\n",
      "[nltk_data]   Package punkt_tab is already up-to-date!\n"
     ]
    },
    {
     "data": {
      "text/plain": [
       "True"
      ]
     },
     "execution_count": 47,
     "metadata": {},
     "output_type": "execute_result"
    }
   ],
   "execution_count": 47
  },
  {
   "metadata": {
    "ExecuteTime": {
     "end_time": "2025-03-22T15:25:10.665971Z",
     "start_time": "2025-03-22T15:25:10.662047Z"
    }
   },
   "cell_type": "code",
   "source": [
    "urlPattern = r\"((http://)[^ ]*|(https://)[^ ]*|( www\\.)[^ ]*)\"\n",
    "userPattern = '@[^\\s]+'\n",
    "def process_tweets(tweet):\n",
    "  # Lower Casing\n",
    "    tweet = tweet.lower()\n",
    "    #tweet=tweet[1:]\n",
    "    # Removing all URls\n",
    "    tweet = re.sub(urlPattern,'',tweet)\n",
    "    # Removing all @username.\n",
    "    tweet = re.sub(userPattern,'', tweet)\n",
    "    #Remove punctuations\n",
    "    tweet = tweet.translate(str.maketrans(\"\",\"\",string.punctuation))\n",
    "    #tokenizing words\n",
    "    tokens = word_tokenize(tweet)\n",
    "    #Removing Stop Words\n",
    "    #final_tokens = [w for w in tokens if w not in stopword]\n",
    "    final_tokens = tokens\n",
    "    #reducing a word to its word stem\n",
    "    wordLemm = WordNetLemmatizer()\n",
    "    finalwords=[]\n",
    "    negation_words = {\"not\", \"no\", \"never\", \"n't\"}\n",
    "    prev_neg = False\n",
    "\n",
    "    for w in final_tokens:\n",
    "      if len(w)>1:\n",
    "        word = wordLemm.lemmatize(w)\n",
    "        #finalwords.append(word)\n",
    "        if word in negation_words:\n",
    "          prev_neg = True\n",
    "        elif prev_neg:\n",
    "          finalwords.append(\"not_\" + word)\n",
    "          prev_neg = False\n",
    "        else:\n",
    "          finalwords.append(word)\n",
    "    return ' '.join(finalwords)"
   ],
   "outputs": [],
   "execution_count": 48
  },
  {
   "metadata": {
    "ExecuteTime": {
     "end_time": "2025-03-22T15:25:12.713431Z",
     "start_time": "2025-03-22T15:25:10.676469Z"
    }
   },
   "cell_type": "code",
   "source": [
    "data['processed_tweets'] = data['text'].apply(lambda x: process_tweets(x))\n",
    "print('Text Preprocessing complete.')"
   ],
   "outputs": [
    {
     "name": "stdout",
     "output_type": "stream",
     "text": [
      "Text Preprocessing complete.\n"
     ]
    }
   ],
   "execution_count": 49
  },
  {
   "metadata": {
    "ExecuteTime": {
     "end_time": "2025-03-22T15:25:12.728044Z",
     "start_time": "2025-03-22T15:25:12.723451Z"
    }
   },
   "cell_type": "code",
   "source": "data.head(10)",
   "outputs": [
    {
     "data": {
      "text/plain": [
       "         polarity                                               text  \\\n",
       "594724          0                              got nothing to do...    \n",
       "829613          1                                          painting    \n",
       "221799          0  @musicgeekchic thank you for the recipe. Sadly...   \n",
       "1549172         1  @kclachar yes. Lyrical genius. She takes my br...   \n",
       "200366          0  June 2nd is come, and I really wanna see that ...   \n",
       "57506           0  up to phase #2 with BizCha.mp ... looks like I...   \n",
       "594311          0  it's weird. I've been feeling tired and dizzy ...   \n",
       "1107650         1  @MGMarts --Me too.  It is raining on and off h...   \n",
       "1213078         1                       twitter is highly addictive    \n",
       "401745          0                          my mom forgot about me.     \n",
       "\n",
       "                                          processed_tweets  \n",
       "594724                                   got nothing to do  \n",
       "829613                                            painting  \n",
       "221799   thank you for the recipe sadly im at my parent...  \n",
       "1549172  yes lyrical genius she take my breath away a f...  \n",
       "200366   june 2nd is come and really wan na see that at...  \n",
       "57506    up to phase with bizchamp look like ive got wh...  \n",
       "594311   it weird ive been feeling tired and dizzy sinc...  \n",
       "1107650  me too it is raining on and off here just head...  \n",
       "1213078                        twitter is highly addictive  \n",
       "401745                              my mom forgot about me  "
      ],
      "text/html": [
       "<div>\n",
       "<style scoped>\n",
       "    .dataframe tbody tr th:only-of-type {\n",
       "        vertical-align: middle;\n",
       "    }\n",
       "\n",
       "    .dataframe tbody tr th {\n",
       "        vertical-align: top;\n",
       "    }\n",
       "\n",
       "    .dataframe thead th {\n",
       "        text-align: right;\n",
       "    }\n",
       "</style>\n",
       "<table border=\"1\" class=\"dataframe\">\n",
       "  <thead>\n",
       "    <tr style=\"text-align: right;\">\n",
       "      <th></th>\n",
       "      <th>polarity</th>\n",
       "      <th>text</th>\n",
       "      <th>processed_tweets</th>\n",
       "    </tr>\n",
       "  </thead>\n",
       "  <tbody>\n",
       "    <tr>\n",
       "      <th>594724</th>\n",
       "      <td>0</td>\n",
       "      <td>got nothing to do...</td>\n",
       "      <td>got nothing to do</td>\n",
       "    </tr>\n",
       "    <tr>\n",
       "      <th>829613</th>\n",
       "      <td>1</td>\n",
       "      <td>painting</td>\n",
       "      <td>painting</td>\n",
       "    </tr>\n",
       "    <tr>\n",
       "      <th>221799</th>\n",
       "      <td>0</td>\n",
       "      <td>@musicgeekchic thank you for the recipe. Sadly...</td>\n",
       "      <td>thank you for the recipe sadly im at my parent...</td>\n",
       "    </tr>\n",
       "    <tr>\n",
       "      <th>1549172</th>\n",
       "      <td>1</td>\n",
       "      <td>@kclachar yes. Lyrical genius. She takes my br...</td>\n",
       "      <td>yes lyrical genius she take my breath away a f...</td>\n",
       "    </tr>\n",
       "    <tr>\n",
       "      <th>200366</th>\n",
       "      <td>0</td>\n",
       "      <td>June 2nd is come, and I really wanna see that ...</td>\n",
       "      <td>june 2nd is come and really wan na see that at...</td>\n",
       "    </tr>\n",
       "    <tr>\n",
       "      <th>57506</th>\n",
       "      <td>0</td>\n",
       "      <td>up to phase #2 with BizCha.mp ... looks like I...</td>\n",
       "      <td>up to phase with bizchamp look like ive got wh...</td>\n",
       "    </tr>\n",
       "    <tr>\n",
       "      <th>594311</th>\n",
       "      <td>0</td>\n",
       "      <td>it's weird. I've been feeling tired and dizzy ...</td>\n",
       "      <td>it weird ive been feeling tired and dizzy sinc...</td>\n",
       "    </tr>\n",
       "    <tr>\n",
       "      <th>1107650</th>\n",
       "      <td>1</td>\n",
       "      <td>@MGMarts --Me too.  It is raining on and off h...</td>\n",
       "      <td>me too it is raining on and off here just head...</td>\n",
       "    </tr>\n",
       "    <tr>\n",
       "      <th>1213078</th>\n",
       "      <td>1</td>\n",
       "      <td>twitter is highly addictive</td>\n",
       "      <td>twitter is highly addictive</td>\n",
       "    </tr>\n",
       "    <tr>\n",
       "      <th>401745</th>\n",
       "      <td>0</td>\n",
       "      <td>my mom forgot about me.</td>\n",
       "      <td>my mom forgot about me</td>\n",
       "    </tr>\n",
       "  </tbody>\n",
       "</table>\n",
       "</div>"
      ]
     },
     "execution_count": 50,
     "metadata": {},
     "output_type": "execute_result"
    }
   ],
   "execution_count": 50
  },
  {
   "metadata": {},
   "cell_type": "markdown",
   "source": "# RNN - LSTM"
  },
  {
   "metadata": {
    "ExecuteTime": {
     "end_time": "2025-03-22T15:25:12.766620Z",
     "start_time": "2025-03-22T15:25:12.763179Z"
    }
   },
   "cell_type": "code",
   "source": [
    "from keras.models import Sequential\n",
    "from keras.layers import Dense, Embedding, LSTM, Dropout\n",
    "from sklearn.feature_extraction.text import CountVectorizer\n",
    "from tensorflow.keras.preprocessing.text import Tokenizer\n",
    "from tensorflow.keras.preprocessing.sequence import pad_sequences\n",
    "from tensorflow.keras.utils import to_categorical\n",
    "import re\n",
    "import keras\n",
    "from keras import regularizers\n",
    "from keras.models import Sequential\n",
    "from keras import layers\n",
    "from keras import regularizers\n",
    "from keras import backend as K\n",
    "from keras.callbacks import ModelCheckpoint\n"
   ],
   "outputs": [],
   "execution_count": 51
  },
  {
   "metadata": {},
   "cell_type": "markdown",
   "source": "## Hyperparameters"
  },
  {
   "metadata": {
    "ExecuteTime": {
     "end_time": "2025-03-22T15:25:12.803982Z",
     "start_time": "2025-03-22T15:25:12.801198Z"
    }
   },
   "cell_type": "code",
   "source": [
    "num_epochs = 10\n",
    "results = {}\n",
    "params_history = {}\n",
    "# Define the maximum length of each sequence (number of words per tweet)\n",
    "max_len = 200\n",
    "\n",
    "# hidden layer\n",
    "hidden_units = 8\n",
    "\n",
    "# LSTM layer\n",
    "lstm_layers_list = [1, 2, 3]\n",
    "lstm_units_list = [8, 16, 32, 64, 128]\n",
    "\n",
    "\n",
    "# Embedding layer\n",
    "# Define the 5000 most common words\n",
    "max_words = 5000\n",
    "embedding_dim = 64"
   ],
   "outputs": [],
   "execution_count": 52
  },
  {
   "metadata": {},
   "cell_type": "markdown",
   "source": "## Converting text data into sequences"
  },
  {
   "metadata": {
    "ExecuteTime": {
     "end_time": "2025-03-22T17:47:25.294672Z",
     "start_time": "2025-03-22T17:47:24.873044Z"
    }
   },
   "cell_type": "code",
   "source": [
    "# Initialize the tokenizer, keeping only the top 'max_words' most frequent words\n",
    "tokenizer = Tokenizer(num_words=max_words)\n",
    "# Fit the tokenizer on the processed tweets to build the word index\n",
    "tokenizer.fit_on_texts(data.processed_tweets)\n",
    "# Convert each tweet (text) into a sequence of integer indices based on the word index\n",
    "sequences = tokenizer.texts_to_sequences(data.processed_tweets)\n",
    "\n",
    "# Pad or truncate all sequences to the same length ('max_len')\n",
    "# - If a sequence is shorter than 'max_len', it will be padded with zeros at the beginning.\n",
    "# - If a sequence is longer than 'max_len', it will be truncated from the beginning.\n",
    "tweets = pad_sequences(sequences, maxlen=max_len)\n",
    "print(tweets.shape)"
   ],
   "outputs": [
    {
     "name": "stdout",
     "output_type": "stream",
     "text": [
      "(20000, 200)\n"
     ]
    }
   ],
   "execution_count": 58
  },
  {
   "metadata": {},
   "cell_type": "markdown",
   "source": "## Split Traning and Test data"
  },
  {
   "metadata": {
    "ExecuteTime": {
     "end_time": "2025-03-22T15:25:13.259499Z",
     "start_time": "2025-03-22T15:25:13.250943Z"
    }
   },
   "cell_type": "code",
   "source": [
    "train_data, test_data, train_label, test_label = train_test_split(tweets, data.polarity.values, test_size=0.2, random_state=101)\n",
    "print(np.unique(train_label))\n",
    "print(np.unique(test_label))"
   ],
   "outputs": [
    {
     "name": "stdout",
     "output_type": "stream",
     "text": [
      "[0 1]\n",
      "[0 1]\n"
     ]
    }
   ],
   "execution_count": 54
  },
  {
   "metadata": {},
   "cell_type": "markdown",
   "source": "## Creating and Traning LSTM Model"
  },
  {
   "metadata": {
    "ExecuteTime": {
     "end_time": "2025-03-22T15:25:13.272675Z",
     "start_time": "2025-03-22T15:25:13.269329Z"
    }
   },
   "cell_type": "code",
   "source": [
    "def create_lstm_model(lstm_layers, lstm_units):\n",
    "    model = Sequential()\n",
    "    model.add(layers.Embedding(max_words, embedding_dim))\n",
    "    for i in range(lstm_layers):\n",
    "        return_sequences = i < lstm_layers - 1  # 只有在不是最后一层时才返回序列\n",
    "        model.add(layers.LSTM(lstm_units, dropout=0.5, return_sequences=return_sequences))\n",
    "    model.add(layers.Dense(hidden_units, activation='relu'))\n",
    "    model.add(layers.Dense(1, activation='sigmoid'))\n",
    "    model.compile(optimizer='adam', loss='binary_crossentropy', metrics=['accuracy'])\n",
    "    return model"
   ],
   "outputs": [],
   "execution_count": 55
  },
  {
   "metadata": {
    "ExecuteTime": {
     "end_time": "2025-03-22T17:47:24.435408Z",
     "start_time": "2025-03-22T15:25:13.282679Z"
    }
   },
   "cell_type": "code",
   "source": [
    "models = {}\n",
    "for lstm_layers in lstm_layers_list:\n",
    "    for lstm_units in lstm_units_list:\n",
    "        print(f\"Training model with {lstm_layers} LSTM layers and {lstm_units} LSTM units per layer...\")\n",
    "\n",
    "        model = create_lstm_model(lstm_layers, lstm_units)\n",
    "\n",
    "        history = model.fit(\n",
    "            train_data, train_label,\n",
    "            epochs=num_epochs,\n",
    "            validation_data=(test_data, test_label),\n",
    "            verbose=2\n",
    "        )\n",
    "\n",
    "        results[(lstm_layers, lstm_units)] = {\n",
    "            'train_acc': history.history['accuracy'][-1],\n",
    "            'test_acc': history.history['val_accuracy'][-1]\n",
    "        }\n",
    "\n",
    "        params_history[(lstm_layers, lstm_units)] = model.count_params()\n",
    "        models[(lstm_layers, lstm_units)] = model"
   ],
   "outputs": [
    {
     "name": "stdout",
     "output_type": "stream",
     "text": [
      "Training model with 1 LSTM layers and 8 LSTM units per layer...\n",
      "Epoch 1/10\n",
      "500/500 - 14s - 29ms/step - accuracy: 0.6726 - loss: 0.5951 - val_accuracy: 0.7500 - val_loss: 0.5179\n",
      "Epoch 2/10\n",
      "500/500 - 13s - 25ms/step - accuracy: 0.7891 - loss: 0.4616 - val_accuracy: 0.7548 - val_loss: 0.5119\n",
      "Epoch 3/10\n",
      "500/500 - 13s - 25ms/step - accuracy: 0.8205 - loss: 0.4089 - val_accuracy: 0.7548 - val_loss: 0.5246\n",
      "Epoch 4/10\n",
      "500/500 - 13s - 25ms/step - accuracy: 0.8380 - loss: 0.3754 - val_accuracy: 0.7540 - val_loss: 0.5282\n",
      "Epoch 5/10\n",
      "500/500 - 13s - 25ms/step - accuracy: 0.8522 - loss: 0.3462 - val_accuracy: 0.7460 - val_loss: 0.5475\n",
      "Epoch 6/10\n",
      "500/500 - 13s - 26ms/step - accuracy: 0.8651 - loss: 0.3221 - val_accuracy: 0.7467 - val_loss: 0.6036\n",
      "Epoch 7/10\n",
      "500/500 - 13s - 25ms/step - accuracy: 0.8772 - loss: 0.2976 - val_accuracy: 0.7383 - val_loss: 0.6279\n",
      "Epoch 8/10\n",
      "500/500 - 12s - 25ms/step - accuracy: 0.8818 - loss: 0.2819 - val_accuracy: 0.7377 - val_loss: 0.6635\n",
      "Epoch 9/10\n",
      "500/500 - 12s - 25ms/step - accuracy: 0.8922 - loss: 0.2586 - val_accuracy: 0.7365 - val_loss: 0.6969\n",
      "Epoch 10/10\n",
      "500/500 - 12s - 25ms/step - accuracy: 0.8968 - loss: 0.2462 - val_accuracy: 0.7325 - val_loss: 0.7460\n",
      "Training model with 1 LSTM layers and 16 LSTM units per layer...\n",
      "Epoch 1/10\n",
      "500/500 - 15s - 31ms/step - accuracy: 0.6916 - loss: 0.5819 - val_accuracy: 0.7582 - val_loss: 0.5101\n",
      "Epoch 2/10\n",
      "500/500 - 14s - 28ms/step - accuracy: 0.7878 - loss: 0.4607 - val_accuracy: 0.7623 - val_loss: 0.5052\n",
      "Epoch 3/10\n",
      "500/500 - 14s - 28ms/step - accuracy: 0.8164 - loss: 0.4132 - val_accuracy: 0.7548 - val_loss: 0.5098\n",
      "Epoch 4/10\n",
      "500/500 - 14s - 28ms/step - accuracy: 0.8336 - loss: 0.3811 - val_accuracy: 0.7490 - val_loss: 0.5300\n",
      "Epoch 5/10\n",
      "500/500 - 16s - 32ms/step - accuracy: 0.8504 - loss: 0.3546 - val_accuracy: 0.7473 - val_loss: 0.5504\n",
      "Epoch 6/10\n",
      "500/500 - 14s - 28ms/step - accuracy: 0.8615 - loss: 0.3238 - val_accuracy: 0.7483 - val_loss: 0.5967\n",
      "Epoch 7/10\n",
      "500/500 - 14s - 28ms/step - accuracy: 0.8727 - loss: 0.3025 - val_accuracy: 0.7405 - val_loss: 0.5988\n",
      "Epoch 8/10\n",
      "500/500 - 14s - 28ms/step - accuracy: 0.8799 - loss: 0.2805 - val_accuracy: 0.7395 - val_loss: 0.6412\n",
      "Epoch 9/10\n",
      "500/500 - 14s - 28ms/step - accuracy: 0.8889 - loss: 0.2598 - val_accuracy: 0.7370 - val_loss: 0.6901\n",
      "Epoch 10/10\n",
      "500/500 - 14s - 28ms/step - accuracy: 0.8965 - loss: 0.2437 - val_accuracy: 0.7333 - val_loss: 0.8013\n",
      "Training model with 1 LSTM layers and 32 LSTM units per layer...\n",
      "Epoch 1/10\n",
      "500/500 - 20s - 39ms/step - accuracy: 0.6771 - loss: 0.5888 - val_accuracy: 0.7425 - val_loss: 0.5252\n",
      "Epoch 2/10\n",
      "500/500 - 18s - 35ms/step - accuracy: 0.7868 - loss: 0.4577 - val_accuracy: 0.7595 - val_loss: 0.5022\n",
      "Epoch 3/10\n",
      "500/500 - 18s - 35ms/step - accuracy: 0.8152 - loss: 0.4143 - val_accuracy: 0.7552 - val_loss: 0.5061\n",
      "Epoch 4/10\n",
      "500/500 - 18s - 35ms/step - accuracy: 0.8322 - loss: 0.3849 - val_accuracy: 0.7533 - val_loss: 0.5423\n",
      "Epoch 5/10\n",
      "500/500 - 18s - 35ms/step - accuracy: 0.8444 - loss: 0.3620 - val_accuracy: 0.7492 - val_loss: 0.5378\n",
      "Epoch 6/10\n",
      "500/500 - 18s - 36ms/step - accuracy: 0.8610 - loss: 0.3325 - val_accuracy: 0.7408 - val_loss: 0.5828\n",
      "Epoch 7/10\n",
      "500/500 - 18s - 35ms/step - accuracy: 0.8724 - loss: 0.3045 - val_accuracy: 0.7448 - val_loss: 0.5972\n",
      "Epoch 8/10\n",
      "500/500 - 18s - 36ms/step - accuracy: 0.8812 - loss: 0.2842 - val_accuracy: 0.7372 - val_loss: 0.6687\n",
      "Epoch 9/10\n",
      "500/500 - 18s - 35ms/step - accuracy: 0.8934 - loss: 0.2601 - val_accuracy: 0.7355 - val_loss: 0.7272\n",
      "Epoch 10/10\n",
      "500/500 - 18s - 35ms/step - accuracy: 0.8996 - loss: 0.2384 - val_accuracy: 0.7370 - val_loss: 0.7502\n",
      "Training model with 1 LSTM layers and 64 LSTM units per layer...\n",
      "Epoch 1/10\n",
      "500/500 - 29s - 59ms/step - accuracy: 0.6743 - loss: 0.5884 - val_accuracy: 0.7533 - val_loss: 0.5167\n",
      "Epoch 2/10\n",
      "500/500 - 28s - 56ms/step - accuracy: 0.7878 - loss: 0.4583 - val_accuracy: 0.7552 - val_loss: 0.5039\n",
      "Epoch 3/10\n",
      "500/500 - 28s - 57ms/step - accuracy: 0.8194 - loss: 0.4115 - val_accuracy: 0.7460 - val_loss: 0.5211\n",
      "Epoch 4/10\n",
      "500/500 - 28s - 56ms/step - accuracy: 0.8334 - loss: 0.3847 - val_accuracy: 0.7502 - val_loss: 0.5238\n",
      "Epoch 5/10\n",
      "500/500 - 28s - 56ms/step - accuracy: 0.8498 - loss: 0.3547 - val_accuracy: 0.7437 - val_loss: 0.5575\n",
      "Epoch 6/10\n",
      "500/500 - 28s - 56ms/step - accuracy: 0.8645 - loss: 0.3286 - val_accuracy: 0.7372 - val_loss: 0.5840\n",
      "Epoch 7/10\n",
      "500/500 - 28s - 56ms/step - accuracy: 0.8766 - loss: 0.2975 - val_accuracy: 0.7372 - val_loss: 0.6103\n",
      "Epoch 8/10\n",
      "500/500 - 28s - 57ms/step - accuracy: 0.8825 - loss: 0.2786 - val_accuracy: 0.7405 - val_loss: 0.6454\n",
      "Epoch 9/10\n",
      "500/500 - 28s - 55ms/step - accuracy: 0.8963 - loss: 0.2543 - val_accuracy: 0.7262 - val_loss: 0.6936\n",
      "Epoch 10/10\n",
      "500/500 - 27s - 55ms/step - accuracy: 0.9018 - loss: 0.2361 - val_accuracy: 0.7303 - val_loss: 0.7686\n",
      "Training model with 1 LSTM layers and 128 LSTM units per layer...\n",
      "Epoch 1/10\n",
      "500/500 - 69s - 137ms/step - accuracy: 0.6723 - loss: 0.5989 - val_accuracy: 0.7495 - val_loss: 0.5158\n",
      "Epoch 2/10\n",
      "500/500 - 68s - 136ms/step - accuracy: 0.7848 - loss: 0.4652 - val_accuracy: 0.7448 - val_loss: 0.5235\n",
      "Epoch 3/10\n",
      "500/500 - 71s - 141ms/step - accuracy: 0.8156 - loss: 0.4146 - val_accuracy: 0.7500 - val_loss: 0.5254\n",
      "Epoch 4/10\n",
      "500/500 - 71s - 142ms/step - accuracy: 0.8339 - loss: 0.3797 - val_accuracy: 0.7490 - val_loss: 0.5341\n",
      "Epoch 5/10\n",
      "500/500 - 71s - 141ms/step - accuracy: 0.8518 - loss: 0.3477 - val_accuracy: 0.7350 - val_loss: 0.5742\n",
      "Epoch 6/10\n",
      "500/500 - 71s - 143ms/step - accuracy: 0.8649 - loss: 0.3203 - val_accuracy: 0.7402 - val_loss: 0.5924\n",
      "Epoch 7/10\n",
      "500/500 - 66s - 131ms/step - accuracy: 0.8791 - loss: 0.2940 - val_accuracy: 0.7387 - val_loss: 0.6365\n",
      "Epoch 8/10\n",
      "500/500 - 66s - 133ms/step - accuracy: 0.8892 - loss: 0.2688 - val_accuracy: 0.7402 - val_loss: 0.6985\n",
      "Epoch 9/10\n",
      "500/500 - 66s - 133ms/step - accuracy: 0.8970 - loss: 0.2470 - val_accuracy: 0.7340 - val_loss: 0.7936\n",
      "Epoch 10/10\n",
      "500/500 - 67s - 135ms/step - accuracy: 0.9043 - loss: 0.2303 - val_accuracy: 0.7283 - val_loss: 0.8079\n",
      "Training model with 2 LSTM layers and 8 LSTM units per layer...\n",
      "Epoch 1/10\n",
      "500/500 - 24s - 48ms/step - accuracy: 0.6335 - loss: 0.6341 - val_accuracy: 0.7350 - val_loss: 0.5385\n",
      "Epoch 2/10\n",
      "500/500 - 22s - 43ms/step - accuracy: 0.7724 - loss: 0.4934 - val_accuracy: 0.7598 - val_loss: 0.5130\n",
      "Epoch 3/10\n",
      "500/500 - 22s - 44ms/step - accuracy: 0.8087 - loss: 0.4341 - val_accuracy: 0.7573 - val_loss: 0.5150\n",
      "Epoch 4/10\n",
      "500/500 - 22s - 44ms/step - accuracy: 0.8276 - loss: 0.4052 - val_accuracy: 0.7550 - val_loss: 0.5337\n",
      "Epoch 5/10\n",
      "500/500 - 22s - 44ms/step - accuracy: 0.8430 - loss: 0.3792 - val_accuracy: 0.7548 - val_loss: 0.5339\n",
      "Epoch 6/10\n",
      "500/500 - 22s - 44ms/step - accuracy: 0.8545 - loss: 0.3567 - val_accuracy: 0.7498 - val_loss: 0.5797\n",
      "Epoch 7/10\n",
      "500/500 - 22s - 43ms/step - accuracy: 0.8678 - loss: 0.3313 - val_accuracy: 0.7465 - val_loss: 0.5983\n",
      "Epoch 8/10\n",
      "500/500 - 22s - 43ms/step - accuracy: 0.8717 - loss: 0.3177 - val_accuracy: 0.7427 - val_loss: 0.6231\n",
      "Epoch 9/10\n",
      "500/500 - 22s - 45ms/step - accuracy: 0.8792 - loss: 0.3037 - val_accuracy: 0.7358 - val_loss: 0.6488\n",
      "Epoch 10/10\n",
      "500/500 - 22s - 44ms/step - accuracy: 0.8840 - loss: 0.2932 - val_accuracy: 0.7347 - val_loss: 0.6742\n",
      "Training model with 2 LSTM layers and 16 LSTM units per layer...\n",
      "Epoch 1/10\n",
      "500/500 - 28s - 56ms/step - accuracy: 0.6321 - loss: 0.6312 - val_accuracy: 0.7365 - val_loss: 0.5354\n",
      "Epoch 2/10\n",
      "500/500 - 25s - 50ms/step - accuracy: 0.7739 - loss: 0.4869 - val_accuracy: 0.7560 - val_loss: 0.5091\n",
      "Epoch 3/10\n",
      "500/500 - 25s - 51ms/step - accuracy: 0.8109 - loss: 0.4321 - val_accuracy: 0.7552 - val_loss: 0.5218\n",
      "Epoch 4/10\n",
      "500/500 - 25s - 51ms/step - accuracy: 0.8308 - loss: 0.3973 - val_accuracy: 0.7475 - val_loss: 0.5519\n",
      "Epoch 5/10\n",
      "500/500 - 26s - 51ms/step - accuracy: 0.8493 - loss: 0.3681 - val_accuracy: 0.7498 - val_loss: 0.5461\n",
      "Epoch 6/10\n",
      "500/500 - 26s - 52ms/step - accuracy: 0.8643 - loss: 0.3395 - val_accuracy: 0.7437 - val_loss: 0.5886\n",
      "Epoch 7/10\n",
      "500/500 - 26s - 51ms/step - accuracy: 0.8716 - loss: 0.3262 - val_accuracy: 0.7418 - val_loss: 0.6058\n",
      "Epoch 8/10\n",
      "500/500 - 25s - 50ms/step - accuracy: 0.8783 - loss: 0.3066 - val_accuracy: 0.7370 - val_loss: 0.6273\n",
      "Epoch 9/10\n",
      "500/500 - 25s - 50ms/step - accuracy: 0.8895 - loss: 0.2851 - val_accuracy: 0.7362 - val_loss: 0.6658\n",
      "Epoch 10/10\n",
      "500/500 - 25s - 50ms/step - accuracy: 0.8926 - loss: 0.2768 - val_accuracy: 0.7280 - val_loss: 0.7003\n",
      "Training model with 2 LSTM layers and 32 LSTM units per layer...\n",
      "Epoch 1/10\n",
      "500/500 - 36s - 71ms/step - accuracy: 0.6488 - loss: 0.6104 - val_accuracy: 0.7483 - val_loss: 0.5254\n",
      "Epoch 2/10\n",
      "500/500 - 33s - 65ms/step - accuracy: 0.7807 - loss: 0.4714 - val_accuracy: 0.7545 - val_loss: 0.5041\n",
      "Epoch 3/10\n",
      "500/500 - 33s - 65ms/step - accuracy: 0.8124 - loss: 0.4214 - val_accuracy: 0.7552 - val_loss: 0.5114\n",
      "Epoch 4/10\n",
      "500/500 - 33s - 65ms/step - accuracy: 0.8327 - loss: 0.3899 - val_accuracy: 0.7508 - val_loss: 0.5408\n",
      "Epoch 5/10\n",
      "500/500 - 33s - 66ms/step - accuracy: 0.8486 - loss: 0.3651 - val_accuracy: 0.7485 - val_loss: 0.5623\n",
      "Epoch 6/10\n",
      "500/500 - 33s - 67ms/step - accuracy: 0.8584 - loss: 0.3374 - val_accuracy: 0.7390 - val_loss: 0.5768\n",
      "Epoch 7/10\n",
      "500/500 - 33s - 66ms/step - accuracy: 0.8703 - loss: 0.3130 - val_accuracy: 0.7408 - val_loss: 0.6106\n",
      "Epoch 8/10\n",
      "500/500 - 33s - 66ms/step - accuracy: 0.8778 - loss: 0.2997 - val_accuracy: 0.7280 - val_loss: 0.6131\n",
      "Epoch 9/10\n",
      "500/500 - 33s - 66ms/step - accuracy: 0.8878 - loss: 0.2773 - val_accuracy: 0.7337 - val_loss: 0.6800\n",
      "Epoch 10/10\n",
      "500/500 - 33s - 65ms/step - accuracy: 0.8933 - loss: 0.2626 - val_accuracy: 0.7347 - val_loss: 0.7260\n",
      "Training model with 2 LSTM layers and 64 LSTM units per layer...\n",
      "Epoch 1/10\n",
      "500/500 - 58s - 115ms/step - accuracy: 0.6472 - loss: 0.6101 - val_accuracy: 0.7427 - val_loss: 0.5202\n",
      "Epoch 2/10\n",
      "500/500 - 56s - 111ms/step - accuracy: 0.7824 - loss: 0.4720 - val_accuracy: 0.7592 - val_loss: 0.5038\n",
      "Epoch 3/10\n",
      "500/500 - 55s - 110ms/step - accuracy: 0.8148 - loss: 0.4224 - val_accuracy: 0.7533 - val_loss: 0.5187\n",
      "Epoch 4/10\n",
      "500/500 - 54s - 108ms/step - accuracy: 0.8310 - loss: 0.3912 - val_accuracy: 0.7517 - val_loss: 0.5323\n",
      "Epoch 5/10\n",
      "500/500 - 55s - 110ms/step - accuracy: 0.8455 - loss: 0.3639 - val_accuracy: 0.7455 - val_loss: 0.5528\n",
      "Epoch 6/10\n",
      "500/500 - 57s - 114ms/step - accuracy: 0.8571 - loss: 0.3414 - val_accuracy: 0.7387 - val_loss: 0.5841\n",
      "Epoch 7/10\n",
      "500/500 - 55s - 111ms/step - accuracy: 0.8687 - loss: 0.3151 - val_accuracy: 0.7343 - val_loss: 0.6480\n",
      "Epoch 8/10\n",
      "500/500 - 55s - 110ms/step - accuracy: 0.8816 - loss: 0.2959 - val_accuracy: 0.7362 - val_loss: 0.6762\n",
      "Epoch 9/10\n",
      "500/500 - 55s - 110ms/step - accuracy: 0.8888 - loss: 0.2774 - val_accuracy: 0.7405 - val_loss: 0.6888\n",
      "Epoch 10/10\n",
      "500/500 - 55s - 110ms/step - accuracy: 0.8944 - loss: 0.2605 - val_accuracy: 0.7333 - val_loss: 0.6923\n",
      "Training model with 2 LSTM layers and 128 LSTM units per layer...\n",
      "Epoch 1/10\n",
      "500/500 - 133s - 266ms/step - accuracy: 0.6215 - loss: 0.6270 - val_accuracy: 0.7318 - val_loss: 0.5303\n",
      "Epoch 2/10\n",
      "500/500 - 135s - 269ms/step - accuracy: 0.7657 - loss: 0.4895 - val_accuracy: 0.7573 - val_loss: 0.5024\n",
      "Epoch 3/10\n",
      "500/500 - 130s - 259ms/step - accuracy: 0.8099 - loss: 0.4284 - val_accuracy: 0.7548 - val_loss: 0.5053\n",
      "Epoch 4/10\n",
      "500/500 - 132s - 264ms/step - accuracy: 0.8292 - loss: 0.3917 - val_accuracy: 0.7538 - val_loss: 0.5360\n",
      "Epoch 5/10\n",
      "500/500 - 129s - 258ms/step - accuracy: 0.8463 - loss: 0.3644 - val_accuracy: 0.7442 - val_loss: 0.5488\n",
      "Epoch 6/10\n",
      "500/500 - 133s - 266ms/step - accuracy: 0.8601 - loss: 0.3374 - val_accuracy: 0.7412 - val_loss: 0.5601\n",
      "Epoch 7/10\n",
      "500/500 - 132s - 263ms/step - accuracy: 0.8748 - loss: 0.3111 - val_accuracy: 0.7315 - val_loss: 0.6133\n",
      "Epoch 8/10\n",
      "500/500 - 134s - 269ms/step - accuracy: 0.8844 - loss: 0.2874 - val_accuracy: 0.7368 - val_loss: 0.6823\n",
      "Epoch 9/10\n",
      "500/500 - 132s - 264ms/step - accuracy: 0.8920 - loss: 0.2702 - val_accuracy: 0.7260 - val_loss: 0.6650\n",
      "Epoch 10/10\n",
      "500/500 - 133s - 266ms/step - accuracy: 0.8999 - loss: 0.2521 - val_accuracy: 0.7280 - val_loss: 0.7197\n",
      "Training model with 3 LSTM layers and 8 LSTM units per layer...\n",
      "Epoch 1/10\n",
      "500/500 - 34s - 68ms/step - accuracy: 0.5897 - loss: 0.6623 - val_accuracy: 0.7153 - val_loss: 0.5679\n",
      "Epoch 2/10\n",
      "500/500 - 30s - 61ms/step - accuracy: 0.7498 - loss: 0.5306 - val_accuracy: 0.7465 - val_loss: 0.5275\n",
      "Epoch 3/10\n",
      "500/500 - 31s - 63ms/step - accuracy: 0.7970 - loss: 0.4641 - val_accuracy: 0.7505 - val_loss: 0.5222\n",
      "Epoch 4/10\n",
      "500/500 - 32s - 63ms/step - accuracy: 0.8177 - loss: 0.4317 - val_accuracy: 0.7513 - val_loss: 0.5317\n",
      "Epoch 5/10\n",
      "500/500 - 31s - 61ms/step - accuracy: 0.8331 - loss: 0.4020 - val_accuracy: 0.7533 - val_loss: 0.5421\n",
      "Epoch 6/10\n",
      "500/500 - 31s - 61ms/step - accuracy: 0.8464 - loss: 0.3772 - val_accuracy: 0.7523 - val_loss: 0.5668\n",
      "Epoch 7/10\n",
      "500/500 - 29s - 59ms/step - accuracy: 0.8536 - loss: 0.3601 - val_accuracy: 0.7442 - val_loss: 0.6037\n",
      "Epoch 8/10\n",
      "500/500 - 29s - 57ms/step - accuracy: 0.8636 - loss: 0.3438 - val_accuracy: 0.7442 - val_loss: 0.6119\n",
      "Epoch 9/10\n",
      "500/500 - 29s - 57ms/step - accuracy: 0.8705 - loss: 0.3270 - val_accuracy: 0.7418 - val_loss: 0.6536\n",
      "Epoch 10/10\n",
      "500/500 - 29s - 57ms/step - accuracy: 0.8730 - loss: 0.3176 - val_accuracy: 0.7390 - val_loss: 0.6461\n",
      "Training model with 3 LSTM layers and 16 LSTM units per layer...\n",
      "Epoch 1/10\n",
      "500/500 - 38s - 77ms/step - accuracy: 0.5934 - loss: 0.6552 - val_accuracy: 0.7175 - val_loss: 0.5625\n",
      "Epoch 2/10\n",
      "500/500 - 35s - 70ms/step - accuracy: 0.7577 - loss: 0.5166 - val_accuracy: 0.7625 - val_loss: 0.5162\n",
      "Epoch 3/10\n",
      "500/500 - 35s - 70ms/step - accuracy: 0.8032 - loss: 0.4514 - val_accuracy: 0.7607 - val_loss: 0.5076\n",
      "Epoch 4/10\n",
      "500/500 - 35s - 70ms/step - accuracy: 0.8251 - loss: 0.4123 - val_accuracy: 0.7570 - val_loss: 0.5336\n",
      "Epoch 5/10\n",
      "500/500 - 35s - 70ms/step - accuracy: 0.8410 - loss: 0.3823 - val_accuracy: 0.7555 - val_loss: 0.5440\n",
      "Epoch 6/10\n",
      "500/500 - 35s - 70ms/step - accuracy: 0.8543 - loss: 0.3572 - val_accuracy: 0.7513 - val_loss: 0.5887\n",
      "Epoch 7/10\n",
      "500/500 - 35s - 70ms/step - accuracy: 0.8646 - loss: 0.3378 - val_accuracy: 0.7442 - val_loss: 0.6007\n",
      "Epoch 8/10\n",
      "500/500 - 63s - 126ms/step - accuracy: 0.8728 - loss: 0.3201 - val_accuracy: 0.7400 - val_loss: 0.6375\n",
      "Epoch 9/10\n",
      "500/500 - 60s - 119ms/step - accuracy: 0.8813 - loss: 0.3033 - val_accuracy: 0.7355 - val_loss: 0.6551\n",
      "Epoch 10/10\n",
      "500/500 - 35s - 71ms/step - accuracy: 0.8864 - loss: 0.2917 - val_accuracy: 0.7355 - val_loss: 0.6519\n",
      "Training model with 3 LSTM layers and 32 LSTM units per layer...\n",
      "Epoch 1/10\n",
      "500/500 - 51s - 102ms/step - accuracy: 0.6044 - loss: 0.6479 - val_accuracy: 0.7278 - val_loss: 0.5503\n",
      "Epoch 2/10\n",
      "500/500 - 47s - 94ms/step - accuracy: 0.7667 - loss: 0.5013 - val_accuracy: 0.7605 - val_loss: 0.5057\n",
      "Epoch 3/10\n",
      "500/500 - 47s - 95ms/step - accuracy: 0.8069 - loss: 0.4429 - val_accuracy: 0.7642 - val_loss: 0.5144\n",
      "Epoch 4/10\n",
      "500/500 - 47s - 94ms/step - accuracy: 0.8269 - loss: 0.4037 - val_accuracy: 0.7530 - val_loss: 0.5338\n",
      "Epoch 5/10\n",
      "500/500 - 47s - 93ms/step - accuracy: 0.8436 - loss: 0.3749 - val_accuracy: 0.7530 - val_loss: 0.5385\n",
      "Epoch 6/10\n",
      "500/500 - 47s - 94ms/step - accuracy: 0.8560 - loss: 0.3526 - val_accuracy: 0.7480 - val_loss: 0.5774\n",
      "Epoch 7/10\n",
      "500/500 - 47s - 93ms/step - accuracy: 0.8666 - loss: 0.3308 - val_accuracy: 0.7400 - val_loss: 0.6197\n",
      "Epoch 8/10\n",
      "500/500 - 47s - 94ms/step - accuracy: 0.8721 - loss: 0.3154 - val_accuracy: 0.7408 - val_loss: 0.6169\n",
      "Epoch 9/10\n",
      "500/500 - 46s - 92ms/step - accuracy: 0.8838 - loss: 0.2922 - val_accuracy: 0.7325 - val_loss: 0.6823\n",
      "Epoch 10/10\n",
      "500/500 - 46s - 92ms/step - accuracy: 0.8916 - loss: 0.2765 - val_accuracy: 0.7290 - val_loss: 0.6897\n",
      "Training model with 3 LSTM layers and 64 LSTM units per layer...\n",
      "Epoch 1/10\n",
      "500/500 - 137s - 274ms/step - accuracy: 0.6136 - loss: 0.6398 - val_accuracy: 0.7283 - val_loss: 0.5450\n",
      "Epoch 2/10\n",
      "500/500 - 81s - 163ms/step - accuracy: 0.7703 - loss: 0.4902 - val_accuracy: 0.7548 - val_loss: 0.5072\n",
      "Epoch 3/10\n",
      "500/500 - 80s - 159ms/step - accuracy: 0.8081 - loss: 0.4340 - val_accuracy: 0.7508 - val_loss: 0.5168\n",
      "Epoch 4/10\n",
      "500/500 - 80s - 160ms/step - accuracy: 0.8313 - loss: 0.3949 - val_accuracy: 0.7550 - val_loss: 0.5272\n",
      "Epoch 5/10\n",
      "500/500 - 80s - 161ms/step - accuracy: 0.8508 - loss: 0.3615 - val_accuracy: 0.7437 - val_loss: 0.5405\n",
      "Epoch 6/10\n",
      "500/500 - 158s - 316ms/step - accuracy: 0.8593 - loss: 0.3395 - val_accuracy: 0.7430 - val_loss: 0.5775\n",
      "Epoch 7/10\n",
      "500/500 - 83s - 166ms/step - accuracy: 0.8699 - loss: 0.3168 - val_accuracy: 0.7375 - val_loss: 0.5947\n",
      "Epoch 8/10\n",
      "500/500 - 81s - 163ms/step - accuracy: 0.8799 - loss: 0.2958 - val_accuracy: 0.7380 - val_loss: 0.6498\n",
      "Epoch 9/10\n",
      "500/500 - 81s - 162ms/step - accuracy: 0.8876 - loss: 0.2759 - val_accuracy: 0.7343 - val_loss: 0.7002\n",
      "Epoch 10/10\n",
      "500/500 - 81s - 162ms/step - accuracy: 0.8981 - loss: 0.2576 - val_accuracy: 0.7305 - val_loss: 0.7052\n",
      "Training model with 3 LSTM layers and 128 LSTM units per layer...\n",
      "Epoch 1/10\n",
      "500/500 - 218s - 435ms/step - accuracy: 0.5978 - loss: 0.6465 - val_accuracy: 0.7278 - val_loss: 0.5441\n",
      "Epoch 2/10\n",
      "500/500 - 226s - 453ms/step - accuracy: 0.7673 - loss: 0.4932 - val_accuracy: 0.7582 - val_loss: 0.5084\n",
      "Epoch 3/10\n",
      "500/500 - 230s - 461ms/step - accuracy: 0.8054 - loss: 0.4351 - val_accuracy: 0.7602 - val_loss: 0.5048\n",
      "Epoch 4/10\n",
      "500/500 - 226s - 452ms/step - accuracy: 0.8298 - loss: 0.3992 - val_accuracy: 0.7520 - val_loss: 0.5362\n",
      "Epoch 5/10\n",
      "500/500 - 236s - 472ms/step - accuracy: 0.8441 - loss: 0.3680 - val_accuracy: 0.7502 - val_loss: 0.5449\n",
      "Epoch 6/10\n",
      "500/500 - 229s - 457ms/step - accuracy: 0.8584 - loss: 0.3385 - val_accuracy: 0.7425 - val_loss: 0.5737\n",
      "Epoch 7/10\n",
      "500/500 - 228s - 456ms/step - accuracy: 0.8699 - loss: 0.3190 - val_accuracy: 0.7412 - val_loss: 0.6269\n",
      "Epoch 8/10\n",
      "500/500 - 221s - 443ms/step - accuracy: 0.8799 - loss: 0.2926 - val_accuracy: 0.7398 - val_loss: 0.6528\n",
      "Epoch 9/10\n",
      "500/500 - 226s - 451ms/step - accuracy: 0.8901 - loss: 0.2757 - val_accuracy: 0.7377 - val_loss: 0.6730\n",
      "Epoch 10/10\n",
      "500/500 - 263s - 525ms/step - accuracy: 0.8964 - loss: 0.2574 - val_accuracy: 0.7327 - val_loss: 0.7155\n"
     ]
    }
   ],
   "execution_count": 56
  },
  {
   "metadata": {
    "ExecuteTime": {
     "end_time": "2025-03-22T17:54:10.440990Z",
     "start_time": "2025-03-22T17:54:10.116565Z"
    }
   },
   "cell_type": "code",
   "source": [
    "colors = ['red', 'green', 'blue']\n",
    "# --- 训练精度折线图 ---\n",
    "plt.figure(figsize=(12, 5))\n",
    "for i, lstm_layers in enumerate(lstm_layers_list):\n",
    "    train_acc = [results[(lstm_layers, lstm_units)]['train_acc'] for lstm_units in lstm_units_list]\n",
    "    plt.plot(lstm_units_list, train_acc, marker='o', linestyle='-', color=colors[i], label=f\"{lstm_layers} LSTM layers\")\n",
    "plt.xlabel(\"Number of LSTM units per layer\")\n",
    "plt.ylabel(\"Accuracy\")\n",
    "plt.title(\"Train Accuracy\")\n",
    "plt.legend()\n",
    "plt.show()\n",
    "\n",
    "# --- 测试精度折线图 ---\n",
    "plt.figure(figsize=(12, 5))\n",
    "for i, lstm_layers in enumerate(lstm_layers_list):\n",
    "    test_acc = [results[(lstm_layers, lstm_units)]['test_acc'] for lstm_units in lstm_units_list]\n",
    "    plt.plot(lstm_units_list, test_acc, marker='o', linestyle='-', color=colors[i], label=f\"{lstm_layers} LSTM layers\")\n",
    "plt.xlabel(\"Number of LSTM units per layer\")\n",
    "plt.ylabel(\"Accuracy\")\n",
    "plt.title(\"Test Accuracy\")\n",
    "plt.legend()\n",
    "plt.show()\n",
    "\n",
    "# --- 参数量变化折线图 ---\n",
    "plt.figure(figsize=(8, 6))\n",
    "for i, lstm_layers in enumerate(lstm_layers_list):\n",
    "    params = [params_history[(lstm_layers, lstm_units)] for lstm_units in lstm_units_list]\n",
    "    plt.plot(lstm_units_list, params, marker='o', linestyle='-', color=colors[i], label=f\"{lstm_layers} LSTM layers\")\n",
    "plt.xlabel(\"Number of LSTM units per layer\")\n",
    "plt.ylabel(\"Trainable Parameters\")\n",
    "plt.title(\"Model Parameters\")\n",
    "plt.legend()\n",
    "plt.show()\n",
    "\n"
   ],
   "outputs": [
    {
     "data": {
      "text/plain": [
       "<Figure size 1200x500 with 1 Axes>"
      ],
      "image/png": "[encoded data removed]"
     },
     "metadata": {},
     "output_type": "display_data"
    },
    {
     "data": {
      "text/plain": [
       "<Figure size 1200x500 with 1 Axes>"
      ],
      "image/png": "[encoded data removed]"
     },
     "metadata": {},
     "output_type": "display_data"
    },
    {
     "data": {
      "text/plain": [
       "<Figure size 800x600 with 1 Axes>"
      ],
      "image/png": "[encoded data removed]"
     },
     "metadata": {},
     "output_type": "display_data"
    }
   ],
   "execution_count": 60
  },
  {
   "metadata": {
    "ExecuteTime": {
     "end_time": "2025-03-22T17:47:24.861433Z",
     "start_time": "2025-03-22T17:47:24.859263Z"
    }
   },
   "cell_type": "code",
   "source": "",
   "outputs": [],
   "execution_count": null
  },
  {
   "metadata": {},
   "cell_type": "markdown",
   "source": ""
  }
 ],
 "metadata": {
  "colab": {
   "authorship_tag": "ABX9TyNNag92UMCy1GtgfJ+zFFU1",
   "collapsed_sections": [],
   "name": "DUDL_FFN_aboutMNIST.ipynb",
   "provenance": [
    {
     "file_id": "15cpyHkJ435B4MqbyGjAH1poN4nCy_DE4",
     "timestamp": 1617737766196
    },
    {
     "file_id": "1OLuWuaFu0hcFgkQ2hh5BqbRuqUZD7XcQ",
     "timestamp": 1617734878578
    },
    {
     "file_id": "1XvzVGJPTJifVh8OpZVB7ykLxyUqYwQ1j",
     "timestamp": 1617196833019
    },
    {
     "file_id": "1bv1_y32e3KEExFKKlPfC3rpw1JxmBr8H",
     "timestamp": 1617124341706
    },
    {
     "file_id": "1GMq8u7KyHB2AE7Teyls9gK1T01OduQSn",
     "timestamp": 1616697516760
    },
    {
     "file_id": "1Ui3kyHim-e0XLgDs2mkBxVlYg7TKYtcg",
     "timestamp": 1616615469755
    },
    {
     "file_id": "1YpHocGI4rApOxIBb1ZghCU5L-hFnv4CK",
     "timestamp": 1616608248670
    }
   ]
  },
  "kernelspec": {
   "display_name": "Python (newpipenv)",
   "language": "python",
   "name": "newpipenv"
  },
  "language_info": {
   "codemirror_mode": {
    "name": "ipython",
    "version": 3
   },
   "file_extension": ".py",
   "mimetype": "text/x-python",
   "name": "python",
   "nbconvert_exporter": "python",
   "pygments_lexer": "ipython3",
   "version": "3.10.9"
  }
 },
 "nbformat": 4,
 "nbformat_minor": 1
}
