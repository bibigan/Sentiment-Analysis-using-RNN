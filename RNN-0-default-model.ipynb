{
 "cells": [
  {
   "cell_type": "code",
   "metadata": {
    "id": "YeuAheYyhdZw",
    "ExecuteTime": {
     "end_time": "2025-03-24T19:18:19.970485Z",
     "start_time": "2025-03-24T19:18:19.965749Z"
    }
   },
   "source": [
    "# import libraries\n",
    "# DataFrame\n",
    "import pandas as pd\n",
    "\n",
    "# plotting\n",
    "import seaborn as sns\n",
    "from wordcloud import WordCloud\n",
    "import matplotlib.pyplot as plt\n",
    "\n",
    "# nltk\n",
    "import nltk\n",
    "from nltk.stem import WordNetLemmatizer\n",
    "from nltk.corpus import stopwords\n",
    "from nltk.tokenize import word_tokenize\n",
    "\n",
    "# sklearny\n",
    "from sklearn.model_selection import train_test_split\n",
    "from sklearn.feature_extraction.text import TfidfVectorizer\n",
    "from sklearn.metrics import confusion_matrix, classification_report\n",
    "\n",
    "from sklearn.linear_model import LogisticRegression\n",
    "from sklearn.svm import LinearSVC\n",
    "from sklearn.ensemble import RandomForestClassifier\n",
    "from sklearn.naive_bayes import BernoulliNB\n",
    "\n",
    "\n",
    "#tensorflow\n",
    "import tensorflow.compat.v2 as tf\n",
    "import tensorflow_datasets as tfds\n",
    "\n",
    "# Utility\n",
    "import pandas as pd\n",
    "import numpy as np\n",
    "import warnings\n",
    "warnings.filterwarnings('ignore')\n",
    "import re\n",
    "import string\n",
    "import pickle"
   ],
   "outputs": [],
   "execution_count": 897
  },
  {
   "cell_type": "markdown",
   "metadata": {},
   "source": "# Loading Dataset"
  },
  {
   "cell_type": "code",
   "metadata": {
    "ExecuteTime": {
     "end_time": "2025-03-24T19:18:22.828998Z",
     "start_time": "2025-03-24T19:18:19.994186Z"
    }
   },
   "source": [
    "# Construct a tf.data.Dataset\n",
    "data = pd.read_csv('training.1600000.processed.noemoticon.csv',encoding='latin', names = ['polarity','id','date','query','user','text'])\n",
    "# Random shuffling of data, select the first 200,000\n",
    "data = data.sample(frac=1,random_state=740)\n",
    "data = data[:20000]\n",
    "data.head(10)"
   ],
   "outputs": [
    {
     "data": {
      "text/plain": [
       "         polarity          id                          date     query  \\\n",
       "1586564         4  2190822209  Tue Jun 16 03:49:24 PDT 2009  NO_QUERY   \n",
       "1593258         4  2191903014  Tue Jun 16 06:10:21 PDT 2009  NO_QUERY   \n",
       "250171          0  1983150308  Sun May 31 12:36:04 PDT 2009  NO_QUERY   \n",
       "774617          0  2321582236  Wed Jun 24 21:15:45 PDT 2009  NO_QUERY   \n",
       "219640          0  1976442803  Sat May 30 17:20:29 PDT 2009  NO_QUERY   \n",
       "364854          0  2048346997  Fri Jun 05 15:03:16 PDT 2009  NO_QUERY   \n",
       "1081037         4  1968400415  Fri May 29 21:21:32 PDT 2009  NO_QUERY   \n",
       "352747          0  2031275962  Thu Jun 04 09:35:12 PDT 2009  NO_QUERY   \n",
       "804759          4  1468569254  Tue Apr 07 02:28:17 PDT 2009  NO_QUERY   \n",
       "903760          4  1694686706  Mon May 04 03:43:12 PDT 2009  NO_QUERY   \n",
       "\n",
       "                    user                                               text  \n",
       "1586564      Alex_Clough  ...went to New Emperor as it was still open  V...  \n",
       "1593258    LeahChantelle  @lickmycupcakes Yay!!! It worked!! And thank y...  \n",
       "250171         YesDiva32    @Mister_82 don't b hatin on my Mira Mira music   \n",
       "774617     _WorldsApart_  Where were u when #BPD broke 1,000 users onlin...  \n",
       "219640      greatbrytton  I really just want to be out of Dothan...more ...  \n",
       "364854   MsCherrylicious  Fml got suckered into working til 930 and I'm ...  \n",
       "1081037        pennamico  @aalmishal ???? ?? ?????  ????? ????? ?????? ?...  \n",
       "352747     darlingroland  Today I could go get my new phone, probably wo...  \n",
       "804759          Scyranth  @SexySubKaylee heh heh dirty is always good gu...  \n",
       "903760     LmaonadeStand  No school today - Not because of &quot;H1N1&qu...  "
      ],
      "text/html": [
       "<div>\n",
       "<style scoped>\n",
       "    .dataframe tbody tr th:only-of-type {\n",
       "        vertical-align: middle;\n",
       "    }\n",
       "\n",
       "    .dataframe tbody tr th {\n",
       "        vertical-align: top;\n",
       "    }\n",
       "\n",
       "    .dataframe thead th {\n",
       "        text-align: right;\n",
       "    }\n",
       "</style>\n",
       "<table border=\"1\" class=\"dataframe\">\n",
       "  <thead>\n",
       "    <tr style=\"text-align: right;\">\n",
       "      <th></th>\n",
       "      <th>polarity</th>\n",
       "      <th>id</th>\n",
       "      <th>date</th>\n",
       "      <th>query</th>\n",
       "      <th>user</th>\n",
       "      <th>text</th>\n",
       "    </tr>\n",
       "  </thead>\n",
       "  <tbody>\n",
       "    <tr>\n",
       "      <th>1586564</th>\n",
       "      <td>4</td>\n",
       "      <td>2190822209</td>\n",
       "      <td>Tue Jun 16 03:49:24 PDT 2009</td>\n",
       "      <td>NO_QUERY</td>\n",
       "      <td>Alex_Clough</td>\n",
       "      <td>...went to New Emperor as it was still open  V...</td>\n",
       "    </tr>\n",
       "    <tr>\n",
       "      <th>1593258</th>\n",
       "      <td>4</td>\n",
       "      <td>2191903014</td>\n",
       "      <td>Tue Jun 16 06:10:21 PDT 2009</td>\n",
       "      <td>NO_QUERY</td>\n",
       "      <td>LeahChantelle</td>\n",
       "      <td>@lickmycupcakes Yay!!! It worked!! And thank y...</td>\n",
       "    </tr>\n",
       "    <tr>\n",
       "      <th>250171</th>\n",
       "      <td>0</td>\n",
       "      <td>1983150308</td>\n",
       "      <td>Sun May 31 12:36:04 PDT 2009</td>\n",
       "      <td>NO_QUERY</td>\n",
       "      <td>YesDiva32</td>\n",
       "      <td>@Mister_82 don't b hatin on my Mira Mira music</td>\n",
       "    </tr>\n",
       "    <tr>\n",
       "      <th>774617</th>\n",
       "      <td>0</td>\n",
       "      <td>2321582236</td>\n",
       "      <td>Wed Jun 24 21:15:45 PDT 2009</td>\n",
       "      <td>NO_QUERY</td>\n",
       "      <td>_WorldsApart_</td>\n",
       "      <td>Where were u when #BPD broke 1,000 users onlin...</td>\n",
       "    </tr>\n",
       "    <tr>\n",
       "      <th>219640</th>\n",
       "      <td>0</td>\n",
       "      <td>1976442803</td>\n",
       "      <td>Sat May 30 17:20:29 PDT 2009</td>\n",
       "      <td>NO_QUERY</td>\n",
       "      <td>greatbrytton</td>\n",
       "      <td>I really just want to be out of Dothan...more ...</td>\n",
       "    </tr>\n",
       "    <tr>\n",
       "      <th>364854</th>\n",
       "      <td>0</td>\n",
       "      <td>2048346997</td>\n",
       "      <td>Fri Jun 05 15:03:16 PDT 2009</td>\n",
       "      <td>NO_QUERY</td>\n",
       "      <td>MsCherrylicious</td>\n",
       "      <td>Fml got suckered into working til 930 and I'm ...</td>\n",
       "    </tr>\n",
       "    <tr>\n",
       "      <th>1081037</th>\n",
       "      <td>4</td>\n",
       "      <td>1968400415</td>\n",
       "      <td>Fri May 29 21:21:32 PDT 2009</td>\n",
       "      <td>NO_QUERY</td>\n",
       "      <td>pennamico</td>\n",
       "      <td>@aalmishal ???? ?? ?????  ????? ????? ?????? ?...</td>\n",
       "    </tr>\n",
       "    <tr>\n",
       "      <th>352747</th>\n",
       "      <td>0</td>\n",
       "      <td>2031275962</td>\n",
       "      <td>Thu Jun 04 09:35:12 PDT 2009</td>\n",
       "      <td>NO_QUERY</td>\n",
       "      <td>darlingroland</td>\n",
       "      <td>Today I could go get my new phone, probably wo...</td>\n",
       "    </tr>\n",
       "    <tr>\n",
       "      <th>804759</th>\n",
       "      <td>4</td>\n",
       "      <td>1468569254</td>\n",
       "      <td>Tue Apr 07 02:28:17 PDT 2009</td>\n",
       "      <td>NO_QUERY</td>\n",
       "      <td>Scyranth</td>\n",
       "      <td>@SexySubKaylee heh heh dirty is always good gu...</td>\n",
       "    </tr>\n",
       "    <tr>\n",
       "      <th>903760</th>\n",
       "      <td>4</td>\n",
       "      <td>1694686706</td>\n",
       "      <td>Mon May 04 03:43:12 PDT 2009</td>\n",
       "      <td>NO_QUERY</td>\n",
       "      <td>LmaonadeStand</td>\n",
       "      <td>No school today - Not because of &amp;quot;H1N1&amp;qu...</td>\n",
       "    </tr>\n",
       "  </tbody>\n",
       "</table>\n",
       "</div>"
      ]
     },
     "execution_count": 898,
     "metadata": {},
     "output_type": "execute_result"
    }
   ],
   "execution_count": 898
  },
  {
   "metadata": {},
   "cell_type": "markdown",
   "source": "# Data Visualization"
  },
  {
   "cell_type": "code",
   "metadata": {
    "scrolled": false,
    "ExecuteTime": {
     "end_time": "2025-03-24T19:18:22.899829Z",
     "start_time": "2025-03-24T19:18:22.897209Z"
    }
   },
   "source": "print(\"Dataset shape:\", data.shape)",
   "outputs": [
    {
     "name": "stdout",
     "output_type": "stream",
     "text": [
      "Dataset shape: (20000, 6)\n"
     ]
    }
   ],
   "execution_count": 899
  },
  {
   "cell_type": "code",
   "metadata": {
    "ExecuteTime": {
     "end_time": "2025-03-24T19:18:22.964183Z",
     "start_time": "2025-03-24T19:18:22.958247Z"
    }
   },
   "source": "data.head(10)",
   "outputs": [
    {
     "data": {
      "text/plain": [
       "         polarity          id                          date     query  \\\n",
       "1586564         4  2190822209  Tue Jun 16 03:49:24 PDT 2009  NO_QUERY   \n",
       "1593258         4  2191903014  Tue Jun 16 06:10:21 PDT 2009  NO_QUERY   \n",
       "250171          0  1983150308  Sun May 31 12:36:04 PDT 2009  NO_QUERY   \n",
       "774617          0  2321582236  Wed Jun 24 21:15:45 PDT 2009  NO_QUERY   \n",
       "219640          0  1976442803  Sat May 30 17:20:29 PDT 2009  NO_QUERY   \n",
       "364854          0  2048346997  Fri Jun 05 15:03:16 PDT 2009  NO_QUERY   \n",
       "1081037         4  1968400415  Fri May 29 21:21:32 PDT 2009  NO_QUERY   \n",
       "352747          0  2031275962  Thu Jun 04 09:35:12 PDT 2009  NO_QUERY   \n",
       "804759          4  1468569254  Tue Apr 07 02:28:17 PDT 2009  NO_QUERY   \n",
       "903760          4  1694686706  Mon May 04 03:43:12 PDT 2009  NO_QUERY   \n",
       "\n",
       "                    user                                               text  \n",
       "1586564      Alex_Clough  ...went to New Emperor as it was still open  V...  \n",
       "1593258    LeahChantelle  @lickmycupcakes Yay!!! It worked!! And thank y...  \n",
       "250171         YesDiva32    @Mister_82 don't b hatin on my Mira Mira music   \n",
       "774617     _WorldsApart_  Where were u when #BPD broke 1,000 users onlin...  \n",
       "219640      greatbrytton  I really just want to be out of Dothan...more ...  \n",
       "364854   MsCherrylicious  Fml got suckered into working til 930 and I'm ...  \n",
       "1081037        pennamico  @aalmishal ???? ?? ?????  ????? ????? ?????? ?...  \n",
       "352747     darlingroland  Today I could go get my new phone, probably wo...  \n",
       "804759          Scyranth  @SexySubKaylee heh heh dirty is always good gu...  \n",
       "903760     LmaonadeStand  No school today - Not because of &quot;H1N1&qu...  "
      ],
      "text/html": [
       "<div>\n",
       "<style scoped>\n",
       "    .dataframe tbody tr th:only-of-type {\n",
       "        vertical-align: middle;\n",
       "    }\n",
       "\n",
       "    .dataframe tbody tr th {\n",
       "        vertical-align: top;\n",
       "    }\n",
       "\n",
       "    .dataframe thead th {\n",
       "        text-align: right;\n",
       "    }\n",
       "</style>\n",
       "<table border=\"1\" class=\"dataframe\">\n",
       "  <thead>\n",
       "    <tr style=\"text-align: right;\">\n",
       "      <th></th>\n",
       "      <th>polarity</th>\n",
       "      <th>id</th>\n",
       "      <th>date</th>\n",
       "      <th>query</th>\n",
       "      <th>user</th>\n",
       "      <th>text</th>\n",
       "    </tr>\n",
       "  </thead>\n",
       "  <tbody>\n",
       "    <tr>\n",
       "      <th>1586564</th>\n",
       "      <td>4</td>\n",
       "      <td>2190822209</td>\n",
       "      <td>Tue Jun 16 03:49:24 PDT 2009</td>\n",
       "      <td>NO_QUERY</td>\n",
       "      <td>Alex_Clough</td>\n",
       "      <td>...went to New Emperor as it was still open  V...</td>\n",
       "    </tr>\n",
       "    <tr>\n",
       "      <th>1593258</th>\n",
       "      <td>4</td>\n",
       "      <td>2191903014</td>\n",
       "      <td>Tue Jun 16 06:10:21 PDT 2009</td>\n",
       "      <td>NO_QUERY</td>\n",
       "      <td>LeahChantelle</td>\n",
       "      <td>@lickmycupcakes Yay!!! It worked!! And thank y...</td>\n",
       "    </tr>\n",
       "    <tr>\n",
       "      <th>250171</th>\n",
       "      <td>0</td>\n",
       "      <td>1983150308</td>\n",
       "      <td>Sun May 31 12:36:04 PDT 2009</td>\n",
       "      <td>NO_QUERY</td>\n",
       "      <td>YesDiva32</td>\n",
       "      <td>@Mister_82 don't b hatin on my Mira Mira music</td>\n",
       "    </tr>\n",
       "    <tr>\n",
       "      <th>774617</th>\n",
       "      <td>0</td>\n",
       "      <td>2321582236</td>\n",
       "      <td>Wed Jun 24 21:15:45 PDT 2009</td>\n",
       "      <td>NO_QUERY</td>\n",
       "      <td>_WorldsApart_</td>\n",
       "      <td>Where were u when #BPD broke 1,000 users onlin...</td>\n",
       "    </tr>\n",
       "    <tr>\n",
       "      <th>219640</th>\n",
       "      <td>0</td>\n",
       "      <td>1976442803</td>\n",
       "      <td>Sat May 30 17:20:29 PDT 2009</td>\n",
       "      <td>NO_QUERY</td>\n",
       "      <td>greatbrytton</td>\n",
       "      <td>I really just want to be out of Dothan...more ...</td>\n",
       "    </tr>\n",
       "    <tr>\n",
       "      <th>364854</th>\n",
       "      <td>0</td>\n",
       "      <td>2048346997</td>\n",
       "      <td>Fri Jun 05 15:03:16 PDT 2009</td>\n",
       "      <td>NO_QUERY</td>\n",
       "      <td>MsCherrylicious</td>\n",
       "      <td>Fml got suckered into working til 930 and I'm ...</td>\n",
       "    </tr>\n",
       "    <tr>\n",
       "      <th>1081037</th>\n",
       "      <td>4</td>\n",
       "      <td>1968400415</td>\n",
       "      <td>Fri May 29 21:21:32 PDT 2009</td>\n",
       "      <td>NO_QUERY</td>\n",
       "      <td>pennamico</td>\n",
       "      <td>@aalmishal ???? ?? ?????  ????? ????? ?????? ?...</td>\n",
       "    </tr>\n",
       "    <tr>\n",
       "      <th>352747</th>\n",
       "      <td>0</td>\n",
       "      <td>2031275962</td>\n",
       "      <td>Thu Jun 04 09:35:12 PDT 2009</td>\n",
       "      <td>NO_QUERY</td>\n",
       "      <td>darlingroland</td>\n",
       "      <td>Today I could go get my new phone, probably wo...</td>\n",
       "    </tr>\n",
       "    <tr>\n",
       "      <th>804759</th>\n",
       "      <td>4</td>\n",
       "      <td>1468569254</td>\n",
       "      <td>Tue Apr 07 02:28:17 PDT 2009</td>\n",
       "      <td>NO_QUERY</td>\n",
       "      <td>Scyranth</td>\n",
       "      <td>@SexySubKaylee heh heh dirty is always good gu...</td>\n",
       "    </tr>\n",
       "    <tr>\n",
       "      <th>903760</th>\n",
       "      <td>4</td>\n",
       "      <td>1694686706</td>\n",
       "      <td>Mon May 04 03:43:12 PDT 2009</td>\n",
       "      <td>NO_QUERY</td>\n",
       "      <td>LmaonadeStand</td>\n",
       "      <td>No school today - Not because of &amp;quot;H1N1&amp;qu...</td>\n",
       "    </tr>\n",
       "  </tbody>\n",
       "</table>\n",
       "</div>"
      ]
     },
     "execution_count": 900,
     "metadata": {},
     "output_type": "execute_result"
    }
   ],
   "execution_count": 900
  },
  {
   "cell_type": "code",
   "metadata": {
    "ExecuteTime": {
     "end_time": "2025-03-24T19:18:23.106902Z",
     "start_time": "2025-03-24T19:18:23.103405Z"
    }
   },
   "source": "data['polarity'].unique()",
   "outputs": [
    {
     "data": {
      "text/plain": [
       "array([4, 0])"
      ]
     },
     "execution_count": 901,
     "metadata": {},
     "output_type": "execute_result"
    }
   ],
   "execution_count": 901
  },
  {
   "cell_type": "code",
   "metadata": {
    "scrolled": true,
    "ExecuteTime": {
     "end_time": "2025-03-24T19:18:23.177337Z",
     "start_time": "2025-03-24T19:18:23.171048Z"
    }
   },
   "source": [
    "# Replacing the value 4 -->1 for ease of understanding.\n",
    "data['polarity'] = data['polarity'].replace(4,1)\n",
    "data.head()"
   ],
   "outputs": [
    {
     "data": {
      "text/plain": [
       "         polarity          id                          date     query  \\\n",
       "1586564         1  2190822209  Tue Jun 16 03:49:24 PDT 2009  NO_QUERY   \n",
       "1593258         1  2191903014  Tue Jun 16 06:10:21 PDT 2009  NO_QUERY   \n",
       "250171          0  1983150308  Sun May 31 12:36:04 PDT 2009  NO_QUERY   \n",
       "774617          0  2321582236  Wed Jun 24 21:15:45 PDT 2009  NO_QUERY   \n",
       "219640          0  1976442803  Sat May 30 17:20:29 PDT 2009  NO_QUERY   \n",
       "\n",
       "                  user                                               text  \n",
       "1586564    Alex_Clough  ...went to New Emperor as it was still open  V...  \n",
       "1593258  LeahChantelle  @lickmycupcakes Yay!!! It worked!! And thank y...  \n",
       "250171       YesDiva32    @Mister_82 don't b hatin on my Mira Mira music   \n",
       "774617   _WorldsApart_  Where were u when #BPD broke 1,000 users onlin...  \n",
       "219640    greatbrytton  I really just want to be out of Dothan...more ...  "
      ],
      "text/html": [
       "<div>\n",
       "<style scoped>\n",
       "    .dataframe tbody tr th:only-of-type {\n",
       "        vertical-align: middle;\n",
       "    }\n",
       "\n",
       "    .dataframe tbody tr th {\n",
       "        vertical-align: top;\n",
       "    }\n",
       "\n",
       "    .dataframe thead th {\n",
       "        text-align: right;\n",
       "    }\n",
       "</style>\n",
       "<table border=\"1\" class=\"dataframe\">\n",
       "  <thead>\n",
       "    <tr style=\"text-align: right;\">\n",
       "      <th></th>\n",
       "      <th>polarity</th>\n",
       "      <th>id</th>\n",
       "      <th>date</th>\n",
       "      <th>query</th>\n",
       "      <th>user</th>\n",
       "      <th>text</th>\n",
       "    </tr>\n",
       "  </thead>\n",
       "  <tbody>\n",
       "    <tr>\n",
       "      <th>1586564</th>\n",
       "      <td>1</td>\n",
       "      <td>2190822209</td>\n",
       "      <td>Tue Jun 16 03:49:24 PDT 2009</td>\n",
       "      <td>NO_QUERY</td>\n",
       "      <td>Alex_Clough</td>\n",
       "      <td>...went to New Emperor as it was still open  V...</td>\n",
       "    </tr>\n",
       "    <tr>\n",
       "      <th>1593258</th>\n",
       "      <td>1</td>\n",
       "      <td>2191903014</td>\n",
       "      <td>Tue Jun 16 06:10:21 PDT 2009</td>\n",
       "      <td>NO_QUERY</td>\n",
       "      <td>LeahChantelle</td>\n",
       "      <td>@lickmycupcakes Yay!!! It worked!! And thank y...</td>\n",
       "    </tr>\n",
       "    <tr>\n",
       "      <th>250171</th>\n",
       "      <td>0</td>\n",
       "      <td>1983150308</td>\n",
       "      <td>Sun May 31 12:36:04 PDT 2009</td>\n",
       "      <td>NO_QUERY</td>\n",
       "      <td>YesDiva32</td>\n",
       "      <td>@Mister_82 don't b hatin on my Mira Mira music</td>\n",
       "    </tr>\n",
       "    <tr>\n",
       "      <th>774617</th>\n",
       "      <td>0</td>\n",
       "      <td>2321582236</td>\n",
       "      <td>Wed Jun 24 21:15:45 PDT 2009</td>\n",
       "      <td>NO_QUERY</td>\n",
       "      <td>_WorldsApart_</td>\n",
       "      <td>Where were u when #BPD broke 1,000 users onlin...</td>\n",
       "    </tr>\n",
       "    <tr>\n",
       "      <th>219640</th>\n",
       "      <td>0</td>\n",
       "      <td>1976442803</td>\n",
       "      <td>Sat May 30 17:20:29 PDT 2009</td>\n",
       "      <td>NO_QUERY</td>\n",
       "      <td>greatbrytton</td>\n",
       "      <td>I really just want to be out of Dothan...more ...</td>\n",
       "    </tr>\n",
       "  </tbody>\n",
       "</table>\n",
       "</div>"
      ]
     },
     "execution_count": 902,
     "metadata": {},
     "output_type": "execute_result"
    }
   ],
   "execution_count": 902
  },
  {
   "cell_type": "code",
   "metadata": {
    "ExecuteTime": {
     "end_time": "2025-03-24T19:18:23.321316Z",
     "start_time": "2025-03-24T19:18:23.313207Z"
    }
   },
   "source": "data.describe()",
   "outputs": [
    {
     "data": {
      "text/plain": [
       "           polarity            id\n",
       "count  20000.000000  2.000000e+04\n",
       "mean       0.494000  1.999987e+09\n",
       "std        0.499976  1.951726e+08\n",
       "min        0.000000  1.467824e+09\n",
       "25%        0.000000  1.956915e+09\n",
       "50%        0.000000  2.002387e+09\n",
       "75%        1.000000  2.178142e+09\n",
       "max        1.000000  2.329143e+09"
      ],
      "text/html": [
       "<div>\n",
       "<style scoped>\n",
       "    .dataframe tbody tr th:only-of-type {\n",
       "        vertical-align: middle;\n",
       "    }\n",
       "\n",
       "    .dataframe tbody tr th {\n",
       "        vertical-align: top;\n",
       "    }\n",
       "\n",
       "    .dataframe thead th {\n",
       "        text-align: right;\n",
       "    }\n",
       "</style>\n",
       "<table border=\"1\" class=\"dataframe\">\n",
       "  <thead>\n",
       "    <tr style=\"text-align: right;\">\n",
       "      <th></th>\n",
       "      <th>polarity</th>\n",
       "      <th>id</th>\n",
       "    </tr>\n",
       "  </thead>\n",
       "  <tbody>\n",
       "    <tr>\n",
       "      <th>count</th>\n",
       "      <td>20000.000000</td>\n",
       "      <td>2.000000e+04</td>\n",
       "    </tr>\n",
       "    <tr>\n",
       "      <th>mean</th>\n",
       "      <td>0.494000</td>\n",
       "      <td>1.999987e+09</td>\n",
       "    </tr>\n",
       "    <tr>\n",
       "      <th>std</th>\n",
       "      <td>0.499976</td>\n",
       "      <td>1.951726e+08</td>\n",
       "    </tr>\n",
       "    <tr>\n",
       "      <th>min</th>\n",
       "      <td>0.000000</td>\n",
       "      <td>1.467824e+09</td>\n",
       "    </tr>\n",
       "    <tr>\n",
       "      <th>25%</th>\n",
       "      <td>0.000000</td>\n",
       "      <td>1.956915e+09</td>\n",
       "    </tr>\n",
       "    <tr>\n",
       "      <th>50%</th>\n",
       "      <td>0.000000</td>\n",
       "      <td>2.002387e+09</td>\n",
       "    </tr>\n",
       "    <tr>\n",
       "      <th>75%</th>\n",
       "      <td>1.000000</td>\n",
       "      <td>2.178142e+09</td>\n",
       "    </tr>\n",
       "    <tr>\n",
       "      <th>max</th>\n",
       "      <td>1.000000</td>\n",
       "      <td>2.329143e+09</td>\n",
       "    </tr>\n",
       "  </tbody>\n",
       "</table>\n",
       "</div>"
      ]
     },
     "execution_count": 903,
     "metadata": {},
     "output_type": "execute_result"
    }
   ],
   "execution_count": 903
  },
  {
   "metadata": {
    "ExecuteTime": {
     "end_time": "2025-03-24T19:18:23.433026Z",
     "start_time": "2025-03-24T19:18:23.429173Z"
    }
   },
   "cell_type": "code",
   "source": [
    "# check the number of positive vs. negative tagged sentences\n",
    "positives = data['polarity'][data.polarity == 1 ]\n",
    "negatives = data['polarity'][data.polarity == 0 ]\n",
    "\n",
    "print('Total length of the data is:         {}'.format(data.shape[0]))\n",
    "print('No. of positve tagged sentences is:  {}'.format(len(positives)))\n",
    "print('No. of negative tagged sentences is: {}'.format(len(negatives)))"
   ],
   "outputs": [
    {
     "name": "stdout",
     "output_type": "stream",
     "text": [
      "Total length of the data is:         20000\n",
      "No. of positve tagged sentences is:  9880\n",
      "No. of negative tagged sentences is: 10120\n"
     ]
    }
   ],
   "execution_count": 904
  },
  {
   "metadata": {
    "ExecuteTime": {
     "end_time": "2025-03-24T19:18:23.499497Z",
     "start_time": "2025-03-24T19:18:23.497317Z"
    }
   },
   "cell_type": "code",
   "source": [
    "# get a word count per of text\n",
    "def word_count(words):\n",
    "    return len(words.split())"
   ],
   "outputs": [],
   "execution_count": 905
  },
  {
   "metadata": {
    "ExecuteTime": {
     "end_time": "2025-03-24T19:18:23.724171Z",
     "start_time": "2025-03-24T19:18:23.571350Z"
    }
   },
   "cell_type": "code",
   "source": [
    "# plot word count distribution for both positive and negative\n",
    "\n",
    "data['word count'] = data['text'].apply(word_count)\n",
    "p = data['word count'][data.polarity == 1]\n",
    "n = data['word count'][data.polarity == 0]\n",
    "plt.figure(figsize=(12,6))\n",
    "plt.xlim(0,45)\n",
    "plt.xlabel('Word count')\n",
    "plt.ylabel('Frequency')\n",
    "g = plt.hist([p, n], color=['g','r'], alpha=0.5, label=['positive','negative'])\n",
    "plt.legend(loc='upper right')"
   ],
   "outputs": [
    {
     "data": {
      "text/plain": [
       "<matplotlib.legend.Legend at 0x47da9dd60>"
      ]
     },
     "execution_count": 906,
     "metadata": {},
     "output_type": "execute_result"
    },
    {
     "data": {
      "text/plain": [
       "<Figure size 1200x600 with 1 Axes>"
      ],
      "image/png": "[encoded data removed]"
     },
     "metadata": {},
     "output_type": "display_data"
    }
   ],
   "execution_count": 906
  },
  {
   "metadata": {
    "ExecuteTime": {
     "end_time": "2025-03-24T19:18:23.850716Z",
     "start_time": "2025-03-24T19:18:23.741009Z"
    }
   },
   "cell_type": "code",
   "source": [
    "# get common words in training dataset\n",
    "from collections import Counter\n",
    "all_words = []\n",
    "for line in list(data['text']):\n",
    "    words = line.split()\n",
    "    for word in words:\n",
    "      if(len(word)>2):\n",
    "        all_words.append(word.lower())\n",
    "\n",
    "\n",
    "Counter(all_words).most_common(20)"
   ],
   "outputs": [
    {
     "data": {
      "text/plain": [
       "[('the', 6429),\n",
       " ('and', 3668),\n",
       " ('you', 2974),\n",
       " ('for', 2757),\n",
       " ('have', 1804),\n",
       " ('that', 1621),\n",
       " (\"i'm\", 1582),\n",
       " ('just', 1565),\n",
       " ('but', 1538),\n",
       " ('with', 1481),\n",
       " ('not', 1295),\n",
       " ('was', 1253),\n",
       " ('this', 1098),\n",
       " ('get', 993),\n",
       " ('good', 977),\n",
       " ('are', 949),\n",
       " ('like', 897),\n",
       " ('out', 895),\n",
       " ('all', 879),\n",
       " ('going', 822)]"
      ]
     },
     "execution_count": 907,
     "metadata": {},
     "output_type": "execute_result"
    }
   ],
   "execution_count": 907
  },
  {
   "metadata": {
    "ExecuteTime": {
     "end_time": "2025-03-24T19:18:23.955126Z",
     "start_time": "2025-03-24T19:18:23.862864Z"
    }
   },
   "cell_type": "code",
   "source": [
    "%matplotlib inline\n",
    "sns.countplot(x=data['polarity'])"
   ],
   "outputs": [
    {
     "data": {
      "text/plain": [
       "<Axes: xlabel='polarity', ylabel='count'>"
      ]
     },
     "execution_count": 908,
     "metadata": {},
     "output_type": "execute_result"
    },
    {
     "data": {
      "text/plain": [
       "<Figure size 640x480 with 1 Axes>"
      ],
      "image/png": "[encoded data removed]"
     },
     "metadata": {},
     "output_type": "display_data"
    }
   ],
   "execution_count": 908
  },
  {
   "metadata": {},
   "cell_type": "markdown",
   "source": [
    "# Data Processing\n",
    "## The Preprocessing steps taken are:\n",
    "1. Lower Casing: Each text is converted to lowercase.\n",
    "2. Removing URLs: Links starting with \"http\" or \"https\" or \"www\" are replaced by \"\".\n",
    "\n",
    "3. Removing Usernames: Replace @Usernames with word \"\". (eg: \"@XYZ\" to \"\")\n",
    "\n",
    "4. Removing Short Words: Words with length less than 2 are removed.\n",
    "5. Removing Stopwords: Stopwords are the English words which does not add much meaning to a sentence. They can safely be ignored without sacrificing the meaning of the sentence. (eg: \"the\", \"he\", \"have\")\n",
    "6. Lemmatizing: Lemmatization is the process of converting a word to its base form. (e.g: “wolves” to “wolf”)"
   ]
  },
  {
   "metadata": {
    "ExecuteTime": {
     "end_time": "2025-03-24T19:18:23.979905Z",
     "start_time": "2025-03-24T19:18:23.976766Z"
    }
   },
   "cell_type": "code",
   "source": [
    "# Removing the unnecessary columns.\n",
    "data.drop(['date','query','user','word count'], axis=1, inplace=True)"
   ],
   "outputs": [],
   "execution_count": 909
  },
  {
   "metadata": {
    "ExecuteTime": {
     "end_time": "2025-03-24T19:18:24.001454Z",
     "start_time": "2025-03-24T19:18:23.995171Z"
    }
   },
   "cell_type": "code",
   "source": [
    "data.drop('id', axis=1, inplace=True)\n",
    "data.head(10)"
   ],
   "outputs": [
    {
     "data": {
      "text/plain": [
       "         polarity                                               text\n",
       "1586564         1  ...went to New Emperor as it was still open  V...\n",
       "1593258         1  @lickmycupcakes Yay!!! It worked!! And thank y...\n",
       "250171          0    @Mister_82 don't b hatin on my Mira Mira music \n",
       "774617          0  Where were u when #BPD broke 1,000 users onlin...\n",
       "219640          0  I really just want to be out of Dothan...more ...\n",
       "364854          0  Fml got suckered into working til 930 and I'm ...\n",
       "1081037         1  @aalmishal ???? ?? ?????  ????? ????? ?????? ?...\n",
       "352747          0  Today I could go get my new phone, probably wo...\n",
       "804759          1  @SexySubKaylee heh heh dirty is always good gu...\n",
       "903760          1  No school today - Not because of &quot;H1N1&qu..."
      ],
      "text/html": [
       "<div>\n",
       "<style scoped>\n",
       "    .dataframe tbody tr th:only-of-type {\n",
       "        vertical-align: middle;\n",
       "    }\n",
       "\n",
       "    .dataframe tbody tr th {\n",
       "        vertical-align: top;\n",
       "    }\n",
       "\n",
       "    .dataframe thead th {\n",
       "        text-align: right;\n",
       "    }\n",
       "</style>\n",
       "<table border=\"1\" class=\"dataframe\">\n",
       "  <thead>\n",
       "    <tr style=\"text-align: right;\">\n",
       "      <th></th>\n",
       "      <th>polarity</th>\n",
       "      <th>text</th>\n",
       "    </tr>\n",
       "  </thead>\n",
       "  <tbody>\n",
       "    <tr>\n",
       "      <th>1586564</th>\n",
       "      <td>1</td>\n",
       "      <td>...went to New Emperor as it was still open  V...</td>\n",
       "    </tr>\n",
       "    <tr>\n",
       "      <th>1593258</th>\n",
       "      <td>1</td>\n",
       "      <td>@lickmycupcakes Yay!!! It worked!! And thank y...</td>\n",
       "    </tr>\n",
       "    <tr>\n",
       "      <th>250171</th>\n",
       "      <td>0</td>\n",
       "      <td>@Mister_82 don't b hatin on my Mira Mira music</td>\n",
       "    </tr>\n",
       "    <tr>\n",
       "      <th>774617</th>\n",
       "      <td>0</td>\n",
       "      <td>Where were u when #BPD broke 1,000 users onlin...</td>\n",
       "    </tr>\n",
       "    <tr>\n",
       "      <th>219640</th>\n",
       "      <td>0</td>\n",
       "      <td>I really just want to be out of Dothan...more ...</td>\n",
       "    </tr>\n",
       "    <tr>\n",
       "      <th>364854</th>\n",
       "      <td>0</td>\n",
       "      <td>Fml got suckered into working til 930 and I'm ...</td>\n",
       "    </tr>\n",
       "    <tr>\n",
       "      <th>1081037</th>\n",
       "      <td>1</td>\n",
       "      <td>@aalmishal ???? ?? ?????  ????? ????? ?????? ?...</td>\n",
       "    </tr>\n",
       "    <tr>\n",
       "      <th>352747</th>\n",
       "      <td>0</td>\n",
       "      <td>Today I could go get my new phone, probably wo...</td>\n",
       "    </tr>\n",
       "    <tr>\n",
       "      <th>804759</th>\n",
       "      <td>1</td>\n",
       "      <td>@SexySubKaylee heh heh dirty is always good gu...</td>\n",
       "    </tr>\n",
       "    <tr>\n",
       "      <th>903760</th>\n",
       "      <td>1</td>\n",
       "      <td>No school today - Not because of &amp;quot;H1N1&amp;qu...</td>\n",
       "    </tr>\n",
       "  </tbody>\n",
       "</table>\n",
       "</div>"
      ]
     },
     "execution_count": 910,
     "metadata": {},
     "output_type": "execute_result"
    }
   ],
   "execution_count": 910
  },
  {
   "metadata": {
    "ExecuteTime": {
     "end_time": "2025-03-24T19:18:24.080871Z",
     "start_time": "2025-03-24T19:18:24.074577Z"
    }
   },
   "cell_type": "code",
   "source": [
    "#Checking if any null values present\n",
    "(data.isnull().sum() / len(data))*100"
   ],
   "outputs": [
    {
     "data": {
      "text/plain": [
       "polarity    0.0\n",
       "text        0.0\n",
       "dtype: float64"
      ]
     },
     "execution_count": 911,
     "metadata": {},
     "output_type": "execute_result"
    }
   ],
   "execution_count": 911
  },
  {
   "metadata": {
    "ExecuteTime": {
     "end_time": "2025-03-24T19:18:24.191153Z",
     "start_time": "2025-03-24T19:18:24.188015Z"
    }
   },
   "cell_type": "code",
   "source": [
    "#convrting pandas object to a string type\n",
    "data['text'] = data['text'].astype('str')"
   ],
   "outputs": [],
   "execution_count": 912
  },
  {
   "metadata": {
    "ExecuteTime": {
     "end_time": "2025-03-24T19:18:24.456340Z",
     "start_time": "2025-03-24T19:18:24.260213Z"
    }
   },
   "cell_type": "code",
   "source": [
    "nltk.download('stopwords')\n",
    "stopword = set(stopwords.words('english'))\n",
    "print(stopword)"
   ],
   "outputs": [
    {
     "name": "stdout",
     "output_type": "stream",
     "text": [
      "{\"i'm\", 'some', \"she'll\", \"mightn't\", 'doesn', 'but', \"he's\", 'itself', \"we've\", 'on', 'ourselves', 'did', 'his', 'by', 's', 'do', 'you', 'ma', 'and', 'more', 'with', 'how', 'in', 'ain', 'me', 'of', 'over', \"should've\", 'them', 'didn', 'hers', \"shan't\", 'the', 'herself', \"couldn't\", 'was', 'through', 'after', 'mustn', 'other', 'theirs', \"she'd\", \"wouldn't\", 'nor', 'have', 'my', 'if', \"don't\", 'wouldn', 'during', 'such', 'i', \"i'd\", \"you're\", 'until', 'most', \"he'll\", \"shouldn't\", 'no', 'are', 'should', 'when', 'will', \"hadn't\", 'these', 'where', 'their', 'so', \"wasn't\", 'which', \"it's\", 'than', 'out', 're', \"they've\", 'any', 'mightn', 'being', 'a', \"weren't\", \"it'll\", 'he', 'as', 'further', 'to', 'at', 'it', \"doesn't\", 'ours', \"they're\", 'has', 'her', 'what', 'had', 'few', 'm', 'for', 'she', \"you'd\", \"didn't\", \"needn't\", 'now', 'don', 'am', 'd', 'below', \"they'd\", 'doing', \"haven't\", \"that'll\", 'same', 'him', 'isn', 'into', 'just', 'own', \"you'll\", 'only', 'down', \"we'll\", 'your', 'against', 'here', 'weren', 'be', 'our', 't', 'won', 'hasn', 'aren', 'once', \"i've\", 'while', 'is', 'whom', 'each', 'been', 'themselves', \"we'd\", 'shouldn', 'from', 'couldn', 'there', 'needn', 'yours', 'having', 've', 'under', \"they'll\", 'can', 'does', \"she's\", 'that', 'll', 'again', 'why', 'y', 'yourselves', 'then', \"he'd\", 'shan', \"aren't\", \"isn't\", 'myself', 'himself', 'they', 'both', \"hasn't\", 'wasn', 'hadn', \"won't\", 'all', \"you've\", 'this', 'between', 'or', 'we', 'too', 'an', 'up', 'its', 'off', 'who', 'yourself', 'those', 'before', 'haven', 'because', \"mustn't\", 'very', 'above', \"i'll\", \"it'd\", 'not', 'were', 'o', 'about', \"we're\"}\n"
     ]
    },
    {
     "name": "stderr",
     "output_type": "stream",
     "text": [
      "[nltk_data] Downloading package stopwords to\n",
      "[nltk_data]     /Users/zhaijingjing/nltk_data...\n",
      "[nltk_data]   Package stopwords is already up-to-date!\n"
     ]
    }
   ],
   "execution_count": 913
  },
  {
   "metadata": {
    "ExecuteTime": {
     "end_time": "2025-03-24T19:18:24.542728Z",
     "start_time": "2025-03-24T19:18:24.462690Z"
    }
   },
   "cell_type": "code",
   "source": [
    "nltk.download('punkt')\n",
    "nltk.download('wordnet')\n",
    "nltk.download('punkt_tab')"
   ],
   "outputs": [
    {
     "name": "stderr",
     "output_type": "stream",
     "text": [
      "[nltk_data] Downloading package punkt to\n",
      "[nltk_data]     /Users/zhaijingjing/nltk_data...\n",
      "[nltk_data]   Package punkt is already up-to-date!\n",
      "[nltk_data] Downloading package wordnet to\n",
      "[nltk_data]     /Users/zhaijingjing/nltk_data...\n",
      "[nltk_data]   Package wordnet is already up-to-date!\n",
      "[nltk_data] Downloading package punkt_tab to\n",
      "[nltk_data]     /Users/zhaijingjing/nltk_data...\n",
      "[nltk_data]   Package punkt_tab is already up-to-date!\n"
     ]
    },
    {
     "data": {
      "text/plain": [
       "True"
      ]
     },
     "execution_count": 914,
     "metadata": {},
     "output_type": "execute_result"
    }
   ],
   "execution_count": 914
  },
  {
   "metadata": {
    "ExecuteTime": {
     "end_time": "2025-03-24T19:18:24.562876Z",
     "start_time": "2025-03-24T19:18:24.554867Z"
    }
   },
   "cell_type": "code",
   "source": [
    "urlPattern = r\"((http://)[^ ]*|(https://)[^ ]*|( www\\.)[^ ]*)\"\n",
    "userPattern = '@[^\\s]+'\n",
    "def process_tweets_negation_handling_fix(tweet):\n",
    "    # Lower Casing\n",
    "    tweet = tweet.lower()\n",
    "    #tweet=tweet[1:]\n",
    "    # Removing all URls\n",
    "    tweet = re.sub(urlPattern,'',tweet)\n",
    "    # Removing all @username.\n",
    "    tweet = re.sub(userPattern,'', tweet)\n",
    "    # 移除非字母数字、空格和'的字符\n",
    "    tweet = re.sub(r\"[^\\w\\s']\", '', tweet)\n",
    "    # --- 特殊否定缩写处理 ---\n",
    "    # 1. 明确处理 can't → cannot\n",
    "    tweet = re.sub(r\"\\bcan't\\b\", \"cannot\", tweet)\n",
    "    # 2. 处理 won't → will not\n",
    "    tweet = re.sub(r\"\\bwon't\\b\", \"will not\", tweet)\n",
    "    # 3. 处理 shan't → shall not\n",
    "    tweet = re.sub(r\"\\bshan't\\b\", \"shall not\", tweet)\n",
    "    # 4. 处理 ain't → is not\n",
    "    tweet = re.sub(r\"\\bain't\\b\", \"is not\", tweet)\n",
    "    # --- 通用n't处理 ---\n",
    "    # 将剩余n't替换为 not（如didn't → did not）\n",
    "    tweet = re.sub(r\"n't\\b\", \" not\", tweet)\n",
    "    # --- 处理其他撇号为空格（如I'll → I ll）---\n",
    "    tweet = re.sub(r\"'\", ' ', tweet)\n",
    "\n",
    "    #tokenizing words\n",
    "    tokens = word_tokenize(tweet)\n",
    "    # Remove punctuations but remain ‘n't’\n",
    "    final_tokens = tokens\n",
    "    #reducing a word to its word stem\n",
    "    wordLemm = WordNetLemmatizer()\n",
    "    finalwords=[]\n",
    "\n",
    "    for w in tokens:\n",
    "        if len(w) > 1:\n",
    "            # 动词词性还原（解决 does→doe 问题）\n",
    "            word = wordLemm.lemmatize(w, pos='v')\n",
    "            # 名词词性还原（根据任务需求）\n",
    "            word = wordLemm.lemmatize(word, pos='n')\n",
    "            finalwords.append(word)\n",
    "    return ' '.join(finalwords)\n",
    "\n",
    "def process_tweets_negation_stopword_handling_fix(tweet):\n",
    "    # Lower Casing\n",
    "    tweet = tweet.lower()\n",
    "    #tweet=tweet[1:]\n",
    "    # Removing all URls\n",
    "    tweet = re.sub(urlPattern,'',tweet)\n",
    "    # Removing all @username.\n",
    "    tweet = re.sub(userPattern,'', tweet)\n",
    "    # 移除非字母数字、空格和'的字符\n",
    "    tweet = re.sub(r\"[^\\w\\s']\", '', tweet)\n",
    "    # --- 特殊否定缩写处理 ---\n",
    "    # 1. 明确处理 can't → cannot\n",
    "    tweet = re.sub(r\"\\bcan't\\b\", \"cannot\", tweet)\n",
    "    # 2. 处理 won't → will not\n",
    "    tweet = re.sub(r\"\\bwon't\\b\", \"will not\", tweet)\n",
    "    # 3. 处理 shan't → shall not\n",
    "    tweet = re.sub(r\"\\bshan't\\b\", \"shall not\", tweet)\n",
    "    # 4. 处理 ain't → is not\n",
    "    tweet = re.sub(r\"\\bain't\\b\", \"is not\", tweet)\n",
    "    # --- 通用n't处理 ---\n",
    "    # 将剩余n't替换为 not（如didn't → did not）\n",
    "    tweet = re.sub(r\"n't\\b\", \" not\", tweet)\n",
    "    # --- 处理其他撇号为空格（如I'll → I ll）---\n",
    "    tweet = re.sub(r\"'\", ' ', tweet)\n",
    "    #tokenizing words\n",
    "    tokens = word_tokenize(tweet)\n",
    "\n",
    "    # 移除非否定停用词\n",
    "    negation_words = {\n",
    "        # 基础否定词\n",
    "        \"not\", \"no\", \"never\", \"nor\", \"none\", \"nobody\", \"nothing\",\n",
    "        \"neither\", \"nowhere\", \"without\", \"cannot\"\n",
    "        # 预处理后可能保留的否定词（如来自特殊缩写替换）\n",
    "        # ,\"isn\", \"aren\", \"wasn\", \"weren\"\n",
    "    }\n",
    "    custom_stop_words = stopword.difference(negation_words)\n",
    "    final_tokens = [w for w in tokens if w not in custom_stop_words]\n",
    "\n",
    "    #reducing a word to its word stem\n",
    "    wordLemm = WordNetLemmatizer()\n",
    "    finalwords=[]\n",
    "\n",
    "    for w in final_tokens:\n",
    "        if len(w) > 1:\n",
    "            # 动词词性还原（解决 does→doe 问题）\n",
    "            word = wordLemm.lemmatize(w, pos='v')\n",
    "            # 名词词性还原（根据任务需求）\n",
    "            word = wordLemm.lemmatize(word, pos='n')\n",
    "            finalwords.append(word)\n",
    "    return ' '.join(finalwords)"
   ],
   "outputs": [],
   "execution_count": 915
  },
  {
   "metadata": {
    "ExecuteTime": {
     "end_time": "2025-03-24T19:18:26.897284Z",
     "start_time": "2025-03-24T19:18:24.590224Z"
    }
   },
   "cell_type": "code",
   "source": [
    "data['processed_tweets'] = data['text'].apply(lambda x: process_tweets_negation_stopword_handling_fix(x))\n",
    "print('Text Preprocessing complete.')"
   ],
   "outputs": [
    {
     "name": "stdout",
     "output_type": "stream",
     "text": [
      "Text Preprocessing complete.\n"
     ]
    }
   ],
   "execution_count": 916
  },
  {
   "metadata": {
    "ExecuteTime": {
     "end_time": "2025-03-24T19:18:26.914693Z",
     "start_time": "2025-03-24T19:18:26.910044Z"
    }
   },
   "cell_type": "code",
   "source": "data.head(10)",
   "outputs": [
    {
     "data": {
      "text/plain": [
       "         polarity                                               text  \\\n",
       "1586564         1  ...went to New Emperor as it was still open  V...   \n",
       "1593258         1  @lickmycupcakes Yay!!! It worked!! And thank y...   \n",
       "250171          0    @Mister_82 don't b hatin on my Mira Mira music    \n",
       "774617          0  Where were u when #BPD broke 1,000 users onlin...   \n",
       "219640          0  I really just want to be out of Dothan...more ...   \n",
       "364854          0  Fml got suckered into working til 930 and I'm ...   \n",
       "1081037         1  @aalmishal ???? ?? ?????  ????? ????? ?????? ?...   \n",
       "352747          0  Today I could go get my new phone, probably wo...   \n",
       "804759          1  @SexySubKaylee heh heh dirty is always good gu...   \n",
       "903760          1  No school today - Not because of &quot;H1N1&qu...   \n",
       "\n",
       "                                          processed_tweets  \n",
       "1586564  go new emperor still open nice actually walk p...  \n",
       "1593258                               yay work thank blush  \n",
       "250171                           not hatin mira mira music  \n",
       "774617   bpd break 1000 user online 628pm est help cowo...  \n",
       "219640                     really want dothanmore anything  \n",
       "364854             fml get suckered work til 930 back 1030  \n",
       "1081037                                                     \n",
       "352747   today could go get new phone probably not get ...  \n",
       "804759           heh heh dirty always good gurl like think  \n",
       "903760   no school today not quoth1n1quot natural gas l...  "
      ],
      "text/html": [
       "<div>\n",
       "<style scoped>\n",
       "    .dataframe tbody tr th:only-of-type {\n",
       "        vertical-align: middle;\n",
       "    }\n",
       "\n",
       "    .dataframe tbody tr th {\n",
       "        vertical-align: top;\n",
       "    }\n",
       "\n",
       "    .dataframe thead th {\n",
       "        text-align: right;\n",
       "    }\n",
       "</style>\n",
       "<table border=\"1\" class=\"dataframe\">\n",
       "  <thead>\n",
       "    <tr style=\"text-align: right;\">\n",
       "      <th></th>\n",
       "      <th>polarity</th>\n",
       "      <th>text</th>\n",
       "      <th>processed_tweets</th>\n",
       "    </tr>\n",
       "  </thead>\n",
       "  <tbody>\n",
       "    <tr>\n",
       "      <th>1586564</th>\n",
       "      <td>1</td>\n",
       "      <td>...went to New Emperor as it was still open  V...</td>\n",
       "      <td>go new emperor still open nice actually walk p...</td>\n",
       "    </tr>\n",
       "    <tr>\n",
       "      <th>1593258</th>\n",
       "      <td>1</td>\n",
       "      <td>@lickmycupcakes Yay!!! It worked!! And thank y...</td>\n",
       "      <td>yay work thank blush</td>\n",
       "    </tr>\n",
       "    <tr>\n",
       "      <th>250171</th>\n",
       "      <td>0</td>\n",
       "      <td>@Mister_82 don't b hatin on my Mira Mira music</td>\n",
       "      <td>not hatin mira mira music</td>\n",
       "    </tr>\n",
       "    <tr>\n",
       "      <th>774617</th>\n",
       "      <td>0</td>\n",
       "      <td>Where were u when #BPD broke 1,000 users onlin...</td>\n",
       "      <td>bpd break 1000 user online 628pm est help cowo...</td>\n",
       "    </tr>\n",
       "    <tr>\n",
       "      <th>219640</th>\n",
       "      <td>0</td>\n",
       "      <td>I really just want to be out of Dothan...more ...</td>\n",
       "      <td>really want dothanmore anything</td>\n",
       "    </tr>\n",
       "    <tr>\n",
       "      <th>364854</th>\n",
       "      <td>0</td>\n",
       "      <td>Fml got suckered into working til 930 and I'm ...</td>\n",
       "      <td>fml get suckered work til 930 back 1030</td>\n",
       "    </tr>\n",
       "    <tr>\n",
       "      <th>1081037</th>\n",
       "      <td>1</td>\n",
       "      <td>@aalmishal ???? ?? ?????  ????? ????? ?????? ?...</td>\n",
       "      <td></td>\n",
       "    </tr>\n",
       "    <tr>\n",
       "      <th>352747</th>\n",
       "      <td>0</td>\n",
       "      <td>Today I could go get my new phone, probably wo...</td>\n",
       "      <td>today could go get new phone probably not get ...</td>\n",
       "    </tr>\n",
       "    <tr>\n",
       "      <th>804759</th>\n",
       "      <td>1</td>\n",
       "      <td>@SexySubKaylee heh heh dirty is always good gu...</td>\n",
       "      <td>heh heh dirty always good gurl like think</td>\n",
       "    </tr>\n",
       "    <tr>\n",
       "      <th>903760</th>\n",
       "      <td>1</td>\n",
       "      <td>No school today - Not because of &amp;quot;H1N1&amp;qu...</td>\n",
       "      <td>no school today not quoth1n1quot natural gas l...</td>\n",
       "    </tr>\n",
       "  </tbody>\n",
       "</table>\n",
       "</div>"
      ]
     },
     "execution_count": 917,
     "metadata": {},
     "output_type": "execute_result"
    }
   ],
   "execution_count": 917
  },
  {
   "metadata": {},
   "cell_type": "markdown",
   "source": "# RNN - LSTM"
  },
  {
   "metadata": {
    "ExecuteTime": {
     "end_time": "2025-03-24T19:18:26.995768Z",
     "start_time": "2025-03-24T19:18:26.992267Z"
    }
   },
   "cell_type": "code",
   "source": [
    "from keras.models import Sequential\n",
    "from keras.layers import Dense, Embedding, LSTM, Dropout\n",
    "from sklearn.feature_extraction.text import CountVectorizer\n",
    "from tensorflow.keras.preprocessing.text import Tokenizer\n",
    "from tensorflow.keras.preprocessing.sequence import pad_sequences\n",
    "from tensorflow.keras.utils import to_categorical\n",
    "import re\n",
    "import keras\n",
    "from keras import regularizers\n",
    "from keras.models import Sequential\n",
    "from keras import layers\n",
    "from keras import regularizers\n",
    "from keras import backend as K\n",
    "from keras.callbacks import ModelCheckpoint\n",
    "from tensorflow.keras.optimizers import Adam\n",
    "from keras.layers import Dense, Embedding, LSTM, Dropout, BatchNormalization, LeakyReLU"
   ],
   "outputs": [],
   "execution_count": 918
  },
  {
   "metadata": {},
   "cell_type": "markdown",
   "source": "## Hyperparameters"
  },
  {
   "metadata": {
    "ExecuteTime": {
     "end_time": "2025-03-24T19:18:27.054004Z",
     "start_time": "2025-03-24T19:18:27.051719Z"
    }
   },
   "cell_type": "code",
   "source": [
    "num_epochs = 10\n",
    "max_len = 200\n",
    "hidden_units = 8\n",
    "LSTM_layers = 2\n",
    "LSTM_units = 32\n",
    "max_words = 5000\n",
    "embedding_dim = 256\n",
    "learning_rate = 0.001\n",
    "dropout = 0.0"
   ],
   "outputs": [],
   "execution_count": 919
  },
  {
   "metadata": {},
   "cell_type": "markdown",
   "source": "## Converting text data into sequences"
  },
  {
   "metadata": {
    "ExecuteTime": {
     "end_time": "2025-03-24T19:18:27.480070Z",
     "start_time": "2025-03-24T19:18:27.112134Z"
    }
   },
   "cell_type": "code",
   "source": [
    "# Initialize the tokenizer, keeping only the top 'max_words' most frequent words\n",
    "tokenizer = Tokenizer(num_words=max_words)\n",
    "# Fit the tokenizer on the processed tweets to build the word index\n",
    "tokenizer.fit_on_texts(data.processed_tweets)\n",
    "# Convert each tweet (text) into a sequence of integer indices based on the word index\n",
    "sequences = tokenizer.texts_to_sequences(data.processed_tweets)\n",
    "\n",
    "# Pad or truncate all sequences to the same length ('max_len')\n",
    "# - If a sequence is shorter than 'max_len', it will be padded with zeros at the beginning.\n",
    "# - If a sequence is longer than 'max_len', it will be truncated from the beginning.\n",
    "tweets = pad_sequences(sequences, maxlen=max_len)\n",
    "print(tweets)"
   ],
   "outputs": [
    {
     "name": "stdout",
     "output_type": "stream",
     "text": [
      "[[   0    0    0 ...   36    3 3679]\n",
      " [   0    0    0 ...    6   15 2632]\n",
      " [   0    0    0 ... 4708 4708  210]\n",
      " ...\n",
      " [   0    0    0 ...    0    0   15]\n",
      " [   0    0    0 ...  755  405  123]\n",
      " [   0    0    0 ...    0   78  192]]\n"
     ]
    }
   ],
   "execution_count": 920
  },
  {
   "metadata": {},
   "cell_type": "markdown",
   "source": "## Split Traning and Test data"
  },
  {
   "metadata": {
    "ExecuteTime": {
     "end_time": "2025-03-24T19:18:27.502074Z",
     "start_time": "2025-03-24T19:18:27.493210Z"
    }
   },
   "cell_type": "code",
   "source": [
    "train_data, test_data, train_label, test_label = train_test_split(tweets, data.polarity.values, test_size=0.2, random_state=101)\n",
    "print(np.unique(train_label))\n",
    "print(np.unique(test_label))"
   ],
   "outputs": [
    {
     "name": "stdout",
     "output_type": "stream",
     "text": [
      "[0 1]\n",
      "[0 1]\n"
     ]
    }
   ],
   "execution_count": 921
  },
  {
   "metadata": {},
   "cell_type": "markdown",
   "source": "## Creating and Traning LSTM Model"
  },
  {
   "metadata": {
    "ExecuteTime": {
     "end_time": "2025-03-24T19:18:27.532012Z",
     "start_time": "2025-03-24T19:18:27.527544Z"
    }
   },
   "cell_type": "code",
   "source": [
    "def create_lstm_model():\n",
    "    model = Sequential()\n",
    "    model.add(layers.Embedding(max_words, embedding_dim))\n",
    "    for i in range(LSTM_layers):\n",
    "        return_sequences = i < LSTM_layers - 1  # 只有在不是最后一层时才返回序列\n",
    "        model.add(layers.LSTM(LSTM_units, dropout=dropout, return_sequences=return_sequences))\n",
    "    model.add(layers.Dense(hidden_units, activation='relu'))\n",
    "    model.add(layers.Dense(hidden_units, activation='relu'))\n",
    "    model.add(layers.Dense(hidden_units, activation='relu'))\n",
    "    model.add(layers.Dense(1, activation='sigmoid'))\n",
    "\n",
    "    optimizer = Adam(learning_rate=learning_rate)\n",
    "    model.compile(optimizer=optimizer, loss='binary_crossentropy', metrics=['accuracy'])\n",
    "    return model"
   ],
   "outputs": [],
   "execution_count": 922
  },
  {
   "metadata": {
    "ExecuteTime": {
     "end_time": "2025-03-24T19:41:52.001017Z",
     "start_time": "2025-03-24T19:18:27.563017Z"
    }
   },
   "cell_type": "code",
   "source": [
    "model = create_lstm_model()\n",
    "\n",
    "history = model.fit(\n",
    "    train_data, train_label,\n",
    "    epochs=num_epochs,\n",
    "    validation_data=(test_data, test_label),\n",
    "    verbose=2\n",
    ")\n",
    "# negation handling fix 隐藏层3层4节点 lstm1层16节点  embedding层(5000,64)：\n",
    "#   accuracy: 0.9396 - val_accuracy: 0.7197【一般】-> 测试完成\n",
    "# negation handling fix 隐藏层3层4节点 lstm1层32节点  embedding层(5000,64)：\n",
    "#   accuracy: 0.9301 - val_accuracy: 0.7170【一般】-> 测试完成\n",
    "\n",
    "# negation handling fix 隐藏层2层16节点 lstm1层32节点  embedding层(5000,64)：\n",
    "#   accuracy: 0.9607 - val_accuracy: 0.7178【一般】\n",
    "# negation handling fix 隐藏层2层16节点 lstm1层32节点  embedding层(8000,128)：\n",
    "#   accuracy: 0.9723 - val_accuracy: 0.7132【好】-> 测试完成\n",
    "# negation handling fix 隐藏层2层16节点 lstm1层32节点  embedding层(2000,512)：\n",
    "#   accuracy: 0.9606 - val_accuracy: 0.7175【一般】\n",
    "\n",
    "# negation handling fix 隐藏层2层16节点 lstm2层32节点  embedding层(5000,64)：\n",
    "#   accuracy: 0.9513 - val_accuracy: 0.7218【lstm层好不太多但更复杂】\n",
    "# negation handling fix 隐藏层2层16节点 lstm3层16节点  embedding层(5000,64)：\n",
    "#   accuracy: 0.9553 - val_accuracy: 0.7193【lstm层好不太多但更复杂】\n",
    "# negation handling fix 隐藏层2层16节点 lstm1层8节点  embedding层(5000,64)：\n",
    "#   accuracy: 0.9556 - val_accuracy: 0.7132【一般】\n",
    "# negation handling fix 隐藏层2层16节点 lstm1层8节点  embedding层(10000,128)：\n",
    "#   accuracy: 0.9785 - val_accuracy: 0.7212【好】-> 测试完成\n",
    "# negation handling fix 隐藏层2层16节点 lstm1层8节点  embedding层(10000,64)：\n",
    "#   accuracy: 0.9662 - val_accuracy: 0.7140【一般】\n",
    "\n",
    "# negation & stopword handling fix 隐藏层3层8节点 lstm1层32节点  embedding层(5000,64)：\n",
    "#   accuracy: 0.9555 - val_accuracy: 0.6992【一般】\n",
    "# negation & stopword handling fix 隐藏层3层8节点 lstm2层64节点  embedding层(5000,64)：\n",
    "#   accuracy: 0.9446 - val_accuracy: 0.7032【lstm层好不太多但更复杂】\n",
    "# negation & stopword handling fix 隐藏层3层8节点 lstm2层32节点  embedding层(5000,64)：\n",
    "#   accuracy: 0.9454 - val_accuracy: 0.7092【好】-> -> -> ->需要embedding测试1\n",
    "# negation & stopword handling fix 隐藏层3层8节点 lstm2层32节点  embedding层(10000,256)：\n",
    "#   accuracy: 0.9749 - val_accuracy: 0.7035【好?】\n",
    "# negation & stopword handling fix 隐藏层3层8节点 lstm2层32节点  embedding层(2000,512)：\n",
    "#   accuracy: 0.9425 - val_accuracy: 0.7080\n",
    "# negation & stopword handling fix 隐藏层3层8节点 lstm2层32节点  embedding层(10000,512)：\n",
    "#   accuracy: 0.9769 - val_accuracy: 0.7115\n",
    "# negation & stopword handling fix 隐藏层3层8节点 lstm2层32节点  embedding层(5000,256)：\n",
    "#   accuracy: 0.9676 - val_accuracy: 0.7028\n",
    "# negation & stopword handling fix 隐藏层3层32节点 lstm1层16节点  embedding层(5000,64)：\n",
    "#   accuracy: 0.9533 - val_accuracy: 0.7042【隐藏层好不太多但更复杂】"
   ],
   "outputs": [
    {
     "name": "stdout",
     "output_type": "stream",
     "text": [
      "Epoch 1/10\n",
      "500/500 - 46s - 93ms/step - accuracy: 0.6923 - loss: 0.5721 - val_accuracy: 0.7500 - val_loss: 0.5166\n",
      "Epoch 2/10\n",
      "500/500 - 44s - 87ms/step - accuracy: 0.7996 - loss: 0.4391 - val_accuracy: 0.7460 - val_loss: 0.5264\n",
      "Epoch 3/10\n",
      "500/500 - 43s - 86ms/step - accuracy: 0.8416 - loss: 0.3575 - val_accuracy: 0.7325 - val_loss: 0.5733\n",
      "Epoch 4/10\n",
      "500/500 - 43s - 87ms/step - accuracy: 0.8783 - loss: 0.2781 - val_accuracy: 0.7325 - val_loss: 0.6876\n",
      "Epoch 5/10\n",
      "500/500 - 43s - 87ms/step - accuracy: 0.9059 - loss: 0.2150 - val_accuracy: 0.7240 - val_loss: 0.8578\n",
      "Epoch 6/10\n",
      "500/500 - 73s - 146ms/step - accuracy: 0.9288 - loss: 0.1668 - val_accuracy: 0.7075 - val_loss: 0.9387\n",
      "Epoch 7/10\n",
      "500/500 - 343s - 686ms/step - accuracy: 0.9445 - loss: 0.1333 - val_accuracy: 0.7050 - val_loss: 1.1179\n",
      "Epoch 8/10\n",
      "500/500 - 343s - 687ms/step - accuracy: 0.9554 - loss: 0.1073 - val_accuracy: 0.7017 - val_loss: 1.2299\n",
      "Epoch 9/10\n",
      "500/500 - 382s - 764ms/step - accuracy: 0.9650 - loss: 0.0862 - val_accuracy: 0.6913 - val_loss: 1.3611\n",
      "Epoch 10/10\n",
      "500/500 - 44s - 87ms/step - accuracy: 0.9676 - loss: 0.0785 - val_accuracy: 0.7028 - val_loss: 1.4975\n"
     ]
    }
   ],
   "execution_count": 923
  },
  {
   "metadata": {
    "ExecuteTime": {
     "end_time": "2025-03-24T19:41:52.040310Z",
     "start_time": "2025-03-24T19:41:52.029231Z"
    }
   },
   "cell_type": "code",
   "source": "model.summary()",
   "outputs": [
    {
     "data": {
      "text/plain": [
       "\u001B[1mModel: \"sequential_31\"\u001B[0m\n"
      ],
      "text/html": [
       "<pre style=\"white-space:pre;overflow-x:auto;line-height:normal;font-family:Menlo,'DejaVu Sans Mono',consolas,'Courier New',monospace\"><span style=\"font-weight: bold\">Model: \"sequential_31\"</span>\n",
       "</pre>\n"
      ]
     },
     "metadata": {},
     "output_type": "display_data"
    },
    {
     "data": {
      "text/plain": [
       "┏━━━━━━━━━━━━━━━━━━━━━━━━━━━━━━━━━┳━━━━━━━━━━━━━━━━━━━━━━━━┳━━━━━━━━━━━━━━━┓\n",
       "┃\u001B[1m \u001B[0m\u001B[1mLayer (type)                   \u001B[0m\u001B[1m \u001B[0m┃\u001B[1m \u001B[0m\u001B[1mOutput Shape          \u001B[0m\u001B[1m \u001B[0m┃\u001B[1m \u001B[0m\u001B[1m      Param #\u001B[0m\u001B[1m \u001B[0m┃\n",
       "┡━━━━━━━━━━━━━━━━━━━━━━━━━━━━━━━━━╇━━━━━━━━━━━━━━━━━━━━━━━━╇━━━━━━━━━━━━━━━┩\n",
       "│ embedding_31 (\u001B[38;5;33mEmbedding\u001B[0m)        │ (\u001B[38;5;34m32\u001B[0m, \u001B[38;5;34m200\u001B[0m, \u001B[38;5;34m256\u001B[0m)         │     \u001B[38;5;34m1,280,000\u001B[0m │\n",
       "├─────────────────────────────────┼────────────────────────┼───────────────┤\n",
       "│ lstm_45 (\u001B[38;5;33mLSTM\u001B[0m)                  │ (\u001B[38;5;34m32\u001B[0m, \u001B[38;5;34m200\u001B[0m, \u001B[38;5;34m32\u001B[0m)          │        \u001B[38;5;34m36,992\u001B[0m │\n",
       "├─────────────────────────────────┼────────────────────────┼───────────────┤\n",
       "│ lstm_46 (\u001B[38;5;33mLSTM\u001B[0m)                  │ (\u001B[38;5;34m32\u001B[0m, \u001B[38;5;34m32\u001B[0m)               │         \u001B[38;5;34m8,320\u001B[0m │\n",
       "├─────────────────────────────────┼────────────────────────┼───────────────┤\n",
       "│ dense_106 (\u001B[38;5;33mDense\u001B[0m)               │ (\u001B[38;5;34m32\u001B[0m, \u001B[38;5;34m8\u001B[0m)                │           \u001B[38;5;34m264\u001B[0m │\n",
       "├─────────────────────────────────┼────────────────────────┼───────────────┤\n",
       "│ dense_107 (\u001B[38;5;33mDense\u001B[0m)               │ (\u001B[38;5;34m32\u001B[0m, \u001B[38;5;34m8\u001B[0m)                │            \u001B[38;5;34m72\u001B[0m │\n",
       "├─────────────────────────────────┼────────────────────────┼───────────────┤\n",
       "│ dense_108 (\u001B[38;5;33mDense\u001B[0m)               │ (\u001B[38;5;34m32\u001B[0m, \u001B[38;5;34m8\u001B[0m)                │            \u001B[38;5;34m72\u001B[0m │\n",
       "├─────────────────────────────────┼────────────────────────┼───────────────┤\n",
       "│ dense_109 (\u001B[38;5;33mDense\u001B[0m)               │ (\u001B[38;5;34m32\u001B[0m, \u001B[38;5;34m1\u001B[0m)                │             \u001B[38;5;34m9\u001B[0m │\n",
       "└─────────────────────────────────┴────────────────────────┴───────────────┘\n"
      ],
      "text/html": [
       "<pre style=\"white-space:pre;overflow-x:auto;line-height:normal;font-family:Menlo,'DejaVu Sans Mono',consolas,'Courier New',monospace\">┏━━━━━━━━━━━━━━━━━━━━━━━━━━━━━━━━━┳━━━━━━━━━━━━━━━━━━━━━━━━┳━━━━━━━━━━━━━━━┓\n",
       "┃<span style=\"font-weight: bold\"> Layer (type)                    </span>┃<span style=\"font-weight: bold\"> Output Shape           </span>┃<span style=\"font-weight: bold\">       Param # </span>┃\n",
       "┡━━━━━━━━━━━━━━━━━━━━━━━━━━━━━━━━━╇━━━━━━━━━━━━━━━━━━━━━━━━╇━━━━━━━━━━━━━━━┩\n",
       "│ embedding_31 (<span style=\"color: #0087ff; text-decoration-color: #0087ff\">Embedding</span>)        │ (<span style=\"color: #00af00; text-decoration-color: #00af00\">32</span>, <span style=\"color: #00af00; text-decoration-color: #00af00\">200</span>, <span style=\"color: #00af00; text-decoration-color: #00af00\">256</span>)         │     <span style=\"color: #00af00; text-decoration-color: #00af00\">1,280,000</span> │\n",
       "├─────────────────────────────────┼────────────────────────┼───────────────┤\n",
       "│ lstm_45 (<span style=\"color: #0087ff; text-decoration-color: #0087ff\">LSTM</span>)                  │ (<span style=\"color: #00af00; text-decoration-color: #00af00\">32</span>, <span style=\"color: #00af00; text-decoration-color: #00af00\">200</span>, <span style=\"color: #00af00; text-decoration-color: #00af00\">32</span>)          │        <span style=\"color: #00af00; text-decoration-color: #00af00\">36,992</span> │\n",
       "├─────────────────────────────────┼────────────────────────┼───────────────┤\n",
       "│ lstm_46 (<span style=\"color: #0087ff; text-decoration-color: #0087ff\">LSTM</span>)                  │ (<span style=\"color: #00af00; text-decoration-color: #00af00\">32</span>, <span style=\"color: #00af00; text-decoration-color: #00af00\">32</span>)               │         <span style=\"color: #00af00; text-decoration-color: #00af00\">8,320</span> │\n",
       "├─────────────────────────────────┼────────────────────────┼───────────────┤\n",
       "│ dense_106 (<span style=\"color: #0087ff; text-decoration-color: #0087ff\">Dense</span>)               │ (<span style=\"color: #00af00; text-decoration-color: #00af00\">32</span>, <span style=\"color: #00af00; text-decoration-color: #00af00\">8</span>)                │           <span style=\"color: #00af00; text-decoration-color: #00af00\">264</span> │\n",
       "├─────────────────────────────────┼────────────────────────┼───────────────┤\n",
       "│ dense_107 (<span style=\"color: #0087ff; text-decoration-color: #0087ff\">Dense</span>)               │ (<span style=\"color: #00af00; text-decoration-color: #00af00\">32</span>, <span style=\"color: #00af00; text-decoration-color: #00af00\">8</span>)                │            <span style=\"color: #00af00; text-decoration-color: #00af00\">72</span> │\n",
       "├─────────────────────────────────┼────────────────────────┼───────────────┤\n",
       "│ dense_108 (<span style=\"color: #0087ff; text-decoration-color: #0087ff\">Dense</span>)               │ (<span style=\"color: #00af00; text-decoration-color: #00af00\">32</span>, <span style=\"color: #00af00; text-decoration-color: #00af00\">8</span>)                │            <span style=\"color: #00af00; text-decoration-color: #00af00\">72</span> │\n",
       "├─────────────────────────────────┼────────────────────────┼───────────────┤\n",
       "│ dense_109 (<span style=\"color: #0087ff; text-decoration-color: #0087ff\">Dense</span>)               │ (<span style=\"color: #00af00; text-decoration-color: #00af00\">32</span>, <span style=\"color: #00af00; text-decoration-color: #00af00\">1</span>)                │             <span style=\"color: #00af00; text-decoration-color: #00af00\">9</span> │\n",
       "└─────────────────────────────────┴────────────────────────┴───────────────┘\n",
       "</pre>\n"
      ]
     },
     "metadata": {},
     "output_type": "display_data"
    },
    {
     "data": {
      "text/plain": [
       "\u001B[1m Total params: \u001B[0m\u001B[38;5;34m3,977,189\u001B[0m (15.17 MB)\n"
      ],
      "text/html": [
       "<pre style=\"white-space:pre;overflow-x:auto;line-height:normal;font-family:Menlo,'DejaVu Sans Mono',consolas,'Courier New',monospace\"><span style=\"font-weight: bold\"> Total params: </span><span style=\"color: #00af00; text-decoration-color: #00af00\">3,977,189</span> (15.17 MB)\n",
       "</pre>\n"
      ]
     },
     "metadata": {},
     "output_type": "display_data"
    },
    {
     "data": {
      "text/plain": [
       "\u001B[1m Trainable params: \u001B[0m\u001B[38;5;34m1,325,729\u001B[0m (5.06 MB)\n"
      ],
      "text/html": [
       "<pre style=\"white-space:pre;overflow-x:auto;line-height:normal;font-family:Menlo,'DejaVu Sans Mono',consolas,'Courier New',monospace\"><span style=\"font-weight: bold\"> Trainable params: </span><span style=\"color: #00af00; text-decoration-color: #00af00\">1,325,729</span> (5.06 MB)\n",
       "</pre>\n"
      ]
     },
     "metadata": {},
     "output_type": "display_data"
    },
    {
     "data": {
      "text/plain": [
       "\u001B[1m Non-trainable params: \u001B[0m\u001B[38;5;34m0\u001B[0m (0.00 B)\n"
      ],
      "text/html": [
       "<pre style=\"white-space:pre;overflow-x:auto;line-height:normal;font-family:Menlo,'DejaVu Sans Mono',consolas,'Courier New',monospace\"><span style=\"font-weight: bold\"> Non-trainable params: </span><span style=\"color: #00af00; text-decoration-color: #00af00\">0</span> (0.00 B)\n",
       "</pre>\n"
      ]
     },
     "metadata": {},
     "output_type": "display_data"
    },
    {
     "data": {
      "text/plain": [
       "\u001B[1m Optimizer params: \u001B[0m\u001B[38;5;34m2,651,460\u001B[0m (10.11 MB)\n"
      ],
      "text/html": [
       "<pre style=\"white-space:pre;overflow-x:auto;line-height:normal;font-family:Menlo,'DejaVu Sans Mono',consolas,'Courier New',monospace\"><span style=\"font-weight: bold\"> Optimizer params: </span><span style=\"color: #00af00; text-decoration-color: #00af00\">2,651,460</span> (10.11 MB)\n",
       "</pre>\n"
      ]
     },
     "metadata": {},
     "output_type": "display_data"
    }
   ],
   "execution_count": 924
  },
  {
   "metadata": {
    "ExecuteTime": {
     "end_time": "2025-03-24T19:41:52.298177Z",
     "start_time": "2025-03-24T19:41:52.081498Z"
    }
   },
   "cell_type": "code",
   "source": [
    "colors = ['red', 'orange', 'green', 'blue', 'purple', 'brown', 'pink', 'gray', 'cyan', 'magenta']\n",
    "fig, axes = plt.subplots(1, 2, figsize=(12, 5))\n",
    "\n",
    "axes[0].plot(range(1, len(history.history['loss']) + 1), history.history['loss'], label='Train Loss', color=colors[0])\n",
    "axes[0].plot(range(1, len(history.history['val_loss']) + 1), history.history['val_loss'], label='Test Loss', color=colors[3])\n",
    "axes[0].set_xlabel(\"Epoch\")\n",
    "axes[0].set_ylabel(\"Loss\")\n",
    "axes[0].set_title(\"Train & Test Loss\")\n",
    "axes[0].legend()\n",
    "\n",
    "axes[1].plot(range(1, len(history.history['accuracy']) + 1), history.history['accuracy'], label='Train Accuracy', color=colors[0])\n",
    "axes[1].plot(range(1, len(history.history['val_accuracy']) + 1), history.history['val_accuracy'], label='Test Accuracy', color=colors[3])\n",
    "axes[1].set_xlabel(\"Epoch\")\n",
    "axes[1].set_ylabel(\"Accuracy\")\n",
    "axes[1].set_title(\"Train & Test Accuracy\")\n",
    "axes[1].legend()"
   ],
   "outputs": [
    {
     "data": {
      "text/plain": [
       "<matplotlib.legend.Legend at 0x645cb81f0>"
      ]
     },
     "execution_count": 925,
     "metadata": {},
     "output_type": "execute_result"
    },
    {
     "data": {
      "text/plain": [
       "<Figure size 1200x500 with 2 Axes>"
      ],
      "image/png": "[encoded data removed]"
     },
     "metadata": {},
     "output_type": "display_data"
    }
   ],
   "execution_count": 925
  },
  {
   "metadata": {
    "ExecuteTime": {
     "end_time": "2025-03-24T19:41:52.312741Z",
     "start_time": "2025-03-24T19:41:52.311108Z"
    }
   },
   "cell_type": "code",
   "source": "",
   "outputs": [],
   "execution_count": null
  },
  {
   "metadata": {},
   "cell_type": "markdown",
   "source": ""
  }
 ],
 "metadata": {
  "colab": {
   "authorship_tag": "ABX9TyNNag92UMCy1GtgfJ+zFFU1",
   "collapsed_sections": [],
   "name": "DUDL_FFN_aboutMNIST.ipynb",
   "provenance": [
    {
     "file_id": "15cpyHkJ435B4MqbyGjAH1poN4nCy_DE4",
     "timestamp": 1617737766196
    },
    {
     "file_id": "1OLuWuaFu0hcFgkQ2hh5BqbRuqUZD7XcQ",
     "timestamp": 1617734878578
    },
    {
     "file_id": "1XvzVGJPTJifVh8OpZVB7ykLxyUqYwQ1j",
     "timestamp": 1617196833019
    },
    {
     "file_id": "1bv1_y32e3KEExFKKlPfC3rpw1JxmBr8H",
     "timestamp": 1617124341706
    },
    {
     "file_id": "1GMq8u7KyHB2AE7Teyls9gK1T01OduQSn",
     "timestamp": 1616697516760
    },
    {
     "file_id": "1Ui3kyHim-e0XLgDs2mkBxVlYg7TKYtcg",
     "timestamp": 1616615469755
    },
    {
     "file_id": "1YpHocGI4rApOxIBb1ZghCU5L-hFnv4CK",
     "timestamp": 1616608248670
    }
   ]
  },
  "kernelspec": {
   "display_name": "Python (newpipenv)",
   "language": "python",
   "name": "newpipenv"
  },
  "language_info": {
   "codemirror_mode": {
    "name": "ipython",
    "version": 3
   },
   "file_extension": ".py",
   "mimetype": "text/x-python",
   "name": "python",
   "nbconvert_exporter": "python",
   "pygments_lexer": "ipython3",
   "version": "3.10.9"
  }
 },
 "nbformat": 4,
 "nbformat_minor": 1
}
