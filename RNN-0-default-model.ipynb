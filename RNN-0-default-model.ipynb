{
 "cells": [
  {
   "cell_type": "code",
   "metadata": {
    "id": "YeuAheYyhdZw",
    "ExecuteTime": {
     "end_time": "2025-03-24T20:39:13.965420Z",
     "start_time": "2025-03-24T20:39:13.960751Z"
    }
   },
   "source": [
    "# import libraries\n",
    "# DataFrame\n",
    "import pandas as pd\n",
    "\n",
    "# plotting\n",
    "import seaborn as sns\n",
    "from wordcloud import WordCloud\n",
    "import matplotlib.pyplot as plt\n",
    "\n",
    "# nltk\n",
    "import nltk\n",
    "from nltk.stem import WordNetLemmatizer\n",
    "from nltk.corpus import stopwords\n",
    "from nltk.tokenize import word_tokenize\n",
    "\n",
    "# sklearny\n",
    "from sklearn.model_selection import train_test_split\n",
    "from sklearn.feature_extraction.text import TfidfVectorizer\n",
    "from sklearn.metrics import confusion_matrix, classification_report\n",
    "\n",
    "from sklearn.linear_model import LogisticRegression\n",
    "from sklearn.svm import LinearSVC\n",
    "from sklearn.ensemble import RandomForestClassifier\n",
    "from sklearn.naive_bayes import BernoulliNB\n",
    "\n",
    "\n",
    "#tensorflow\n",
    "import tensorflow.compat.v2 as tf\n",
    "import tensorflow_datasets as tfds\n",
    "\n",
    "# Utility\n",
    "import pandas as pd\n",
    "import numpy as np\n",
    "import warnings\n",
    "warnings.filterwarnings('ignore')\n",
    "import re\n",
    "import string\n",
    "import pickle"
   ],
   "outputs": [],
   "execution_count": 1011
  },
  {
   "cell_type": "markdown",
   "metadata": {},
   "source": "# Loading Dataset"
  },
  {
   "cell_type": "code",
   "metadata": {
    "ExecuteTime": {
     "end_time": "2025-03-24T20:39:16.988923Z",
     "start_time": "2025-03-24T20:39:13.981615Z"
    }
   },
   "source": [
    "# Construct a tf.data.Dataset\n",
    "data = pd.read_csv('training.1600000.processed.noemoticon.csv',encoding='latin', names = ['polarity','id','date','query','user','text'])\n",
    "# Random shuffling of data, select the first 200,000\n",
    "data = data.sample(frac=1,random_state=740)\n",
    "data = data[:20000]\n",
    "data.head(10)"
   ],
   "outputs": [
    {
     "data": {
      "text/plain": [
       "         polarity          id                          date     query  \\\n",
       "1586564         4  2190822209  Tue Jun 16 03:49:24 PDT 2009  NO_QUERY   \n",
       "1593258         4  2191903014  Tue Jun 16 06:10:21 PDT 2009  NO_QUERY   \n",
       "250171          0  1983150308  Sun May 31 12:36:04 PDT 2009  NO_QUERY   \n",
       "774617          0  2321582236  Wed Jun 24 21:15:45 PDT 2009  NO_QUERY   \n",
       "219640          0  1976442803  Sat May 30 17:20:29 PDT 2009  NO_QUERY   \n",
       "364854          0  2048346997  Fri Jun 05 15:03:16 PDT 2009  NO_QUERY   \n",
       "1081037         4  1968400415  Fri May 29 21:21:32 PDT 2009  NO_QUERY   \n",
       "352747          0  2031275962  Thu Jun 04 09:35:12 PDT 2009  NO_QUERY   \n",
       "804759          4  1468569254  Tue Apr 07 02:28:17 PDT 2009  NO_QUERY   \n",
       "903760          4  1694686706  Mon May 04 03:43:12 PDT 2009  NO_QUERY   \n",
       "\n",
       "                    user                                               text  \n",
       "1586564      Alex_Clough  ...went to New Emperor as it was still open  V...  \n",
       "1593258    LeahChantelle  @lickmycupcakes Yay!!! It worked!! And thank y...  \n",
       "250171         YesDiva32    @Mister_82 don't b hatin on my Mira Mira music   \n",
       "774617     _WorldsApart_  Where were u when #BPD broke 1,000 users onlin...  \n",
       "219640      greatbrytton  I really just want to be out of Dothan...more ...  \n",
       "364854   MsCherrylicious  Fml got suckered into working til 930 and I'm ...  \n",
       "1081037        pennamico  @aalmishal ???? ?? ?????  ????? ????? ?????? ?...  \n",
       "352747     darlingroland  Today I could go get my new phone, probably wo...  \n",
       "804759          Scyranth  @SexySubKaylee heh heh dirty is always good gu...  \n",
       "903760     LmaonadeStand  No school today - Not because of &quot;H1N1&qu...  "
      ],
      "text/html": [
       "<div>\n",
       "<style scoped>\n",
       "    .dataframe tbody tr th:only-of-type {\n",
       "        vertical-align: middle;\n",
       "    }\n",
       "\n",
       "    .dataframe tbody tr th {\n",
       "        vertical-align: top;\n",
       "    }\n",
       "\n",
       "    .dataframe thead th {\n",
       "        text-align: right;\n",
       "    }\n",
       "</style>\n",
       "<table border=\"1\" class=\"dataframe\">\n",
       "  <thead>\n",
       "    <tr style=\"text-align: right;\">\n",
       "      <th></th>\n",
       "      <th>polarity</th>\n",
       "      <th>id</th>\n",
       "      <th>date</th>\n",
       "      <th>query</th>\n",
       "      <th>user</th>\n",
       "      <th>text</th>\n",
       "    </tr>\n",
       "  </thead>\n",
       "  <tbody>\n",
       "    <tr>\n",
       "      <th>1586564</th>\n",
       "      <td>4</td>\n",
       "      <td>2190822209</td>\n",
       "      <td>Tue Jun 16 03:49:24 PDT 2009</td>\n",
       "      <td>NO_QUERY</td>\n",
       "      <td>Alex_Clough</td>\n",
       "      <td>...went to New Emperor as it was still open  V...</td>\n",
       "    </tr>\n",
       "    <tr>\n",
       "      <th>1593258</th>\n",
       "      <td>4</td>\n",
       "      <td>2191903014</td>\n",
       "      <td>Tue Jun 16 06:10:21 PDT 2009</td>\n",
       "      <td>NO_QUERY</td>\n",
       "      <td>LeahChantelle</td>\n",
       "      <td>@lickmycupcakes Yay!!! It worked!! And thank y...</td>\n",
       "    </tr>\n",
       "    <tr>\n",
       "      <th>250171</th>\n",
       "      <td>0</td>\n",
       "      <td>1983150308</td>\n",
       "      <td>Sun May 31 12:36:04 PDT 2009</td>\n",
       "      <td>NO_QUERY</td>\n",
       "      <td>YesDiva32</td>\n",
       "      <td>@Mister_82 don't b hatin on my Mira Mira music</td>\n",
       "    </tr>\n",
       "    <tr>\n",
       "      <th>774617</th>\n",
       "      <td>0</td>\n",
       "      <td>2321582236</td>\n",
       "      <td>Wed Jun 24 21:15:45 PDT 2009</td>\n",
       "      <td>NO_QUERY</td>\n",
       "      <td>_WorldsApart_</td>\n",
       "      <td>Where were u when #BPD broke 1,000 users onlin...</td>\n",
       "    </tr>\n",
       "    <tr>\n",
       "      <th>219640</th>\n",
       "      <td>0</td>\n",
       "      <td>1976442803</td>\n",
       "      <td>Sat May 30 17:20:29 PDT 2009</td>\n",
       "      <td>NO_QUERY</td>\n",
       "      <td>greatbrytton</td>\n",
       "      <td>I really just want to be out of Dothan...more ...</td>\n",
       "    </tr>\n",
       "    <tr>\n",
       "      <th>364854</th>\n",
       "      <td>0</td>\n",
       "      <td>2048346997</td>\n",
       "      <td>Fri Jun 05 15:03:16 PDT 2009</td>\n",
       "      <td>NO_QUERY</td>\n",
       "      <td>MsCherrylicious</td>\n",
       "      <td>Fml got suckered into working til 930 and I'm ...</td>\n",
       "    </tr>\n",
       "    <tr>\n",
       "      <th>1081037</th>\n",
       "      <td>4</td>\n",
       "      <td>1968400415</td>\n",
       "      <td>Fri May 29 21:21:32 PDT 2009</td>\n",
       "      <td>NO_QUERY</td>\n",
       "      <td>pennamico</td>\n",
       "      <td>@aalmishal ???? ?? ?????  ????? ????? ?????? ?...</td>\n",
       "    </tr>\n",
       "    <tr>\n",
       "      <th>352747</th>\n",
       "      <td>0</td>\n",
       "      <td>2031275962</td>\n",
       "      <td>Thu Jun 04 09:35:12 PDT 2009</td>\n",
       "      <td>NO_QUERY</td>\n",
       "      <td>darlingroland</td>\n",
       "      <td>Today I could go get my new phone, probably wo...</td>\n",
       "    </tr>\n",
       "    <tr>\n",
       "      <th>804759</th>\n",
       "      <td>4</td>\n",
       "      <td>1468569254</td>\n",
       "      <td>Tue Apr 07 02:28:17 PDT 2009</td>\n",
       "      <td>NO_QUERY</td>\n",
       "      <td>Scyranth</td>\n",
       "      <td>@SexySubKaylee heh heh dirty is always good gu...</td>\n",
       "    </tr>\n",
       "    <tr>\n",
       "      <th>903760</th>\n",
       "      <td>4</td>\n",
       "      <td>1694686706</td>\n",
       "      <td>Mon May 04 03:43:12 PDT 2009</td>\n",
       "      <td>NO_QUERY</td>\n",
       "      <td>LmaonadeStand</td>\n",
       "      <td>No school today - Not because of &amp;quot;H1N1&amp;qu...</td>\n",
       "    </tr>\n",
       "  </tbody>\n",
       "</table>\n",
       "</div>"
      ]
     },
     "execution_count": 1012,
     "metadata": {},
     "output_type": "execute_result"
    }
   ],
   "execution_count": 1012
  },
  {
   "metadata": {},
   "cell_type": "markdown",
   "source": "# Data Visualization"
  },
  {
   "cell_type": "code",
   "metadata": {
    "scrolled": false,
    "ExecuteTime": {
     "end_time": "2025-03-24T20:39:17.062254Z",
     "start_time": "2025-03-24T20:39:17.059303Z"
    }
   },
   "source": "print(\"Dataset shape:\", data.shape)",
   "outputs": [
    {
     "name": "stdout",
     "output_type": "stream",
     "text": [
      "Dataset shape: (20000, 6)\n"
     ]
    }
   ],
   "execution_count": 1013
  },
  {
   "cell_type": "code",
   "metadata": {
    "ExecuteTime": {
     "end_time": "2025-03-24T20:39:17.144708Z",
     "start_time": "2025-03-24T20:39:17.138534Z"
    }
   },
   "source": "data.head(10)",
   "outputs": [
    {
     "data": {
      "text/plain": [
       "         polarity          id                          date     query  \\\n",
       "1586564         4  2190822209  Tue Jun 16 03:49:24 PDT 2009  NO_QUERY   \n",
       "1593258         4  2191903014  Tue Jun 16 06:10:21 PDT 2009  NO_QUERY   \n",
       "250171          0  1983150308  Sun May 31 12:36:04 PDT 2009  NO_QUERY   \n",
       "774617          0  2321582236  Wed Jun 24 21:15:45 PDT 2009  NO_QUERY   \n",
       "219640          0  1976442803  Sat May 30 17:20:29 PDT 2009  NO_QUERY   \n",
       "364854          0  2048346997  Fri Jun 05 15:03:16 PDT 2009  NO_QUERY   \n",
       "1081037         4  1968400415  Fri May 29 21:21:32 PDT 2009  NO_QUERY   \n",
       "352747          0  2031275962  Thu Jun 04 09:35:12 PDT 2009  NO_QUERY   \n",
       "804759          4  1468569254  Tue Apr 07 02:28:17 PDT 2009  NO_QUERY   \n",
       "903760          4  1694686706  Mon May 04 03:43:12 PDT 2009  NO_QUERY   \n",
       "\n",
       "                    user                                               text  \n",
       "1586564      Alex_Clough  ...went to New Emperor as it was still open  V...  \n",
       "1593258    LeahChantelle  @lickmycupcakes Yay!!! It worked!! And thank y...  \n",
       "250171         YesDiva32    @Mister_82 don't b hatin on my Mira Mira music   \n",
       "774617     _WorldsApart_  Where were u when #BPD broke 1,000 users onlin...  \n",
       "219640      greatbrytton  I really just want to be out of Dothan...more ...  \n",
       "364854   MsCherrylicious  Fml got suckered into working til 930 and I'm ...  \n",
       "1081037        pennamico  @aalmishal ???? ?? ?????  ????? ????? ?????? ?...  \n",
       "352747     darlingroland  Today I could go get my new phone, probably wo...  \n",
       "804759          Scyranth  @SexySubKaylee heh heh dirty is always good gu...  \n",
       "903760     LmaonadeStand  No school today - Not because of &quot;H1N1&qu...  "
      ],
      "text/html": [
       "<div>\n",
       "<style scoped>\n",
       "    .dataframe tbody tr th:only-of-type {\n",
       "        vertical-align: middle;\n",
       "    }\n",
       "\n",
       "    .dataframe tbody tr th {\n",
       "        vertical-align: top;\n",
       "    }\n",
       "\n",
       "    .dataframe thead th {\n",
       "        text-align: right;\n",
       "    }\n",
       "</style>\n",
       "<table border=\"1\" class=\"dataframe\">\n",
       "  <thead>\n",
       "    <tr style=\"text-align: right;\">\n",
       "      <th></th>\n",
       "      <th>polarity</th>\n",
       "      <th>id</th>\n",
       "      <th>date</th>\n",
       "      <th>query</th>\n",
       "      <th>user</th>\n",
       "      <th>text</th>\n",
       "    </tr>\n",
       "  </thead>\n",
       "  <tbody>\n",
       "    <tr>\n",
       "      <th>1586564</th>\n",
       "      <td>4</td>\n",
       "      <td>2190822209</td>\n",
       "      <td>Tue Jun 16 03:49:24 PDT 2009</td>\n",
       "      <td>NO_QUERY</td>\n",
       "      <td>Alex_Clough</td>\n",
       "      <td>...went to New Emperor as it was still open  V...</td>\n",
       "    </tr>\n",
       "    <tr>\n",
       "      <th>1593258</th>\n",
       "      <td>4</td>\n",
       "      <td>2191903014</td>\n",
       "      <td>Tue Jun 16 06:10:21 PDT 2009</td>\n",
       "      <td>NO_QUERY</td>\n",
       "      <td>LeahChantelle</td>\n",
       "      <td>@lickmycupcakes Yay!!! It worked!! And thank y...</td>\n",
       "    </tr>\n",
       "    <tr>\n",
       "      <th>250171</th>\n",
       "      <td>0</td>\n",
       "      <td>1983150308</td>\n",
       "      <td>Sun May 31 12:36:04 PDT 2009</td>\n",
       "      <td>NO_QUERY</td>\n",
       "      <td>YesDiva32</td>\n",
       "      <td>@Mister_82 don't b hatin on my Mira Mira music</td>\n",
       "    </tr>\n",
       "    <tr>\n",
       "      <th>774617</th>\n",
       "      <td>0</td>\n",
       "      <td>2321582236</td>\n",
       "      <td>Wed Jun 24 21:15:45 PDT 2009</td>\n",
       "      <td>NO_QUERY</td>\n",
       "      <td>_WorldsApart_</td>\n",
       "      <td>Where were u when #BPD broke 1,000 users onlin...</td>\n",
       "    </tr>\n",
       "    <tr>\n",
       "      <th>219640</th>\n",
       "      <td>0</td>\n",
       "      <td>1976442803</td>\n",
       "      <td>Sat May 30 17:20:29 PDT 2009</td>\n",
       "      <td>NO_QUERY</td>\n",
       "      <td>greatbrytton</td>\n",
       "      <td>I really just want to be out of Dothan...more ...</td>\n",
       "    </tr>\n",
       "    <tr>\n",
       "      <th>364854</th>\n",
       "      <td>0</td>\n",
       "      <td>2048346997</td>\n",
       "      <td>Fri Jun 05 15:03:16 PDT 2009</td>\n",
       "      <td>NO_QUERY</td>\n",
       "      <td>MsCherrylicious</td>\n",
       "      <td>Fml got suckered into working til 930 and I'm ...</td>\n",
       "    </tr>\n",
       "    <tr>\n",
       "      <th>1081037</th>\n",
       "      <td>4</td>\n",
       "      <td>1968400415</td>\n",
       "      <td>Fri May 29 21:21:32 PDT 2009</td>\n",
       "      <td>NO_QUERY</td>\n",
       "      <td>pennamico</td>\n",
       "      <td>@aalmishal ???? ?? ?????  ????? ????? ?????? ?...</td>\n",
       "    </tr>\n",
       "    <tr>\n",
       "      <th>352747</th>\n",
       "      <td>0</td>\n",
       "      <td>2031275962</td>\n",
       "      <td>Thu Jun 04 09:35:12 PDT 2009</td>\n",
       "      <td>NO_QUERY</td>\n",
       "      <td>darlingroland</td>\n",
       "      <td>Today I could go get my new phone, probably wo...</td>\n",
       "    </tr>\n",
       "    <tr>\n",
       "      <th>804759</th>\n",
       "      <td>4</td>\n",
       "      <td>1468569254</td>\n",
       "      <td>Tue Apr 07 02:28:17 PDT 2009</td>\n",
       "      <td>NO_QUERY</td>\n",
       "      <td>Scyranth</td>\n",
       "      <td>@SexySubKaylee heh heh dirty is always good gu...</td>\n",
       "    </tr>\n",
       "    <tr>\n",
       "      <th>903760</th>\n",
       "      <td>4</td>\n",
       "      <td>1694686706</td>\n",
       "      <td>Mon May 04 03:43:12 PDT 2009</td>\n",
       "      <td>NO_QUERY</td>\n",
       "      <td>LmaonadeStand</td>\n",
       "      <td>No school today - Not because of &amp;quot;H1N1&amp;qu...</td>\n",
       "    </tr>\n",
       "  </tbody>\n",
       "</table>\n",
       "</div>"
      ]
     },
     "execution_count": 1014,
     "metadata": {},
     "output_type": "execute_result"
    }
   ],
   "execution_count": 1014
  },
  {
   "cell_type": "code",
   "metadata": {
    "ExecuteTime": {
     "end_time": "2025-03-24T20:39:17.274246Z",
     "start_time": "2025-03-24T20:39:17.270751Z"
    }
   },
   "source": "data['polarity'].unique()",
   "outputs": [
    {
     "data": {
      "text/plain": [
       "array([4, 0])"
      ]
     },
     "execution_count": 1015,
     "metadata": {},
     "output_type": "execute_result"
    }
   ],
   "execution_count": 1015
  },
  {
   "cell_type": "code",
   "metadata": {
    "scrolled": true,
    "ExecuteTime": {
     "end_time": "2025-03-24T20:39:17.366920Z",
     "start_time": "2025-03-24T20:39:17.359952Z"
    }
   },
   "source": [
    "# Replacing the value 4 -->1 for ease of understanding.\n",
    "data['polarity'] = data['polarity'].replace(4,1)\n",
    "data.head()"
   ],
   "outputs": [
    {
     "data": {
      "text/plain": [
       "         polarity          id                          date     query  \\\n",
       "1586564         1  2190822209  Tue Jun 16 03:49:24 PDT 2009  NO_QUERY   \n",
       "1593258         1  2191903014  Tue Jun 16 06:10:21 PDT 2009  NO_QUERY   \n",
       "250171          0  1983150308  Sun May 31 12:36:04 PDT 2009  NO_QUERY   \n",
       "774617          0  2321582236  Wed Jun 24 21:15:45 PDT 2009  NO_QUERY   \n",
       "219640          0  1976442803  Sat May 30 17:20:29 PDT 2009  NO_QUERY   \n",
       "\n",
       "                  user                                               text  \n",
       "1586564    Alex_Clough  ...went to New Emperor as it was still open  V...  \n",
       "1593258  LeahChantelle  @lickmycupcakes Yay!!! It worked!! And thank y...  \n",
       "250171       YesDiva32    @Mister_82 don't b hatin on my Mira Mira music   \n",
       "774617   _WorldsApart_  Where were u when #BPD broke 1,000 users onlin...  \n",
       "219640    greatbrytton  I really just want to be out of Dothan...more ...  "
      ],
      "text/html": [
       "<div>\n",
       "<style scoped>\n",
       "    .dataframe tbody tr th:only-of-type {\n",
       "        vertical-align: middle;\n",
       "    }\n",
       "\n",
       "    .dataframe tbody tr th {\n",
       "        vertical-align: top;\n",
       "    }\n",
       "\n",
       "    .dataframe thead th {\n",
       "        text-align: right;\n",
       "    }\n",
       "</style>\n",
       "<table border=\"1\" class=\"dataframe\">\n",
       "  <thead>\n",
       "    <tr style=\"text-align: right;\">\n",
       "      <th></th>\n",
       "      <th>polarity</th>\n",
       "      <th>id</th>\n",
       "      <th>date</th>\n",
       "      <th>query</th>\n",
       "      <th>user</th>\n",
       "      <th>text</th>\n",
       "    </tr>\n",
       "  </thead>\n",
       "  <tbody>\n",
       "    <tr>\n",
       "      <th>1586564</th>\n",
       "      <td>1</td>\n",
       "      <td>2190822209</td>\n",
       "      <td>Tue Jun 16 03:49:24 PDT 2009</td>\n",
       "      <td>NO_QUERY</td>\n",
       "      <td>Alex_Clough</td>\n",
       "      <td>...went to New Emperor as it was still open  V...</td>\n",
       "    </tr>\n",
       "    <tr>\n",
       "      <th>1593258</th>\n",
       "      <td>1</td>\n",
       "      <td>2191903014</td>\n",
       "      <td>Tue Jun 16 06:10:21 PDT 2009</td>\n",
       "      <td>NO_QUERY</td>\n",
       "      <td>LeahChantelle</td>\n",
       "      <td>@lickmycupcakes Yay!!! It worked!! And thank y...</td>\n",
       "    </tr>\n",
       "    <tr>\n",
       "      <th>250171</th>\n",
       "      <td>0</td>\n",
       "      <td>1983150308</td>\n",
       "      <td>Sun May 31 12:36:04 PDT 2009</td>\n",
       "      <td>NO_QUERY</td>\n",
       "      <td>YesDiva32</td>\n",
       "      <td>@Mister_82 don't b hatin on my Mira Mira music</td>\n",
       "    </tr>\n",
       "    <tr>\n",
       "      <th>774617</th>\n",
       "      <td>0</td>\n",
       "      <td>2321582236</td>\n",
       "      <td>Wed Jun 24 21:15:45 PDT 2009</td>\n",
       "      <td>NO_QUERY</td>\n",
       "      <td>_WorldsApart_</td>\n",
       "      <td>Where were u when #BPD broke 1,000 users onlin...</td>\n",
       "    </tr>\n",
       "    <tr>\n",
       "      <th>219640</th>\n",
       "      <td>0</td>\n",
       "      <td>1976442803</td>\n",
       "      <td>Sat May 30 17:20:29 PDT 2009</td>\n",
       "      <td>NO_QUERY</td>\n",
       "      <td>greatbrytton</td>\n",
       "      <td>I really just want to be out of Dothan...more ...</td>\n",
       "    </tr>\n",
       "  </tbody>\n",
       "</table>\n",
       "</div>"
      ]
     },
     "execution_count": 1016,
     "metadata": {},
     "output_type": "execute_result"
    }
   ],
   "execution_count": 1016
  },
  {
   "cell_type": "code",
   "metadata": {
    "ExecuteTime": {
     "end_time": "2025-03-24T20:39:17.525187Z",
     "start_time": "2025-03-24T20:39:17.516586Z"
    }
   },
   "source": "data.describe()",
   "outputs": [
    {
     "data": {
      "text/plain": [
       "           polarity            id\n",
       "count  20000.000000  2.000000e+04\n",
       "mean       0.494000  1.999987e+09\n",
       "std        0.499976  1.951726e+08\n",
       "min        0.000000  1.467824e+09\n",
       "25%        0.000000  1.956915e+09\n",
       "50%        0.000000  2.002387e+09\n",
       "75%        1.000000  2.178142e+09\n",
       "max        1.000000  2.329143e+09"
      ],
      "text/html": [
       "<div>\n",
       "<style scoped>\n",
       "    .dataframe tbody tr th:only-of-type {\n",
       "        vertical-align: middle;\n",
       "    }\n",
       "\n",
       "    .dataframe tbody tr th {\n",
       "        vertical-align: top;\n",
       "    }\n",
       "\n",
       "    .dataframe thead th {\n",
       "        text-align: right;\n",
       "    }\n",
       "</style>\n",
       "<table border=\"1\" class=\"dataframe\">\n",
       "  <thead>\n",
       "    <tr style=\"text-align: right;\">\n",
       "      <th></th>\n",
       "      <th>polarity</th>\n",
       "      <th>id</th>\n",
       "    </tr>\n",
       "  </thead>\n",
       "  <tbody>\n",
       "    <tr>\n",
       "      <th>count</th>\n",
       "      <td>20000.000000</td>\n",
       "      <td>2.000000e+04</td>\n",
       "    </tr>\n",
       "    <tr>\n",
       "      <th>mean</th>\n",
       "      <td>0.494000</td>\n",
       "      <td>1.999987e+09</td>\n",
       "    </tr>\n",
       "    <tr>\n",
       "      <th>std</th>\n",
       "      <td>0.499976</td>\n",
       "      <td>1.951726e+08</td>\n",
       "    </tr>\n",
       "    <tr>\n",
       "      <th>min</th>\n",
       "      <td>0.000000</td>\n",
       "      <td>1.467824e+09</td>\n",
       "    </tr>\n",
       "    <tr>\n",
       "      <th>25%</th>\n",
       "      <td>0.000000</td>\n",
       "      <td>1.956915e+09</td>\n",
       "    </tr>\n",
       "    <tr>\n",
       "      <th>50%</th>\n",
       "      <td>0.000000</td>\n",
       "      <td>2.002387e+09</td>\n",
       "    </tr>\n",
       "    <tr>\n",
       "      <th>75%</th>\n",
       "      <td>1.000000</td>\n",
       "      <td>2.178142e+09</td>\n",
       "    </tr>\n",
       "    <tr>\n",
       "      <th>max</th>\n",
       "      <td>1.000000</td>\n",
       "      <td>2.329143e+09</td>\n",
       "    </tr>\n",
       "  </tbody>\n",
       "</table>\n",
       "</div>"
      ]
     },
     "execution_count": 1017,
     "metadata": {},
     "output_type": "execute_result"
    }
   ],
   "execution_count": 1017
  },
  {
   "metadata": {
    "ExecuteTime": {
     "end_time": "2025-03-24T20:39:17.668595Z",
     "start_time": "2025-03-24T20:39:17.664010Z"
    }
   },
   "cell_type": "code",
   "source": [
    "# check the number of positive vs. negative tagged sentences\n",
    "positives = data['polarity'][data.polarity == 1 ]\n",
    "negatives = data['polarity'][data.polarity == 0 ]\n",
    "\n",
    "print('Total length of the data is:         {}'.format(data.shape[0]))\n",
    "print('No. of positve tagged sentences is:  {}'.format(len(positives)))\n",
    "print('No. of negative tagged sentences is: {}'.format(len(negatives)))"
   ],
   "outputs": [
    {
     "name": "stdout",
     "output_type": "stream",
     "text": [
      "Total length of the data is:         20000\n",
      "No. of positve tagged sentences is:  9880\n",
      "No. of negative tagged sentences is: 10120\n"
     ]
    }
   ],
   "execution_count": 1018
  },
  {
   "metadata": {
    "ExecuteTime": {
     "end_time": "2025-03-24T20:39:17.758521Z",
     "start_time": "2025-03-24T20:39:17.756076Z"
    }
   },
   "cell_type": "code",
   "source": [
    "# get a word count per of text\n",
    "def word_count(words):\n",
    "    return len(words.split())"
   ],
   "outputs": [],
   "execution_count": 1019
  },
  {
   "metadata": {
    "ExecuteTime": {
     "end_time": "2025-03-24T20:39:17.997815Z",
     "start_time": "2025-03-24T20:39:17.838269Z"
    }
   },
   "cell_type": "code",
   "source": [
    "# plot word count distribution for both positive and negative\n",
    "\n",
    "data['word count'] = data['text'].apply(word_count)\n",
    "p = data['word count'][data.polarity == 1]\n",
    "n = data['word count'][data.polarity == 0]\n",
    "plt.figure(figsize=(12,6))\n",
    "plt.xlim(0,45)\n",
    "plt.xlabel('Word count')\n",
    "plt.ylabel('Frequency')\n",
    "g = plt.hist([p, n], color=['g','r'], alpha=0.5, label=['positive','negative'])\n",
    "plt.legend(loc='upper right')"
   ],
   "outputs": [
    {
     "data": {
      "text/plain": [
       "<matplotlib.legend.Legend at 0x6e8f7d250>"
      ]
     },
     "execution_count": 1020,
     "metadata": {},
     "output_type": "execute_result"
    },
    {
     "data": {
      "text/plain": [
       "<Figure size 1200x600 with 1 Axes>"
      ],
      "image/png": "[encoded data removed]"
     },
     "metadata": {},
     "output_type": "display_data"
    }
   ],
   "execution_count": 1020
  },
  {
   "metadata": {
    "ExecuteTime": {
     "end_time": "2025-03-24T20:39:18.128298Z",
     "start_time": "2025-03-24T20:39:18.019770Z"
    }
   },
   "cell_type": "code",
   "source": [
    "# get common words in training dataset\n",
    "from collections import Counter\n",
    "all_words = []\n",
    "for line in list(data['text']):\n",
    "    words = line.split()\n",
    "    for word in words:\n",
    "      if(len(word)>2):\n",
    "        all_words.append(word.lower())\n",
    "\n",
    "\n",
    "Counter(all_words).most_common(20)"
   ],
   "outputs": [
    {
     "data": {
      "text/plain": [
       "[('the', 6429),\n",
       " ('and', 3668),\n",
       " ('you', 2974),\n",
       " ('for', 2757),\n",
       " ('have', 1804),\n",
       " ('that', 1621),\n",
       " (\"i'm\", 1582),\n",
       " ('just', 1565),\n",
       " ('but', 1538),\n",
       " ('with', 1481),\n",
       " ('not', 1295),\n",
       " ('was', 1253),\n",
       " ('this', 1098),\n",
       " ('get', 993),\n",
       " ('good', 977),\n",
       " ('are', 949),\n",
       " ('like', 897),\n",
       " ('out', 895),\n",
       " ('all', 879),\n",
       " ('going', 822)]"
      ]
     },
     "execution_count": 1021,
     "metadata": {},
     "output_type": "execute_result"
    }
   ],
   "execution_count": 1021
  },
  {
   "metadata": {
    "ExecuteTime": {
     "end_time": "2025-03-24T20:39:18.246692Z",
     "start_time": "2025-03-24T20:39:18.156332Z"
    }
   },
   "cell_type": "code",
   "source": [
    "%matplotlib inline\n",
    "sns.countplot(x=data['polarity'])"
   ],
   "outputs": [
    {
     "data": {
      "text/plain": [
       "<Axes: xlabel='polarity', ylabel='count'>"
      ]
     },
     "execution_count": 1022,
     "metadata": {},
     "output_type": "execute_result"
    },
    {
     "data": {
      "text/plain": [
       "<Figure size 640x480 with 1 Axes>"
      ],
      "image/png": "[encoded data removed]"
     },
     "metadata": {},
     "output_type": "display_data"
    }
   ],
   "execution_count": 1022
  },
  {
   "metadata": {},
   "cell_type": "markdown",
   "source": [
    "# Data Processing\n",
    "## The Preprocessing steps taken are:\n",
    "1. Lower Casing: Each text is converted to lowercase.\n",
    "2. Removing URLs: Links starting with \"http\" or \"https\" or \"www\" are replaced by \"\".\n",
    "\n",
    "3. Removing Usernames: Replace @Usernames with word \"\". (eg: \"@XYZ\" to \"\")\n",
    "\n",
    "4. Removing Short Words: Words with length less than 2 are removed.\n",
    "5. Removing Stopwords: Stopwords are the English words which does not add much meaning to a sentence. They can safely be ignored without sacrificing the meaning of the sentence. (eg: \"the\", \"he\", \"have\")\n",
    "6. Lemmatizing: Lemmatization is the process of converting a word to its base form. (e.g: “wolves” to “wolf”)"
   ]
  },
  {
   "metadata": {
    "ExecuteTime": {
     "end_time": "2025-03-24T20:39:18.253605Z",
     "start_time": "2025-03-24T20:39:18.250436Z"
    }
   },
   "cell_type": "code",
   "source": [
    "# Removing the unnecessary columns.\n",
    "data.drop(['date','query','user','word count'], axis=1, inplace=True)"
   ],
   "outputs": [],
   "execution_count": 1023
  },
  {
   "metadata": {
    "ExecuteTime": {
     "end_time": "2025-03-24T20:39:18.290249Z",
     "start_time": "2025-03-24T20:39:18.284039Z"
    }
   },
   "cell_type": "code",
   "source": [
    "data.drop('id', axis=1, inplace=True)\n",
    "data.head(10)"
   ],
   "outputs": [
    {
     "data": {
      "text/plain": [
       "         polarity                                               text\n",
       "1586564         1  ...went to New Emperor as it was still open  V...\n",
       "1593258         1  @lickmycupcakes Yay!!! It worked!! And thank y...\n",
       "250171          0    @Mister_82 don't b hatin on my Mira Mira music \n",
       "774617          0  Where were u when #BPD broke 1,000 users onlin...\n",
       "219640          0  I really just want to be out of Dothan...more ...\n",
       "364854          0  Fml got suckered into working til 930 and I'm ...\n",
       "1081037         1  @aalmishal ???? ?? ?????  ????? ????? ?????? ?...\n",
       "352747          0  Today I could go get my new phone, probably wo...\n",
       "804759          1  @SexySubKaylee heh heh dirty is always good gu...\n",
       "903760          1  No school today - Not because of &quot;H1N1&qu..."
      ],
      "text/html": [
       "<div>\n",
       "<style scoped>\n",
       "    .dataframe tbody tr th:only-of-type {\n",
       "        vertical-align: middle;\n",
       "    }\n",
       "\n",
       "    .dataframe tbody tr th {\n",
       "        vertical-align: top;\n",
       "    }\n",
       "\n",
       "    .dataframe thead th {\n",
       "        text-align: right;\n",
       "    }\n",
       "</style>\n",
       "<table border=\"1\" class=\"dataframe\">\n",
       "  <thead>\n",
       "    <tr style=\"text-align: right;\">\n",
       "      <th></th>\n",
       "      <th>polarity</th>\n",
       "      <th>text</th>\n",
       "    </tr>\n",
       "  </thead>\n",
       "  <tbody>\n",
       "    <tr>\n",
       "      <th>1586564</th>\n",
       "      <td>1</td>\n",
       "      <td>...went to New Emperor as it was still open  V...</td>\n",
       "    </tr>\n",
       "    <tr>\n",
       "      <th>1593258</th>\n",
       "      <td>1</td>\n",
       "      <td>@lickmycupcakes Yay!!! It worked!! And thank y...</td>\n",
       "    </tr>\n",
       "    <tr>\n",
       "      <th>250171</th>\n",
       "      <td>0</td>\n",
       "      <td>@Mister_82 don't b hatin on my Mira Mira music</td>\n",
       "    </tr>\n",
       "    <tr>\n",
       "      <th>774617</th>\n",
       "      <td>0</td>\n",
       "      <td>Where were u when #BPD broke 1,000 users onlin...</td>\n",
       "    </tr>\n",
       "    <tr>\n",
       "      <th>219640</th>\n",
       "      <td>0</td>\n",
       "      <td>I really just want to be out of Dothan...more ...</td>\n",
       "    </tr>\n",
       "    <tr>\n",
       "      <th>364854</th>\n",
       "      <td>0</td>\n",
       "      <td>Fml got suckered into working til 930 and I'm ...</td>\n",
       "    </tr>\n",
       "    <tr>\n",
       "      <th>1081037</th>\n",
       "      <td>1</td>\n",
       "      <td>@aalmishal ???? ?? ?????  ????? ????? ?????? ?...</td>\n",
       "    </tr>\n",
       "    <tr>\n",
       "      <th>352747</th>\n",
       "      <td>0</td>\n",
       "      <td>Today I could go get my new phone, probably wo...</td>\n",
       "    </tr>\n",
       "    <tr>\n",
       "      <th>804759</th>\n",
       "      <td>1</td>\n",
       "      <td>@SexySubKaylee heh heh dirty is always good gu...</td>\n",
       "    </tr>\n",
       "    <tr>\n",
       "      <th>903760</th>\n",
       "      <td>1</td>\n",
       "      <td>No school today - Not because of &amp;quot;H1N1&amp;qu...</td>\n",
       "    </tr>\n",
       "  </tbody>\n",
       "</table>\n",
       "</div>"
      ]
     },
     "execution_count": 1024,
     "metadata": {},
     "output_type": "execute_result"
    }
   ],
   "execution_count": 1024
  },
  {
   "metadata": {
    "ExecuteTime": {
     "end_time": "2025-03-24T20:39:18.381816Z",
     "start_time": "2025-03-24T20:39:18.374682Z"
    }
   },
   "cell_type": "code",
   "source": [
    "#Checking if any null values present\n",
    "(data.isnull().sum() / len(data))*100"
   ],
   "outputs": [
    {
     "data": {
      "text/plain": [
       "polarity    0.0\n",
       "text        0.0\n",
       "dtype: float64"
      ]
     },
     "execution_count": 1025,
     "metadata": {},
     "output_type": "execute_result"
    }
   ],
   "execution_count": 1025
  },
  {
   "metadata": {
    "ExecuteTime": {
     "end_time": "2025-03-24T20:39:18.493845Z",
     "start_time": "2025-03-24T20:39:18.490759Z"
    }
   },
   "cell_type": "code",
   "source": [
    "#convrting pandas object to a string type\n",
    "data['text'] = data['text'].astype('str')"
   ],
   "outputs": [],
   "execution_count": 1026
  },
  {
   "metadata": {
    "ExecuteTime": {
     "end_time": "2025-03-24T20:39:18.602387Z",
     "start_time": "2025-03-24T20:39:18.598154Z"
    }
   },
   "cell_type": "code",
   "source": [
    "nltk.download('stopwords')\n",
    "stopword = set(stopwords.words('english'))\n",
    "print(stopword)"
   ],
   "outputs": [
    {
     "name": "stdout",
     "output_type": "stream",
     "text": [
      "{\"i'm\", 'some', \"she'll\", \"mightn't\", 'doesn', 'but', \"he's\", 'itself', \"we've\", 'on', 'ourselves', 'did', 'his', 'by', 's', 'do', 'you', 'ma', 'and', 'more', 'with', 'how', 'in', 'ain', 'me', 'of', 'over', \"should've\", 'them', 'didn', 'hers', \"shan't\", 'the', 'herself', \"couldn't\", 'was', 'through', 'after', 'mustn', 'other', 'theirs', \"she'd\", \"wouldn't\", 'nor', 'have', 'my', 'if', \"don't\", 'wouldn', 'during', 'such', 'i', \"i'd\", \"you're\", 'until', 'most', \"he'll\", \"shouldn't\", 'no', 'are', 'should', 'when', 'will', \"hadn't\", 'these', 'where', 'their', 'so', \"wasn't\", 'which', \"it's\", 'than', 'out', 're', \"they've\", 'any', 'mightn', 'being', 'a', \"weren't\", \"it'll\", 'he', 'as', 'further', 'to', 'at', 'it', \"doesn't\", 'ours', \"they're\", 'has', 'her', 'what', 'had', 'few', 'm', 'for', 'she', \"you'd\", \"didn't\", \"needn't\", 'now', 'don', 'am', 'd', 'below', \"they'd\", 'doing', \"haven't\", \"that'll\", 'same', 'him', 'isn', 'into', 'just', 'own', \"you'll\", 'only', 'down', \"we'll\", 'your', 'against', 'here', 'weren', 'be', 'our', 't', 'won', 'hasn', 'aren', 'once', \"i've\", 'while', 'is', 'whom', 'each', 'been', 'themselves', \"we'd\", 'shouldn', 'from', 'couldn', 'there', 'needn', 'yours', 'having', 've', 'under', \"they'll\", 'can', 'does', \"she's\", 'that', 'll', 'again', 'why', 'y', 'yourselves', 'then', \"he'd\", 'shan', \"aren't\", \"isn't\", 'myself', 'himself', 'they', 'both', \"hasn't\", 'wasn', 'hadn', \"won't\", 'all', \"you've\", 'this', 'between', 'or', 'we', 'too', 'an', 'up', 'its', 'off', 'who', 'yourself', 'those', 'before', 'haven', 'because', \"mustn't\", 'very', 'above', \"i'll\", \"it'd\", 'not', 'were', 'o', 'about', \"we're\"}\n"
     ]
    },
    {
     "name": "stderr",
     "output_type": "stream",
     "text": [
      "[nltk_data] Downloading package stopwords to\n",
      "[nltk_data]     /Users/zhaijingjing/nltk_data...\n",
      "[nltk_data]   Package stopwords is already up-to-date!\n"
     ]
    }
   ],
   "execution_count": 1027
  },
  {
   "metadata": {
    "ExecuteTime": {
     "end_time": "2025-03-24T20:39:18.671851Z",
     "start_time": "2025-03-24T20:39:18.667855Z"
    }
   },
   "cell_type": "code",
   "source": [
    "nltk.download('punkt')\n",
    "nltk.download('wordnet')\n",
    "nltk.download('punkt_tab')"
   ],
   "outputs": [
    {
     "name": "stderr",
     "output_type": "stream",
     "text": [
      "[nltk_data] Downloading package punkt to\n",
      "[nltk_data]     /Users/zhaijingjing/nltk_data...\n",
      "[nltk_data]   Package punkt is already up-to-date!\n",
      "[nltk_data] Downloading package wordnet to\n",
      "[nltk_data]     /Users/zhaijingjing/nltk_data...\n",
      "[nltk_data]   Package wordnet is already up-to-date!\n",
      "[nltk_data] Downloading package punkt_tab to\n",
      "[nltk_data]     /Users/zhaijingjing/nltk_data...\n",
      "[nltk_data]   Package punkt_tab is already up-to-date!\n"
     ]
    },
    {
     "data": {
      "text/plain": [
       "True"
      ]
     },
     "execution_count": 1028,
     "metadata": {},
     "output_type": "execute_result"
    }
   ],
   "execution_count": 1028
  },
  {
   "metadata": {
    "ExecuteTime": {
     "end_time": "2025-03-24T20:39:18.719810Z",
     "start_time": "2025-03-24T20:39:18.711419Z"
    }
   },
   "cell_type": "code",
   "source": [
    "urlPattern = r\"((http://)[^ ]*|(https://)[^ ]*|( www\\.)[^ ]*)\"\n",
    "userPattern = '@[^\\s]+'\n",
    "\n",
    "# negation handling fix 预处理方法\n",
    "def process_tweets_negation_handling_fix(tweet):\n",
    "    # Lower Casing\n",
    "    tweet = tweet.lower()\n",
    "    #tweet=tweet[1:]\n",
    "    # Removing all URls\n",
    "    tweet = re.sub(urlPattern,'',tweet)\n",
    "    # Removing all @username.\n",
    "    tweet = re.sub(userPattern,'', tweet)\n",
    "    # 移除非字母数字、空格和'的字符\n",
    "    tweet = re.sub(r\"[^\\w\\s']\", '', tweet)\n",
    "    # --- 特殊否定缩写处理 ---\n",
    "    # 1. 明确处理 can't → cannot\n",
    "    tweet = re.sub(r\"\\bcan't\\b\", \"cannot\", tweet)\n",
    "    # 2. 处理 won't → will not\n",
    "    tweet = re.sub(r\"\\bwon't\\b\", \"will not\", tweet)\n",
    "    # 3. 处理 shan't → shall not\n",
    "    tweet = re.sub(r\"\\bshan't\\b\", \"shall not\", tweet)\n",
    "    # 4. 处理 ain't → is not\n",
    "    tweet = re.sub(r\"\\bain't\\b\", \"is not\", tweet)\n",
    "    # --- 通用n't处理 ---\n",
    "    # 将剩余n't替换为 not（如didn't → did not）\n",
    "    tweet = re.sub(r\"n't\\b\", \" not\", tweet)\n",
    "    # --- 处理其他撇号为空格（如I'll → I ll）---\n",
    "    tweet = re.sub(r\"'\", ' ', tweet)\n",
    "\n",
    "    #tokenizing words\n",
    "    tokens = word_tokenize(tweet)\n",
    "    # Remove punctuations but remain ‘n't’\n",
    "    final_tokens = tokens\n",
    "    #reducing a word to its word stem\n",
    "    wordLemm = WordNetLemmatizer()\n",
    "    finalwords=[]\n",
    "\n",
    "    for w in tokens:\n",
    "        if len(w) > 1:\n",
    "            # 动词词性还原（解决 does→doe 问题）\n",
    "            word = wordLemm.lemmatize(w, pos='v')\n",
    "            # 名词词性还原（根据任务需求）\n",
    "            word = wordLemm.lemmatize(word, pos='n')\n",
    "            finalwords.append(word)\n",
    "    return ' '.join(finalwords)\n",
    "\n",
    "# negation & stopword handling fix 预处理方法\n",
    "def process_tweets_negation_stopword_handling_fix(tweet):\n",
    "    # Lower Casing\n",
    "    tweet = tweet.lower()\n",
    "    #tweet=tweet[1:]\n",
    "    # Removing all URls\n",
    "    tweet = re.sub(urlPattern,'',tweet)\n",
    "    # Removing all @username.\n",
    "    tweet = re.sub(userPattern,'', tweet)\n",
    "    # 移除非字母数字、空格和'的字符\n",
    "    tweet = re.sub(r\"[^\\w\\s']\", '', tweet)\n",
    "    # --- 特殊否定缩写处理 ---\n",
    "    # 1. 明确处理 can't → cannot\n",
    "    tweet = re.sub(r\"\\bcan't\\b\", \"cannot\", tweet)\n",
    "    # 2. 处理 won't → will not\n",
    "    tweet = re.sub(r\"\\bwon't\\b\", \"will not\", tweet)\n",
    "    # 3. 处理 shan't → shall not\n",
    "    tweet = re.sub(r\"\\bshan't\\b\", \"shall not\", tweet)\n",
    "    # 4. 处理 ain't → is not\n",
    "    tweet = re.sub(r\"\\bain't\\b\", \"is not\", tweet)\n",
    "    # --- 通用n't处理 ---\n",
    "    # 将剩余n't替换为 not（如didn't → did not）\n",
    "    tweet = re.sub(r\"n't\\b\", \" not\", tweet)\n",
    "    # --- 处理其他撇号为空格（如I'll → I ll）---\n",
    "    tweet = re.sub(r\"'\", ' ', tweet)\n",
    "    #tokenizing words\n",
    "    tokens = word_tokenize(tweet)\n",
    "\n",
    "    # 移除非否定停用词\n",
    "    negation_words = {\n",
    "        # 基础否定词\n",
    "        \"not\", \"no\", \"never\", \"nor\", \"none\", \"nobody\", \"nothing\",\n",
    "        \"neither\", \"nowhere\", \"without\", \"cannot\"\n",
    "        # 预处理后可能保留的否定词（如来自特殊缩写替换）\n",
    "        # ,\"isn\", \"aren\", \"wasn\", \"weren\"\n",
    "    }\n",
    "    custom_stop_words = stopword.difference(negation_words)\n",
    "    final_tokens = [w for w in tokens if w not in custom_stop_words]\n",
    "\n",
    "    #reducing a word to its word stem\n",
    "    wordLemm = WordNetLemmatizer()\n",
    "    finalwords=[]\n",
    "\n",
    "    for w in final_tokens:\n",
    "        if len(w) > 1:\n",
    "            # 动词词性还原（解决 does→doe 问题）\n",
    "            word = wordLemm.lemmatize(w, pos='v')\n",
    "            # 名词词性还原（根据任务需求）\n",
    "            word = wordLemm.lemmatize(word, pos='n')\n",
    "            finalwords.append(word)\n",
    "    return ' '.join(finalwords)"
   ],
   "outputs": [],
   "execution_count": 1029
  },
  {
   "metadata": {
    "ExecuteTime": {
     "end_time": "2025-03-24T20:39:21.062185Z",
     "start_time": "2025-03-24T20:39:18.757306Z"
    }
   },
   "cell_type": "code",
   "source": [
    "data['processed_tweets'] = data['text'].apply(lambda x: process_tweets_negation_handling_fix(x))\n",
    "print('Text Preprocessing complete.')"
   ],
   "outputs": [
    {
     "name": "stdout",
     "output_type": "stream",
     "text": [
      "Text Preprocessing complete.\n"
     ]
    }
   ],
   "execution_count": 1030
  },
  {
   "metadata": {
    "ExecuteTime": {
     "end_time": "2025-03-24T20:39:21.080155Z",
     "start_time": "2025-03-24T20:39:21.075067Z"
    }
   },
   "cell_type": "code",
   "source": "data.head(10)",
   "outputs": [
    {
     "data": {
      "text/plain": [
       "         polarity                                               text  \\\n",
       "1586564         1  ...went to New Emperor as it was still open  V...   \n",
       "1593258         1  @lickmycupcakes Yay!!! It worked!! And thank y...   \n",
       "250171          0    @Mister_82 don't b hatin on my Mira Mira music    \n",
       "774617          0  Where were u when #BPD broke 1,000 users onlin...   \n",
       "219640          0  I really just want to be out of Dothan...more ...   \n",
       "364854          0  Fml got suckered into working til 930 and I'm ...   \n",
       "1081037         1  @aalmishal ???? ?? ?????  ????? ????? ?????? ?...   \n",
       "352747          0  Today I could go get my new phone, probably wo...   \n",
       "804759          1  @SexySubKaylee heh heh dirty is always good gu...   \n",
       "903760          1  No school today - Not because of &quot;H1N1&qu...   \n",
       "\n",
       "                                          processed_tweets  \n",
       "1586564  go new emperor still open nice actually walk p...  \n",
       "1593258                               yay work thank blush  \n",
       "250171                           not hatin mira mira music  \n",
       "774617   bpd break 1000 user online 628pm est help cowo...  \n",
       "219640                     really want dothanmore anything  \n",
       "364854             fml get suckered work til 930 back 1030  \n",
       "1081037                                                     \n",
       "352747   today could go get new phone probably not get ...  \n",
       "804759           heh heh dirty always good gurl like think  \n",
       "903760   no school today not quoth1n1quot natural gas l...  "
      ],
      "text/html": [
       "<div>\n",
       "<style scoped>\n",
       "    .dataframe tbody tr th:only-of-type {\n",
       "        vertical-align: middle;\n",
       "    }\n",
       "\n",
       "    .dataframe tbody tr th {\n",
       "        vertical-align: top;\n",
       "    }\n",
       "\n",
       "    .dataframe thead th {\n",
       "        text-align: right;\n",
       "    }\n",
       "</style>\n",
       "<table border=\"1\" class=\"dataframe\">\n",
       "  <thead>\n",
       "    <tr style=\"text-align: right;\">\n",
       "      <th></th>\n",
       "      <th>polarity</th>\n",
       "      <th>text</th>\n",
       "      <th>processed_tweets</th>\n",
       "    </tr>\n",
       "  </thead>\n",
       "  <tbody>\n",
       "    <tr>\n",
       "      <th>1586564</th>\n",
       "      <td>1</td>\n",
       "      <td>...went to New Emperor as it was still open  V...</td>\n",
       "      <td>go new emperor still open nice actually walk p...</td>\n",
       "    </tr>\n",
       "    <tr>\n",
       "      <th>1593258</th>\n",
       "      <td>1</td>\n",
       "      <td>@lickmycupcakes Yay!!! It worked!! And thank y...</td>\n",
       "      <td>yay work thank blush</td>\n",
       "    </tr>\n",
       "    <tr>\n",
       "      <th>250171</th>\n",
       "      <td>0</td>\n",
       "      <td>@Mister_82 don't b hatin on my Mira Mira music</td>\n",
       "      <td>not hatin mira mira music</td>\n",
       "    </tr>\n",
       "    <tr>\n",
       "      <th>774617</th>\n",
       "      <td>0</td>\n",
       "      <td>Where were u when #BPD broke 1,000 users onlin...</td>\n",
       "      <td>bpd break 1000 user online 628pm est help cowo...</td>\n",
       "    </tr>\n",
       "    <tr>\n",
       "      <th>219640</th>\n",
       "      <td>0</td>\n",
       "      <td>I really just want to be out of Dothan...more ...</td>\n",
       "      <td>really want dothanmore anything</td>\n",
       "    </tr>\n",
       "    <tr>\n",
       "      <th>364854</th>\n",
       "      <td>0</td>\n",
       "      <td>Fml got suckered into working til 930 and I'm ...</td>\n",
       "      <td>fml get suckered work til 930 back 1030</td>\n",
       "    </tr>\n",
       "    <tr>\n",
       "      <th>1081037</th>\n",
       "      <td>1</td>\n",
       "      <td>@aalmishal ???? ?? ?????  ????? ????? ?????? ?...</td>\n",
       "      <td></td>\n",
       "    </tr>\n",
       "    <tr>\n",
       "      <th>352747</th>\n",
       "      <td>0</td>\n",
       "      <td>Today I could go get my new phone, probably wo...</td>\n",
       "      <td>today could go get new phone probably not get ...</td>\n",
       "    </tr>\n",
       "    <tr>\n",
       "      <th>804759</th>\n",
       "      <td>1</td>\n",
       "      <td>@SexySubKaylee heh heh dirty is always good gu...</td>\n",
       "      <td>heh heh dirty always good gurl like think</td>\n",
       "    </tr>\n",
       "    <tr>\n",
       "      <th>903760</th>\n",
       "      <td>1</td>\n",
       "      <td>No school today - Not because of &amp;quot;H1N1&amp;qu...</td>\n",
       "      <td>no school today not quoth1n1quot natural gas l...</td>\n",
       "    </tr>\n",
       "  </tbody>\n",
       "</table>\n",
       "</div>"
      ]
     },
     "execution_count": 1031,
     "metadata": {},
     "output_type": "execute_result"
    }
   ],
   "execution_count": 1031
  },
  {
   "metadata": {},
   "cell_type": "markdown",
   "source": "# RNN - LSTM"
  },
  {
   "metadata": {
    "ExecuteTime": {
     "end_time": "2025-03-24T20:39:21.156021Z",
     "start_time": "2025-03-24T20:39:21.152394Z"
    }
   },
   "cell_type": "code",
   "source": [
    "from keras.models import Sequential\n",
    "from keras.layers import Dense, Embedding, LSTM, Dropout\n",
    "from sklearn.feature_extraction.text import CountVectorizer\n",
    "from tensorflow.keras.preprocessing.text import Tokenizer\n",
    "from tensorflow.keras.preprocessing.sequence import pad_sequences\n",
    "from tensorflow.keras.utils import to_categorical\n",
    "import re\n",
    "import keras\n",
    "from keras import regularizers\n",
    "from keras.models import Sequential\n",
    "from keras import layers\n",
    "from keras import regularizers\n",
    "from keras import backend as K\n",
    "from keras.callbacks import ModelCheckpoint\n",
    "from tensorflow.keras.optimizers import Adam\n",
    "from keras.layers import Dense, Embedding, LSTM, Dropout, BatchNormalization, LeakyReLU"
   ],
   "outputs": [],
   "execution_count": 1032
  },
  {
   "metadata": {},
   "cell_type": "markdown",
   "source": "## Hyperparameters"
  },
  {
   "metadata": {
    "ExecuteTime": {
     "end_time": "2025-03-24T20:39:21.236565Z",
     "start_time": "2025-03-24T20:39:21.233245Z"
    }
   },
   "cell_type": "code",
   "source": [
    "num_epochs = 10\n",
    "max_len = 200\n",
    "hidden_units = 16\n",
    "LSTM_layers = 1\n",
    "LSTM_units = 8\n",
    "max_words = 10000\n",
    "embedding_dim = 128\n",
    "learning_rate = 0.001\n",
    "dropout = 0.0"
   ],
   "outputs": [],
   "execution_count": 1033
  },
  {
   "metadata": {},
   "cell_type": "markdown",
   "source": "## Converting text data into sequences"
  },
  {
   "metadata": {
    "ExecuteTime": {
     "end_time": "2025-03-24T20:39:21.637644Z",
     "start_time": "2025-03-24T20:39:21.277363Z"
    }
   },
   "cell_type": "code",
   "source": [
    "# Initialize the tokenizer, keeping only the top 'max_words' most frequent words\n",
    "tokenizer = Tokenizer(num_words=max_words)\n",
    "# Fit the tokenizer on the processed tweets to build the word index\n",
    "tokenizer.fit_on_texts(data.processed_tweets)\n",
    "# Convert each tweet (text) into a sequence of integer indices based on the word index\n",
    "sequences = tokenizer.texts_to_sequences(data.processed_tweets)\n",
    "\n",
    "# Pad or truncate all sequences to the same length ('max_len')\n",
    "# - If a sequence is shorter than 'max_len', it will be padded with zeros at the beginning.\n",
    "# - If a sequence is longer than 'max_len', it will be truncated from the beginning.\n",
    "tweets = pad_sequences(sequences, maxlen=max_len)\n",
    "print(tweets)"
   ],
   "outputs": [
    {
     "name": "stdout",
     "output_type": "stream",
     "text": [
      "[[   0    0    0 ...   36    3 3679]\n",
      " [   0    0    0 ...    6   15 2632]\n",
      " [   0    0    0 ... 4708 4708  210]\n",
      " ...\n",
      " [   0    0    0 ...    0    0   15]\n",
      " [   0    0    0 ...  755  405  123]\n",
      " [   0    0    0 ...    0   78  192]]\n"
     ]
    }
   ],
   "execution_count": 1034
  },
  {
   "metadata": {},
   "cell_type": "markdown",
   "source": "## Split Traning and Test data"
  },
  {
   "metadata": {
    "ExecuteTime": {
     "end_time": "2025-03-24T20:39:21.659809Z",
     "start_time": "2025-03-24T20:39:21.650997Z"
    }
   },
   "cell_type": "code",
   "source": [
    "train_data, test_data, train_label, test_label = train_test_split(tweets, data.polarity.values, test_size=0.2, random_state=101)\n",
    "print(np.unique(train_label))\n",
    "print(np.unique(test_label))"
   ],
   "outputs": [
    {
     "name": "stdout",
     "output_type": "stream",
     "text": [
      "[0 1]\n",
      "[0 1]\n"
     ]
    }
   ],
   "execution_count": 1035
  },
  {
   "metadata": {},
   "cell_type": "markdown",
   "source": "## Creating and Traning LSTM Model"
  },
  {
   "metadata": {
    "ExecuteTime": {
     "end_time": "2025-03-24T20:39:21.684907Z",
     "start_time": "2025-03-24T20:39:21.680975Z"
    }
   },
   "cell_type": "code",
   "source": [
    "def create_lstm_model():\n",
    "    model = Sequential()\n",
    "    model.add(layers.Embedding(max_words, embedding_dim))\n",
    "    for i in range(LSTM_layers):\n",
    "        return_sequences = i < LSTM_layers - 1  # 只有在不是最后一层时才返回序列\n",
    "        model.add(layers.LSTM(LSTM_units, dropout=dropout, return_sequences=return_sequences))\n",
    "    model.add(layers.Dense(hidden_units, activation='relu'))\n",
    "    model.add(layers.Dense(hidden_units, activation='relu'))\n",
    "    model.add(layers.Dense(1, activation='sigmoid'))\n",
    "\n",
    "    optimizer = Adam(learning_rate=learning_rate)\n",
    "    model.compile(optimizer=optimizer, loss='binary_crossentropy', metrics=['accuracy'])\n",
    "    return model"
   ],
   "outputs": [],
   "execution_count": 1036
  },
  {
   "metadata": {
    "ExecuteTime": {
     "end_time": "2025-03-24T20:42:42.775446Z",
     "start_time": "2025-03-24T20:39:21.713233Z"
    }
   },
   "cell_type": "code",
   "source": [
    "model = create_lstm_model()\n",
    "\n",
    "history = model.fit(\n",
    "    train_data, train_label,\n",
    "    epochs=num_epochs,\n",
    "    validation_data=(test_data, test_label),\n",
    "    verbose=2\n",
    ")\n",
    "\n",
    "# negation handling fix 隐藏层2层16节点 lstm1层32节点  embedding层(5000,64)：\n",
    "#   accuracy: 0.9607 - val_accuracy: 0.7178【一般】\n",
    "# negation handling fix 隐藏层2层16节点 lstm1层32节点  embedding层(8000,128)：\n",
    "#   accuracy: 0.9723 - val_accuracy: 0.7132【好】-> 测试完成 ->【模型效果No.2】\n",
    "\n",
    "# negation handling fix 隐藏层2层16节点 lstm3层32节点  embedding层(5000,64)：\n",
    "#   accuracy: 0.9513 - val_accuracy: 0.7218【没有好很多但lstm层更复杂】\n",
    "# negation handling fix 隐藏层2层16节点 lstm1层8节点  embedding层(10000,128)：\n",
    "#   accuracy: 0.9785 - val_accuracy: 0.7212【好】-> 测试完成 ->【模型效果No.1】\n",
    "# negation handling fix 隐藏层2层16节点 lstm1层8节点  embedding层(10000,64)：\n",
    "#   accuracy: 0.9662 - val_accuracy: 0.7140【一般】\n",
    "\n",
    "# negation & stopword handling fix 隐藏层3层8节点 lstm2层8节点  embedding层(5000,64)：\n",
    "#   accuracy: 0.9419 - val_accuracy: 0.6935【一般】\n",
    "# negation & stopword handling fix 隐藏层3层8节点 lstm2层64节点  embedding层(5000,64)：\n",
    "#   accuracy: 0.9446 - val_accuracy: 0.7032【没有好很多但lstm层更复杂】\n",
    "# negation & stopword handling fix 隐藏层3层8节点 lstm2层32节点  embedding层(5000,64)：\n",
    "#   accuracy: 0.9454 - val_accuracy: 0.7092\n",
    "# negation & stopword handling fix 隐藏层3层8节点 lstm2层32节点  embedding层(10000,256)：\n",
    "#   accuracy: 0.9749 - val_accuracy: 0.7035【好】-> 测试完成 ->【模型效果No.3】\n",
    "# negation & stopword handling fix 隐藏层3层8节点 lstm2层32节点  embedding层(10000,512)：\n",
    "#   accuracy: 0.9769 - val_accuracy: 0.7115【没有好很多但embedding层更复杂】\n",
    "# negation & stopword handling fix 隐藏层3层32节点 lstm1层16节点  embedding层(5000,64)：\n",
    "#   accuracy: 0.9533 - val_accuracy: 0.7042【没有好很多但隐藏层更复杂】"
   ],
   "outputs": [
    {
     "name": "stdout",
     "output_type": "stream",
     "text": [
      "Epoch 1/10\n",
      "500/500 - 23s - 46ms/step - accuracy: 0.6701 - loss: 0.5975 - val_accuracy: 0.7415 - val_loss: 0.5304\n",
      "Epoch 2/10\n",
      "500/500 - 20s - 40ms/step - accuracy: 0.7914 - loss: 0.4574 - val_accuracy: 0.7437 - val_loss: 0.5364\n",
      "Epoch 3/10\n",
      "500/500 - 20s - 40ms/step - accuracy: 0.8308 - loss: 0.3956 - val_accuracy: 0.7260 - val_loss: 0.5865\n",
      "Epoch 4/10\n",
      "500/500 - 20s - 40ms/step - accuracy: 0.8605 - loss: 0.3412 - val_accuracy: 0.7303 - val_loss: 0.6411\n",
      "Epoch 5/10\n",
      "500/500 - 20s - 40ms/step - accuracy: 0.8848 - loss: 0.2933 - val_accuracy: 0.7228 - val_loss: 0.6715\n",
      "Epoch 6/10\n",
      "500/500 - 20s - 40ms/step - accuracy: 0.9031 - loss: 0.2521 - val_accuracy: 0.7117 - val_loss: 0.7226\n",
      "Epoch 7/10\n",
      "500/500 - 20s - 39ms/step - accuracy: 0.9166 - loss: 0.2204 - val_accuracy: 0.7007 - val_loss: 0.7901\n",
      "Epoch 8/10\n",
      "500/500 - 20s - 39ms/step - accuracy: 0.9262 - loss: 0.1909 - val_accuracy: 0.7028 - val_loss: 0.9348\n",
      "Epoch 9/10\n",
      "500/500 - 20s - 39ms/step - accuracy: 0.9350 - loss: 0.1651 - val_accuracy: 0.7023 - val_loss: 1.0850\n",
      "Epoch 10/10\n",
      "500/500 - 20s - 39ms/step - accuracy: 0.9419 - loss: 0.1460 - val_accuracy: 0.6935 - val_loss: 1.1648\n"
     ]
    }
   ],
   "execution_count": 1037
  },
  {
   "metadata": {
    "ExecuteTime": {
     "end_time": "2025-03-24T20:42:42.881483Z",
     "start_time": "2025-03-24T20:42:42.872137Z"
    }
   },
   "cell_type": "code",
   "source": "model.summary()",
   "outputs": [
    {
     "data": {
      "text/plain": [
       "\u001B[1mModel: \"sequential_35\"\u001B[0m\n"
      ],
      "text/html": [
       "<pre style=\"white-space:pre;overflow-x:auto;line-height:normal;font-family:Menlo,'DejaVu Sans Mono',consolas,'Courier New',monospace\"><span style=\"font-weight: bold\">Model: \"sequential_35\"</span>\n",
       "</pre>\n"
      ]
     },
     "metadata": {},
     "output_type": "display_data"
    },
    {
     "data": {
      "text/plain": [
       "┏━━━━━━━━━━━━━━━━━━━━━━━━━━━━━━━━━┳━━━━━━━━━━━━━━━━━━━━━━━━┳━━━━━━━━━━━━━━━┓\n",
       "┃\u001B[1m \u001B[0m\u001B[1mLayer (type)                   \u001B[0m\u001B[1m \u001B[0m┃\u001B[1m \u001B[0m\u001B[1mOutput Shape          \u001B[0m\u001B[1m \u001B[0m┃\u001B[1m \u001B[0m\u001B[1m      Param #\u001B[0m\u001B[1m \u001B[0m┃\n",
       "┡━━━━━━━━━━━━━━━━━━━━━━━━━━━━━━━━━╇━━━━━━━━━━━━━━━━━━━━━━━━╇━━━━━━━━━━━━━━━┩\n",
       "│ embedding_35 (\u001B[38;5;33mEmbedding\u001B[0m)        │ (\u001B[38;5;34m32\u001B[0m, \u001B[38;5;34m200\u001B[0m, \u001B[38;5;34m64\u001B[0m)          │       \u001B[38;5;34m320,000\u001B[0m │\n",
       "├─────────────────────────────────┼────────────────────────┼───────────────┤\n",
       "│ lstm_51 (\u001B[38;5;33mLSTM\u001B[0m)                  │ (\u001B[38;5;34m32\u001B[0m, \u001B[38;5;34m200\u001B[0m, \u001B[38;5;34m8\u001B[0m)           │         \u001B[38;5;34m2,336\u001B[0m │\n",
       "├─────────────────────────────────┼────────────────────────┼───────────────┤\n",
       "│ lstm_52 (\u001B[38;5;33mLSTM\u001B[0m)                  │ (\u001B[38;5;34m32\u001B[0m, \u001B[38;5;34m8\u001B[0m)                │           \u001B[38;5;34m544\u001B[0m │\n",
       "├─────────────────────────────────┼────────────────────────┼───────────────┤\n",
       "│ dense_120 (\u001B[38;5;33mDense\u001B[0m)               │ (\u001B[38;5;34m32\u001B[0m, \u001B[38;5;34m8\u001B[0m)                │            \u001B[38;5;34m72\u001B[0m │\n",
       "├─────────────────────────────────┼────────────────────────┼───────────────┤\n",
       "│ dense_121 (\u001B[38;5;33mDense\u001B[0m)               │ (\u001B[38;5;34m32\u001B[0m, \u001B[38;5;34m8\u001B[0m)                │            \u001B[38;5;34m72\u001B[0m │\n",
       "├─────────────────────────────────┼────────────────────────┼───────────────┤\n",
       "│ dense_122 (\u001B[38;5;33mDense\u001B[0m)               │ (\u001B[38;5;34m32\u001B[0m, \u001B[38;5;34m8\u001B[0m)                │            \u001B[38;5;34m72\u001B[0m │\n",
       "├─────────────────────────────────┼────────────────────────┼───────────────┤\n",
       "│ dense_123 (\u001B[38;5;33mDense\u001B[0m)               │ (\u001B[38;5;34m32\u001B[0m, \u001B[38;5;34m1\u001B[0m)                │             \u001B[38;5;34m9\u001B[0m │\n",
       "└─────────────────────────────────┴────────────────────────┴───────────────┘\n"
      ],
      "text/html": [
       "<pre style=\"white-space:pre;overflow-x:auto;line-height:normal;font-family:Menlo,'DejaVu Sans Mono',consolas,'Courier New',monospace\">┏━━━━━━━━━━━━━━━━━━━━━━━━━━━━━━━━━┳━━━━━━━━━━━━━━━━━━━━━━━━┳━━━━━━━━━━━━━━━┓\n",
       "┃<span style=\"font-weight: bold\"> Layer (type)                    </span>┃<span style=\"font-weight: bold\"> Output Shape           </span>┃<span style=\"font-weight: bold\">       Param # </span>┃\n",
       "┡━━━━━━━━━━━━━━━━━━━━━━━━━━━━━━━━━╇━━━━━━━━━━━━━━━━━━━━━━━━╇━━━━━━━━━━━━━━━┩\n",
       "│ embedding_35 (<span style=\"color: #0087ff; text-decoration-color: #0087ff\">Embedding</span>)        │ (<span style=\"color: #00af00; text-decoration-color: #00af00\">32</span>, <span style=\"color: #00af00; text-decoration-color: #00af00\">200</span>, <span style=\"color: #00af00; text-decoration-color: #00af00\">64</span>)          │       <span style=\"color: #00af00; text-decoration-color: #00af00\">320,000</span> │\n",
       "├─────────────────────────────────┼────────────────────────┼───────────────┤\n",
       "│ lstm_51 (<span style=\"color: #0087ff; text-decoration-color: #0087ff\">LSTM</span>)                  │ (<span style=\"color: #00af00; text-decoration-color: #00af00\">32</span>, <span style=\"color: #00af00; text-decoration-color: #00af00\">200</span>, <span style=\"color: #00af00; text-decoration-color: #00af00\">8</span>)           │         <span style=\"color: #00af00; text-decoration-color: #00af00\">2,336</span> │\n",
       "├─────────────────────────────────┼────────────────────────┼───────────────┤\n",
       "│ lstm_52 (<span style=\"color: #0087ff; text-decoration-color: #0087ff\">LSTM</span>)                  │ (<span style=\"color: #00af00; text-decoration-color: #00af00\">32</span>, <span style=\"color: #00af00; text-decoration-color: #00af00\">8</span>)                │           <span style=\"color: #00af00; text-decoration-color: #00af00\">544</span> │\n",
       "├─────────────────────────────────┼────────────────────────┼───────────────┤\n",
       "│ dense_120 (<span style=\"color: #0087ff; text-decoration-color: #0087ff\">Dense</span>)               │ (<span style=\"color: #00af00; text-decoration-color: #00af00\">32</span>, <span style=\"color: #00af00; text-decoration-color: #00af00\">8</span>)                │            <span style=\"color: #00af00; text-decoration-color: #00af00\">72</span> │\n",
       "├─────────────────────────────────┼────────────────────────┼───────────────┤\n",
       "│ dense_121 (<span style=\"color: #0087ff; text-decoration-color: #0087ff\">Dense</span>)               │ (<span style=\"color: #00af00; text-decoration-color: #00af00\">32</span>, <span style=\"color: #00af00; text-decoration-color: #00af00\">8</span>)                │            <span style=\"color: #00af00; text-decoration-color: #00af00\">72</span> │\n",
       "├─────────────────────────────────┼────────────────────────┼───────────────┤\n",
       "│ dense_122 (<span style=\"color: #0087ff; text-decoration-color: #0087ff\">Dense</span>)               │ (<span style=\"color: #00af00; text-decoration-color: #00af00\">32</span>, <span style=\"color: #00af00; text-decoration-color: #00af00\">8</span>)                │            <span style=\"color: #00af00; text-decoration-color: #00af00\">72</span> │\n",
       "├─────────────────────────────────┼────────────────────────┼───────────────┤\n",
       "│ dense_123 (<span style=\"color: #0087ff; text-decoration-color: #0087ff\">Dense</span>)               │ (<span style=\"color: #00af00; text-decoration-color: #00af00\">32</span>, <span style=\"color: #00af00; text-decoration-color: #00af00\">1</span>)                │             <span style=\"color: #00af00; text-decoration-color: #00af00\">9</span> │\n",
       "└─────────────────────────────────┴────────────────────────┴───────────────┘\n",
       "</pre>\n"
      ]
     },
     "metadata": {},
     "output_type": "display_data"
    },
    {
     "data": {
      "text/plain": [
       "\u001B[1m Total params: \u001B[0m\u001B[38;5;34m969,317\u001B[0m (3.70 MB)\n"
      ],
      "text/html": [
       "<pre style=\"white-space:pre;overflow-x:auto;line-height:normal;font-family:Menlo,'DejaVu Sans Mono',consolas,'Courier New',monospace\"><span style=\"font-weight: bold\"> Total params: </span><span style=\"color: #00af00; text-decoration-color: #00af00\">969,317</span> (3.70 MB)\n",
       "</pre>\n"
      ]
     },
     "metadata": {},
     "output_type": "display_data"
    },
    {
     "data": {
      "text/plain": [
       "\u001B[1m Trainable params: \u001B[0m\u001B[38;5;34m323,105\u001B[0m (1.23 MB)\n"
      ],
      "text/html": [
       "<pre style=\"white-space:pre;overflow-x:auto;line-height:normal;font-family:Menlo,'DejaVu Sans Mono',consolas,'Courier New',monospace\"><span style=\"font-weight: bold\"> Trainable params: </span><span style=\"color: #00af00; text-decoration-color: #00af00\">323,105</span> (1.23 MB)\n",
       "</pre>\n"
      ]
     },
     "metadata": {},
     "output_type": "display_data"
    },
    {
     "data": {
      "text/plain": [
       "\u001B[1m Non-trainable params: \u001B[0m\u001B[38;5;34m0\u001B[0m (0.00 B)\n"
      ],
      "text/html": [
       "<pre style=\"white-space:pre;overflow-x:auto;line-height:normal;font-family:Menlo,'DejaVu Sans Mono',consolas,'Courier New',monospace\"><span style=\"font-weight: bold\"> Non-trainable params: </span><span style=\"color: #00af00; text-decoration-color: #00af00\">0</span> (0.00 B)\n",
       "</pre>\n"
      ]
     },
     "metadata": {},
     "output_type": "display_data"
    },
    {
     "data": {
      "text/plain": [
       "\u001B[1m Optimizer params: \u001B[0m\u001B[38;5;34m646,212\u001B[0m (2.47 MB)\n"
      ],
      "text/html": [
       "<pre style=\"white-space:pre;overflow-x:auto;line-height:normal;font-family:Menlo,'DejaVu Sans Mono',consolas,'Courier New',monospace\"><span style=\"font-weight: bold\"> Optimizer params: </span><span style=\"color: #00af00; text-decoration-color: #00af00\">646,212</span> (2.47 MB)\n",
       "</pre>\n"
      ]
     },
     "metadata": {},
     "output_type": "display_data"
    }
   ],
   "execution_count": 1038
  },
  {
   "metadata": {
    "ExecuteTime": {
     "end_time": "2025-03-24T20:42:43.310032Z",
     "start_time": "2025-03-24T20:42:43.104332Z"
    }
   },
   "cell_type": "code",
   "source": [
    "colors = ['red', 'orange', 'green', 'blue', 'purple', 'brown', 'pink', 'gray', 'cyan', 'magenta']\n",
    "fig, axes = plt.subplots(1, 2, figsize=(12, 5))\n",
    "\n",
    "axes[0].plot(range(1, len(history.history['loss']) + 1), history.history['loss'], label='Train Loss', color=colors[0])\n",
    "axes[0].plot(range(1, len(history.history['val_loss']) + 1), history.history['val_loss'], label='Test Loss', color=colors[3])\n",
    "axes[0].set_xlabel(\"Epoch\")\n",
    "axes[0].set_ylabel(\"Loss\")\n",
    "axes[0].set_title(\"Train & Test Loss\")\n",
    "axes[0].legend()\n",
    "\n",
    "axes[1].plot(range(1, len(history.history['accuracy']) + 1), history.history['accuracy'], label='Train Accuracy', color=colors[0])\n",
    "axes[1].plot(range(1, len(history.history['val_accuracy']) + 1), history.history['val_accuracy'], label='Test Accuracy', color=colors[3])\n",
    "axes[1].set_xlabel(\"Epoch\")\n",
    "axes[1].set_ylabel(\"Accuracy\")\n",
    "axes[1].set_title(\"Train & Test Accuracy\")\n",
    "axes[1].legend()"
   ],
   "outputs": [
    {
     "data": {
      "text/plain": [
       "<matplotlib.legend.Legend at 0x7483fbfd0>"
      ]
     },
     "execution_count": 1039,
     "metadata": {},
     "output_type": "execute_result"
    },
    {
     "data": {
      "text/plain": [
       "<Figure size 1200x500 with 2 Axes>"
      ],
      "image/png": "[encoded data removed]"
     },
     "metadata": {},
     "output_type": "display_data"
    }
   ],
   "execution_count": 1039
  },
  {
   "metadata": {
    "ExecuteTime": {
     "end_time": "2025-03-24T20:42:43.339753Z",
     "start_time": "2025-03-24T20:42:43.338301Z"
    }
   },
   "cell_type": "code",
   "source": "",
   "outputs": [],
   "execution_count": null
  },
  {
   "metadata": {},
   "cell_type": "markdown",
   "source": ""
  }
 ],
 "metadata": {
  "colab": {
   "authorship_tag": "ABX9TyNNag92UMCy1GtgfJ+zFFU1",
   "collapsed_sections": [],
   "name": "DUDL_FFN_aboutMNIST.ipynb",
   "provenance": [
    {
     "file_id": "15cpyHkJ435B4MqbyGjAH1poN4nCy_DE4",
     "timestamp": 1617737766196
    },
    {
     "file_id": "1OLuWuaFu0hcFgkQ2hh5BqbRuqUZD7XcQ",
     "timestamp": 1617734878578
    },
    {
     "file_id": "1XvzVGJPTJifVh8OpZVB7ykLxyUqYwQ1j",
     "timestamp": 1617196833019
    },
    {
     "file_id": "1bv1_y32e3KEExFKKlPfC3rpw1JxmBr8H",
     "timestamp": 1617124341706
    },
    {
     "file_id": "1GMq8u7KyHB2AE7Teyls9gK1T01OduQSn",
     "timestamp": 1616697516760
    },
    {
     "file_id": "1Ui3kyHim-e0XLgDs2mkBxVlYg7TKYtcg",
     "timestamp": 1616615469755
    },
    {
     "file_id": "1YpHocGI4rApOxIBb1ZghCU5L-hFnv4CK",
     "timestamp": 1616608248670
    }
   ]
  },
  "kernelspec": {
   "display_name": "Python (newpipenv)",
   "language": "python",
   "name": "newpipenv"
  },
  "language_info": {
   "codemirror_mode": {
    "name": "ipython",
    "version": 3
   },
   "file_extension": ".py",
   "mimetype": "text/x-python",
   "name": "python",
   "nbconvert_exporter": "python",
   "pygments_lexer": "ipython3",
   "version": "3.10.9"
  }
 },
 "nbformat": 4,
 "nbformat_minor": 1
}
