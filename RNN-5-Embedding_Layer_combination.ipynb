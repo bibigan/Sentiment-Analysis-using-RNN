{
 "cells": [
  {
   "cell_type": "code",
   "metadata": {
    "id": "YeuAheYyhdZw",
    "ExecuteTime": {
     "end_time": "2025-03-22T22:35:58.164803Z",
     "start_time": "2025-03-22T22:35:58.160427Z"
    }
   },
   "source": [
    "# import libraries\n",
    "# DataFrame\n",
    "import pandas as pd\n",
    "\n",
    "# plotting\n",
    "import seaborn as sns\n",
    "from wordcloud import WordCloud\n",
    "import matplotlib.pyplot as plt\n",
    "\n",
    "# nltk\n",
    "import nltk\n",
    "from nltk.stem import WordNetLemmatizer\n",
    "from nltk.corpus import stopwords\n",
    "from nltk.tokenize import word_tokenize\n",
    "\n",
    "# sklearny\n",
    "from sklearn.model_selection import train_test_split\n",
    "from sklearn.feature_extraction.text import TfidfVectorizer\n",
    "from sklearn.metrics import confusion_matrix, classification_report\n",
    "\n",
    "from sklearn.linear_model import LogisticRegression\n",
    "from sklearn.svm import LinearSVC\n",
    "from sklearn.ensemble import RandomForestClassifier\n",
    "from sklearn.naive_bayes import BernoulliNB\n",
    "\n",
    "\n",
    "#tensorflow\n",
    "import tensorflow.compat.v2 as tf\n",
    "import tensorflow_datasets as tfds\n",
    "\n",
    "# Utility\n",
    "import pandas as pd\n",
    "import numpy as np\n",
    "import warnings\n",
    "warnings.filterwarnings('ignore')\n",
    "import re\n",
    "import string\n",
    "import pickle"
   ],
   "outputs": [],
   "execution_count": 155
  },
  {
   "cell_type": "markdown",
   "metadata": {},
   "source": "# Loading Dataset"
  },
  {
   "cell_type": "code",
   "metadata": {
    "ExecuteTime": {
     "end_time": "2025-03-22T22:36:00.940679Z",
     "start_time": "2025-03-22T22:35:58.171837Z"
    }
   },
   "source": [
    "# Construct a tf.data.Dataset\n",
    "data = pd.read_csv('training.1600000.processed.noemoticon.csv',encoding='latin', names = ['polarity','id','date','query','user','text'])"
   ],
   "outputs": [],
   "execution_count": 156
  },
  {
   "cell_type": "code",
   "metadata": {
    "ExecuteTime": {
     "end_time": "2025-03-22T22:36:01.165601Z",
     "start_time": "2025-03-22T22:36:00.953519Z"
    }
   },
   "source": [
    "# Random shuffling of data, select the first 200,000\n",
    "data = data.sample(frac=1)\n",
    "data = data[:20000]"
   ],
   "outputs": [],
   "execution_count": 157
  },
  {
   "metadata": {},
   "cell_type": "markdown",
   "source": "# Data Visualization"
  },
  {
   "cell_type": "code",
   "metadata": {
    "scrolled": false,
    "ExecuteTime": {
     "end_time": "2025-03-22T22:36:01.181175Z",
     "start_time": "2025-03-22T22:36:01.177341Z"
    }
   },
   "source": "print(\"Dataset shape:\", data.shape)",
   "outputs": [
    {
     "name": "stdout",
     "output_type": "stream",
     "text": [
      "Dataset shape: (20000, 6)\n"
     ]
    }
   ],
   "execution_count": 158
  },
  {
   "cell_type": "code",
   "metadata": {
    "ExecuteTime": {
     "end_time": "2025-03-22T22:36:01.199871Z",
     "start_time": "2025-03-22T22:36:01.194085Z"
    }
   },
   "source": "data.head(10)",
   "outputs": [
    {
     "data": {
      "text/plain": [
       "         polarity          id                          date     query  \\\n",
       "1534422         4  2178762413  Mon Jun 15 08:10:12 PDT 2009  NO_QUERY   \n",
       "766317          0  2299847693  Tue Jun 23 13:25:15 PDT 2009  NO_QUERY   \n",
       "543202          0  2200689714  Tue Jun 16 19:14:22 PDT 2009  NO_QUERY   \n",
       "69753           0  1693406180  Sun May 03 22:27:08 PDT 2009  NO_QUERY   \n",
       "20079           0  1556996139  Sun Apr 19 01:26:13 PDT 2009  NO_QUERY   \n",
       "1156730         4  1979122443  Sun May 31 01:43:45 PDT 2009  NO_QUERY   \n",
       "1399331         4  2054221324  Sat Jun 06 06:51:36 PDT 2009  NO_QUERY   \n",
       "1500953         4  2071284572  Sun Jun 07 19:08:36 PDT 2009  NO_QUERY   \n",
       "1521776         4  2176361176  Mon Jun 15 03:39:53 PDT 2009  NO_QUERY   \n",
       "1430082         4  2059848400  Sat Jun 06 17:45:31 PDT 2009  NO_QUERY   \n",
       "\n",
       "                    user                                               text  \n",
       "1534422          hamassa  @shellynne7 crystal might hit you for that rac...  \n",
       "766317          cjessee2  Ed McMahon Passes Away at 86&lt;  http://bit.l...  \n",
       "543202   TheLindseyGayle  @nicolegraziano . Ayy lovie, my procastinatin ...  \n",
       "69753            justy16  Off to bed, tomorrow is Monday  but then again...  \n",
       "20079           dadatina                      @totallyninja thanks, me too   \n",
       "1156730   bryan_kavanagh  What a cracking day. This is what iPhones are ...  \n",
       "1399331        ronragsag  @thedogsdish we're playin ball right now! Emma...  \n",
       "1500953      SeviDesigns  @myapronstrings My son loves it too. He was wa...  \n",
       "1521776             lrnn  @bibblybobs nooes  well, maybe. we can have a ...  \n",
       "1430082    JasonMBaldwin                  @dainta want to learn Heroscape?   "
      ],
      "text/html": [
       "<div>\n",
       "<style scoped>\n",
       "    .dataframe tbody tr th:only-of-type {\n",
       "        vertical-align: middle;\n",
       "    }\n",
       "\n",
       "    .dataframe tbody tr th {\n",
       "        vertical-align: top;\n",
       "    }\n",
       "\n",
       "    .dataframe thead th {\n",
       "        text-align: right;\n",
       "    }\n",
       "</style>\n",
       "<table border=\"1\" class=\"dataframe\">\n",
       "  <thead>\n",
       "    <tr style=\"text-align: right;\">\n",
       "      <th></th>\n",
       "      <th>polarity</th>\n",
       "      <th>id</th>\n",
       "      <th>date</th>\n",
       "      <th>query</th>\n",
       "      <th>user</th>\n",
       "      <th>text</th>\n",
       "    </tr>\n",
       "  </thead>\n",
       "  <tbody>\n",
       "    <tr>\n",
       "      <th>1534422</th>\n",
       "      <td>4</td>\n",
       "      <td>2178762413</td>\n",
       "      <td>Mon Jun 15 08:10:12 PDT 2009</td>\n",
       "      <td>NO_QUERY</td>\n",
       "      <td>hamassa</td>\n",
       "      <td>@shellynne7 crystal might hit you for that rac...</td>\n",
       "    </tr>\n",
       "    <tr>\n",
       "      <th>766317</th>\n",
       "      <td>0</td>\n",
       "      <td>2299847693</td>\n",
       "      <td>Tue Jun 23 13:25:15 PDT 2009</td>\n",
       "      <td>NO_QUERY</td>\n",
       "      <td>cjessee2</td>\n",
       "      <td>Ed McMahon Passes Away at 86&amp;lt;  http://bit.l...</td>\n",
       "    </tr>\n",
       "    <tr>\n",
       "      <th>543202</th>\n",
       "      <td>0</td>\n",
       "      <td>2200689714</td>\n",
       "      <td>Tue Jun 16 19:14:22 PDT 2009</td>\n",
       "      <td>NO_QUERY</td>\n",
       "      <td>TheLindseyGayle</td>\n",
       "      <td>@nicolegraziano . Ayy lovie, my procastinatin ...</td>\n",
       "    </tr>\n",
       "    <tr>\n",
       "      <th>69753</th>\n",
       "      <td>0</td>\n",
       "      <td>1693406180</td>\n",
       "      <td>Sun May 03 22:27:08 PDT 2009</td>\n",
       "      <td>NO_QUERY</td>\n",
       "      <td>justy16</td>\n",
       "      <td>Off to bed, tomorrow is Monday  but then again...</td>\n",
       "    </tr>\n",
       "    <tr>\n",
       "      <th>20079</th>\n",
       "      <td>0</td>\n",
       "      <td>1556996139</td>\n",
       "      <td>Sun Apr 19 01:26:13 PDT 2009</td>\n",
       "      <td>NO_QUERY</td>\n",
       "      <td>dadatina</td>\n",
       "      <td>@totallyninja thanks, me too</td>\n",
       "    </tr>\n",
       "    <tr>\n",
       "      <th>1156730</th>\n",
       "      <td>4</td>\n",
       "      <td>1979122443</td>\n",
       "      <td>Sun May 31 01:43:45 PDT 2009</td>\n",
       "      <td>NO_QUERY</td>\n",
       "      <td>bryan_kavanagh</td>\n",
       "      <td>What a cracking day. This is what iPhones are ...</td>\n",
       "    </tr>\n",
       "    <tr>\n",
       "      <th>1399331</th>\n",
       "      <td>4</td>\n",
       "      <td>2054221324</td>\n",
       "      <td>Sat Jun 06 06:51:36 PDT 2009</td>\n",
       "      <td>NO_QUERY</td>\n",
       "      <td>ronragsag</td>\n",
       "      <td>@thedogsdish we're playin ball right now! Emma...</td>\n",
       "    </tr>\n",
       "    <tr>\n",
       "      <th>1500953</th>\n",
       "      <td>4</td>\n",
       "      <td>2071284572</td>\n",
       "      <td>Sun Jun 07 19:08:36 PDT 2009</td>\n",
       "      <td>NO_QUERY</td>\n",
       "      <td>SeviDesigns</td>\n",
       "      <td>@myapronstrings My son loves it too. He was wa...</td>\n",
       "    </tr>\n",
       "    <tr>\n",
       "      <th>1521776</th>\n",
       "      <td>4</td>\n",
       "      <td>2176361176</td>\n",
       "      <td>Mon Jun 15 03:39:53 PDT 2009</td>\n",
       "      <td>NO_QUERY</td>\n",
       "      <td>lrnn</td>\n",
       "      <td>@bibblybobs nooes  well, maybe. we can have a ...</td>\n",
       "    </tr>\n",
       "    <tr>\n",
       "      <th>1430082</th>\n",
       "      <td>4</td>\n",
       "      <td>2059848400</td>\n",
       "      <td>Sat Jun 06 17:45:31 PDT 2009</td>\n",
       "      <td>NO_QUERY</td>\n",
       "      <td>JasonMBaldwin</td>\n",
       "      <td>@dainta want to learn Heroscape?</td>\n",
       "    </tr>\n",
       "  </tbody>\n",
       "</table>\n",
       "</div>"
      ]
     },
     "execution_count": 159,
     "metadata": {},
     "output_type": "execute_result"
    }
   ],
   "execution_count": 159
  },
  {
   "cell_type": "code",
   "metadata": {
    "ExecuteTime": {
     "end_time": "2025-03-22T22:36:01.249616Z",
     "start_time": "2025-03-22T22:36:01.245850Z"
    }
   },
   "source": "data['polarity'].unique()",
   "outputs": [
    {
     "data": {
      "text/plain": [
       "array([4, 0])"
      ]
     },
     "execution_count": 160,
     "metadata": {},
     "output_type": "execute_result"
    }
   ],
   "execution_count": 160
  },
  {
   "cell_type": "code",
   "metadata": {
    "scrolled": true,
    "ExecuteTime": {
     "end_time": "2025-03-22T22:36:01.299592Z",
     "start_time": "2025-03-22T22:36:01.292471Z"
    }
   },
   "source": [
    "# Replacing the value 4 -->1 for ease of understanding.\n",
    "data['polarity'] = data['polarity'].replace(4,1)\n",
    "data.head()"
   ],
   "outputs": [
    {
     "data": {
      "text/plain": [
       "         polarity          id                          date     query  \\\n",
       "1534422         1  2178762413  Mon Jun 15 08:10:12 PDT 2009  NO_QUERY   \n",
       "766317          0  2299847693  Tue Jun 23 13:25:15 PDT 2009  NO_QUERY   \n",
       "543202          0  2200689714  Tue Jun 16 19:14:22 PDT 2009  NO_QUERY   \n",
       "69753           0  1693406180  Sun May 03 22:27:08 PDT 2009  NO_QUERY   \n",
       "20079           0  1556996139  Sun Apr 19 01:26:13 PDT 2009  NO_QUERY   \n",
       "\n",
       "                    user                                               text  \n",
       "1534422          hamassa  @shellynne7 crystal might hit you for that rac...  \n",
       "766317          cjessee2  Ed McMahon Passes Away at 86&lt;  http://bit.l...  \n",
       "543202   TheLindseyGayle  @nicolegraziano . Ayy lovie, my procastinatin ...  \n",
       "69753            justy16  Off to bed, tomorrow is Monday  but then again...  \n",
       "20079           dadatina                      @totallyninja thanks, me too   "
      ],
      "text/html": [
       "<div>\n",
       "<style scoped>\n",
       "    .dataframe tbody tr th:only-of-type {\n",
       "        vertical-align: middle;\n",
       "    }\n",
       "\n",
       "    .dataframe tbody tr th {\n",
       "        vertical-align: top;\n",
       "    }\n",
       "\n",
       "    .dataframe thead th {\n",
       "        text-align: right;\n",
       "    }\n",
       "</style>\n",
       "<table border=\"1\" class=\"dataframe\">\n",
       "  <thead>\n",
       "    <tr style=\"text-align: right;\">\n",
       "      <th></th>\n",
       "      <th>polarity</th>\n",
       "      <th>id</th>\n",
       "      <th>date</th>\n",
       "      <th>query</th>\n",
       "      <th>user</th>\n",
       "      <th>text</th>\n",
       "    </tr>\n",
       "  </thead>\n",
       "  <tbody>\n",
       "    <tr>\n",
       "      <th>1534422</th>\n",
       "      <td>1</td>\n",
       "      <td>2178762413</td>\n",
       "      <td>Mon Jun 15 08:10:12 PDT 2009</td>\n",
       "      <td>NO_QUERY</td>\n",
       "      <td>hamassa</td>\n",
       "      <td>@shellynne7 crystal might hit you for that rac...</td>\n",
       "    </tr>\n",
       "    <tr>\n",
       "      <th>766317</th>\n",
       "      <td>0</td>\n",
       "      <td>2299847693</td>\n",
       "      <td>Tue Jun 23 13:25:15 PDT 2009</td>\n",
       "      <td>NO_QUERY</td>\n",
       "      <td>cjessee2</td>\n",
       "      <td>Ed McMahon Passes Away at 86&amp;lt;  http://bit.l...</td>\n",
       "    </tr>\n",
       "    <tr>\n",
       "      <th>543202</th>\n",
       "      <td>0</td>\n",
       "      <td>2200689714</td>\n",
       "      <td>Tue Jun 16 19:14:22 PDT 2009</td>\n",
       "      <td>NO_QUERY</td>\n",
       "      <td>TheLindseyGayle</td>\n",
       "      <td>@nicolegraziano . Ayy lovie, my procastinatin ...</td>\n",
       "    </tr>\n",
       "    <tr>\n",
       "      <th>69753</th>\n",
       "      <td>0</td>\n",
       "      <td>1693406180</td>\n",
       "      <td>Sun May 03 22:27:08 PDT 2009</td>\n",
       "      <td>NO_QUERY</td>\n",
       "      <td>justy16</td>\n",
       "      <td>Off to bed, tomorrow is Monday  but then again...</td>\n",
       "    </tr>\n",
       "    <tr>\n",
       "      <th>20079</th>\n",
       "      <td>0</td>\n",
       "      <td>1556996139</td>\n",
       "      <td>Sun Apr 19 01:26:13 PDT 2009</td>\n",
       "      <td>NO_QUERY</td>\n",
       "      <td>dadatina</td>\n",
       "      <td>@totallyninja thanks, me too</td>\n",
       "    </tr>\n",
       "  </tbody>\n",
       "</table>\n",
       "</div>"
      ]
     },
     "execution_count": 161,
     "metadata": {},
     "output_type": "execute_result"
    }
   ],
   "execution_count": 161
  },
  {
   "cell_type": "code",
   "metadata": {
    "ExecuteTime": {
     "end_time": "2025-03-22T22:36:01.360212Z",
     "start_time": "2025-03-22T22:36:01.351403Z"
    }
   },
   "source": "data.describe()",
   "outputs": [
    {
     "data": {
      "text/plain": [
       "           polarity            id\n",
       "count  20000.000000  2.000000e+04\n",
       "mean       0.499250  2.000829e+09\n",
       "std        0.500012  1.919265e+08\n",
       "min        0.000000  1.467811e+09\n",
       "25%        0.000000  1.957371e+09\n",
       "50%        0.000000  2.002709e+09\n",
       "75%        1.000000  2.177446e+09\n",
       "max        1.000000  2.329204e+09"
      ],
      "text/html": [
       "<div>\n",
       "<style scoped>\n",
       "    .dataframe tbody tr th:only-of-type {\n",
       "        vertical-align: middle;\n",
       "    }\n",
       "\n",
       "    .dataframe tbody tr th {\n",
       "        vertical-align: top;\n",
       "    }\n",
       "\n",
       "    .dataframe thead th {\n",
       "        text-align: right;\n",
       "    }\n",
       "</style>\n",
       "<table border=\"1\" class=\"dataframe\">\n",
       "  <thead>\n",
       "    <tr style=\"text-align: right;\">\n",
       "      <th></th>\n",
       "      <th>polarity</th>\n",
       "      <th>id</th>\n",
       "    </tr>\n",
       "  </thead>\n",
       "  <tbody>\n",
       "    <tr>\n",
       "      <th>count</th>\n",
       "      <td>20000.000000</td>\n",
       "      <td>2.000000e+04</td>\n",
       "    </tr>\n",
       "    <tr>\n",
       "      <th>mean</th>\n",
       "      <td>0.499250</td>\n",
       "      <td>2.000829e+09</td>\n",
       "    </tr>\n",
       "    <tr>\n",
       "      <th>std</th>\n",
       "      <td>0.500012</td>\n",
       "      <td>1.919265e+08</td>\n",
       "    </tr>\n",
       "    <tr>\n",
       "      <th>min</th>\n",
       "      <td>0.000000</td>\n",
       "      <td>1.467811e+09</td>\n",
       "    </tr>\n",
       "    <tr>\n",
       "      <th>25%</th>\n",
       "      <td>0.000000</td>\n",
       "      <td>1.957371e+09</td>\n",
       "    </tr>\n",
       "    <tr>\n",
       "      <th>50%</th>\n",
       "      <td>0.000000</td>\n",
       "      <td>2.002709e+09</td>\n",
       "    </tr>\n",
       "    <tr>\n",
       "      <th>75%</th>\n",
       "      <td>1.000000</td>\n",
       "      <td>2.177446e+09</td>\n",
       "    </tr>\n",
       "    <tr>\n",
       "      <th>max</th>\n",
       "      <td>1.000000</td>\n",
       "      <td>2.329204e+09</td>\n",
       "    </tr>\n",
       "  </tbody>\n",
       "</table>\n",
       "</div>"
      ]
     },
     "execution_count": 162,
     "metadata": {},
     "output_type": "execute_result"
    }
   ],
   "execution_count": 162
  },
  {
   "metadata": {
    "ExecuteTime": {
     "end_time": "2025-03-22T22:36:01.432540Z",
     "start_time": "2025-03-22T22:36:01.425206Z"
    }
   },
   "cell_type": "code",
   "source": [
    "# check the number of positive vs. negative tagged sentences\n",
    "positives = data['polarity'][data.polarity == 1 ]\n",
    "negatives = data['polarity'][data.polarity == 0 ]\n",
    "\n",
    "print('Total length of the data is:         {}'.format(data.shape[0]))\n",
    "print('No. of positve tagged sentences is:  {}'.format(len(positives)))\n",
    "print('No. of negative tagged sentences is: {}'.format(len(negatives)))"
   ],
   "outputs": [
    {
     "name": "stdout",
     "output_type": "stream",
     "text": [
      "Total length of the data is:         20000\n",
      "No. of positve tagged sentences is:  9985\n",
      "No. of negative tagged sentences is: 10015\n"
     ]
    }
   ],
   "execution_count": 163
  },
  {
   "metadata": {
    "ExecuteTime": {
     "end_time": "2025-03-22T22:36:01.476544Z",
     "start_time": "2025-03-22T22:36:01.473981Z"
    }
   },
   "cell_type": "code",
   "source": [
    "# get a word count per of text\n",
    "def word_count(words):\n",
    "    return len(words.split())"
   ],
   "outputs": [],
   "execution_count": 164
  },
  {
   "metadata": {
    "ExecuteTime": {
     "end_time": "2025-03-22T22:36:01.666392Z",
     "start_time": "2025-03-22T22:36:01.493548Z"
    }
   },
   "cell_type": "code",
   "source": [
    "# plot word count distribution for both positive and negative\n",
    "\n",
    "data['word count'] = data['text'].apply(word_count)\n",
    "p = data['word count'][data.polarity == 1]\n",
    "n = data['word count'][data.polarity == 0]\n",
    "plt.figure(figsize=(12,6))\n",
    "plt.xlim(0,45)\n",
    "plt.xlabel('Word count')\n",
    "plt.ylabel('Frequency')\n",
    "g = plt.hist([p, n], color=['g','r'], alpha=0.5, label=['positive','negative'])\n",
    "plt.legend(loc='upper right')"
   ],
   "outputs": [
    {
     "data": {
      "text/plain": [
       "<matplotlib.legend.Legend at 0x41666f7f0>"
      ]
     },
     "execution_count": 165,
     "metadata": {},
     "output_type": "execute_result"
    },
    {
     "data": {
      "text/plain": [
       "<Figure size 1200x600 with 1 Axes>"
      ],
      "image/png": "[encoded data removed]"
     },
     "metadata": {},
     "output_type": "display_data"
    }
   ],
   "execution_count": 165
  },
  {
   "metadata": {
    "ExecuteTime": {
     "end_time": "2025-03-22T22:36:01.765956Z",
     "start_time": "2025-03-22T22:36:01.678693Z"
    }
   },
   "cell_type": "code",
   "source": [
    "# get common words in training dataset\n",
    "from collections import Counter\n",
    "all_words = []\n",
    "for line in list(data['text']):\n",
    "    words = line.split()\n",
    "    for word in words:\n",
    "      if(len(word)>2):\n",
    "        all_words.append(word.lower())\n",
    "\n",
    "\n",
    "Counter(all_words).most_common(20)"
   ],
   "outputs": [
    {
     "data": {
      "text/plain": [
       "[('the', 6408),\n",
       " ('and', 3734),\n",
       " ('you', 3044),\n",
       " ('for', 2638),\n",
       " ('have', 1813),\n",
       " ('that', 1636),\n",
       " ('but', 1616),\n",
       " (\"i'm\", 1519),\n",
       " ('just', 1506),\n",
       " ('with', 1461),\n",
       " ('not', 1292),\n",
       " ('was', 1236),\n",
       " ('this', 1074),\n",
       " ('get', 1015),\n",
       " ('are', 968),\n",
       " ('like', 947),\n",
       " ('good', 921),\n",
       " ('all', 907),\n",
       " ('out', 858),\n",
       " ('your', 820)]"
      ]
     },
     "execution_count": 166,
     "metadata": {},
     "output_type": "execute_result"
    }
   ],
   "execution_count": 166
  },
  {
   "metadata": {
    "ExecuteTime": {
     "end_time": "2025-03-22T22:36:01.880881Z",
     "start_time": "2025-03-22T22:36:01.777540Z"
    }
   },
   "cell_type": "code",
   "source": [
    "%matplotlib inline\n",
    "sns.countplot(x=data['polarity'])"
   ],
   "outputs": [
    {
     "data": {
      "text/plain": [
       "<Axes: xlabel='polarity', ylabel='count'>"
      ]
     },
     "execution_count": 167,
     "metadata": {},
     "output_type": "execute_result"
    },
    {
     "data": {
      "text/plain": [
       "<Figure size 640x480 with 1 Axes>"
      ],
      "image/png": "[encoded data removed]"
     },
     "metadata": {},
     "output_type": "display_data"
    }
   ],
   "execution_count": 167
  },
  {
   "metadata": {},
   "cell_type": "markdown",
   "source": [
    "# Data Processing\n",
    "## The Preprocessing steps taken are:\n",
    "1. Lower Casing: Each text is converted to lowercase.\n",
    "2. Removing URLs: Links starting with \"http\" or \"https\" or \"www\" are replaced by \"\".\n",
    "\n",
    "3. Removing Usernames: Replace @Usernames with word \"\". (eg: \"@XYZ\" to \"\")\n",
    "\n",
    "4. Removing Short Words: Words with length less than 2 are removed.\n",
    "5. Removing Stopwords: Stopwords are the English words which does not add much meaning to a sentence. They can safely be ignored without sacrificing the meaning of the sentence. (eg: \"the\", \"he\", \"have\")\n",
    "6. Lemmatizing: Lemmatization is the process of converting a word to its base form. (e.g: “wolves” to “wolf”)"
   ]
  },
  {
   "metadata": {
    "ExecuteTime": {
     "end_time": "2025-03-22T22:36:01.904755Z",
     "start_time": "2025-03-22T22:36:01.898564Z"
    }
   },
   "cell_type": "code",
   "source": [
    "# Removing the unnecessary columns.\n",
    "data.drop(['date','query','user','word count'], axis=1, inplace=True)"
   ],
   "outputs": [],
   "execution_count": 168
  },
  {
   "metadata": {
    "ExecuteTime": {
     "end_time": "2025-03-22T22:36:01.937360Z",
     "start_time": "2025-03-22T22:36:01.928949Z"
    }
   },
   "cell_type": "code",
   "source": [
    "data.drop('id', axis=1, inplace=True)\n",
    "data.head(10)"
   ],
   "outputs": [
    {
     "data": {
      "text/plain": [
       "         polarity                                               text\n",
       "1534422         1  @shellynne7 crystal might hit you for that rac...\n",
       "766317          0  Ed McMahon Passes Away at 86&lt;  http://bit.l...\n",
       "543202          0  @nicolegraziano . Ayy lovie, my procastinatin ...\n",
       "69753           0  Off to bed, tomorrow is Monday  but then again...\n",
       "20079           0                      @totallyninja thanks, me too \n",
       "1156730         1  What a cracking day. This is what iPhones are ...\n",
       "1399331         1  @thedogsdish we're playin ball right now! Emma...\n",
       "1500953         1  @myapronstrings My son loves it too. He was wa...\n",
       "1521776         1  @bibblybobs nooes  well, maybe. we can have a ...\n",
       "1430082         1                  @dainta want to learn Heroscape? "
      ],
      "text/html": [
       "<div>\n",
       "<style scoped>\n",
       "    .dataframe tbody tr th:only-of-type {\n",
       "        vertical-align: middle;\n",
       "    }\n",
       "\n",
       "    .dataframe tbody tr th {\n",
       "        vertical-align: top;\n",
       "    }\n",
       "\n",
       "    .dataframe thead th {\n",
       "        text-align: right;\n",
       "    }\n",
       "</style>\n",
       "<table border=\"1\" class=\"dataframe\">\n",
       "  <thead>\n",
       "    <tr style=\"text-align: right;\">\n",
       "      <th></th>\n",
       "      <th>polarity</th>\n",
       "      <th>text</th>\n",
       "    </tr>\n",
       "  </thead>\n",
       "  <tbody>\n",
       "    <tr>\n",
       "      <th>1534422</th>\n",
       "      <td>1</td>\n",
       "      <td>@shellynne7 crystal might hit you for that rac...</td>\n",
       "    </tr>\n",
       "    <tr>\n",
       "      <th>766317</th>\n",
       "      <td>0</td>\n",
       "      <td>Ed McMahon Passes Away at 86&amp;lt;  http://bit.l...</td>\n",
       "    </tr>\n",
       "    <tr>\n",
       "      <th>543202</th>\n",
       "      <td>0</td>\n",
       "      <td>@nicolegraziano . Ayy lovie, my procastinatin ...</td>\n",
       "    </tr>\n",
       "    <tr>\n",
       "      <th>69753</th>\n",
       "      <td>0</td>\n",
       "      <td>Off to bed, tomorrow is Monday  but then again...</td>\n",
       "    </tr>\n",
       "    <tr>\n",
       "      <th>20079</th>\n",
       "      <td>0</td>\n",
       "      <td>@totallyninja thanks, me too</td>\n",
       "    </tr>\n",
       "    <tr>\n",
       "      <th>1156730</th>\n",
       "      <td>1</td>\n",
       "      <td>What a cracking day. This is what iPhones are ...</td>\n",
       "    </tr>\n",
       "    <tr>\n",
       "      <th>1399331</th>\n",
       "      <td>1</td>\n",
       "      <td>@thedogsdish we're playin ball right now! Emma...</td>\n",
       "    </tr>\n",
       "    <tr>\n",
       "      <th>1500953</th>\n",
       "      <td>1</td>\n",
       "      <td>@myapronstrings My son loves it too. He was wa...</td>\n",
       "    </tr>\n",
       "    <tr>\n",
       "      <th>1521776</th>\n",
       "      <td>1</td>\n",
       "      <td>@bibblybobs nooes  well, maybe. we can have a ...</td>\n",
       "    </tr>\n",
       "    <tr>\n",
       "      <th>1430082</th>\n",
       "      <td>1</td>\n",
       "      <td>@dainta want to learn Heroscape?</td>\n",
       "    </tr>\n",
       "  </tbody>\n",
       "</table>\n",
       "</div>"
      ]
     },
     "execution_count": 169,
     "metadata": {},
     "output_type": "execute_result"
    }
   ],
   "execution_count": 169
  },
  {
   "metadata": {
    "ExecuteTime": {
     "end_time": "2025-03-22T22:36:02.012490Z",
     "start_time": "2025-03-22T22:36:02.005476Z"
    }
   },
   "cell_type": "code",
   "source": [
    "#Checking if any null values present\n",
    "(data.isnull().sum() / len(data))*100"
   ],
   "outputs": [
    {
     "data": {
      "text/plain": [
       "polarity    0.0\n",
       "text        0.0\n",
       "dtype: float64"
      ]
     },
     "execution_count": 170,
     "metadata": {},
     "output_type": "execute_result"
    }
   ],
   "execution_count": 170
  },
  {
   "metadata": {
    "ExecuteTime": {
     "end_time": "2025-03-22T22:36:02.078007Z",
     "start_time": "2025-03-22T22:36:02.075190Z"
    }
   },
   "cell_type": "code",
   "source": [
    "#convrting pandas object to a string type\n",
    "data['text'] = data['text'].astype('str')"
   ],
   "outputs": [],
   "execution_count": 171
  },
  {
   "metadata": {
    "ExecuteTime": {
     "end_time": "2025-03-22T22:36:02.129567Z",
     "start_time": "2025-03-22T22:36:02.125090Z"
    }
   },
   "cell_type": "code",
   "source": [
    "nltk.download('stopwords')\n",
    "stopword = set(stopwords.words('english'))\n",
    "print(stopword)"
   ],
   "outputs": [
    {
     "name": "stdout",
     "output_type": "stream",
     "text": [
      "{'with', 'had', 'should', 'that', 'himself', 'll', \"it's\", 'but', 'same', 'of', 'both', 'ma', \"we'll\", 'out', 'hasn', 'd', 'for', 'if', 'into', 'their', 'are', \"she's\", 'him', \"we'd\", 'once', \"wouldn't\", 'having', \"i'm\", 'or', 'there', 'few', \"aren't\", \"shan't\", 's', 'aren', 'each', 'so', 'other', 'some', 'through', 'his', \"he'll\", 'such', 'yourself', \"you've\", 'these', 'can', \"should've\", 'your', 'most', 'too', 'them', 'as', \"he's\", 'after', 'by', 'under', 'i', 'off', 'we', 'ourselves', \"weren't\", 'again', \"they've\", 'wouldn', 'why', 'all', \"i'll\", \"you'd\", \"wasn't\", 'itself', 'during', 'theirs', \"didn't\", 'yours', 'between', \"doesn't\", \"i'd\", \"i've\", 'our', 'just', 'weren', 'couldn', 'her', 'needn', 'and', \"haven't\", 'hadn', \"don't\", 'over', 'be', 'isn', \"couldn't\", 'what', \"mustn't\", 'is', 'below', 'any', 'have', 'does', \"she'd\", 'about', \"she'll\", \"hasn't\", \"that'll\", 'ain', 'then', 'how', 'own', 'didn', 'in', 'haven', 'themselves', 'nor', 'she', \"they're\", \"you'll\", 'me', 'will', \"we're\", 'mustn', 'its', 'ours', 'being', 'the', 'did', 'because', 're', 'yourselves', 'not', 'mightn', 'an', 'on', \"needn't\", 'further', 'been', 'who', 'against', 'when', 'until', 'while', 'o', \"shouldn't\", 'very', 'it', \"he'd\", 'shan', 've', \"you're\", 'has', 'do', \"it'd\", 't', 'where', 'before', 'm', 'more', 'those', 'they', 'whom', 'myself', 'y', 'at', 'he', 'no', 'was', \"they'd\", 'doesn', 'up', \"it'll\", 'won', \"mightn't\", 'from', \"isn't\", \"they'll\", 'you', \"hadn't\", 'which', 'herself', 'this', 'my', 'wasn', 'above', 'doing', 'than', \"we've\", 'a', 'shouldn', 'only', \"won't\", 'were', 'to', 'here', 'down', 'am', 'hers', 'now', 'don'}\n"
     ]
    },
    {
     "name": "stderr",
     "output_type": "stream",
     "text": [
      "[nltk_data] Downloading package stopwords to\n",
      "[nltk_data]     /Users/zhaijingjing/nltk_data...\n",
      "[nltk_data]   Package stopwords is already up-to-date!\n"
     ]
    }
   ],
   "execution_count": 172
  },
  {
   "metadata": {
    "ExecuteTime": {
     "end_time": "2025-03-22T22:36:02.142814Z",
     "start_time": "2025-03-22T22:36:02.138527Z"
    }
   },
   "cell_type": "code",
   "source": [
    "nltk.download('punkt')\n",
    "nltk.download('wordnet')\n",
    "nltk.download('punkt_tab')"
   ],
   "outputs": [
    {
     "name": "stderr",
     "output_type": "stream",
     "text": [
      "[nltk_data] Downloading package punkt to\n",
      "[nltk_data]     /Users/zhaijingjing/nltk_data...\n",
      "[nltk_data]   Package punkt is already up-to-date!\n",
      "[nltk_data] Downloading package wordnet to\n",
      "[nltk_data]     /Users/zhaijingjing/nltk_data...\n",
      "[nltk_data]   Package wordnet is already up-to-date!\n",
      "[nltk_data] Downloading package punkt_tab to\n",
      "[nltk_data]     /Users/zhaijingjing/nltk_data...\n",
      "[nltk_data]   Package punkt_tab is already up-to-date!\n"
     ]
    },
    {
     "data": {
      "text/plain": [
       "True"
      ]
     },
     "execution_count": 173,
     "metadata": {},
     "output_type": "execute_result"
    }
   ],
   "execution_count": 173
  },
  {
   "metadata": {
    "ExecuteTime": {
     "end_time": "2025-03-22T22:36:02.170304Z",
     "start_time": "2025-03-22T22:36:02.165490Z"
    }
   },
   "cell_type": "code",
   "source": [
    "urlPattern = r\"((http://)[^ ]*|(https://)[^ ]*|( www\\.)[^ ]*)\"\n",
    "userPattern = '@[^\\s]+'\n",
    "def process_tweets(tweet):\n",
    "  # Lower Casing\n",
    "    tweet = tweet.lower()\n",
    "    #tweet=tweet[1:]\n",
    "    # Removing all URls\n",
    "    tweet = re.sub(urlPattern,'',tweet)\n",
    "    # Removing all @username.\n",
    "    tweet = re.sub(userPattern,'', tweet)\n",
    "    #Remove punctuations\n",
    "    tweet = tweet.translate(str.maketrans(\"\",\"\",string.punctuation))\n",
    "    #tokenizing words\n",
    "    tokens = word_tokenize(tweet)\n",
    "    #Removing Stop Words\n",
    "    negation_words = {\"no\", \"nor\", \"not\", \"don\", \"don't\", \"didn\", \"didn't\", \"doesn\", \"doesn't\", \"can't\", \"cannot\", \"won't\", \"wouldn\", \"wouldn't\", \"shouldn\", \"shouldn't\", \"isn't\", \"aren't\", \"wasn't\", \"weren't\"}\n",
    "\n",
    "    # Remove negation words from the stop word list\n",
    "    custom_stop_words = stopword.difference(negation_words)\n",
    "\n",
    "    final_tokens = [w for w in tokens if w not in custom_stop_words]\n",
    "    #final_tokens = tokens\n",
    "    #reducing a word to its word stem\n",
    "    wordLemm = WordNetLemmatizer()\n",
    "    finalwords=[]\n",
    "    for w in final_tokens:\n",
    "      if len(w)>1:\n",
    "        word = wordLemm.lemmatize(w)\n",
    "        finalwords.append(word)\n",
    "    return ' '.join(finalwords)"
   ],
   "outputs": [],
   "execution_count": 174
  },
  {
   "metadata": {
    "ExecuteTime": {
     "end_time": "2025-03-22T22:36:04.004585Z",
     "start_time": "2025-03-22T22:36:02.187202Z"
    }
   },
   "cell_type": "code",
   "source": [
    "data['processed_tweets'] = data['text'].apply(lambda x: process_tweets(x))\n",
    "print('Text Preprocessing complete.')"
   ],
   "outputs": [
    {
     "name": "stdout",
     "output_type": "stream",
     "text": [
      "Text Preprocessing complete.\n"
     ]
    }
   ],
   "execution_count": 175
  },
  {
   "metadata": {
    "ExecuteTime": {
     "end_time": "2025-03-22T22:36:04.022625Z",
     "start_time": "2025-03-22T22:36:04.017969Z"
    }
   },
   "cell_type": "code",
   "source": "data.head(10)",
   "outputs": [
    {
     "data": {
      "text/plain": [
       "         polarity                                               text  \\\n",
       "1534422         1  @shellynne7 crystal might hit you for that rac...   \n",
       "766317          0  Ed McMahon Passes Away at 86&lt;  http://bit.l...   \n",
       "543202          0  @nicolegraziano . Ayy lovie, my procastinatin ...   \n",
       "69753           0  Off to bed, tomorrow is Monday  but then again...   \n",
       "20079           0                      @totallyninja thanks, me too    \n",
       "1156730         1  What a cracking day. This is what iPhones are ...   \n",
       "1399331         1  @thedogsdish we're playin ball right now! Emma...   \n",
       "1500953         1  @myapronstrings My son loves it too. He was wa...   \n",
       "1521776         1  @bibblybobs nooes  well, maybe. we can have a ...   \n",
       "1430082         1                  @dainta want to learn Heroscape?    \n",
       "\n",
       "                                          processed_tweets  \n",
       "1534422               crystal might hit rachel ray comment  \n",
       "766317                       ed mcmahon pass away 86lt via  \n",
       "543202   ayy lovie procastinatin as hasnt got tikk elec...  \n",
       "69753        bed tomorrow monday one day closer mother day  \n",
       "20079                                               thanks  \n",
       "1156730  cracking day iphones pestering ppl online enjo...  \n",
       "1399331             playin ball right emma say woofabulous  \n",
       "1500953                          son love watching earlier  \n",
       "1521776              nooes well maybe barbeque back garden  \n",
       "1430082                               want learn heroscape  "
      ],
      "text/html": [
       "<div>\n",
       "<style scoped>\n",
       "    .dataframe tbody tr th:only-of-type {\n",
       "        vertical-align: middle;\n",
       "    }\n",
       "\n",
       "    .dataframe tbody tr th {\n",
       "        vertical-align: top;\n",
       "    }\n",
       "\n",
       "    .dataframe thead th {\n",
       "        text-align: right;\n",
       "    }\n",
       "</style>\n",
       "<table border=\"1\" class=\"dataframe\">\n",
       "  <thead>\n",
       "    <tr style=\"text-align: right;\">\n",
       "      <th></th>\n",
       "      <th>polarity</th>\n",
       "      <th>text</th>\n",
       "      <th>processed_tweets</th>\n",
       "    </tr>\n",
       "  </thead>\n",
       "  <tbody>\n",
       "    <tr>\n",
       "      <th>1534422</th>\n",
       "      <td>1</td>\n",
       "      <td>@shellynne7 crystal might hit you for that rac...</td>\n",
       "      <td>crystal might hit rachel ray comment</td>\n",
       "    </tr>\n",
       "    <tr>\n",
       "      <th>766317</th>\n",
       "      <td>0</td>\n",
       "      <td>Ed McMahon Passes Away at 86&amp;lt;  http://bit.l...</td>\n",
       "      <td>ed mcmahon pass away 86lt via</td>\n",
       "    </tr>\n",
       "    <tr>\n",
       "      <th>543202</th>\n",
       "      <td>0</td>\n",
       "      <td>@nicolegraziano . Ayy lovie, my procastinatin ...</td>\n",
       "      <td>ayy lovie procastinatin as hasnt got tikk elec...</td>\n",
       "    </tr>\n",
       "    <tr>\n",
       "      <th>69753</th>\n",
       "      <td>0</td>\n",
       "      <td>Off to bed, tomorrow is Monday  but then again...</td>\n",
       "      <td>bed tomorrow monday one day closer mother day</td>\n",
       "    </tr>\n",
       "    <tr>\n",
       "      <th>20079</th>\n",
       "      <td>0</td>\n",
       "      <td>@totallyninja thanks, me too</td>\n",
       "      <td>thanks</td>\n",
       "    </tr>\n",
       "    <tr>\n",
       "      <th>1156730</th>\n",
       "      <td>1</td>\n",
       "      <td>What a cracking day. This is what iPhones are ...</td>\n",
       "      <td>cracking day iphones pestering ppl online enjo...</td>\n",
       "    </tr>\n",
       "    <tr>\n",
       "      <th>1399331</th>\n",
       "      <td>1</td>\n",
       "      <td>@thedogsdish we're playin ball right now! Emma...</td>\n",
       "      <td>playin ball right emma say woofabulous</td>\n",
       "    </tr>\n",
       "    <tr>\n",
       "      <th>1500953</th>\n",
       "      <td>1</td>\n",
       "      <td>@myapronstrings My son loves it too. He was wa...</td>\n",
       "      <td>son love watching earlier</td>\n",
       "    </tr>\n",
       "    <tr>\n",
       "      <th>1521776</th>\n",
       "      <td>1</td>\n",
       "      <td>@bibblybobs nooes  well, maybe. we can have a ...</td>\n",
       "      <td>nooes well maybe barbeque back garden</td>\n",
       "    </tr>\n",
       "    <tr>\n",
       "      <th>1430082</th>\n",
       "      <td>1</td>\n",
       "      <td>@dainta want to learn Heroscape?</td>\n",
       "      <td>want learn heroscape</td>\n",
       "    </tr>\n",
       "  </tbody>\n",
       "</table>\n",
       "</div>"
      ]
     },
     "execution_count": 176,
     "metadata": {},
     "output_type": "execute_result"
    }
   ],
   "execution_count": 176
  },
  {
   "metadata": {},
   "cell_type": "markdown",
   "source": "# RNN - LSTM"
  },
  {
   "metadata": {
    "ExecuteTime": {
     "end_time": "2025-03-22T22:36:04.063664Z",
     "start_time": "2025-03-22T22:36:04.060187Z"
    }
   },
   "cell_type": "code",
   "source": [
    "from keras.models import Sequential\n",
    "from keras.layers import Dense, Embedding, LSTM, Dropout\n",
    "from sklearn.feature_extraction.text import CountVectorizer\n",
    "from tensorflow.keras.preprocessing.text import Tokenizer\n",
    "from tensorflow.keras.preprocessing.sequence import pad_sequences\n",
    "from tensorflow.keras.utils import to_categorical\n",
    "import re\n",
    "import keras\n",
    "from keras import regularizers\n",
    "from keras.models import Sequential\n",
    "from keras import layers\n",
    "from keras import regularizers\n",
    "from keras import backend as K\n",
    "from keras.callbacks import ModelCheckpoint\n"
   ],
   "outputs": [],
   "execution_count": 177
  },
  {
   "metadata": {},
   "cell_type": "markdown",
   "source": "## Hyperparameters"
  },
  {
   "metadata": {
    "ExecuteTime": {
     "end_time": "2025-03-22T22:36:04.310852Z",
     "start_time": "2025-03-22T22:36:04.308071Z"
    }
   },
   "cell_type": "code",
   "source": [
    "num_epochs = 10\n",
    "results = {}\n",
    "params_history = {}\n",
    "# Define the maximum length of each sequence (number of words per tweet)\n",
    "max_len = 200\n",
    "\n",
    "# hidden layer\n",
    "hidden_units = 8\n",
    "\n",
    "# LSTM layer\n",
    "LSTM_units = 32\n",
    "\n",
    "\n",
    "# Embedding layer\n",
    "# Define the 5000 most common words\n",
    "# max_words = 5000\n",
    "# embedding_dim = 64\n",
    "input_dims = [1000, 2000, 5000, 8000, 10000]  # 词汇量\n",
    "output_dims = [16, 32, 64, 128]  # Embedding 维度"
   ],
   "outputs": [],
   "execution_count": 178
  },
  {
   "metadata": {},
   "cell_type": "markdown",
   "source": "## Creating and Traning LSTM Model"
  },
  {
   "metadata": {
    "ExecuteTime": {
     "end_time": "2025-03-22T22:36:04.399736Z",
     "start_time": "2025-03-22T22:36:04.395969Z"
    }
   },
   "cell_type": "code",
   "source": [
    "def create_lstm_model(input_dim, output_dim):\n",
    "    model = Sequential()\n",
    "    model.add(layers.Embedding(input_dim=input_dim, output_dim=output_dim))\n",
    "    model.add(layers.LSTM(LSTM_units, dropout=0.5))\n",
    "    model.add(layers.Dense(hidden_units, activation='relu'))\n",
    "    model.add(layers.Dense(1, activation='sigmoid'))\n",
    "    model.compile(optimizer='adam', loss='binary_crossentropy', metrics=['accuracy'])\n",
    "    return model"
   ],
   "outputs": [],
   "execution_count": 179
  },
  {
   "metadata": {
    "ExecuteTime": {
     "end_time": "2025-03-23T01:11:18.285532Z",
     "start_time": "2025-03-22T22:36:04.417239Z"
    }
   },
   "cell_type": "code",
   "source": [
    "models = {}\n",
    "for input_dim in input_dims:\n",
    "    for output_dim in output_dims:\n",
    "        print(f\"Training model with input_dim={input_dim}, output_dim={output_dim}...\")\n",
    "\n",
    "        # 重新创建 Tokenizer，确保只保留 input_dim 个最常见单词\n",
    "        tokenizer = Tokenizer(num_words=input_dim)\n",
    "        tokenizer.fit_on_texts(data.processed_tweets)\n",
    "        sequences = tokenizer.texts_to_sequences(data.processed_tweets)\n",
    "        tweets = pad_sequences(sequences, maxlen=max_len)\n",
    "\n",
    "        # 划分数据集\n",
    "        train_data, test_data, train_label, test_label = train_test_split(tweets, data.polarity.values, test_size=0.2, random_state=101)\n",
    "\n",
    "        model = create_lstm_model(input_dim, output_dim)\n",
    "\n",
    "        history = model.fit(\n",
    "            train_data, train_label,\n",
    "            epochs=num_epochs,\n",
    "            validation_data=(test_data, test_label),\n",
    "            verbose=2\n",
    "        )\n",
    "\n",
    "        results[(input_dim, output_dim)] = {\n",
    "            'train_acc': history.history['accuracy'][-1],\n",
    "            'test_acc': history.history['val_accuracy'][-1]\n",
    "        }\n",
    "\n",
    "        params_history[(input_dim, output_dim)] = model.count_params()\n",
    "        models[(input_dim, output_dim)] = model"
   ],
   "outputs": [
    {
     "name": "stdout",
     "output_type": "stream",
     "text": [
      "Training model with input_dim=1000, output_dim=16...\n",
      "Epoch 1/10\n",
      "500/500 - 18s - 36ms/step - accuracy: 0.6579 - loss: 0.6090 - val_accuracy: 0.7297 - val_loss: 0.5393\n",
      "Epoch 2/10\n",
      "500/500 - 31s - 61ms/step - accuracy: 0.7576 - loss: 0.5099 - val_accuracy: 0.7327 - val_loss: 0.5375\n",
      "Epoch 3/10\n",
      "500/500 - 396s - 792ms/step - accuracy: 0.7691 - loss: 0.4950 - val_accuracy: 0.7283 - val_loss: 0.5484\n",
      "Epoch 4/10\n",
      "500/500 - 13s - 27ms/step - accuracy: 0.7707 - loss: 0.4891 - val_accuracy: 0.7325 - val_loss: 0.5379\n",
      "Epoch 5/10\n",
      "500/500 - 210s - 420ms/step - accuracy: 0.7777 - loss: 0.4827 - val_accuracy: 0.7368 - val_loss: 0.5353\n",
      "Epoch 6/10\n",
      "500/500 - 13s - 26ms/step - accuracy: 0.7757 - loss: 0.4812 - val_accuracy: 0.7343 - val_loss: 0.5424\n",
      "Epoch 7/10\n",
      "500/500 - 5380s - 11s/step - accuracy: 0.7802 - loss: 0.4778 - val_accuracy: 0.7330 - val_loss: 0.5379\n",
      "Epoch 8/10\n",
      "500/500 - 14s - 27ms/step - accuracy: 0.7807 - loss: 0.4765 - val_accuracy: 0.7340 - val_loss: 0.5365\n",
      "Epoch 9/10\n",
      "500/500 - 14s - 28ms/step - accuracy: 0.7840 - loss: 0.4729 - val_accuracy: 0.7322 - val_loss: 0.5468\n",
      "Epoch 10/10\n",
      "500/500 - 13s - 26ms/step - accuracy: 0.7844 - loss: 0.4725 - val_accuracy: 0.7355 - val_loss: 0.5444\n",
      "Training model with input_dim=1000, output_dim=32...\n",
      "Epoch 1/10\n",
      "500/500 - 15s - 31ms/step - accuracy: 0.6724 - loss: 0.5944 - val_accuracy: 0.7350 - val_loss: 0.5400\n",
      "Epoch 2/10\n",
      "500/500 - 14s - 28ms/step - accuracy: 0.7596 - loss: 0.5031 - val_accuracy: 0.7383 - val_loss: 0.5324\n",
      "Epoch 3/10\n",
      "500/500 - 14s - 28ms/step - accuracy: 0.7679 - loss: 0.4899 - val_accuracy: 0.7352 - val_loss: 0.5335\n",
      "Epoch 4/10\n",
      "500/500 - 14s - 28ms/step - accuracy: 0.7715 - loss: 0.4850 - val_accuracy: 0.7368 - val_loss: 0.5372\n",
      "Epoch 5/10\n",
      "500/500 - 14s - 27ms/step - accuracy: 0.7775 - loss: 0.4796 - val_accuracy: 0.7370 - val_loss: 0.5376\n",
      "Epoch 6/10\n",
      "500/500 - 14s - 28ms/step - accuracy: 0.7794 - loss: 0.4748 - val_accuracy: 0.7340 - val_loss: 0.5533\n",
      "Epoch 7/10\n",
      "500/500 - 14s - 27ms/step - accuracy: 0.7797 - loss: 0.4698 - val_accuracy: 0.7377 - val_loss: 0.5447\n",
      "Epoch 8/10\n",
      "500/500 - 14s - 28ms/step - accuracy: 0.7803 - loss: 0.4714 - val_accuracy: 0.7368 - val_loss: 0.5481\n",
      "Epoch 9/10\n",
      "500/500 - 14s - 28ms/step - accuracy: 0.7837 - loss: 0.4607 - val_accuracy: 0.7372 - val_loss: 0.5503\n",
      "Epoch 10/10\n",
      "500/500 - 14s - 28ms/step - accuracy: 0.7899 - loss: 0.4518 - val_accuracy: 0.7345 - val_loss: 0.5612\n",
      "Training model with input_dim=1000, output_dim=64...\n",
      "Epoch 1/10\n",
      "500/500 - 18s - 37ms/step - accuracy: 0.6867 - loss: 0.5836 - val_accuracy: 0.7337 - val_loss: 0.5334\n",
      "Epoch 2/10\n",
      "500/500 - 16s - 33ms/step - accuracy: 0.7629 - loss: 0.4989 - val_accuracy: 0.7330 - val_loss: 0.5321\n",
      "Epoch 3/10\n",
      "500/500 - 17s - 33ms/step - accuracy: 0.7741 - loss: 0.4844 - val_accuracy: 0.7322 - val_loss: 0.5344\n",
      "Epoch 4/10\n",
      "500/500 - 16s - 33ms/step - accuracy: 0.7791 - loss: 0.4755 - val_accuracy: 0.7345 - val_loss: 0.5355\n",
      "Epoch 5/10\n",
      "500/500 - 16s - 33ms/step - accuracy: 0.7825 - loss: 0.4634 - val_accuracy: 0.7350 - val_loss: 0.5421\n",
      "Epoch 6/10\n",
      "500/500 - 16s - 33ms/step - accuracy: 0.7905 - loss: 0.4526 - val_accuracy: 0.7375 - val_loss: 0.5475\n",
      "Epoch 7/10\n",
      "500/500 - 17s - 34ms/step - accuracy: 0.7929 - loss: 0.4431 - val_accuracy: 0.7318 - val_loss: 0.5636\n",
      "Epoch 8/10\n",
      "500/500 - 17s - 34ms/step - accuracy: 0.7965 - loss: 0.4328 - val_accuracy: 0.7270 - val_loss: 0.5854\n",
      "Epoch 9/10\n",
      "500/500 - 17s - 34ms/step - accuracy: 0.7959 - loss: 0.4307 - val_accuracy: 0.7258 - val_loss: 0.5798\n",
      "Epoch 10/10\n",
      "500/500 - 17s - 34ms/step - accuracy: 0.8027 - loss: 0.4183 - val_accuracy: 0.7270 - val_loss: 0.5915\n",
      "Training model with input_dim=1000, output_dim=128...\n",
      "Epoch 1/10\n",
      "500/500 - 23s - 45ms/step - accuracy: 0.6936 - loss: 0.5769 - val_accuracy: 0.7295 - val_loss: 0.5396\n",
      "Epoch 2/10\n",
      "500/500 - 21s - 42ms/step - accuracy: 0.7622 - loss: 0.4976 - val_accuracy: 0.7315 - val_loss: 0.5319\n",
      "Epoch 3/10\n",
      "500/500 - 21s - 42ms/step - accuracy: 0.7656 - loss: 0.4872 - val_accuracy: 0.7297 - val_loss: 0.5375\n",
      "Epoch 4/10\n",
      "500/500 - 21s - 42ms/step - accuracy: 0.7742 - loss: 0.4738 - val_accuracy: 0.7345 - val_loss: 0.5356\n",
      "Epoch 5/10\n",
      "500/500 - 21s - 42ms/step - accuracy: 0.7829 - loss: 0.4588 - val_accuracy: 0.7315 - val_loss: 0.5432\n",
      "Epoch 6/10\n",
      "500/500 - 21s - 42ms/step - accuracy: 0.7883 - loss: 0.4452 - val_accuracy: 0.7308 - val_loss: 0.5585\n",
      "Epoch 7/10\n",
      "500/500 - 21s - 42ms/step - accuracy: 0.7933 - loss: 0.4320 - val_accuracy: 0.7275 - val_loss: 0.5798\n",
      "Epoch 8/10\n",
      "500/500 - 21s - 42ms/step - accuracy: 0.8006 - loss: 0.4201 - val_accuracy: 0.7255 - val_loss: 0.5831\n",
      "Epoch 9/10\n",
      "500/500 - 21s - 42ms/step - accuracy: 0.8072 - loss: 0.4091 - val_accuracy: 0.7260 - val_loss: 0.6120\n",
      "Epoch 10/10\n",
      "500/500 - 21s - 42ms/step - accuracy: 0.8113 - loss: 0.3986 - val_accuracy: 0.7200 - val_loss: 0.6238\n",
      "Training model with input_dim=2000, output_dim=16...\n",
      "Epoch 1/10\n",
      "500/500 - 15s - 30ms/step - accuracy: 0.6660 - loss: 0.6021 - val_accuracy: 0.7303 - val_loss: 0.5343\n",
      "Epoch 2/10\n",
      "500/500 - 13s - 26ms/step - accuracy: 0.7690 - loss: 0.4892 - val_accuracy: 0.7437 - val_loss: 0.5232\n",
      "Epoch 3/10\n",
      "500/500 - 13s - 27ms/step - accuracy: 0.7826 - loss: 0.4687 - val_accuracy: 0.7395 - val_loss: 0.5319\n",
      "Epoch 4/10\n",
      "500/500 - 13s - 26ms/step - accuracy: 0.7950 - loss: 0.4563 - val_accuracy: 0.7452 - val_loss: 0.5309\n",
      "Epoch 5/10\n",
      "500/500 - 13s - 27ms/step - accuracy: 0.7976 - loss: 0.4493 - val_accuracy: 0.7450 - val_loss: 0.5341\n",
      "Epoch 6/10\n",
      "500/500 - 13s - 26ms/step - accuracy: 0.8004 - loss: 0.4416 - val_accuracy: 0.7442 - val_loss: 0.5398\n",
      "Epoch 7/10\n",
      "500/500 - 13s - 26ms/step - accuracy: 0.8043 - loss: 0.4398 - val_accuracy: 0.7390 - val_loss: 0.5394\n",
      "Epoch 8/10\n",
      "500/500 - 13s - 27ms/step - accuracy: 0.8110 - loss: 0.4334 - val_accuracy: 0.7405 - val_loss: 0.5436\n",
      "Epoch 9/10\n",
      "500/500 - 13s - 26ms/step - accuracy: 0.8083 - loss: 0.4346 - val_accuracy: 0.7410 - val_loss: 0.5524\n",
      "Epoch 10/10\n",
      "500/500 - 13s - 26ms/step - accuracy: 0.8117 - loss: 0.4277 - val_accuracy: 0.7395 - val_loss: 0.5578\n",
      "Training model with input_dim=2000, output_dim=32...\n",
      "Epoch 1/10\n",
      "500/500 - 16s - 32ms/step - accuracy: 0.6691 - loss: 0.5962 - val_accuracy: 0.7362 - val_loss: 0.5317\n",
      "Epoch 2/10\n",
      "500/500 - 15s - 29ms/step - accuracy: 0.7706 - loss: 0.4860 - val_accuracy: 0.7435 - val_loss: 0.5260\n",
      "Epoch 3/10\n",
      "500/500 - 15s - 29ms/step - accuracy: 0.7909 - loss: 0.4594 - val_accuracy: 0.7430 - val_loss: 0.5277\n",
      "Epoch 4/10\n",
      "500/500 - 15s - 29ms/step - accuracy: 0.7984 - loss: 0.4498 - val_accuracy: 0.7450 - val_loss: 0.5347\n",
      "Epoch 5/10\n",
      "500/500 - 14s - 29ms/step - accuracy: 0.8010 - loss: 0.4389 - val_accuracy: 0.7415 - val_loss: 0.5334\n",
      "Epoch 6/10\n",
      "500/500 - 14s - 29ms/step - accuracy: 0.8070 - loss: 0.4268 - val_accuracy: 0.7352 - val_loss: 0.5419\n",
      "Epoch 7/10\n",
      "500/500 - 15s - 29ms/step - accuracy: 0.8098 - loss: 0.4169 - val_accuracy: 0.7333 - val_loss: 0.5576\n",
      "Epoch 8/10\n",
      "500/500 - 14s - 28ms/step - accuracy: 0.8148 - loss: 0.4052 - val_accuracy: 0.7390 - val_loss: 0.5608\n",
      "Epoch 9/10\n",
      "500/500 - 15s - 29ms/step - accuracy: 0.8203 - loss: 0.3915 - val_accuracy: 0.7412 - val_loss: 0.5840\n",
      "Epoch 10/10\n",
      "500/500 - 15s - 30ms/step - accuracy: 0.8244 - loss: 0.3812 - val_accuracy: 0.7320 - val_loss: 0.6002\n",
      "Training model with input_dim=2000, output_dim=64...\n",
      "Epoch 1/10\n",
      "500/500 - 19s - 38ms/step - accuracy: 0.6868 - loss: 0.5830 - val_accuracy: 0.7358 - val_loss: 0.5323\n",
      "Epoch 2/10\n",
      "500/500 - 17s - 34ms/step - accuracy: 0.7772 - loss: 0.4804 - val_accuracy: 0.7437 - val_loss: 0.5258\n",
      "Epoch 3/10\n",
      "500/500 - 17s - 34ms/step - accuracy: 0.7921 - loss: 0.4570 - val_accuracy: 0.7423 - val_loss: 0.5257\n",
      "Epoch 4/10\n",
      "500/500 - 17s - 34ms/step - accuracy: 0.7996 - loss: 0.4422 - val_accuracy: 0.7475 - val_loss: 0.5252\n",
      "Epoch 5/10\n",
      "500/500 - 17s - 34ms/step - accuracy: 0.8059 - loss: 0.4322 - val_accuracy: 0.7435 - val_loss: 0.5366\n",
      "Epoch 6/10\n",
      "500/500 - 17s - 34ms/step - accuracy: 0.8136 - loss: 0.4172 - val_accuracy: 0.7437 - val_loss: 0.5417\n",
      "Epoch 7/10\n",
      "500/500 - 17s - 35ms/step - accuracy: 0.8241 - loss: 0.4004 - val_accuracy: 0.7398 - val_loss: 0.5695\n",
      "Epoch 8/10\n",
      "500/500 - 17s - 34ms/step - accuracy: 0.8312 - loss: 0.3806 - val_accuracy: 0.7355 - val_loss: 0.5877\n",
      "Epoch 9/10\n",
      "500/500 - 17s - 34ms/step - accuracy: 0.8349 - loss: 0.3687 - val_accuracy: 0.7320 - val_loss: 0.6114\n",
      "Epoch 10/10\n",
      "500/500 - 17s - 34ms/step - accuracy: 0.8428 - loss: 0.3505 - val_accuracy: 0.7303 - val_loss: 0.6471\n",
      "Training model with input_dim=2000, output_dim=128...\n",
      "Epoch 1/10\n",
      "500/500 - 23s - 47ms/step - accuracy: 0.6969 - loss: 0.5716 - val_accuracy: 0.7377 - val_loss: 0.5240\n",
      "Epoch 2/10\n",
      "500/500 - 22s - 44ms/step - accuracy: 0.7805 - loss: 0.4715 - val_accuracy: 0.7435 - val_loss: 0.5227\n",
      "Epoch 3/10\n",
      "500/500 - 22s - 44ms/step - accuracy: 0.7919 - loss: 0.4482 - val_accuracy: 0.7420 - val_loss: 0.5336\n",
      "Epoch 4/10\n",
      "500/500 - 22s - 44ms/step - accuracy: 0.8045 - loss: 0.4234 - val_accuracy: 0.7402 - val_loss: 0.5481\n",
      "Epoch 5/10\n",
      "500/500 - 22s - 44ms/step - accuracy: 0.8138 - loss: 0.4005 - val_accuracy: 0.7365 - val_loss: 0.5588\n",
      "Epoch 6/10\n",
      "500/500 - 22s - 44ms/step - accuracy: 0.8244 - loss: 0.3797 - val_accuracy: 0.7333 - val_loss: 0.5734\n",
      "Epoch 7/10\n",
      "500/500 - 22s - 44ms/step - accuracy: 0.8438 - loss: 0.3541 - val_accuracy: 0.7310 - val_loss: 0.5949\n",
      "Epoch 8/10\n",
      "500/500 - 22s - 44ms/step - accuracy: 0.8506 - loss: 0.3315 - val_accuracy: 0.7270 - val_loss: 0.6661\n",
      "Epoch 9/10\n",
      "500/500 - 22s - 44ms/step - accuracy: 0.8592 - loss: 0.3126 - val_accuracy: 0.7193 - val_loss: 0.7034\n",
      "Epoch 10/10\n",
      "500/500 - 22s - 44ms/step - accuracy: 0.8711 - loss: 0.2950 - val_accuracy: 0.7143 - val_loss: 0.7243\n",
      "Training model with input_dim=5000, output_dim=16...\n",
      "Epoch 1/10\n",
      "500/500 - 15s - 31ms/step - accuracy: 0.6592 - loss: 0.6113 - val_accuracy: 0.7360 - val_loss: 0.5335\n",
      "Epoch 2/10\n",
      "500/500 - 14s - 28ms/step - accuracy: 0.7782 - loss: 0.4773 - val_accuracy: 0.7480 - val_loss: 0.5194\n",
      "Epoch 3/10\n",
      "500/500 - 14s - 28ms/step - accuracy: 0.8046 - loss: 0.4363 - val_accuracy: 0.7300 - val_loss: 0.5350\n",
      "Epoch 4/10\n",
      "500/500 - 13s - 27ms/step - accuracy: 0.8211 - loss: 0.4107 - val_accuracy: 0.7370 - val_loss: 0.5473\n",
      "Epoch 5/10\n",
      "500/500 - 13s - 27ms/step - accuracy: 0.8326 - loss: 0.3913 - val_accuracy: 0.7358 - val_loss: 0.5699\n",
      "Epoch 6/10\n",
      "500/500 - 13s - 27ms/step - accuracy: 0.8421 - loss: 0.3779 - val_accuracy: 0.7335 - val_loss: 0.5762\n",
      "Epoch 7/10\n",
      "500/500 - 13s - 27ms/step - accuracy: 0.8438 - loss: 0.3698 - val_accuracy: 0.7300 - val_loss: 0.5966\n",
      "Epoch 8/10\n",
      "500/500 - 13s - 27ms/step - accuracy: 0.8514 - loss: 0.3605 - val_accuracy: 0.7265 - val_loss: 0.6002\n",
      "Epoch 9/10\n",
      "500/500 - 13s - 26ms/step - accuracy: 0.8538 - loss: 0.3514 - val_accuracy: 0.7247 - val_loss: 0.6228\n",
      "Epoch 10/10\n",
      "500/500 - 13s - 26ms/step - accuracy: 0.8584 - loss: 0.3425 - val_accuracy: 0.7228 - val_loss: 0.6077\n",
      "Training model with input_dim=5000, output_dim=32...\n",
      "Epoch 1/10\n",
      "500/500 - 16s - 32ms/step - accuracy: 0.6739 - loss: 0.5889 - val_accuracy: 0.7412 - val_loss: 0.5240\n",
      "Epoch 2/10\n",
      "500/500 - 14s - 29ms/step - accuracy: 0.7892 - loss: 0.4609 - val_accuracy: 0.7490 - val_loss: 0.5225\n",
      "Epoch 3/10\n",
      "500/500 - 14s - 28ms/step - accuracy: 0.8124 - loss: 0.4215 - val_accuracy: 0.7452 - val_loss: 0.5367\n",
      "Epoch 4/10\n",
      "500/500 - 14s - 29ms/step - accuracy: 0.8284 - loss: 0.3915 - val_accuracy: 0.7380 - val_loss: 0.5474\n",
      "Epoch 5/10\n",
      "500/500 - 15s - 29ms/step - accuracy: 0.8384 - loss: 0.3685 - val_accuracy: 0.7377 - val_loss: 0.5778\n",
      "Epoch 6/10\n",
      "500/500 - 14s - 29ms/step - accuracy: 0.8486 - loss: 0.3427 - val_accuracy: 0.7280 - val_loss: 0.6287\n",
      "Epoch 7/10\n",
      "500/500 - 14s - 29ms/step - accuracy: 0.8574 - loss: 0.3216 - val_accuracy: 0.7308 - val_loss: 0.6507\n",
      "Epoch 8/10\n",
      "500/500 - 14s - 29ms/step - accuracy: 0.8681 - loss: 0.2997 - val_accuracy: 0.7247 - val_loss: 0.7034\n",
      "Epoch 9/10\n",
      "500/500 - 14s - 29ms/step - accuracy: 0.8748 - loss: 0.2820 - val_accuracy: 0.7268 - val_loss: 0.7626\n",
      "Epoch 10/10\n",
      "500/500 - 14s - 29ms/step - accuracy: 0.8806 - loss: 0.2691 - val_accuracy: 0.7240 - val_loss: 0.8320\n",
      "Training model with input_dim=5000, output_dim=64...\n",
      "Epoch 1/10\n",
      "500/500 - 18s - 37ms/step - accuracy: 0.6929 - loss: 0.5785 - val_accuracy: 0.7480 - val_loss: 0.5187\n",
      "Epoch 2/10\n",
      "500/500 - 17s - 34ms/step - accuracy: 0.7896 - loss: 0.4556 - val_accuracy: 0.7420 - val_loss: 0.5193\n",
      "Epoch 3/10\n",
      "500/500 - 17s - 34ms/step - accuracy: 0.8158 - loss: 0.4105 - val_accuracy: 0.7427 - val_loss: 0.5388\n",
      "Epoch 4/10\n",
      "500/500 - 17s - 34ms/step - accuracy: 0.8304 - loss: 0.3839 - val_accuracy: 0.7383 - val_loss: 0.5666\n",
      "Epoch 5/10\n",
      "500/500 - 17s - 33ms/step - accuracy: 0.8446 - loss: 0.3589 - val_accuracy: 0.7322 - val_loss: 0.5864\n",
      "Epoch 6/10\n",
      "500/500 - 17s - 34ms/step - accuracy: 0.8533 - loss: 0.3303 - val_accuracy: 0.7322 - val_loss: 0.6336\n",
      "Epoch 7/10\n",
      "500/500 - 17s - 34ms/step - accuracy: 0.8653 - loss: 0.3055 - val_accuracy: 0.7280 - val_loss: 0.6658\n",
      "Epoch 8/10\n",
      "500/500 - 17s - 34ms/step - accuracy: 0.8736 - loss: 0.2797 - val_accuracy: 0.7237 - val_loss: 0.7284\n",
      "Epoch 9/10\n",
      "500/500 - 17s - 34ms/step - accuracy: 0.8817 - loss: 0.2578 - val_accuracy: 0.7287 - val_loss: 0.8262\n",
      "Epoch 10/10\n",
      "500/500 - 17s - 34ms/step - accuracy: 0.8952 - loss: 0.2399 - val_accuracy: 0.7278 - val_loss: 0.8589\n",
      "Training model with input_dim=5000, output_dim=128...\n",
      "Epoch 1/10\n",
      "500/500 - 23s - 46ms/step - accuracy: 0.6940 - loss: 0.5739 - val_accuracy: 0.7448 - val_loss: 0.5201\n",
      "Epoch 2/10\n",
      "500/500 - 21s - 43ms/step - accuracy: 0.7954 - loss: 0.4487 - val_accuracy: 0.7460 - val_loss: 0.5248\n",
      "Epoch 3/10\n",
      "500/500 - 22s - 43ms/step - accuracy: 0.8229 - loss: 0.4012 - val_accuracy: 0.7418 - val_loss: 0.5427\n",
      "Epoch 4/10\n",
      "500/500 - 22s - 44ms/step - accuracy: 0.8426 - loss: 0.3614 - val_accuracy: 0.7312 - val_loss: 0.5920\n",
      "Epoch 5/10\n",
      "500/500 - 22s - 43ms/step - accuracy: 0.8644 - loss: 0.3178 - val_accuracy: 0.7243 - val_loss: 0.6394\n",
      "Epoch 6/10\n",
      "500/500 - 22s - 44ms/step - accuracy: 0.8829 - loss: 0.2778 - val_accuracy: 0.7170 - val_loss: 0.6929\n",
      "Epoch 7/10\n",
      "500/500 - 22s - 43ms/step - accuracy: 0.8959 - loss: 0.2436 - val_accuracy: 0.7190 - val_loss: 0.7936\n",
      "Epoch 8/10\n",
      "500/500 - 22s - 43ms/step - accuracy: 0.9051 - loss: 0.2222 - val_accuracy: 0.7128 - val_loss: 0.8356\n",
      "Epoch 9/10\n",
      "500/500 - 21s - 42ms/step - accuracy: 0.9140 - loss: 0.1989 - val_accuracy: 0.7163 - val_loss: 0.9718\n",
      "Epoch 10/10\n",
      "500/500 - 21s - 42ms/step - accuracy: 0.9247 - loss: 0.1780 - val_accuracy: 0.7080 - val_loss: 0.9895\n",
      "Training model with input_dim=8000, output_dim=16...\n",
      "Epoch 1/10\n",
      "500/500 - 15s - 31ms/step - accuracy: 0.6602 - loss: 0.6011 - val_accuracy: 0.7400 - val_loss: 0.5246\n",
      "Epoch 2/10\n",
      "500/500 - 13s - 27ms/step - accuracy: 0.7863 - loss: 0.4652 - val_accuracy: 0.7460 - val_loss: 0.5196\n",
      "Epoch 3/10\n",
      "500/500 - 13s - 27ms/step - accuracy: 0.8204 - loss: 0.4111 - val_accuracy: 0.7380 - val_loss: 0.5351\n",
      "Epoch 4/10\n",
      "500/500 - 13s - 27ms/step - accuracy: 0.8363 - loss: 0.3815 - val_accuracy: 0.7365 - val_loss: 0.5500\n",
      "Epoch 5/10\n",
      "500/500 - 13s - 27ms/step - accuracy: 0.8524 - loss: 0.3565 - val_accuracy: 0.7297 - val_loss: 0.6022\n",
      "Epoch 6/10\n",
      "500/500 - 13s - 27ms/step - accuracy: 0.8604 - loss: 0.3380 - val_accuracy: 0.7185 - val_loss: 0.6098\n",
      "Epoch 7/10\n",
      "500/500 - 13s - 26ms/step - accuracy: 0.8679 - loss: 0.3241 - val_accuracy: 0.7203 - val_loss: 0.6180\n",
      "Epoch 8/10\n",
      "500/500 - 13s - 27ms/step - accuracy: 0.8713 - loss: 0.3108 - val_accuracy: 0.7168 - val_loss: 0.6337\n",
      "Epoch 9/10\n",
      "500/500 - 13s - 26ms/step - accuracy: 0.8808 - loss: 0.2974 - val_accuracy: 0.7178 - val_loss: 0.6785\n",
      "Epoch 10/10\n",
      "500/500 - 13s - 27ms/step - accuracy: 0.8836 - loss: 0.2894 - val_accuracy: 0.7140 - val_loss: 0.7099\n",
      "Training model with input_dim=8000, output_dim=32...\n",
      "Epoch 1/10\n",
      "500/500 - 16s - 32ms/step - accuracy: 0.6667 - loss: 0.5956 - val_accuracy: 0.7385 - val_loss: 0.5284\n",
      "Epoch 2/10\n",
      "500/500 - 15s - 29ms/step - accuracy: 0.7911 - loss: 0.4578 - val_accuracy: 0.7452 - val_loss: 0.5255\n",
      "Epoch 3/10\n",
      "500/500 - 15s - 29ms/step - accuracy: 0.8257 - loss: 0.4022 - val_accuracy: 0.7410 - val_loss: 0.5440\n",
      "Epoch 4/10\n",
      "500/500 - 15s - 29ms/step - accuracy: 0.8469 - loss: 0.3652 - val_accuracy: 0.7400 - val_loss: 0.5692\n",
      "Epoch 5/10\n",
      "500/500 - 15s - 29ms/step - accuracy: 0.8434 - loss: 0.3693 - val_accuracy: 0.7330 - val_loss: 0.5934\n",
      "Epoch 6/10\n",
      "500/500 - 15s - 29ms/step - accuracy: 0.8616 - loss: 0.3356 - val_accuracy: 0.7255 - val_loss: 0.6176\n",
      "Epoch 7/10\n",
      "500/500 - 15s - 29ms/step - accuracy: 0.8739 - loss: 0.3109 - val_accuracy: 0.7205 - val_loss: 0.6465\n",
      "Epoch 8/10\n",
      "500/500 - 14s - 29ms/step - accuracy: 0.8811 - loss: 0.2930 - val_accuracy: 0.7128 - val_loss: 0.6679\n",
      "Epoch 9/10\n",
      "500/500 - 14s - 28ms/step - accuracy: 0.8885 - loss: 0.2752 - val_accuracy: 0.7185 - val_loss: 0.7044\n",
      "Epoch 10/10\n",
      "500/500 - 14s - 29ms/step - accuracy: 0.8936 - loss: 0.2632 - val_accuracy: 0.7128 - val_loss: 0.7343\n",
      "Training model with input_dim=8000, output_dim=64...\n",
      "Epoch 1/10\n",
      "500/500 - 19s - 37ms/step - accuracy: 0.6867 - loss: 0.5815 - val_accuracy: 0.7230 - val_loss: 0.5352\n",
      "Epoch 2/10\n",
      "500/500 - 17s - 34ms/step - accuracy: 0.7735 - loss: 0.4887 - val_accuracy: 0.7350 - val_loss: 0.5370\n",
      "Epoch 3/10\n",
      "500/500 - 17s - 34ms/step - accuracy: 0.8243 - loss: 0.3991 - val_accuracy: 0.7358 - val_loss: 0.5452\n",
      "Epoch 4/10\n",
      "500/500 - 17s - 34ms/step - accuracy: 0.8465 - loss: 0.3579 - val_accuracy: 0.7312 - val_loss: 0.5830\n",
      "Epoch 5/10\n",
      "500/500 - 17s - 34ms/step - accuracy: 0.8655 - loss: 0.3251 - val_accuracy: 0.7155 - val_loss: 0.6049\n",
      "Epoch 6/10\n",
      "500/500 - 17s - 34ms/step - accuracy: 0.8770 - loss: 0.3002 - val_accuracy: 0.7180 - val_loss: 0.6679\n",
      "Epoch 7/10\n",
      "500/500 - 17s - 33ms/step - accuracy: 0.8915 - loss: 0.2695 - val_accuracy: 0.7168 - val_loss: 0.7232\n",
      "Epoch 8/10\n",
      "500/500 - 17s - 34ms/step - accuracy: 0.8993 - loss: 0.2451 - val_accuracy: 0.7117 - val_loss: 0.7674\n",
      "Epoch 9/10\n",
      "500/500 - 17s - 34ms/step - accuracy: 0.9088 - loss: 0.2202 - val_accuracy: 0.7032 - val_loss: 0.7925\n",
      "Epoch 10/10\n",
      "500/500 - 17s - 34ms/step - accuracy: 0.9136 - loss: 0.2063 - val_accuracy: 0.7088 - val_loss: 0.8330\n",
      "Training model with input_dim=8000, output_dim=128...\n",
      "Epoch 1/10\n",
      "500/500 - 23s - 46ms/step - accuracy: 0.6955 - loss: 0.5717 - val_accuracy: 0.7510 - val_loss: 0.5222\n",
      "Epoch 2/10\n",
      "500/500 - 21s - 43ms/step - accuracy: 0.7990 - loss: 0.4377 - val_accuracy: 0.7420 - val_loss: 0.5230\n",
      "Epoch 3/10\n",
      "500/500 - 21s - 43ms/step - accuracy: 0.8383 - loss: 0.3786 - val_accuracy: 0.7330 - val_loss: 0.5542\n",
      "Epoch 4/10\n",
      "500/500 - 21s - 43ms/step - accuracy: 0.8581 - loss: 0.3373 - val_accuracy: 0.7310 - val_loss: 0.5817\n",
      "Epoch 5/10\n",
      "500/500 - 21s - 43ms/step - accuracy: 0.8792 - loss: 0.2930 - val_accuracy: 0.7218 - val_loss: 0.6536\n",
      "Epoch 6/10\n",
      "500/500 - 21s - 43ms/step - accuracy: 0.8966 - loss: 0.2487 - val_accuracy: 0.7185 - val_loss: 0.7314\n",
      "Epoch 7/10\n",
      "500/500 - 21s - 42ms/step - accuracy: 0.9128 - loss: 0.2094 - val_accuracy: 0.7172 - val_loss: 0.8524\n",
      "Epoch 8/10\n",
      "500/500 - 21s - 43ms/step - accuracy: 0.9236 - loss: 0.1851 - val_accuracy: 0.7190 - val_loss: 0.9323\n",
      "Epoch 9/10\n",
      "500/500 - 21s - 43ms/step - accuracy: 0.9301 - loss: 0.1634 - val_accuracy: 0.7090 - val_loss: 1.0145\n",
      "Epoch 10/10\n",
      "500/500 - 21s - 43ms/step - accuracy: 0.9386 - loss: 0.1442 - val_accuracy: 0.7100 - val_loss: 1.1425\n",
      "Training model with input_dim=10000, output_dim=16...\n",
      "Epoch 1/10\n",
      "500/500 - 15s - 30ms/step - accuracy: 0.6686 - loss: 0.6017 - val_accuracy: 0.7395 - val_loss: 0.5285\n",
      "Epoch 2/10\n",
      "500/500 - 13s - 27ms/step - accuracy: 0.7891 - loss: 0.4612 - val_accuracy: 0.7423 - val_loss: 0.5273\n",
      "Epoch 3/10\n",
      "500/500 - 13s - 27ms/step - accuracy: 0.8231 - loss: 0.4065 - val_accuracy: 0.7400 - val_loss: 0.5513\n",
      "Epoch 4/10\n",
      "500/500 - 13s - 27ms/step - accuracy: 0.8424 - loss: 0.3707 - val_accuracy: 0.7360 - val_loss: 0.5575\n",
      "Epoch 5/10\n",
      "500/500 - 13s - 27ms/step - accuracy: 0.8588 - loss: 0.3422 - val_accuracy: 0.7345 - val_loss: 0.6016\n",
      "Epoch 6/10\n",
      "500/500 - 13s - 27ms/step - accuracy: 0.8658 - loss: 0.3308 - val_accuracy: 0.7265 - val_loss: 0.6102\n",
      "Epoch 7/10\n",
      "500/500 - 13s - 27ms/step - accuracy: 0.8715 - loss: 0.3119 - val_accuracy: 0.7170 - val_loss: 0.6324\n",
      "Epoch 8/10\n",
      "500/500 - 13s - 27ms/step - accuracy: 0.8817 - loss: 0.2976 - val_accuracy: 0.7172 - val_loss: 0.6533\n",
      "Epoch 9/10\n",
      "500/500 - 13s - 27ms/step - accuracy: 0.8841 - loss: 0.2887 - val_accuracy: 0.7188 - val_loss: 0.6814\n",
      "Epoch 10/10\n",
      "500/500 - 13s - 27ms/step - accuracy: 0.8878 - loss: 0.2794 - val_accuracy: 0.7155 - val_loss: 0.7001\n",
      "Training model with input_dim=10000, output_dim=32...\n",
      "Epoch 1/10\n",
      "500/500 - 16s - 32ms/step - accuracy: 0.6683 - loss: 0.5969 - val_accuracy: 0.7360 - val_loss: 0.5340\n",
      "Epoch 2/10\n",
      "500/500 - 15s - 29ms/step - accuracy: 0.7966 - loss: 0.4532 - val_accuracy: 0.7430 - val_loss: 0.5354\n",
      "Epoch 3/10\n",
      "500/500 - 15s - 30ms/step - accuracy: 0.8271 - loss: 0.3943 - val_accuracy: 0.7362 - val_loss: 0.5531\n",
      "Epoch 4/10\n",
      "500/500 - 14s - 29ms/step - accuracy: 0.8503 - loss: 0.3573 - val_accuracy: 0.7295 - val_loss: 0.5701\n",
      "Epoch 5/10\n",
      "500/500 - 15s - 30ms/step - accuracy: 0.8649 - loss: 0.3311 - val_accuracy: 0.7220 - val_loss: 0.6067\n",
      "Epoch 6/10\n",
      "500/500 - 15s - 30ms/step - accuracy: 0.8723 - loss: 0.3123 - val_accuracy: 0.7178 - val_loss: 0.6422\n",
      "Epoch 7/10\n",
      "500/500 - 14s - 29ms/step - accuracy: 0.8799 - loss: 0.2946 - val_accuracy: 0.7103 - val_loss: 0.6730\n",
      "Epoch 8/10\n",
      "500/500 - 14s - 29ms/step - accuracy: 0.8882 - loss: 0.2798 - val_accuracy: 0.7113 - val_loss: 0.6758\n",
      "Epoch 9/10\n",
      "500/500 - 14s - 29ms/step - accuracy: 0.8946 - loss: 0.2653 - val_accuracy: 0.7055 - val_loss: 0.7598\n",
      "Epoch 10/10\n",
      "500/500 - 14s - 29ms/step - accuracy: 0.8847 - loss: 0.2771 - val_accuracy: 0.6985 - val_loss: 0.7141\n",
      "Training model with input_dim=10000, output_dim=64...\n",
      "Epoch 1/10\n",
      "500/500 - 19s - 39ms/step - accuracy: 0.6866 - loss: 0.5790 - val_accuracy: 0.7412 - val_loss: 0.5253\n",
      "Epoch 2/10\n",
      "500/500 - 17s - 35ms/step - accuracy: 0.7996 - loss: 0.4409 - val_accuracy: 0.7390 - val_loss: 0.5268\n",
      "Epoch 3/10\n",
      "500/500 - 17s - 35ms/step - accuracy: 0.8359 - loss: 0.3814 - val_accuracy: 0.7330 - val_loss: 0.5671\n",
      "Epoch 4/10\n",
      "500/500 - 17s - 35ms/step - accuracy: 0.8617 - loss: 0.3373 - val_accuracy: 0.7255 - val_loss: 0.5961\n",
      "Epoch 5/10\n",
      "500/500 - 17s - 35ms/step - accuracy: 0.8763 - loss: 0.3035 - val_accuracy: 0.7210 - val_loss: 0.6200\n",
      "Epoch 6/10\n",
      "500/500 - 17s - 34ms/step - accuracy: 0.8888 - loss: 0.2696 - val_accuracy: 0.7170 - val_loss: 0.6905\n",
      "Epoch 7/10\n",
      "500/500 - 17s - 35ms/step - accuracy: 0.9009 - loss: 0.2409 - val_accuracy: 0.7103 - val_loss: 0.7385\n",
      "Epoch 8/10\n",
      "500/500 - 17s - 35ms/step - accuracy: 0.9124 - loss: 0.2131 - val_accuracy: 0.7110 - val_loss: 0.8619\n",
      "Epoch 9/10\n",
      "500/500 - 17s - 34ms/step - accuracy: 0.9178 - loss: 0.1955 - val_accuracy: 0.7085 - val_loss: 0.8803\n",
      "Epoch 10/10\n",
      "500/500 - 17s - 34ms/step - accuracy: 0.9261 - loss: 0.1758 - val_accuracy: 0.7020 - val_loss: 0.9882\n",
      "Training model with input_dim=10000, output_dim=128...\n",
      "Epoch 1/10\n",
      "500/500 - 23s - 46ms/step - accuracy: 0.6929 - loss: 0.5708 - val_accuracy: 0.7452 - val_loss: 0.5156\n",
      "Epoch 2/10\n",
      "500/500 - 22s - 43ms/step - accuracy: 0.8052 - loss: 0.4292 - val_accuracy: 0.7425 - val_loss: 0.5217\n",
      "Epoch 3/10\n",
      "500/500 - 22s - 43ms/step - accuracy: 0.8446 - loss: 0.3607 - val_accuracy: 0.7290 - val_loss: 0.5718\n",
      "Epoch 4/10\n",
      "500/500 - 22s - 43ms/step - accuracy: 0.8686 - loss: 0.3003 - val_accuracy: 0.7222 - val_loss: 0.6448\n",
      "Epoch 5/10\n",
      "500/500 - 22s - 43ms/step - accuracy: 0.8964 - loss: 0.2493 - val_accuracy: 0.7188 - val_loss: 0.7205\n",
      "Epoch 6/10\n",
      "500/500 - 22s - 43ms/step - accuracy: 0.9111 - loss: 0.2119 - val_accuracy: 0.7153 - val_loss: 0.8078\n",
      "Epoch 7/10\n",
      "500/500 - 22s - 43ms/step - accuracy: 0.9227 - loss: 0.1826 - val_accuracy: 0.7097 - val_loss: 0.8923\n",
      "Epoch 8/10\n",
      "500/500 - 22s - 44ms/step - accuracy: 0.9297 - loss: 0.1649 - val_accuracy: 0.7050 - val_loss: 1.0071\n",
      "Epoch 9/10\n",
      "500/500 - 22s - 44ms/step - accuracy: 0.9376 - loss: 0.1477 - val_accuracy: 0.7005 - val_loss: 1.0800\n",
      "Epoch 10/10\n",
      "500/500 - 22s - 43ms/step - accuracy: 0.9434 - loss: 0.1320 - val_accuracy: 0.7005 - val_loss: 1.1655\n"
     ]
    }
   ],
   "execution_count": 180
  },
  {
   "metadata": {
    "ExecuteTime": {
     "end_time": "2025-03-23T01:11:18.712621Z",
     "start_time": "2025-03-23T01:11:18.373767Z"
    }
   },
   "cell_type": "code",
   "source": [
    "colors = ['red', 'orange', 'green', 'blue', 'purple', 'brown', 'pink', 'gray', 'cyan', 'magenta']\n",
    "# --- 训练精度折线图 ---\n",
    "plt.figure(figsize=(12, 5))\n",
    "for i, input_dim in enumerate(input_dims):\n",
    "    train_acc = [results[(input_dim, output_dim)]['train_acc'] for output_dim in output_dims]\n",
    "    plt.plot(output_dims, train_acc, marker='o', linestyle='-', color=colors[i], label=f\"{input_dim} Word Size\")\n",
    "plt.xlabel(\"Number of Embedding Dimensions\")\n",
    "plt.ylabel(\"Accuracy\")\n",
    "plt.title(\"Train Accuracy\")\n",
    "plt.legend()\n",
    "plt.show()\n",
    "\n",
    "# --- 测试精度折线图 ---\n",
    "plt.figure(figsize=(12, 5))\n",
    "for i, input_dim in enumerate(input_dims):\n",
    "    test_acc = [results[(input_dim, output_dim)]['test_acc'] for output_dim in output_dims]\n",
    "    plt.plot(output_dims, test_acc, marker='o', linestyle='-', color=colors[i], label=f\"{input_dim} Word Size\")\n",
    "plt.xlabel(\"Number of Embedding Dimensions\")\n",
    "plt.ylabel(\"Accuracy\")\n",
    "plt.title(\"Test Accuracy\")\n",
    "plt.legend()\n",
    "plt.show()\n",
    "\n",
    "# --- 参数量变化折线图 ---\n",
    "plt.figure(figsize=(8, 6))\n",
    "for i, input_dim in enumerate(input_dims):\n",
    "    params = [params_history[(input_dim, output_dim)] for output_dim in output_dims]\n",
    "    plt.plot(output_dims, params, marker='o', linestyle='-', color=colors[i], label=f\"{input_dim} Word Size\")\n",
    "plt.xlabel(\"Number of Embedding Dimensions\")\n",
    "plt.ylabel(\"Trainable Parameters\")\n",
    "plt.title(\"Model Parameters\")\n",
    "plt.legend()\n",
    "plt.show()\n",
    "\n"
   ],
   "outputs": [
    {
     "data": {
      "text/plain": [
       "<Figure size 1200x500 with 1 Axes>"
      ],
      "image/png": "[encoded data removed]"
     },
     "metadata": {},
     "output_type": "display_data"
    },
    {
     "data": {
      "text/plain": [
       "<Figure size 1200x500 with 1 Axes>"
      ],
      "image/png": "[encoded data removed]"
     },
     "metadata": {},
     "output_type": "display_data"
    },
    {
     "data": {
      "text/plain": [
       "<Figure size 800x600 with 1 Axes>"
      ],
      "image/png": "[encoded data removed]"
     },
     "metadata": {},
     "output_type": "display_data"
    }
   ],
   "execution_count": 181
  },
  {
   "metadata": {
    "ExecuteTime": {
     "end_time": "2025-03-23T01:11:18.729431Z",
     "start_time": "2025-03-23T01:11:18.727987Z"
    }
   },
   "cell_type": "code",
   "source": "",
   "outputs": [],
   "execution_count": null
  },
  {
   "metadata": {},
   "cell_type": "markdown",
   "source": ""
  }
 ],
 "metadata": {
  "colab": {
   "authorship_tag": "ABX9TyNNag92UMCy1GtgfJ+zFFU1",
   "collapsed_sections": [],
   "name": "DUDL_FFN_aboutMNIST.ipynb",
   "provenance": [
    {
     "file_id": "15cpyHkJ435B4MqbyGjAH1poN4nCy_DE4",
     "timestamp": 1617737766196
    },
    {
     "file_id": "1OLuWuaFu0hcFgkQ2hh5BqbRuqUZD7XcQ",
     "timestamp": 1617734878578
    },
    {
     "file_id": "1XvzVGJPTJifVh8OpZVB7ykLxyUqYwQ1j",
     "timestamp": 1617196833019
    },
    {
     "file_id": "1bv1_y32e3KEExFKKlPfC3rpw1JxmBr8H",
     "timestamp": 1617124341706
    },
    {
     "file_id": "1GMq8u7KyHB2AE7Teyls9gK1T01OduQSn",
     "timestamp": 1616697516760
    },
    {
     "file_id": "1Ui3kyHim-e0XLgDs2mkBxVlYg7TKYtcg",
     "timestamp": 1616615469755
    },
    {
     "file_id": "1YpHocGI4rApOxIBb1ZghCU5L-hFnv4CK",
     "timestamp": 1616608248670
    }
   ]
  },
  "kernelspec": {
   "display_name": "Python (newpipenv)",
   "language": "python",
   "name": "newpipenv"
  },
  "language_info": {
   "codemirror_mode": {
    "name": "ipython",
    "version": 3
   },
   "file_extension": ".py",
   "mimetype": "text/x-python",
   "name": "python",
   "nbconvert_exporter": "python",
   "pygments_lexer": "ipython3",
   "version": "3.10.9"
  }
 },
 "nbformat": 4,
 "nbformat_minor": 1
}
