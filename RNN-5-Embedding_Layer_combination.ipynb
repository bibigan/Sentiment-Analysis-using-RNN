{
 "cells": [
  {
   "cell_type": "code",
   "metadata": {
    "id": "YeuAheYyhdZw",
    "ExecuteTime": {
     "end_time": "2025-03-23T10:59:11.686257Z",
     "start_time": "2025-03-23T10:59:11.675735Z"
    }
   },
   "source": [
    "# import libraries\n",
    "# DataFrame\n",
    "import pandas as pd\n",
    "\n",
    "# plotting\n",
    "import seaborn as sns\n",
    "from wordcloud import WordCloud\n",
    "import matplotlib.pyplot as plt\n",
    "\n",
    "# nltk\n",
    "import nltk\n",
    "from nltk.stem import WordNetLemmatizer\n",
    "from nltk.corpus import stopwords\n",
    "from nltk.tokenize import word_tokenize\n",
    "\n",
    "# sklearny\n",
    "from sklearn.model_selection import train_test_split\n",
    "from sklearn.feature_extraction.text import TfidfVectorizer\n",
    "from sklearn.metrics import confusion_matrix, classification_report\n",
    "\n",
    "from sklearn.linear_model import LogisticRegression\n",
    "from sklearn.svm import LinearSVC\n",
    "from sklearn.ensemble import RandomForestClassifier\n",
    "from sklearn.naive_bayes import BernoulliNB\n",
    "\n",
    "\n",
    "#tensorflow\n",
    "import tensorflow.compat.v2 as tf\n",
    "import tensorflow_datasets as tfds\n",
    "\n",
    "# Utility\n",
    "import pandas as pd\n",
    "import numpy as np\n",
    "import warnings\n",
    "warnings.filterwarnings('ignore')\n",
    "import re\n",
    "import string\n",
    "import pickle"
   ],
   "outputs": [],
   "execution_count": 182
  },
  {
   "cell_type": "markdown",
   "metadata": {},
   "source": "# Loading Dataset"
  },
  {
   "cell_type": "code",
   "metadata": {
    "ExecuteTime": {
     "end_time": "2025-03-23T10:59:14.613830Z",
     "start_time": "2025-03-23T10:59:11.716502Z"
    }
   },
   "source": [
    "# Construct a tf.data.Dataset\n",
    "data = pd.read_csv('training.1600000.processed.noemoticon.csv',encoding='latin', names = ['polarity','id','date','query','user','text'])\n",
    "# Random shuffling of data, select the first 200,000\n",
    "data = data.sample(frac=1,random_state=740)\n",
    "data = data[:20000]\n",
    "data.head(10)"
   ],
   "outputs": [],
   "execution_count": 183
  },
  {
   "metadata": {},
   "cell_type": "markdown",
   "source": "# Data Visualization"
  },
  {
   "cell_type": "code",
   "metadata": {
    "scrolled": false,
    "ExecuteTime": {
     "end_time": "2025-03-23T10:59:14.842783Z",
     "start_time": "2025-03-23T10:59:14.838681Z"
    }
   },
   "source": "print(\"Dataset shape:\", data.shape)",
   "outputs": [
    {
     "name": "stdout",
     "output_type": "stream",
     "text": [
      "Dataset shape: (20000, 6)\n"
     ]
    }
   ],
   "execution_count": 185
  },
  {
   "cell_type": "code",
   "metadata": {
    "ExecuteTime": {
     "end_time": "2025-03-23T10:59:14.886644Z",
     "start_time": "2025-03-23T10:59:14.879796Z"
    }
   },
   "source": "data.head(10)",
   "outputs": [
    {
     "data": {
      "text/plain": [
       "         polarity          id                          date     query  \\\n",
       "1204515         4  1986309294  Sun May 31 18:39:03 PDT 2009  NO_QUERY   \n",
       "1243481         4  1994589530  Mon Jun 01 12:09:14 PDT 2009  NO_QUERY   \n",
       "1332314         4  2016159166  Wed Jun 03 06:16:43 PDT 2009  NO_QUERY   \n",
       "1474423         4  2065731749  Sun Jun 07 09:10:52 PDT 2009  NO_QUERY   \n",
       "282046          0  1992501647  Mon Jun 01 08:51:23 PDT 2009  NO_QUERY   \n",
       "370682          0  2050203690  Fri Jun 05 18:15:08 PDT 2009  NO_QUERY   \n",
       "608078          0  2223191821  Thu Jun 18 07:58:09 PDT 2009  NO_QUERY   \n",
       "629384          0  2231626035  Thu Jun 18 18:48:37 PDT 2009  NO_QUERY   \n",
       "1351839         4  2046174910  Fri Jun 05 11:48:04 PDT 2009  NO_QUERY   \n",
       "311579          0  2001331555  Tue Jun 02 00:32:26 PDT 2009  NO_QUERY   \n",
       "\n",
       "                   user                                               text  \n",
       "1204515      TRIbalChic  Had a nice run today at Lake Hodges. The weath...  \n",
       "1243481        alliekae               You'll realize it sooner or laterrr   \n",
       "1332314     Nimilia1621        Goodbye by Miley Cyrus. It's a  nice song.   \n",
       "1474423  crrrazybananuh  Photo: I wanna go to Japan! Food, fashion and ...  \n",
       "282046         linzylou                       is struggling with uni work   \n",
       "370682        Julie1205                        wtf i missed the damn song   \n",
       "608078       iCarluccio  @NaiiLand I know  Silly apple!! Why not switch...  \n",
       "629384         GrantGXL       Love in the club.... nope - people fighting   \n",
       "1351839   kaleenasdiary  Bout to start this party thing... kids las day...  \n",
       "311579            doc18  so want the Toasted Marshalls!!!   http://tiny...  "
      ],
      "text/html": [
       "<div>\n",
       "<style scoped>\n",
       "    .dataframe tbody tr th:only-of-type {\n",
       "        vertical-align: middle;\n",
       "    }\n",
       "\n",
       "    .dataframe tbody tr th {\n",
       "        vertical-align: top;\n",
       "    }\n",
       "\n",
       "    .dataframe thead th {\n",
       "        text-align: right;\n",
       "    }\n",
       "</style>\n",
       "<table border=\"1\" class=\"dataframe\">\n",
       "  <thead>\n",
       "    <tr style=\"text-align: right;\">\n",
       "      <th></th>\n",
       "      <th>polarity</th>\n",
       "      <th>id</th>\n",
       "      <th>date</th>\n",
       "      <th>query</th>\n",
       "      <th>user</th>\n",
       "      <th>text</th>\n",
       "    </tr>\n",
       "  </thead>\n",
       "  <tbody>\n",
       "    <tr>\n",
       "      <th>1204515</th>\n",
       "      <td>4</td>\n",
       "      <td>1986309294</td>\n",
       "      <td>Sun May 31 18:39:03 PDT 2009</td>\n",
       "      <td>NO_QUERY</td>\n",
       "      <td>TRIbalChic</td>\n",
       "      <td>Had a nice run today at Lake Hodges. The weath...</td>\n",
       "    </tr>\n",
       "    <tr>\n",
       "      <th>1243481</th>\n",
       "      <td>4</td>\n",
       "      <td>1994589530</td>\n",
       "      <td>Mon Jun 01 12:09:14 PDT 2009</td>\n",
       "      <td>NO_QUERY</td>\n",
       "      <td>alliekae</td>\n",
       "      <td>You'll realize it sooner or laterrr</td>\n",
       "    </tr>\n",
       "    <tr>\n",
       "      <th>1332314</th>\n",
       "      <td>4</td>\n",
       "      <td>2016159166</td>\n",
       "      <td>Wed Jun 03 06:16:43 PDT 2009</td>\n",
       "      <td>NO_QUERY</td>\n",
       "      <td>Nimilia1621</td>\n",
       "      <td>Goodbye by Miley Cyrus. It's a  nice song.</td>\n",
       "    </tr>\n",
       "    <tr>\n",
       "      <th>1474423</th>\n",
       "      <td>4</td>\n",
       "      <td>2065731749</td>\n",
       "      <td>Sun Jun 07 09:10:52 PDT 2009</td>\n",
       "      <td>NO_QUERY</td>\n",
       "      <td>crrrazybananuh</td>\n",
       "      <td>Photo: I wanna go to Japan! Food, fashion and ...</td>\n",
       "    </tr>\n",
       "    <tr>\n",
       "      <th>282046</th>\n",
       "      <td>0</td>\n",
       "      <td>1992501647</td>\n",
       "      <td>Mon Jun 01 08:51:23 PDT 2009</td>\n",
       "      <td>NO_QUERY</td>\n",
       "      <td>linzylou</td>\n",
       "      <td>is struggling with uni work</td>\n",
       "    </tr>\n",
       "    <tr>\n",
       "      <th>370682</th>\n",
       "      <td>0</td>\n",
       "      <td>2050203690</td>\n",
       "      <td>Fri Jun 05 18:15:08 PDT 2009</td>\n",
       "      <td>NO_QUERY</td>\n",
       "      <td>Julie1205</td>\n",
       "      <td>wtf i missed the damn song</td>\n",
       "    </tr>\n",
       "    <tr>\n",
       "      <th>608078</th>\n",
       "      <td>0</td>\n",
       "      <td>2223191821</td>\n",
       "      <td>Thu Jun 18 07:58:09 PDT 2009</td>\n",
       "      <td>NO_QUERY</td>\n",
       "      <td>iCarluccio</td>\n",
       "      <td>@NaiiLand I know  Silly apple!! Why not switch...</td>\n",
       "    </tr>\n",
       "    <tr>\n",
       "      <th>629384</th>\n",
       "      <td>0</td>\n",
       "      <td>2231626035</td>\n",
       "      <td>Thu Jun 18 18:48:37 PDT 2009</td>\n",
       "      <td>NO_QUERY</td>\n",
       "      <td>GrantGXL</td>\n",
       "      <td>Love in the club.... nope - people fighting</td>\n",
       "    </tr>\n",
       "    <tr>\n",
       "      <th>1351839</th>\n",
       "      <td>4</td>\n",
       "      <td>2046174910</td>\n",
       "      <td>Fri Jun 05 11:48:04 PDT 2009</td>\n",
       "      <td>NO_QUERY</td>\n",
       "      <td>kaleenasdiary</td>\n",
       "      <td>Bout to start this party thing... kids las day...</td>\n",
       "    </tr>\n",
       "    <tr>\n",
       "      <th>311579</th>\n",
       "      <td>0</td>\n",
       "      <td>2001331555</td>\n",
       "      <td>Tue Jun 02 00:32:26 PDT 2009</td>\n",
       "      <td>NO_QUERY</td>\n",
       "      <td>doc18</td>\n",
       "      <td>so want the Toasted Marshalls!!!   http://tiny...</td>\n",
       "    </tr>\n",
       "  </tbody>\n",
       "</table>\n",
       "</div>"
      ]
     },
     "execution_count": 186,
     "metadata": {},
     "output_type": "execute_result"
    }
   ],
   "execution_count": 186
  },
  {
   "cell_type": "code",
   "metadata": {
    "ExecuteTime": {
     "end_time": "2025-03-23T10:59:14.946583Z",
     "start_time": "2025-03-23T10:59:14.942441Z"
    }
   },
   "source": "data['polarity'].unique()",
   "outputs": [
    {
     "data": {
      "text/plain": [
       "array([4, 0])"
      ]
     },
     "execution_count": 187,
     "metadata": {},
     "output_type": "execute_result"
    }
   ],
   "execution_count": 187
  },
  {
   "cell_type": "code",
   "metadata": {
    "scrolled": true,
    "ExecuteTime": {
     "end_time": "2025-03-23T10:59:14.994263Z",
     "start_time": "2025-03-23T10:59:14.987662Z"
    }
   },
   "source": [
    "# Replacing the value 4 -->1 for ease of understanding.\n",
    "data['polarity'] = data['polarity'].replace(4,1)\n",
    "data.head()"
   ],
   "outputs": [
    {
     "data": {
      "text/plain": [
       "         polarity          id                          date     query  \\\n",
       "1204515         1  1986309294  Sun May 31 18:39:03 PDT 2009  NO_QUERY   \n",
       "1243481         1  1994589530  Mon Jun 01 12:09:14 PDT 2009  NO_QUERY   \n",
       "1332314         1  2016159166  Wed Jun 03 06:16:43 PDT 2009  NO_QUERY   \n",
       "1474423         1  2065731749  Sun Jun 07 09:10:52 PDT 2009  NO_QUERY   \n",
       "282046          0  1992501647  Mon Jun 01 08:51:23 PDT 2009  NO_QUERY   \n",
       "\n",
       "                   user                                               text  \n",
       "1204515      TRIbalChic  Had a nice run today at Lake Hodges. The weath...  \n",
       "1243481        alliekae               You'll realize it sooner or laterrr   \n",
       "1332314     Nimilia1621        Goodbye by Miley Cyrus. It's a  nice song.   \n",
       "1474423  crrrazybananuh  Photo: I wanna go to Japan! Food, fashion and ...  \n",
       "282046         linzylou                       is struggling with uni work   "
      ],
      "text/html": [
       "<div>\n",
       "<style scoped>\n",
       "    .dataframe tbody tr th:only-of-type {\n",
       "        vertical-align: middle;\n",
       "    }\n",
       "\n",
       "    .dataframe tbody tr th {\n",
       "        vertical-align: top;\n",
       "    }\n",
       "\n",
       "    .dataframe thead th {\n",
       "        text-align: right;\n",
       "    }\n",
       "</style>\n",
       "<table border=\"1\" class=\"dataframe\">\n",
       "  <thead>\n",
       "    <tr style=\"text-align: right;\">\n",
       "      <th></th>\n",
       "      <th>polarity</th>\n",
       "      <th>id</th>\n",
       "      <th>date</th>\n",
       "      <th>query</th>\n",
       "      <th>user</th>\n",
       "      <th>text</th>\n",
       "    </tr>\n",
       "  </thead>\n",
       "  <tbody>\n",
       "    <tr>\n",
       "      <th>1204515</th>\n",
       "      <td>1</td>\n",
       "      <td>1986309294</td>\n",
       "      <td>Sun May 31 18:39:03 PDT 2009</td>\n",
       "      <td>NO_QUERY</td>\n",
       "      <td>TRIbalChic</td>\n",
       "      <td>Had a nice run today at Lake Hodges. The weath...</td>\n",
       "    </tr>\n",
       "    <tr>\n",
       "      <th>1243481</th>\n",
       "      <td>1</td>\n",
       "      <td>1994589530</td>\n",
       "      <td>Mon Jun 01 12:09:14 PDT 2009</td>\n",
       "      <td>NO_QUERY</td>\n",
       "      <td>alliekae</td>\n",
       "      <td>You'll realize it sooner or laterrr</td>\n",
       "    </tr>\n",
       "    <tr>\n",
       "      <th>1332314</th>\n",
       "      <td>1</td>\n",
       "      <td>2016159166</td>\n",
       "      <td>Wed Jun 03 06:16:43 PDT 2009</td>\n",
       "      <td>NO_QUERY</td>\n",
       "      <td>Nimilia1621</td>\n",
       "      <td>Goodbye by Miley Cyrus. It's a  nice song.</td>\n",
       "    </tr>\n",
       "    <tr>\n",
       "      <th>1474423</th>\n",
       "      <td>1</td>\n",
       "      <td>2065731749</td>\n",
       "      <td>Sun Jun 07 09:10:52 PDT 2009</td>\n",
       "      <td>NO_QUERY</td>\n",
       "      <td>crrrazybananuh</td>\n",
       "      <td>Photo: I wanna go to Japan! Food, fashion and ...</td>\n",
       "    </tr>\n",
       "    <tr>\n",
       "      <th>282046</th>\n",
       "      <td>0</td>\n",
       "      <td>1992501647</td>\n",
       "      <td>Mon Jun 01 08:51:23 PDT 2009</td>\n",
       "      <td>NO_QUERY</td>\n",
       "      <td>linzylou</td>\n",
       "      <td>is struggling with uni work</td>\n",
       "    </tr>\n",
       "  </tbody>\n",
       "</table>\n",
       "</div>"
      ]
     },
     "execution_count": 188,
     "metadata": {},
     "output_type": "execute_result"
    }
   ],
   "execution_count": 188
  },
  {
   "cell_type": "code",
   "metadata": {
    "ExecuteTime": {
     "end_time": "2025-03-23T10:59:15.119484Z",
     "start_time": "2025-03-23T10:59:15.109041Z"
    }
   },
   "source": "data.describe()",
   "outputs": [
    {
     "data": {
      "text/plain": [
       "           polarity            id\n",
       "count  20000.000000  2.000000e+04\n",
       "mean       0.496950  1.996930e+09\n",
       "std        0.500003  1.952077e+08\n",
       "min        0.000000  1.467823e+09\n",
       "25%        0.000000  1.956010e+09\n",
       "50%        0.000000  2.001651e+09\n",
       "75%        1.000000  2.176747e+09\n",
       "max        1.000000  2.329178e+09"
      ],
      "text/html": [
       "<div>\n",
       "<style scoped>\n",
       "    .dataframe tbody tr th:only-of-type {\n",
       "        vertical-align: middle;\n",
       "    }\n",
       "\n",
       "    .dataframe tbody tr th {\n",
       "        vertical-align: top;\n",
       "    }\n",
       "\n",
       "    .dataframe thead th {\n",
       "        text-align: right;\n",
       "    }\n",
       "</style>\n",
       "<table border=\"1\" class=\"dataframe\">\n",
       "  <thead>\n",
       "    <tr style=\"text-align: right;\">\n",
       "      <th></th>\n",
       "      <th>polarity</th>\n",
       "      <th>id</th>\n",
       "    </tr>\n",
       "  </thead>\n",
       "  <tbody>\n",
       "    <tr>\n",
       "      <th>count</th>\n",
       "      <td>20000.000000</td>\n",
       "      <td>2.000000e+04</td>\n",
       "    </tr>\n",
       "    <tr>\n",
       "      <th>mean</th>\n",
       "      <td>0.496950</td>\n",
       "      <td>1.996930e+09</td>\n",
       "    </tr>\n",
       "    <tr>\n",
       "      <th>std</th>\n",
       "      <td>0.500003</td>\n",
       "      <td>1.952077e+08</td>\n",
       "    </tr>\n",
       "    <tr>\n",
       "      <th>min</th>\n",
       "      <td>0.000000</td>\n",
       "      <td>1.467823e+09</td>\n",
       "    </tr>\n",
       "    <tr>\n",
       "      <th>25%</th>\n",
       "      <td>0.000000</td>\n",
       "      <td>1.956010e+09</td>\n",
       "    </tr>\n",
       "    <tr>\n",
       "      <th>50%</th>\n",
       "      <td>0.000000</td>\n",
       "      <td>2.001651e+09</td>\n",
       "    </tr>\n",
       "    <tr>\n",
       "      <th>75%</th>\n",
       "      <td>1.000000</td>\n",
       "      <td>2.176747e+09</td>\n",
       "    </tr>\n",
       "    <tr>\n",
       "      <th>max</th>\n",
       "      <td>1.000000</td>\n",
       "      <td>2.329178e+09</td>\n",
       "    </tr>\n",
       "  </tbody>\n",
       "</table>\n",
       "</div>"
      ]
     },
     "execution_count": 189,
     "metadata": {},
     "output_type": "execute_result"
    }
   ],
   "execution_count": 189
  },
  {
   "metadata": {
    "ExecuteTime": {
     "end_time": "2025-03-23T10:59:15.354748Z",
     "start_time": "2025-03-23T10:59:15.347849Z"
    }
   },
   "cell_type": "code",
   "source": [
    "# check the number of positive vs. negative tagged sentences\n",
    "positives = data['polarity'][data.polarity == 1 ]\n",
    "negatives = data['polarity'][data.polarity == 0 ]\n",
    "\n",
    "print('Total length of the data is:         {}'.format(data.shape[0]))\n",
    "print('No. of positve tagged sentences is:  {}'.format(len(positives)))\n",
    "print('No. of negative tagged sentences is: {}'.format(len(negatives)))"
   ],
   "outputs": [
    {
     "name": "stdout",
     "output_type": "stream",
     "text": [
      "Total length of the data is:         20000\n",
      "No. of positve tagged sentences is:  9939\n",
      "No. of negative tagged sentences is: 10061\n"
     ]
    }
   ],
   "execution_count": 190
  },
  {
   "metadata": {
    "ExecuteTime": {
     "end_time": "2025-03-23T10:59:15.449146Z",
     "start_time": "2025-03-23T10:59:15.446718Z"
    }
   },
   "cell_type": "code",
   "source": [
    "# get a word count per of text\n",
    "def word_count(words):\n",
    "    return len(words.split())"
   ],
   "outputs": [],
   "execution_count": 191
  },
  {
   "metadata": {
    "ExecuteTime": {
     "end_time": "2025-03-23T10:59:15.643995Z",
     "start_time": "2025-03-23T10:59:15.478252Z"
    }
   },
   "cell_type": "code",
   "source": [
    "# plot word count distribution for both positive and negative\n",
    "\n",
    "data['word count'] = data['text'].apply(word_count)\n",
    "p = data['word count'][data.polarity == 1]\n",
    "n = data['word count'][data.polarity == 0]\n",
    "plt.figure(figsize=(12,6))\n",
    "plt.xlim(0,45)\n",
    "plt.xlabel('Word count')\n",
    "plt.ylabel('Frequency')\n",
    "g = plt.hist([p, n], color=['g','r'], alpha=0.5, label=['positive','negative'])\n",
    "plt.legend(loc='upper right')"
   ],
   "outputs": [
    {
     "data": {
      "text/plain": [
       "<matplotlib.legend.Legend at 0x4492e53a0>"
      ]
     },
     "execution_count": 192,
     "metadata": {},
     "output_type": "execute_result"
    },
    {
     "data": {
      "text/plain": [
       "<Figure size 1200x600 with 1 Axes>"
      ],
      "image/png": "[encoded data removed]"
     },
     "metadata": {},
     "output_type": "display_data"
    }
   ],
   "execution_count": 192
  },
  {
   "metadata": {
    "ExecuteTime": {
     "end_time": "2025-03-23T10:59:15.742058Z",
     "start_time": "2025-03-23T10:59:15.652777Z"
    }
   },
   "cell_type": "code",
   "source": [
    "# get common words in training dataset\n",
    "from collections import Counter\n",
    "all_words = []\n",
    "for line in list(data['text']):\n",
    "    words = line.split()\n",
    "    for word in words:\n",
    "      if(len(word)>2):\n",
    "        all_words.append(word.lower())\n",
    "\n",
    "\n",
    "Counter(all_words).most_common(20)"
   ],
   "outputs": [
    {
     "data": {
      "text/plain": [
       "[('the', 6343),\n",
       " ('and', 3732),\n",
       " ('you', 2964),\n",
       " ('for', 2633),\n",
       " ('have', 1793),\n",
       " (\"i'm\", 1678),\n",
       " ('that', 1610),\n",
       " ('but', 1551),\n",
       " ('just', 1503),\n",
       " ('with', 1417),\n",
       " ('was', 1274),\n",
       " ('not', 1273),\n",
       " ('this', 1123),\n",
       " ('get', 1016),\n",
       " ('all', 973),\n",
       " ('like', 956),\n",
       " ('good', 953),\n",
       " ('are', 937),\n",
       " ('out', 864),\n",
       " (\"it's\", 825)]"
      ]
     },
     "execution_count": 193,
     "metadata": {},
     "output_type": "execute_result"
    }
   ],
   "execution_count": 193
  },
  {
   "metadata": {
    "ExecuteTime": {
     "end_time": "2025-03-23T10:59:15.860450Z",
     "start_time": "2025-03-23T10:59:15.754764Z"
    }
   },
   "cell_type": "code",
   "source": [
    "%matplotlib inline\n",
    "sns.countplot(x=data['polarity'])"
   ],
   "outputs": [
    {
     "data": {
      "text/plain": [
       "<Axes: xlabel='polarity', ylabel='count'>"
      ]
     },
     "execution_count": 194,
     "metadata": {},
     "output_type": "execute_result"
    },
    {
     "data": {
      "text/plain": [
       "<Figure size 640x480 with 1 Axes>"
      ],
      "image/png": "[encoded data removed]"
     },
     "metadata": {},
     "output_type": "display_data"
    }
   ],
   "execution_count": 194
  },
  {
   "metadata": {},
   "cell_type": "markdown",
   "source": [
    "# Data Processing\n",
    "## The Preprocessing steps taken are:\n",
    "1. Lower Casing: Each text is converted to lowercase.\n",
    "2. Removing URLs: Links starting with \"http\" or \"https\" or \"www\" are replaced by \"\".\n",
    "\n",
    "3. Removing Usernames: Replace @Usernames with word \"\". (eg: \"@XYZ\" to \"\")\n",
    "\n",
    "4. Removing Short Words: Words with length less than 2 are removed.\n",
    "5. Removing Stopwords: Stopwords are the English words which does not add much meaning to a sentence. They can safely be ignored without sacrificing the meaning of the sentence. (eg: \"the\", \"he\", \"have\")\n",
    "6. Lemmatizing: Lemmatization is the process of converting a word to its base form. (e.g: “wolves” to “wolf”)"
   ]
  },
  {
   "metadata": {
    "ExecuteTime": {
     "end_time": "2025-03-23T10:59:15.877786Z",
     "start_time": "2025-03-23T10:59:15.873278Z"
    }
   },
   "cell_type": "code",
   "source": [
    "# Removing the unnecessary columns.\n",
    "data.drop(['date','query','user','word count'], axis=1, inplace=True)"
   ],
   "outputs": [],
   "execution_count": 195
  },
  {
   "metadata": {
    "ExecuteTime": {
     "end_time": "2025-03-23T10:59:15.899457Z",
     "start_time": "2025-03-23T10:59:15.893121Z"
    }
   },
   "cell_type": "code",
   "source": [
    "data.drop('id', axis=1, inplace=True)\n",
    "data.head(10)"
   ],
   "outputs": [
    {
     "data": {
      "text/plain": [
       "         polarity                                               text\n",
       "1204515         1  Had a nice run today at Lake Hodges. The weath...\n",
       "1243481         1               You'll realize it sooner or laterrr \n",
       "1332314         1        Goodbye by Miley Cyrus. It's a  nice song. \n",
       "1474423         1  Photo: I wanna go to Japan! Food, fashion and ...\n",
       "282046          0                       is struggling with uni work \n",
       "370682          0                        wtf i missed the damn song \n",
       "608078          0  @NaiiLand I know  Silly apple!! Why not switch...\n",
       "629384          0       Love in the club.... nope - people fighting \n",
       "1351839         1  Bout to start this party thing... kids las day...\n",
       "311579          0  so want the Toasted Marshalls!!!   http://tiny..."
      ],
      "text/html": [
       "<div>\n",
       "<style scoped>\n",
       "    .dataframe tbody tr th:only-of-type {\n",
       "        vertical-align: middle;\n",
       "    }\n",
       "\n",
       "    .dataframe tbody tr th {\n",
       "        vertical-align: top;\n",
       "    }\n",
       "\n",
       "    .dataframe thead th {\n",
       "        text-align: right;\n",
       "    }\n",
       "</style>\n",
       "<table border=\"1\" class=\"dataframe\">\n",
       "  <thead>\n",
       "    <tr style=\"text-align: right;\">\n",
       "      <th></th>\n",
       "      <th>polarity</th>\n",
       "      <th>text</th>\n",
       "    </tr>\n",
       "  </thead>\n",
       "  <tbody>\n",
       "    <tr>\n",
       "      <th>1204515</th>\n",
       "      <td>1</td>\n",
       "      <td>Had a nice run today at Lake Hodges. The weath...</td>\n",
       "    </tr>\n",
       "    <tr>\n",
       "      <th>1243481</th>\n",
       "      <td>1</td>\n",
       "      <td>You'll realize it sooner or laterrr</td>\n",
       "    </tr>\n",
       "    <tr>\n",
       "      <th>1332314</th>\n",
       "      <td>1</td>\n",
       "      <td>Goodbye by Miley Cyrus. It's a  nice song.</td>\n",
       "    </tr>\n",
       "    <tr>\n",
       "      <th>1474423</th>\n",
       "      <td>1</td>\n",
       "      <td>Photo: I wanna go to Japan! Food, fashion and ...</td>\n",
       "    </tr>\n",
       "    <tr>\n",
       "      <th>282046</th>\n",
       "      <td>0</td>\n",
       "      <td>is struggling with uni work</td>\n",
       "    </tr>\n",
       "    <tr>\n",
       "      <th>370682</th>\n",
       "      <td>0</td>\n",
       "      <td>wtf i missed the damn song</td>\n",
       "    </tr>\n",
       "    <tr>\n",
       "      <th>608078</th>\n",
       "      <td>0</td>\n",
       "      <td>@NaiiLand I know  Silly apple!! Why not switch...</td>\n",
       "    </tr>\n",
       "    <tr>\n",
       "      <th>629384</th>\n",
       "      <td>0</td>\n",
       "      <td>Love in the club.... nope - people fighting</td>\n",
       "    </tr>\n",
       "    <tr>\n",
       "      <th>1351839</th>\n",
       "      <td>1</td>\n",
       "      <td>Bout to start this party thing... kids las day...</td>\n",
       "    </tr>\n",
       "    <tr>\n",
       "      <th>311579</th>\n",
       "      <td>0</td>\n",
       "      <td>so want the Toasted Marshalls!!!   http://tiny...</td>\n",
       "    </tr>\n",
       "  </tbody>\n",
       "</table>\n",
       "</div>"
      ]
     },
     "execution_count": 196,
     "metadata": {},
     "output_type": "execute_result"
    }
   ],
   "execution_count": 196
  },
  {
   "metadata": {
    "ExecuteTime": {
     "end_time": "2025-03-23T10:59:15.947654Z",
     "start_time": "2025-03-23T10:59:15.940939Z"
    }
   },
   "cell_type": "code",
   "source": [
    "#Checking if any null values present\n",
    "(data.isnull().sum() / len(data))*100"
   ],
   "outputs": [
    {
     "data": {
      "text/plain": [
       "polarity    0.0\n",
       "text        0.0\n",
       "dtype: float64"
      ]
     },
     "execution_count": 197,
     "metadata": {},
     "output_type": "execute_result"
    }
   ],
   "execution_count": 197
  },
  {
   "metadata": {
    "ExecuteTime": {
     "end_time": "2025-03-23T10:59:16.021019Z",
     "start_time": "2025-03-23T10:59:16.017338Z"
    }
   },
   "cell_type": "code",
   "source": [
    "#convrting pandas object to a string type\n",
    "data['text'] = data['text'].astype('str')"
   ],
   "outputs": [],
   "execution_count": 198
  },
  {
   "metadata": {
    "ExecuteTime": {
     "end_time": "2025-03-23T10:59:16.222296Z",
     "start_time": "2025-03-23T10:59:16.054224Z"
    }
   },
   "cell_type": "code",
   "source": [
    "nltk.download('stopwords')\n",
    "stopword = set(stopwords.words('english'))\n",
    "print(stopword)"
   ],
   "outputs": [
    {
     "name": "stdout",
     "output_type": "stream",
     "text": [
      "{'with', 'had', 'should', 'that', 'himself', 'll', \"it's\", 'but', 'same', 'of', 'both', 'ma', \"we'll\", 'out', 'hasn', 'd', 'for', 'if', 'into', 'their', 'are', \"she's\", 'him', \"we'd\", 'once', \"wouldn't\", 'having', \"i'm\", 'or', 'there', 'few', \"aren't\", \"shan't\", 's', 'aren', 'each', 'so', 'other', 'some', 'through', 'his', \"he'll\", 'such', 'yourself', \"you've\", 'these', 'can', \"should've\", 'your', 'most', 'too', 'them', 'as', \"he's\", 'after', 'by', 'under', 'i', 'off', 'we', 'ourselves', \"weren't\", 'again', \"they've\", 'wouldn', 'why', 'all', \"i'll\", \"you'd\", \"wasn't\", 'itself', 'during', 'theirs', \"didn't\", 'yours', 'between', \"doesn't\", \"i'd\", \"i've\", 'our', 'just', 'weren', 'couldn', 'her', 'needn', 'and', \"haven't\", 'hadn', \"don't\", 'over', 'be', 'isn', \"couldn't\", 'what', \"mustn't\", 'is', 'below', 'any', 'have', 'does', \"she'd\", 'about', \"she'll\", \"hasn't\", \"that'll\", 'ain', 'then', 'how', 'own', 'didn', 'in', 'haven', 'themselves', 'nor', 'she', \"they're\", \"you'll\", 'me', 'will', \"we're\", 'mustn', 'its', 'ours', 'being', 'the', 'did', 'because', 're', 'yourselves', 'not', 'mightn', 'an', 'on', \"needn't\", 'further', 'been', 'who', 'against', 'when', 'until', 'while', 'o', \"shouldn't\", 'very', 'it', \"he'd\", 'shan', 've', \"you're\", 'has', 'do', \"it'd\", 't', 'where', 'before', 'm', 'more', 'those', 'they', 'whom', 'myself', 'y', 'at', 'he', 'no', 'was', \"they'd\", 'doesn', 'up', \"it'll\", 'won', \"mightn't\", 'from', \"isn't\", \"they'll\", 'you', \"hadn't\", 'which', 'herself', 'this', 'my', 'wasn', 'above', 'doing', 'than', \"we've\", 'a', 'shouldn', 'only', \"won't\", 'were', 'to', 'here', 'down', 'am', 'hers', 'now', 'don'}\n"
     ]
    },
    {
     "name": "stderr",
     "output_type": "stream",
     "text": [
      "[nltk_data] Downloading package stopwords to\n",
      "[nltk_data]     /Users/zhaijingjing/nltk_data...\n",
      "[nltk_data]   Package stopwords is already up-to-date!\n"
     ]
    }
   ],
   "execution_count": 199
  },
  {
   "metadata": {
    "ExecuteTime": {
     "end_time": "2025-03-23T10:59:16.303540Z",
     "start_time": "2025-03-23T10:59:16.227133Z"
    }
   },
   "cell_type": "code",
   "source": [
    "nltk.download('punkt')\n",
    "nltk.download('wordnet')\n",
    "nltk.download('punkt_tab')"
   ],
   "outputs": [
    {
     "name": "stderr",
     "output_type": "stream",
     "text": [
      "[nltk_data] Downloading package punkt to\n",
      "[nltk_data]     /Users/zhaijingjing/nltk_data...\n",
      "[nltk_data]   Package punkt is already up-to-date!\n",
      "[nltk_data] Downloading package wordnet to\n",
      "[nltk_data]     /Users/zhaijingjing/nltk_data...\n",
      "[nltk_data]   Package wordnet is already up-to-date!\n",
      "[nltk_data] Downloading package punkt_tab to\n",
      "[nltk_data]     /Users/zhaijingjing/nltk_data...\n",
      "[nltk_data]   Package punkt_tab is already up-to-date!\n"
     ]
    },
    {
     "data": {
      "text/plain": [
       "True"
      ]
     },
     "execution_count": 200,
     "metadata": {},
     "output_type": "execute_result"
    }
   ],
   "execution_count": 200
  },
  {
   "metadata": {
    "ExecuteTime": {
     "end_time": "2025-03-23T10:59:16.321641Z",
     "start_time": "2025-03-23T10:59:16.315462Z"
    }
   },
   "cell_type": "code",
   "source": [
    "urlPattern = r\"((http://)[^ ]*|(https://)[^ ]*|( www\\.)[^ ]*)\"\n",
    "userPattern = '@[^\\s]+'\n",
    "def process_tweets_negation_handling_fix(tweet):\n",
    "    # Lower Casing\n",
    "    tweet = tweet.lower()\n",
    "    #tweet=tweet[1:]\n",
    "    # Removing all URls\n",
    "    tweet = re.sub(urlPattern,'',tweet)\n",
    "    # Removing all @username.\n",
    "    tweet = re.sub(userPattern,'', tweet)\n",
    "    # 移除非字母数字、空格和'的字符\n",
    "    tweet = re.sub(r\"[^\\w\\s']\", '', tweet)\n",
    "    # --- 特殊否定缩写处理 ---\n",
    "    # 1. 明确处理 can't → cannot\n",
    "    tweet = re.sub(r\"\\bcan't\\b\", \"cannot\", tweet)\n",
    "    # 2. 处理 won't → will not\n",
    "    tweet = re.sub(r\"\\bwon't\\b\", \"will not\", tweet)\n",
    "    # 3. 处理 shan't → shall not\n",
    "    tweet = re.sub(r\"\\bshan't\\b\", \"shall not\", tweet)\n",
    "    # 4. 处理 ain't → is not\n",
    "    tweet = re.sub(r\"\\bain't\\b\", \"is not\", tweet)\n",
    "    # --- 通用n't处理 ---\n",
    "    # 将剩余n't替换为 not（如didn't → did not）\n",
    "    tweet = re.sub(r\"n't\\b\", \" not\", tweet)\n",
    "    # --- 处理其他撇号为空格（如I'll → I ll）---\n",
    "    tweet = re.sub(r\"'\", ' ', tweet)\n",
    "\n",
    "    #tokenizing words\n",
    "    tokens = word_tokenize(tweet)\n",
    "    # Remove punctuations but remain ‘n't’\n",
    "    final_tokens = tokens\n",
    "    #reducing a word to its word stem\n",
    "    wordLemm = WordNetLemmatizer()\n",
    "    finalwords=[]\n",
    "\n",
    "    for w in tokens:\n",
    "        if len(w) > 1:\n",
    "            # 动词词性还原（解决 does→doe 问题）\n",
    "            word = wordLemm.lemmatize(w, pos='v')\n",
    "            # 名词词性还原（根据任务需求）\n",
    "            word = wordLemm.lemmatize(word, pos='n')\n",
    "            finalwords.append(word)\n",
    "    return ' '.join(finalwords)"
   ],
   "outputs": [],
   "execution_count": 201
  },
  {
   "metadata": {
    "ExecuteTime": {
     "end_time": "2025-03-23T10:59:19.901641Z",
     "start_time": "2025-03-23T10:59:16.346903Z"
    }
   },
   "cell_type": "code",
   "source": [
    "data['processed_tweets'] = data['text'].apply(lambda x: process_tweets_negation_handling_fix(x))\n",
    "print('Text Preprocessing complete.')"
   ],
   "outputs": [
    {
     "name": "stdout",
     "output_type": "stream",
     "text": [
      "Text Preprocessing complete.\n"
     ]
    }
   ],
   "execution_count": 202
  },
  {
   "metadata": {
    "ExecuteTime": {
     "end_time": "2025-03-23T10:59:19.911701Z",
     "start_time": "2025-03-23T10:59:19.906534Z"
    }
   },
   "cell_type": "code",
   "source": "data.head(10)",
   "outputs": [
    {
     "data": {
      "text/plain": [
       "         polarity                                               text  \\\n",
       "1204515         1  Had a nice run today at Lake Hodges. The weath...   \n",
       "1243481         1               You'll realize it sooner or laterrr    \n",
       "1332314         1        Goodbye by Miley Cyrus. It's a  nice song.    \n",
       "1474423         1  Photo: I wanna go to Japan! Food, fashion and ...   \n",
       "282046          0                       is struggling with uni work    \n",
       "370682          0                        wtf i missed the damn song    \n",
       "608078          0  @NaiiLand I know  Silly apple!! Why not switch...   \n",
       "629384          0       Love in the club.... nope - people fighting    \n",
       "1351839         1  Bout to start this party thing... kids las day...   \n",
       "311579          0  so want the Toasted Marshalls!!!   http://tiny...   \n",
       "\n",
       "                                          processed_tweets  \n",
       "1204515  have nice run today at lake hodges the weather...  \n",
       "1243481                you ll realize it sooner or laterrr  \n",
       "1332314                goodbye by miley cyrus it nice song  \n",
       "1474423  photo wan na go to japan food fashion and scen...  \n",
       "282046                           be struggle with uni work  \n",
       "370682                              wtf miss the damn song  \n",
       "608078   know silly apple why not switch to att you get...  \n",
       "629384                  love in the club nope people fight  \n",
       "1351839  bout to start this party thing kid la day of s...  \n",
       "311579                          so want the toast marshall  "
      ],
      "text/html": [
       "<div>\n",
       "<style scoped>\n",
       "    .dataframe tbody tr th:only-of-type {\n",
       "        vertical-align: middle;\n",
       "    }\n",
       "\n",
       "    .dataframe tbody tr th {\n",
       "        vertical-align: top;\n",
       "    }\n",
       "\n",
       "    .dataframe thead th {\n",
       "        text-align: right;\n",
       "    }\n",
       "</style>\n",
       "<table border=\"1\" class=\"dataframe\">\n",
       "  <thead>\n",
       "    <tr style=\"text-align: right;\">\n",
       "      <th></th>\n",
       "      <th>polarity</th>\n",
       "      <th>text</th>\n",
       "      <th>processed_tweets</th>\n",
       "    </tr>\n",
       "  </thead>\n",
       "  <tbody>\n",
       "    <tr>\n",
       "      <th>1204515</th>\n",
       "      <td>1</td>\n",
       "      <td>Had a nice run today at Lake Hodges. The weath...</td>\n",
       "      <td>have nice run today at lake hodges the weather...</td>\n",
       "    </tr>\n",
       "    <tr>\n",
       "      <th>1243481</th>\n",
       "      <td>1</td>\n",
       "      <td>You'll realize it sooner or laterrr</td>\n",
       "      <td>you ll realize it sooner or laterrr</td>\n",
       "    </tr>\n",
       "    <tr>\n",
       "      <th>1332314</th>\n",
       "      <td>1</td>\n",
       "      <td>Goodbye by Miley Cyrus. It's a  nice song.</td>\n",
       "      <td>goodbye by miley cyrus it nice song</td>\n",
       "    </tr>\n",
       "    <tr>\n",
       "      <th>1474423</th>\n",
       "      <td>1</td>\n",
       "      <td>Photo: I wanna go to Japan! Food, fashion and ...</td>\n",
       "      <td>photo wan na go to japan food fashion and scen...</td>\n",
       "    </tr>\n",
       "    <tr>\n",
       "      <th>282046</th>\n",
       "      <td>0</td>\n",
       "      <td>is struggling with uni work</td>\n",
       "      <td>be struggle with uni work</td>\n",
       "    </tr>\n",
       "    <tr>\n",
       "      <th>370682</th>\n",
       "      <td>0</td>\n",
       "      <td>wtf i missed the damn song</td>\n",
       "      <td>wtf miss the damn song</td>\n",
       "    </tr>\n",
       "    <tr>\n",
       "      <th>608078</th>\n",
       "      <td>0</td>\n",
       "      <td>@NaiiLand I know  Silly apple!! Why not switch...</td>\n",
       "      <td>know silly apple why not switch to att you get...</td>\n",
       "    </tr>\n",
       "    <tr>\n",
       "      <th>629384</th>\n",
       "      <td>0</td>\n",
       "      <td>Love in the club.... nope - people fighting</td>\n",
       "      <td>love in the club nope people fight</td>\n",
       "    </tr>\n",
       "    <tr>\n",
       "      <th>1351839</th>\n",
       "      <td>1</td>\n",
       "      <td>Bout to start this party thing... kids las day...</td>\n",
       "      <td>bout to start this party thing kid la day of s...</td>\n",
       "    </tr>\n",
       "    <tr>\n",
       "      <th>311579</th>\n",
       "      <td>0</td>\n",
       "      <td>so want the Toasted Marshalls!!!   http://tiny...</td>\n",
       "      <td>so want the toast marshall</td>\n",
       "    </tr>\n",
       "  </tbody>\n",
       "</table>\n",
       "</div>"
      ]
     },
     "execution_count": 203,
     "metadata": {},
     "output_type": "execute_result"
    }
   ],
   "execution_count": 203
  },
  {
   "metadata": {},
   "cell_type": "markdown",
   "source": "# RNN - LSTM"
  },
  {
   "metadata": {
    "ExecuteTime": {
     "end_time": "2025-03-23T10:59:19.954555Z",
     "start_time": "2025-03-23T10:59:19.951029Z"
    }
   },
   "cell_type": "code",
   "source": [
    "from keras.models import Sequential\n",
    "from keras.layers import Dense, Embedding, LSTM, Dropout\n",
    "from sklearn.feature_extraction.text import CountVectorizer\n",
    "from tensorflow.keras.preprocessing.text import Tokenizer\n",
    "from tensorflow.keras.preprocessing.sequence import pad_sequences\n",
    "from tensorflow.keras.utils import to_categorical\n",
    "import re\n",
    "import keras\n",
    "from keras import regularizers\n",
    "from keras.models import Sequential\n",
    "from keras import layers\n",
    "from keras import regularizers\n",
    "from keras import backend as K\n",
    "from keras.callbacks import ModelCheckpoint\n",
    "from tensorflow.keras.optimizers import Adam\n",
    "from keras.layers import Dense, Embedding, LSTM, Dropout, BatchNormalization, LeakyReLU"
   ],
   "outputs": [],
   "execution_count": 204
  },
  {
   "metadata": {},
   "cell_type": "markdown",
   "source": "## Hyperparameters"
  },
  {
   "metadata": {
    "ExecuteTime": {
     "end_time": "2025-03-23T10:59:19.993308Z",
     "start_time": "2025-03-23T10:59:19.989483Z"
    }
   },
   "cell_type": "code",
   "source": [
    "num_epochs = 10\n",
    "max_len = 200\n",
    "hidden_units = 4\n",
    "LSTM_units = 32\n",
    "learning_rate = 0.001\n",
    "dropout = 0.0\n",
    "\n",
    "results = {}\n",
    "params_history = {}\n",
    "max_words = [1000, 2000, 5000, 8000, 10000]  # 词汇量max_words\n",
    "embedding_dims = [16, 32, 64, 128]  # Embedding 维度embedding_dim"
   ],
   "outputs": [],
   "execution_count": 205
  },
  {
   "metadata": {},
   "cell_type": "markdown",
   "source": "## Creating and Traning LSTM Model"
  },
  {
   "metadata": {
    "ExecuteTime": {
     "end_time": "2025-03-23T10:59:20.034734Z",
     "start_time": "2025-03-23T10:59:20.029189Z"
    }
   },
   "cell_type": "code",
   "source": [
    "def create_lstm_model(max_word, embedding_dim):\n",
    "    model = Sequential()\n",
    "    model.add(layers.Embedding(max_word, embedding_dim))\n",
    "    model.add(layers.LSTM(LSTM_units, dropout=dropout))\n",
    "    model.add(layers.Dense(hidden_units, activation='relu'))\n",
    "    model.add(layers.Dense(hidden_units, activation='relu'))\n",
    "    model.add(layers.Dense(hidden_units, activation='relu'))\n",
    "    model.add(layers.Dense(1, activation='sigmoid'))\n",
    "    optimizer = Adam(learning_rate=learning_rate)\n",
    "    model.compile(optimizer=optimizer, loss='binary_crossentropy', metrics=['accuracy'])\n",
    "    return model"
   ],
   "outputs": [],
   "execution_count": 206
  },
  {
   "metadata": {
    "ExecuteTime": {
     "end_time": "2025-03-23T15:04:35.153603Z",
     "start_time": "2025-03-23T10:59:20.049205Z"
    }
   },
   "cell_type": "code",
   "source": [
    "models = {}\n",
    "for max_word in max_words:\n",
    "    for embedding_dim in embedding_dims:\n",
    "        print(f\"Training model with max_word={max_word}, embedding_dim={embedding_dim}...\")\n",
    "\n",
    "        # 重新创建 Tokenizer，确保只保留 max_word 个最常见单词\n",
    "        tokenizer = Tokenizer(num_words=max_word)\n",
    "        tokenizer.fit_on_texts(data.processed_tweets)\n",
    "        sequences = tokenizer.texts_to_sequences(data.processed_tweets)\n",
    "        tweets = pad_sequences(sequences, maxlen=max_len)\n",
    "\n",
    "        # 划分数据集\n",
    "        train_data, test_data, train_label, test_label = train_test_split(tweets, data.polarity.values, test_size=0.2, random_state=101)\n",
    "\n",
    "        model = create_lstm_model(max_word, embedding_dim)\n",
    "\n",
    "        history = model.fit(\n",
    "            train_data, train_label,\n",
    "            epochs=num_epochs,\n",
    "            validation_data=(test_data, test_label),\n",
    "            verbose=2\n",
    "        )\n",
    "\n",
    "        results[(max_word, embedding_dim)] = {\n",
    "            'train_acc': history.history['accuracy'][-1],\n",
    "            'test_acc': history.history['val_accuracy'][-1]\n",
    "        }\n",
    "\n",
    "        params_history[(max_word, embedding_dim)] = model.count_params()\n",
    "        models[(max_word, embedding_dim)] = model"
   ],
   "outputs": [
    {
     "name": "stdout",
     "output_type": "stream",
     "text": [
      "Training model with input_dim=1000, output_dim=16...\n",
      "Epoch 1/10\n",
      "500/500 - 16s - 32ms/step - accuracy: 0.6615 - loss: 0.6055 - val_accuracy: 0.7450 - val_loss: 0.5263\n",
      "Epoch 2/10\n",
      "500/500 - 15s - 29ms/step - accuracy: 0.7557 - loss: 0.5076 - val_accuracy: 0.7535 - val_loss: 0.5121\n",
      "Epoch 3/10\n",
      "500/500 - 14s - 27ms/step - accuracy: 0.7698 - loss: 0.4894 - val_accuracy: 0.7567 - val_loss: 0.5078\n",
      "Epoch 4/10\n",
      "500/500 - 14s - 27ms/step - accuracy: 0.7742 - loss: 0.4811 - val_accuracy: 0.7527 - val_loss: 0.5090\n",
      "Epoch 5/10\n",
      "500/500 - 14s - 27ms/step - accuracy: 0.7763 - loss: 0.4772 - val_accuracy: 0.7573 - val_loss: 0.5069\n",
      "Epoch 6/10\n",
      "500/500 - 14s - 27ms/step - accuracy: 0.7779 - loss: 0.4726 - val_accuracy: 0.7595 - val_loss: 0.5077\n",
      "Epoch 7/10\n",
      "500/500 - 14s - 27ms/step - accuracy: 0.7803 - loss: 0.4702 - val_accuracy: 0.7580 - val_loss: 0.5091\n",
      "Epoch 8/10\n",
      "500/500 - 14s - 27ms/step - accuracy: 0.7841 - loss: 0.4655 - val_accuracy: 0.7592 - val_loss: 0.5060\n",
      "Epoch 9/10\n",
      "500/500 - 14s - 27ms/step - accuracy: 0.7859 - loss: 0.4641 - val_accuracy: 0.7492 - val_loss: 0.5165\n",
      "Epoch 10/10\n",
      "500/500 - 14s - 27ms/step - accuracy: 0.7863 - loss: 0.4574 - val_accuracy: 0.7605 - val_loss: 0.5095\n",
      "Training model with input_dim=1000, output_dim=32...\n",
      "Epoch 1/10\n",
      "500/500 - 19s - 37ms/step - accuracy: 0.6764 - loss: 0.5910 - val_accuracy: 0.7458 - val_loss: 0.5255\n",
      "Epoch 2/10\n",
      "500/500 - 23s - 47ms/step - accuracy: 0.7556 - loss: 0.5067 - val_accuracy: 0.7598 - val_loss: 0.5086\n",
      "Epoch 3/10\n",
      "500/500 - 16s - 32ms/step - accuracy: 0.7669 - loss: 0.4858 - val_accuracy: 0.7605 - val_loss: 0.5060\n",
      "Epoch 4/10\n",
      "500/500 - 14s - 28ms/step - accuracy: 0.7788 - loss: 0.4749 - val_accuracy: 0.7577 - val_loss: 0.5079\n",
      "Epoch 5/10\n",
      "500/500 - 912s - 2s/step - accuracy: 0.7764 - loss: 0.4713 - val_accuracy: 0.7607 - val_loss: 0.5060\n",
      "Epoch 6/10\n",
      "500/500 - 14s - 28ms/step - accuracy: 0.7819 - loss: 0.4631 - val_accuracy: 0.7505 - val_loss: 0.5123\n",
      "Epoch 7/10\n",
      "500/500 - 14s - 27ms/step - accuracy: 0.7846 - loss: 0.4588 - val_accuracy: 0.7592 - val_loss: 0.5073\n",
      "Epoch 8/10\n",
      "500/500 - 14s - 28ms/step - accuracy: 0.7849 - loss: 0.4513 - val_accuracy: 0.7567 - val_loss: 0.5057\n",
      "Epoch 9/10\n",
      "500/500 - 14s - 28ms/step - accuracy: 0.7920 - loss: 0.4449 - val_accuracy: 0.7577 - val_loss: 0.5147\n",
      "Epoch 10/10\n",
      "500/500 - 294s - 588ms/step - accuracy: 0.7941 - loss: 0.4405 - val_accuracy: 0.7580 - val_loss: 0.5092\n",
      "Training model with input_dim=1000, output_dim=64...\n",
      "Epoch 1/10\n",
      "500/500 - 18s - 36ms/step - accuracy: 0.6883 - loss: 0.5801 - val_accuracy: 0.7513 - val_loss: 0.5177\n",
      "Epoch 2/10\n",
      "500/500 - 16s - 33ms/step - accuracy: 0.7621 - loss: 0.4906 - val_accuracy: 0.7570 - val_loss: 0.5039\n",
      "Epoch 3/10\n",
      "500/500 - 16s - 32ms/step - accuracy: 0.7724 - loss: 0.4743 - val_accuracy: 0.7642 - val_loss: 0.5059\n",
      "Epoch 4/10\n",
      "500/500 - 16s - 32ms/step - accuracy: 0.7771 - loss: 0.4618 - val_accuracy: 0.7598 - val_loss: 0.5062\n",
      "Epoch 5/10\n",
      "500/500 - 16s - 32ms/step - accuracy: 0.7851 - loss: 0.4511 - val_accuracy: 0.7615 - val_loss: 0.5030\n",
      "Epoch 6/10\n",
      "500/500 - 16s - 32ms/step - accuracy: 0.7897 - loss: 0.4403 - val_accuracy: 0.7617 - val_loss: 0.5062\n",
      "Epoch 7/10\n",
      "500/500 - 16s - 32ms/step - accuracy: 0.7997 - loss: 0.4264 - val_accuracy: 0.7582 - val_loss: 0.5151\n",
      "Epoch 8/10\n",
      "500/500 - 16s - 32ms/step - accuracy: 0.8011 - loss: 0.4191 - val_accuracy: 0.7538 - val_loss: 0.5335\n",
      "Epoch 9/10\n",
      "500/500 - 16s - 32ms/step - accuracy: 0.8045 - loss: 0.4103 - val_accuracy: 0.7540 - val_loss: 0.5434\n",
      "Epoch 10/10\n",
      "500/500 - 16s - 32ms/step - accuracy: 0.8087 - loss: 0.4010 - val_accuracy: 0.7530 - val_loss: 0.5364\n",
      "Training model with input_dim=1000, output_dim=128...\n",
      "Epoch 1/10\n",
      "500/500 - 22s - 44ms/step - accuracy: 0.6765 - loss: 0.5798 - val_accuracy: 0.7598 - val_loss: 0.5087\n",
      "Epoch 2/10\n",
      "500/500 - 21s - 41ms/step - accuracy: 0.7656 - loss: 0.4834 - val_accuracy: 0.7650 - val_loss: 0.5023\n",
      "Epoch 3/10\n",
      "500/500 - 21s - 41ms/step - accuracy: 0.7803 - loss: 0.4622 - val_accuracy: 0.7648 - val_loss: 0.5005\n",
      "Epoch 4/10\n",
      "500/500 - 21s - 41ms/step - accuracy: 0.7856 - loss: 0.4459 - val_accuracy: 0.7620 - val_loss: 0.5092\n",
      "Epoch 5/10\n",
      "500/500 - 21s - 42ms/step - accuracy: 0.7935 - loss: 0.4315 - val_accuracy: 0.7570 - val_loss: 0.5288\n",
      "Epoch 6/10\n",
      "500/500 - 21s - 41ms/step - accuracy: 0.7989 - loss: 0.4169 - val_accuracy: 0.7577 - val_loss: 0.5270\n",
      "Epoch 7/10\n",
      "500/500 - 21s - 41ms/step - accuracy: 0.8048 - loss: 0.4058 - val_accuracy: 0.7598 - val_loss: 0.5451\n",
      "Epoch 8/10\n",
      "500/500 - 21s - 42ms/step - accuracy: 0.8103 - loss: 0.3910 - val_accuracy: 0.7542 - val_loss: 0.5531\n",
      "Epoch 9/10\n",
      "500/500 - 21s - 41ms/step - accuracy: 0.8155 - loss: 0.3811 - val_accuracy: 0.7558 - val_loss: 0.5872\n",
      "Epoch 10/10\n",
      "500/500 - 21s - 42ms/step - accuracy: 0.8231 - loss: 0.3687 - val_accuracy: 0.7542 - val_loss: 0.5897\n",
      "Training model with input_dim=2000, output_dim=16...\n",
      "Epoch 1/10\n",
      "500/500 - 14s - 29ms/step - accuracy: 0.6661 - loss: 0.6027 - val_accuracy: 0.7480 - val_loss: 0.5234\n",
      "Epoch 2/10\n",
      "500/500 - 13s - 25ms/step - accuracy: 0.7661 - loss: 0.4942 - val_accuracy: 0.7602 - val_loss: 0.5079\n",
      "Epoch 3/10\n",
      "500/500 - 13s - 26ms/step - accuracy: 0.7791 - loss: 0.4715 - val_accuracy: 0.7525 - val_loss: 0.5173\n",
      "Epoch 4/10\n",
      "500/500 - 13s - 26ms/step - accuracy: 0.7890 - loss: 0.4556 - val_accuracy: 0.7605 - val_loss: 0.5115\n",
      "Epoch 5/10\n",
      "500/500 - 13s - 25ms/step - accuracy: 0.7974 - loss: 0.4464 - val_accuracy: 0.7630 - val_loss: 0.5143\n",
      "Epoch 6/10\n",
      "500/500 - 13s - 25ms/step - accuracy: 0.8012 - loss: 0.4419 - val_accuracy: 0.7625 - val_loss: 0.5119\n",
      "Epoch 7/10\n",
      "500/500 - 13s - 25ms/step - accuracy: 0.8054 - loss: 0.4356 - val_accuracy: 0.7548 - val_loss: 0.5178\n",
      "Epoch 8/10\n",
      "500/500 - 13s - 25ms/step - accuracy: 0.8052 - loss: 0.4329 - val_accuracy: 0.7538 - val_loss: 0.5178\n",
      "Epoch 9/10\n",
      "500/500 - 13s - 25ms/step - accuracy: 0.8100 - loss: 0.4257 - val_accuracy: 0.7577 - val_loss: 0.5256\n",
      "Epoch 10/10\n",
      "500/500 - 13s - 25ms/step - accuracy: 0.8103 - loss: 0.4217 - val_accuracy: 0.7613 - val_loss: 0.5295\n",
      "Training model with input_dim=2000, output_dim=32...\n",
      "Epoch 1/10\n",
      "500/500 - 16s - 32ms/step - accuracy: 0.6744 - loss: 0.5933 - val_accuracy: 0.7657 - val_loss: 0.5107\n",
      "Epoch 2/10\n",
      "500/500 - 14s - 28ms/step - accuracy: 0.7695 - loss: 0.4855 - val_accuracy: 0.7638 - val_loss: 0.5039\n",
      "Epoch 3/10\n",
      "500/500 - 14s - 28ms/step - accuracy: 0.7882 - loss: 0.4592 - val_accuracy: 0.7640 - val_loss: 0.5008\n",
      "Epoch 4/10\n",
      "500/500 - 14s - 28ms/step - accuracy: 0.7946 - loss: 0.4460 - val_accuracy: 0.7632 - val_loss: 0.5055\n",
      "Epoch 5/10\n",
      "500/500 - 14s - 28ms/step - accuracy: 0.8036 - loss: 0.4360 - val_accuracy: 0.7660 - val_loss: 0.5157\n",
      "Epoch 6/10\n",
      "500/500 - 14s - 28ms/step - accuracy: 0.8077 - loss: 0.4263 - val_accuracy: 0.7640 - val_loss: 0.5091\n",
      "Epoch 7/10\n",
      "500/500 - 14s - 28ms/step - accuracy: 0.8110 - loss: 0.4167 - val_accuracy: 0.7567 - val_loss: 0.5094\n",
      "Epoch 8/10\n",
      "500/500 - 14s - 28ms/step - accuracy: 0.8184 - loss: 0.4060 - val_accuracy: 0.7575 - val_loss: 0.5297\n",
      "Epoch 9/10\n",
      "500/500 - 14s - 28ms/step - accuracy: 0.8213 - loss: 0.3933 - val_accuracy: 0.7635 - val_loss: 0.5435\n",
      "Epoch 10/10\n",
      "500/500 - 14s - 28ms/step - accuracy: 0.8252 - loss: 0.3825 - val_accuracy: 0.7548 - val_loss: 0.5464\n",
      "Training model with input_dim=2000, output_dim=64...\n",
      "Epoch 1/10\n",
      "500/500 - 18s - 36ms/step - accuracy: 0.6865 - loss: 0.5777 - val_accuracy: 0.7530 - val_loss: 0.5125\n",
      "Epoch 2/10\n",
      "500/500 - 17s - 34ms/step - accuracy: 0.7697 - loss: 0.4833 - val_accuracy: 0.7567 - val_loss: 0.5076\n",
      "Epoch 3/10\n",
      "500/500 - 17s - 34ms/step - accuracy: 0.7838 - loss: 0.4573 - val_accuracy: 0.7650 - val_loss: 0.5043\n",
      "Epoch 4/10\n",
      "500/500 - 17s - 33ms/step - accuracy: 0.7928 - loss: 0.4370 - val_accuracy: 0.7620 - val_loss: 0.5188\n",
      "Epoch 5/10\n",
      "500/500 - 17s - 34ms/step - accuracy: 0.8008 - loss: 0.4205 - val_accuracy: 0.7538 - val_loss: 0.5171\n",
      "Epoch 6/10\n",
      "500/500 - 17s - 34ms/step - accuracy: 0.8091 - loss: 0.4060 - val_accuracy: 0.7613 - val_loss: 0.5270\n",
      "Epoch 7/10\n",
      "500/500 - 17s - 34ms/step - accuracy: 0.8177 - loss: 0.3890 - val_accuracy: 0.7533 - val_loss: 0.5337\n",
      "Epoch 8/10\n",
      "500/500 - 17s - 34ms/step - accuracy: 0.8281 - loss: 0.3768 - val_accuracy: 0.7523 - val_loss: 0.5438\n",
      "Epoch 9/10\n",
      "500/500 - 17s - 34ms/step - accuracy: 0.8319 - loss: 0.3644 - val_accuracy: 0.7538 - val_loss: 0.5773\n",
      "Epoch 10/10\n",
      "500/500 - 17s - 34ms/step - accuracy: 0.8373 - loss: 0.3461 - val_accuracy: 0.7535 - val_loss: 0.6161\n",
      "Training model with input_dim=2000, output_dim=128...\n",
      "Epoch 1/10\n",
      "500/500 - 23s - 47ms/step - accuracy: 0.6971 - loss: 0.5712 - val_accuracy: 0.7600 - val_loss: 0.5096\n",
      "Epoch 2/10\n",
      "500/500 - 21s - 43ms/step - accuracy: 0.7754 - loss: 0.4692 - val_accuracy: 0.7685 - val_loss: 0.5004\n",
      "Epoch 3/10\n",
      "500/500 - 22s - 43ms/step - accuracy: 0.7959 - loss: 0.4355 - val_accuracy: 0.7607 - val_loss: 0.4998\n",
      "Epoch 4/10\n",
      "500/500 - 21s - 43ms/step - accuracy: 0.8139 - loss: 0.4071 - val_accuracy: 0.7573 - val_loss: 0.5254\n",
      "Epoch 5/10\n",
      "500/500 - 22s - 43ms/step - accuracy: 0.8253 - loss: 0.3831 - val_accuracy: 0.7533 - val_loss: 0.5473\n",
      "Epoch 6/10\n",
      "500/500 - 21s - 43ms/step - accuracy: 0.8411 - loss: 0.3544 - val_accuracy: 0.7540 - val_loss: 0.5593\n",
      "Epoch 7/10\n",
      "500/500 - 21s - 43ms/step - accuracy: 0.8499 - loss: 0.3347 - val_accuracy: 0.7515 - val_loss: 0.5877\n",
      "Epoch 8/10\n",
      "500/500 - 22s - 43ms/step - accuracy: 0.8597 - loss: 0.3130 - val_accuracy: 0.7448 - val_loss: 0.6259\n",
      "Epoch 9/10\n",
      "500/500 - 21s - 43ms/step - accuracy: 0.8712 - loss: 0.2887 - val_accuracy: 0.7410 - val_loss: 0.6698\n",
      "Epoch 10/10\n",
      "500/500 - 21s - 43ms/step - accuracy: 0.8754 - loss: 0.2787 - val_accuracy: 0.7370 - val_loss: 0.6915\n",
      "Training model with input_dim=5000, output_dim=16...\n",
      "Epoch 1/10\n",
      "500/500 - 14s - 29ms/step - accuracy: 0.6488 - loss: 0.6160 - val_accuracy: 0.7440 - val_loss: 0.5330\n",
      "Epoch 2/10\n",
      "500/500 - 13s - 26ms/step - accuracy: 0.7729 - loss: 0.4860 - val_accuracy: 0.7502 - val_loss: 0.5143\n",
      "Epoch 3/10\n",
      "500/500 - 13s - 26ms/step - accuracy: 0.7978 - loss: 0.4462 - val_accuracy: 0.7610 - val_loss: 0.5053\n",
      "Epoch 4/10\n",
      "500/500 - 13s - 26ms/step - accuracy: 0.8128 - loss: 0.4199 - val_accuracy: 0.7550 - val_loss: 0.5267\n",
      "Epoch 5/10\n",
      "500/500 - 13s - 26ms/step - accuracy: 0.8244 - loss: 0.4023 - val_accuracy: 0.7577 - val_loss: 0.5263\n",
      "Epoch 6/10\n",
      "500/500 - 13s - 26ms/step - accuracy: 0.8331 - loss: 0.3874 - val_accuracy: 0.7498 - val_loss: 0.5340\n",
      "Epoch 7/10\n",
      "500/500 - 13s - 26ms/step - accuracy: 0.8359 - loss: 0.3846 - val_accuracy: 0.7505 - val_loss: 0.5489\n",
      "Epoch 8/10\n",
      "500/500 - 13s - 26ms/step - accuracy: 0.8449 - loss: 0.3656 - val_accuracy: 0.7452 - val_loss: 0.5682\n",
      "Epoch 9/10\n",
      "500/500 - 13s - 26ms/step - accuracy: 0.8484 - loss: 0.3561 - val_accuracy: 0.7458 - val_loss: 0.5815\n",
      "Epoch 10/10\n",
      "500/500 - 13s - 26ms/step - accuracy: 0.8555 - loss: 0.3459 - val_accuracy: 0.7365 - val_loss: 0.5866\n",
      "Training model with input_dim=5000, output_dim=32...\n",
      "Epoch 1/10\n",
      "500/500 - 16s - 32ms/step - accuracy: 0.6760 - loss: 0.5881 - val_accuracy: 0.7533 - val_loss: 0.5101\n",
      "Epoch 2/10\n",
      "500/500 - 14s - 29ms/step - accuracy: 0.7790 - loss: 0.4663 - val_accuracy: 0.7600 - val_loss: 0.5045\n",
      "Epoch 3/10\n",
      "500/500 - 14s - 29ms/step - accuracy: 0.8051 - loss: 0.4265 - val_accuracy: 0.7602 - val_loss: 0.5163\n",
      "Epoch 4/10\n",
      "500/500 - 14s - 29ms/step - accuracy: 0.8206 - loss: 0.3985 - val_accuracy: 0.7573 - val_loss: 0.5244\n",
      "Epoch 5/10\n",
      "500/500 - 14s - 29ms/step - accuracy: 0.8330 - loss: 0.3760 - val_accuracy: 0.7440 - val_loss: 0.5300\n",
      "Epoch 6/10\n",
      "500/500 - 14s - 29ms/step - accuracy: 0.8357 - loss: 0.3643 - val_accuracy: 0.7535 - val_loss: 0.5827\n",
      "Epoch 7/10\n",
      "500/500 - 14s - 29ms/step - accuracy: 0.8473 - loss: 0.3492 - val_accuracy: 0.7458 - val_loss: 0.5778\n",
      "Epoch 8/10\n",
      "500/500 - 14s - 29ms/step - accuracy: 0.8584 - loss: 0.3199 - val_accuracy: 0.7350 - val_loss: 0.6137\n",
      "Epoch 9/10\n",
      "500/500 - 14s - 29ms/step - accuracy: 0.8685 - loss: 0.3057 - val_accuracy: 0.7343 - val_loss: 0.6544\n",
      "Epoch 10/10\n",
      "500/500 - 14s - 29ms/step - accuracy: 0.8741 - loss: 0.2908 - val_accuracy: 0.7335 - val_loss: 0.6585\n",
      "Training model with input_dim=5000, output_dim=64...\n",
      "Epoch 1/10\n",
      "500/500 - 19s - 39ms/step - accuracy: 0.6866 - loss: 0.5838 - val_accuracy: 0.7545 - val_loss: 0.5104\n",
      "Epoch 2/10\n",
      "500/500 - 17s - 35ms/step - accuracy: 0.7827 - loss: 0.4610 - val_accuracy: 0.7638 - val_loss: 0.5006\n",
      "Epoch 3/10\n",
      "500/500 - 17s - 35ms/step - accuracy: 0.8112 - loss: 0.4188 - val_accuracy: 0.7630 - val_loss: 0.5084\n",
      "Epoch 4/10\n",
      "500/500 - 17s - 35ms/step - accuracy: 0.8277 - loss: 0.3891 - val_accuracy: 0.7573 - val_loss: 0.5357\n",
      "Epoch 5/10\n",
      "500/500 - 17s - 35ms/step - accuracy: 0.8444 - loss: 0.3535 - val_accuracy: 0.7487 - val_loss: 0.5555\n",
      "Epoch 6/10\n",
      "500/500 - 17s - 35ms/step - accuracy: 0.8565 - loss: 0.3267 - val_accuracy: 0.7500 - val_loss: 0.6078\n",
      "Epoch 7/10\n",
      "500/500 - 17s - 34ms/step - accuracy: 0.8696 - loss: 0.2997 - val_accuracy: 0.7430 - val_loss: 0.6292\n",
      "Epoch 8/10\n",
      "500/500 - 17s - 34ms/step - accuracy: 0.8809 - loss: 0.2728 - val_accuracy: 0.7390 - val_loss: 0.6650\n",
      "Epoch 9/10\n",
      "500/500 - 17s - 34ms/step - accuracy: 0.8888 - loss: 0.2560 - val_accuracy: 0.7337 - val_loss: 0.7366\n",
      "Epoch 10/10\n",
      "500/500 - 989s - 2s/step - accuracy: 0.8931 - loss: 0.2405 - val_accuracy: 0.7297 - val_loss: 0.7637\n",
      "Training model with input_dim=5000, output_dim=128...\n",
      "Epoch 1/10\n",
      "500/500 - 22s - 45ms/step - accuracy: 0.6992 - loss: 0.5681 - val_accuracy: 0.7613 - val_loss: 0.4999\n",
      "Epoch 2/10\n",
      "500/500 - 21s - 42ms/step - accuracy: 0.7920 - loss: 0.4492 - val_accuracy: 0.7625 - val_loss: 0.5037\n",
      "Epoch 3/10\n",
      "500/500 - 21s - 42ms/step - accuracy: 0.8193 - loss: 0.4036 - val_accuracy: 0.7563 - val_loss: 0.5091\n",
      "Epoch 4/10\n",
      "500/500 - 21s - 42ms/step - accuracy: 0.8381 - loss: 0.3650 - val_accuracy: 0.7563 - val_loss: 0.5378\n",
      "Epoch 5/10\n",
      "500/500 - 21s - 42ms/step - accuracy: 0.8571 - loss: 0.3260 - val_accuracy: 0.7530 - val_loss: 0.5852\n",
      "Epoch 6/10\n",
      "500/500 - 21s - 42ms/step - accuracy: 0.8694 - loss: 0.2928 - val_accuracy: 0.7475 - val_loss: 0.6520\n",
      "Epoch 7/10\n",
      "500/500 - 21s - 42ms/step - accuracy: 0.8836 - loss: 0.2652 - val_accuracy: 0.7410 - val_loss: 0.6915\n",
      "Epoch 8/10\n",
      "500/500 - 21s - 42ms/step - accuracy: 0.8978 - loss: 0.2375 - val_accuracy: 0.7377 - val_loss: 0.7948\n",
      "Epoch 9/10\n",
      "500/500 - 21s - 41ms/step - accuracy: 0.9039 - loss: 0.2205 - val_accuracy: 0.7365 - val_loss: 0.8665\n",
      "Epoch 10/10\n",
      "500/500 - 129s - 258ms/step - accuracy: 0.9113 - loss: 0.2044 - val_accuracy: 0.7283 - val_loss: 0.8350\n",
      "Training model with input_dim=8000, output_dim=16...\n",
      "Epoch 1/10\n",
      "500/500 - 14s - 29ms/step - accuracy: 0.6563 - loss: 0.6102 - val_accuracy: 0.7533 - val_loss: 0.5205\n",
      "Epoch 2/10\n",
      "500/500 - 13s - 26ms/step - accuracy: 0.7684 - loss: 0.4892 - val_accuracy: 0.7580 - val_loss: 0.5084\n",
      "Epoch 3/10\n",
      "500/500 - 13s - 26ms/step - accuracy: 0.8072 - loss: 0.4324 - val_accuracy: 0.7577 - val_loss: 0.5150\n",
      "Epoch 4/10\n",
      "500/500 - 13s - 26ms/step - accuracy: 0.8270 - loss: 0.4011 - val_accuracy: 0.7495 - val_loss: 0.5325\n",
      "Epoch 5/10\n",
      "500/500 - 13s - 26ms/step - accuracy: 0.8369 - loss: 0.3837 - val_accuracy: 0.7475 - val_loss: 0.5574\n",
      "Epoch 6/10\n",
      "500/500 - 13s - 26ms/step - accuracy: 0.8454 - loss: 0.3645 - val_accuracy: 0.7395 - val_loss: 0.5618\n",
      "Epoch 7/10\n",
      "500/500 - 13s - 26ms/step - accuracy: 0.8524 - loss: 0.3518 - val_accuracy: 0.7280 - val_loss: 0.5876\n",
      "Epoch 8/10\n",
      "500/500 - 13s - 26ms/step - accuracy: 0.8551 - loss: 0.3409 - val_accuracy: 0.7312 - val_loss: 0.6045\n",
      "Epoch 9/10\n",
      "500/500 - 13s - 26ms/step - accuracy: 0.8637 - loss: 0.3283 - val_accuracy: 0.7287 - val_loss: 0.6192\n",
      "Epoch 10/10\n",
      "500/500 - 13s - 26ms/step - accuracy: 0.8561 - loss: 0.3415 - val_accuracy: 0.7253 - val_loss: 0.6174\n",
      "Training model with input_dim=8000, output_dim=32...\n",
      "Epoch 1/10\n",
      "500/500 - 16s - 32ms/step - accuracy: 0.6744 - loss: 0.5943 - val_accuracy: 0.7498 - val_loss: 0.5167\n",
      "Epoch 2/10\n",
      "500/500 - 14s - 29ms/step - accuracy: 0.7812 - loss: 0.4666 - val_accuracy: 0.7620 - val_loss: 0.5076\n",
      "Epoch 3/10\n",
      "500/500 - 14s - 29ms/step - accuracy: 0.8155 - loss: 0.4141 - val_accuracy: 0.7558 - val_loss: 0.5251\n",
      "Epoch 4/10\n",
      "500/500 - 14s - 28ms/step - accuracy: 0.8334 - loss: 0.3831 - val_accuracy: 0.7500 - val_loss: 0.5346\n",
      "Epoch 5/10\n",
      "500/500 - 954s - 2s/step - accuracy: 0.8504 - loss: 0.3547 - val_accuracy: 0.7448 - val_loss: 0.5614\n",
      "Epoch 6/10\n",
      "500/500 - 15s - 29ms/step - accuracy: 0.8620 - loss: 0.3306 - val_accuracy: 0.7395 - val_loss: 0.5913\n",
      "Epoch 7/10\n",
      "500/500 - 14s - 28ms/step - accuracy: 0.8677 - loss: 0.3093 - val_accuracy: 0.7337 - val_loss: 0.6077\n",
      "Epoch 8/10\n",
      "500/500 - 14s - 28ms/step - accuracy: 0.8818 - loss: 0.2879 - val_accuracy: 0.7275 - val_loss: 0.6775\n",
      "Epoch 9/10\n",
      "500/500 - 14s - 29ms/step - accuracy: 0.8890 - loss: 0.2705 - val_accuracy: 0.7240 - val_loss: 0.6923\n",
      "Epoch 10/10\n",
      "500/500 - 14s - 29ms/step - accuracy: 0.8957 - loss: 0.2562 - val_accuracy: 0.7270 - val_loss: 0.7274\n",
      "Training model with input_dim=8000, output_dim=64...\n",
      "Epoch 1/10\n",
      "500/500 - 18s - 37ms/step - accuracy: 0.6925 - loss: 0.5785 - val_accuracy: 0.7498 - val_loss: 0.5101\n",
      "Epoch 2/10\n",
      "500/500 - 915s - 2s/step - accuracy: 0.7884 - loss: 0.4502 - val_accuracy: 0.7688 - val_loss: 0.4979\n",
      "Epoch 3/10\n",
      "500/500 - 17s - 34ms/step - accuracy: 0.8193 - loss: 0.3999 - val_accuracy: 0.7565 - val_loss: 0.5172\n",
      "Epoch 4/10\n",
      "500/500 - 17s - 34ms/step - accuracy: 0.8414 - loss: 0.3639 - val_accuracy: 0.7538 - val_loss: 0.5362\n",
      "Epoch 5/10\n",
      "500/500 - 17s - 34ms/step - accuracy: 0.8569 - loss: 0.3304 - val_accuracy: 0.7442 - val_loss: 0.5525\n",
      "Epoch 6/10\n",
      "500/500 - 17s - 34ms/step - accuracy: 0.8704 - loss: 0.2978 - val_accuracy: 0.7377 - val_loss: 0.6473\n",
      "Epoch 7/10\n",
      "500/500 - 17s - 34ms/step - accuracy: 0.8809 - loss: 0.2725 - val_accuracy: 0.7337 - val_loss: 0.6670\n",
      "Epoch 8/10\n",
      "500/500 - 915s - 2s/step - accuracy: 0.8968 - loss: 0.2433 - val_accuracy: 0.7333 - val_loss: 0.7096\n",
      "Epoch 9/10\n",
      "500/500 - 17s - 34ms/step - accuracy: 0.9047 - loss: 0.2238 - val_accuracy: 0.7260 - val_loss: 0.7838\n",
      "Epoch 10/10\n",
      "500/500 - 915s - 2s/step - accuracy: 0.9107 - loss: 0.2076 - val_accuracy: 0.7310 - val_loss: 0.8224\n",
      "Training model with input_dim=8000, output_dim=128...\n",
      "Epoch 1/10\n",
      "500/500 - 23s - 46ms/step - accuracy: 0.6954 - loss: 0.5700 - val_accuracy: 0.7585 - val_loss: 0.5047\n",
      "Epoch 2/10\n",
      "500/500 - 920s - 2s/step - accuracy: 0.7972 - loss: 0.4398 - val_accuracy: 0.7620 - val_loss: 0.4980\n",
      "Epoch 3/10\n",
      "500/500 - 22s - 44ms/step - accuracy: 0.8269 - loss: 0.3847 - val_accuracy: 0.7565 - val_loss: 0.5203\n",
      "Epoch 4/10\n",
      "500/500 - 22s - 44ms/step - accuracy: 0.8496 - loss: 0.3392 - val_accuracy: 0.7520 - val_loss: 0.5590\n",
      "Epoch 5/10\n",
      "500/500 - 921s - 2s/step - accuracy: 0.8693 - loss: 0.2957 - val_accuracy: 0.7398 - val_loss: 0.6169\n",
      "Epoch 6/10\n",
      "500/500 - 22s - 44ms/step - accuracy: 0.8825 - loss: 0.2621 - val_accuracy: 0.7385 - val_loss: 0.6741\n",
      "Epoch 7/10\n",
      "500/500 - 463s - 926ms/step - accuracy: 0.9009 - loss: 0.2308 - val_accuracy: 0.7402 - val_loss: 0.7886\n",
      "Epoch 8/10\n",
      "500/500 - 22s - 43ms/step - accuracy: 0.9134 - loss: 0.2027 - val_accuracy: 0.7415 - val_loss: 0.9216\n",
      "Epoch 9/10\n",
      "500/500 - 311s - 622ms/step - accuracy: 0.9200 - loss: 0.1831 - val_accuracy: 0.7325 - val_loss: 0.9296\n",
      "Epoch 10/10\n",
      "500/500 - 22s - 44ms/step - accuracy: 0.9277 - loss: 0.1683 - val_accuracy: 0.7305 - val_loss: 1.0008\n",
      "Training model with input_dim=10000, output_dim=16...\n",
      "Epoch 1/10\n",
      "500/500 - 1063s - 2s/step - accuracy: 0.6441 - loss: 0.6297 - val_accuracy: 0.7330 - val_loss: 0.5360\n",
      "Epoch 2/10\n",
      "500/500 - 13s - 26ms/step - accuracy: 0.7670 - loss: 0.4924 - val_accuracy: 0.7615 - val_loss: 0.5028\n",
      "Epoch 3/10\n",
      "500/500 - 13s - 26ms/step - accuracy: 0.8017 - loss: 0.4343 - val_accuracy: 0.7615 - val_loss: 0.5107\n",
      "Epoch 4/10\n",
      "500/500 - 13s - 26ms/step - accuracy: 0.8232 - loss: 0.3978 - val_accuracy: 0.7582 - val_loss: 0.5268\n",
      "Epoch 5/10\n",
      "500/500 - 13s - 26ms/step - accuracy: 0.8418 - loss: 0.3716 - val_accuracy: 0.7540 - val_loss: 0.5413\n",
      "Epoch 6/10\n",
      "500/500 - 13s - 26ms/step - accuracy: 0.8572 - loss: 0.3441 - val_accuracy: 0.7502 - val_loss: 0.5627\n",
      "Epoch 7/10\n",
      "500/500 - 13s - 26ms/step - accuracy: 0.8606 - loss: 0.3300 - val_accuracy: 0.7383 - val_loss: 0.5916\n",
      "Epoch 8/10\n",
      "500/500 - 13s - 26ms/step - accuracy: 0.8704 - loss: 0.3122 - val_accuracy: 0.7402 - val_loss: 0.6212\n",
      "Epoch 9/10\n",
      "500/500 - 13s - 26ms/step - accuracy: 0.8776 - loss: 0.2976 - val_accuracy: 0.7318 - val_loss: 0.6460\n",
      "Epoch 10/10\n",
      "500/500 - 13s - 26ms/step - accuracy: 0.8832 - loss: 0.2837 - val_accuracy: 0.7312 - val_loss: 0.6581\n",
      "Training model with input_dim=10000, output_dim=32...\n",
      "Epoch 1/10\n",
      "500/500 - 16s - 32ms/step - accuracy: 0.6825 - loss: 0.5851 - val_accuracy: 0.7552 - val_loss: 0.5116\n",
      "Epoch 2/10\n",
      "500/500 - 14s - 28ms/step - accuracy: 0.7840 - loss: 0.4621 - val_accuracy: 0.7595 - val_loss: 0.5054\n",
      "Epoch 3/10\n",
      "500/500 - 14s - 28ms/step - accuracy: 0.8227 - loss: 0.4027 - val_accuracy: 0.7595 - val_loss: 0.5224\n",
      "Epoch 4/10\n",
      "500/500 - 14s - 28ms/step - accuracy: 0.8378 - loss: 0.3715 - val_accuracy: 0.7538 - val_loss: 0.5394\n",
      "Epoch 5/10\n",
      "500/500 - 14s - 29ms/step - accuracy: 0.8547 - loss: 0.3415 - val_accuracy: 0.7473 - val_loss: 0.5652\n",
      "Epoch 6/10\n",
      "500/500 - 14s - 29ms/step - accuracy: 0.8651 - loss: 0.3148 - val_accuracy: 0.7303 - val_loss: 0.6197\n",
      "Epoch 7/10\n",
      "500/500 - 14s - 29ms/step - accuracy: 0.8689 - loss: 0.3120 - val_accuracy: 0.7315 - val_loss: 0.6240\n",
      "Epoch 8/10\n",
      "500/500 - 976s - 2s/step - accuracy: 0.8796 - loss: 0.2806 - val_accuracy: 0.7297 - val_loss: 0.6893\n",
      "Epoch 9/10\n",
      "500/500 - 14s - 29ms/step - accuracy: 0.8911 - loss: 0.2593 - val_accuracy: 0.7287 - val_loss: 0.7051\n",
      "Epoch 10/10\n",
      "500/500 - 15s - 29ms/step - accuracy: 0.9011 - loss: 0.2385 - val_accuracy: 0.7295 - val_loss: 0.7615\n",
      "Training model with input_dim=10000, output_dim=64...\n",
      "Epoch 1/10\n",
      "500/500 - 19s - 37ms/step - accuracy: 0.6830 - loss: 0.5801 - val_accuracy: 0.7588 - val_loss: 0.5108\n",
      "Epoch 2/10\n",
      "500/500 - 18s - 35ms/step - accuracy: 0.7939 - loss: 0.4481 - val_accuracy: 0.7555 - val_loss: 0.5121\n",
      "Epoch 3/10\n",
      "500/500 - 18s - 35ms/step - accuracy: 0.8267 - loss: 0.3939 - val_accuracy: 0.7577 - val_loss: 0.5232\n",
      "Epoch 4/10\n",
      "500/500 - 18s - 35ms/step - accuracy: 0.8467 - loss: 0.3541 - val_accuracy: 0.7437 - val_loss: 0.5475\n",
      "Epoch 5/10\n",
      "500/500 - 17s - 35ms/step - accuracy: 0.8657 - loss: 0.3160 - val_accuracy: 0.7430 - val_loss: 0.5868\n",
      "Epoch 6/10\n",
      "500/500 - 17s - 35ms/step - accuracy: 0.8826 - loss: 0.2822 - val_accuracy: 0.7383 - val_loss: 0.6103\n",
      "Epoch 7/10\n",
      "500/500 - 17s - 34ms/step - accuracy: 0.8949 - loss: 0.2507 - val_accuracy: 0.7283 - val_loss: 0.6816\n",
      "Epoch 8/10\n",
      "500/500 - 17s - 35ms/step - accuracy: 0.9034 - loss: 0.2264 - val_accuracy: 0.7325 - val_loss: 0.7539\n",
      "Epoch 9/10\n",
      "500/500 - 17s - 34ms/step - accuracy: 0.9125 - loss: 0.2080 - val_accuracy: 0.7293 - val_loss: 0.7453\n",
      "Epoch 10/10\n",
      "500/500 - 17s - 35ms/step - accuracy: 0.9222 - loss: 0.1885 - val_accuracy: 0.7245 - val_loss: 0.8656\n",
      "Training model with input_dim=10000, output_dim=128...\n",
      "Epoch 1/10\n",
      "500/500 - 24s - 47ms/step - accuracy: 0.6914 - loss: 0.5738 - val_accuracy: 0.7613 - val_loss: 0.5085\n",
      "Epoch 2/10\n",
      "500/500 - 22s - 44ms/step - accuracy: 0.7959 - loss: 0.4405 - val_accuracy: 0.7483 - val_loss: 0.5197\n",
      "Epoch 3/10\n",
      "500/500 - 22s - 44ms/step - accuracy: 0.8314 - loss: 0.3789 - val_accuracy: 0.7527 - val_loss: 0.5185\n",
      "Epoch 4/10\n",
      "500/500 - 81s - 163ms/step - accuracy: 0.8597 - loss: 0.3257 - val_accuracy: 0.7433 - val_loss: 0.5862\n",
      "Epoch 5/10\n",
      "500/500 - 21s - 43ms/step - accuracy: 0.8781 - loss: 0.2794 - val_accuracy: 0.7383 - val_loss: 0.6132\n",
      "Epoch 6/10\n",
      "500/500 - 21s - 43ms/step - accuracy: 0.8955 - loss: 0.2440 - val_accuracy: 0.7315 - val_loss: 0.6861\n",
      "Epoch 7/10\n",
      "500/500 - 21s - 43ms/step - accuracy: 0.9130 - loss: 0.2098 - val_accuracy: 0.7322 - val_loss: 0.7312\n",
      "Epoch 8/10\n",
      "500/500 - 21s - 43ms/step - accuracy: 0.9229 - loss: 0.1881 - val_accuracy: 0.7327 - val_loss: 0.8369\n",
      "Epoch 9/10\n",
      "500/500 - 22s - 44ms/step - accuracy: 0.9314 - loss: 0.1684 - val_accuracy: 0.7275 - val_loss: 0.9312\n",
      "Epoch 10/10\n",
      "500/500 - 920s - 2s/step - accuracy: 0.9364 - loss: 0.1541 - val_accuracy: 0.7225 - val_loss: 0.9603\n"
     ]
    }
   ],
   "execution_count": 207
  },
  {
   "metadata": {
    "ExecuteTime": {
     "end_time": "2025-03-23T15:04:35.556643Z",
     "start_time": "2025-03-23T15:04:35.217089Z"
    }
   },
   "cell_type": "code",
   "source": [
    "colors = ['red', 'orange', 'green', 'blue', 'purple', 'brown', 'pink', 'gray', 'cyan', 'magenta']\n",
    "# --- 训练精度折线图 ---\n",
    "plt.figure(figsize=(12, 5))\n",
    "for i, max_word in enumerate(max_words):\n",
    "    train_acc = [results[(max_word, embedding_dim)]['train_acc'] for embedding_dim in embedding_dims]\n",
    "    plt.plot(embedding_dims, train_acc, marker='o', linestyle='-', color=colors[i], label=f\"{max_word} Word Size\")\n",
    "plt.xlabel(\"Number of Embedding Dimensions\")\n",
    "plt.ylabel(\"Accuracy\")\n",
    "plt.title(\"Train Accuracy\")\n",
    "plt.legend()\n",
    "plt.show()\n",
    "\n",
    "# --- 测试精度折线图 ---\n",
    "plt.figure(figsize=(12, 5))\n",
    "for i, max_word in enumerate(max_words):\n",
    "    test_acc = [results[(max_word, embedding_dim)]['test_acc'] for embedding_dim in embedding_dims]\n",
    "    plt.plot(embedding_dims, test_acc, marker='o', linestyle='-', color=colors[i], label=f\"{max_word} Word Size\")\n",
    "plt.xlabel(\"Number of Embedding Dimensions\")\n",
    "plt.ylabel(\"Accuracy\")\n",
    "plt.title(\"Test Accuracy\")\n",
    "plt.legend()\n",
    "plt.show()\n",
    "\n",
    "# --- 参数量变化折线图 ---\n",
    "plt.figure(figsize=(8, 6))\n",
    "for i, max_word in enumerate(max_words):\n",
    "    params = [params_history[(max_word, embedding_dim)] for embedding_dim in embedding_dims]\n",
    "    plt.plot(embedding_dims, params, marker='o', linestyle='-', color=colors[i], label=f\"{max_word} Word Size\")\n",
    "plt.xlabel(\"Number of Embedding Dimensions\")\n",
    "plt.ylabel(\"Trainable Parameters\")\n",
    "plt.title(\"Model Parameters\")\n",
    "plt.legend()\n",
    "plt.show()\n",
    "\n"
   ],
   "outputs": [
    {
     "data": {
      "text/plain": [
       "<Figure size 1200x500 with 1 Axes>"
      ],
      "image/png": "[encoded data removed]"
     },
     "metadata": {},
     "output_type": "display_data"
    },
    {
     "data": {
      "text/plain": [
       "<Figure size 1200x500 with 1 Axes>"
      ],
      "image/png": "[encoded data removed]"
     },
     "metadata": {},
     "output_type": "display_data"
    },
    {
     "data": {
      "text/plain": [
       "<Figure size 800x600 with 1 Axes>"
      ],
      "image/png": "[encoded data removed]"
     },
     "metadata": {},
     "output_type": "display_data"
    }
   ],
   "execution_count": 208
  },
  {
   "metadata": {
    "ExecuteTime": {
     "end_time": "2025-03-23T15:04:35.566292Z",
     "start_time": "2025-03-23T15:04:35.564604Z"
    }
   },
   "cell_type": "code",
   "source": "",
   "outputs": [],
   "execution_count": null
  },
  {
   "metadata": {},
   "cell_type": "markdown",
   "source": ""
  }
 ],
 "metadata": {
  "colab": {
   "authorship_tag": "ABX9TyNNag92UMCy1GtgfJ+zFFU1",
   "collapsed_sections": [],
   "name": "DUDL_FFN_aboutMNIST.ipynb",
   "provenance": [
    {
     "file_id": "15cpyHkJ435B4MqbyGjAH1poN4nCy_DE4",
     "timestamp": 1617737766196
    },
    {
     "file_id": "1OLuWuaFu0hcFgkQ2hh5BqbRuqUZD7XcQ",
     "timestamp": 1617734878578
    },
    {
     "file_id": "1XvzVGJPTJifVh8OpZVB7ykLxyUqYwQ1j",
     "timestamp": 1617196833019
    },
    {
     "file_id": "1bv1_y32e3KEExFKKlPfC3rpw1JxmBr8H",
     "timestamp": 1617124341706
    },
    {
     "file_id": "1GMq8u7KyHB2AE7Teyls9gK1T01OduQSn",
     "timestamp": 1616697516760
    },
    {
     "file_id": "1Ui3kyHim-e0XLgDs2mkBxVlYg7TKYtcg",
     "timestamp": 1616615469755
    },
    {
     "file_id": "1YpHocGI4rApOxIBb1ZghCU5L-hFnv4CK",
     "timestamp": 1616608248670
    }
   ]
  },
  "kernelspec": {
   "display_name": "Python (newpipenv)",
   "language": "python",
   "name": "newpipenv"
  },
  "language_info": {
   "codemirror_mode": {
    "name": "ipython",
    "version": 3
   },
   "file_extension": ".py",
   "mimetype": "text/x-python",
   "name": "python",
   "nbconvert_exporter": "python",
   "pygments_lexer": "ipython3",
   "version": "3.10.9"
  }
 },
 "nbformat": 4,
 "nbformat_minor": 1
}
